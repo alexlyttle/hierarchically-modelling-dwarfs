{
 "cells": [
  {
   "cell_type": "code",
   "execution_count": 16,
   "metadata": {},
   "outputs": [],
   "source": [
    "import numpy as np\n",
    "import pandas as pd\n",
    "\n",
    "from scipy.interpolate import LinearNDInterpolator\n",
    "from time import time\n",
    "from matplotlib import pyplot as plt"
   ]
  },
  {
   "cell_type": "code",
   "execution_count": 2,
   "metadata": {},
   "outputs": [
    {
     "data": {
      "text/html": [
       "<div>\n",
       "<style scoped>\n",
       "    .dataframe tbody tr th:only-of-type {\n",
       "        vertical-align: middle;\n",
       "    }\n",
       "\n",
       "    .dataframe tbody tr th {\n",
       "        vertical-align: top;\n",
       "    }\n",
       "\n",
       "    .dataframe thead th {\n",
       "        text-align: right;\n",
       "    }\n",
       "</style>\n",
       "<table border=\"1\" class=\"dataframe\">\n",
       "  <thead>\n",
       "    <tr style=\"text-align: right;\">\n",
       "      <th></th>\n",
       "      <th>evol_stage</th>\n",
       "      <th>initial_mass</th>\n",
       "      <th>initial_Yinit</th>\n",
       "      <th>initial_feh</th>\n",
       "      <th>initial_MLT</th>\n",
       "      <th>frac_age</th>\n",
       "      <th>effective_T</th>\n",
       "      <th>luminosity</th>\n",
       "      <th>radius</th>\n",
       "      <th>log_g</th>\n",
       "      <th>surface_he4</th>\n",
       "      <th>surface_Z</th>\n",
       "      <th>star_feh</th>\n",
       "      <th>delta_nu_fit</th>\n",
       "      <th>initial_Zinit</th>\n",
       "      <th>frac_evol</th>\n",
       "      <th>gradient</th>\n",
       "      <th>log_star_age</th>\n",
       "    </tr>\n",
       "  </thead>\n",
       "  <tbody>\n",
       "    <tr>\n",
       "      <th>0</th>\n",
       "      <td>2</td>\n",
       "      <td>0.90</td>\n",
       "      <td>0.28</td>\n",
       "      <td>0.30</td>\n",
       "      <td>2.1</td>\n",
       "      <td>1.208001</td>\n",
       "      <td>5096.0684</td>\n",
       "      <td>1.257615</td>\n",
       "      <td>1.440663</td>\n",
       "      <td>4.074041</td>\n",
       "      <td>0.250045</td>\n",
       "      <td>0.023094</td>\n",
       "      <td>0.244397</td>\n",
       "      <td>75.369644</td>\n",
       "      <td>0.025096</td>\n",
       "      <td>1.787780</td>\n",
       "      <td>0.001331</td>\n",
       "      <td>1.288534</td>\n",
       "    </tr>\n",
       "    <tr>\n",
       "      <th>1</th>\n",
       "      <td>1</td>\n",
       "      <td>1.05</td>\n",
       "      <td>0.30</td>\n",
       "      <td>0.35</td>\n",
       "      <td>2.3</td>\n",
       "      <td>0.802252</td>\n",
       "      <td>5795.2236</td>\n",
       "      <td>1.241361</td>\n",
       "      <td>1.106796</td>\n",
       "      <td>4.370944</td>\n",
       "      <td>0.265167</td>\n",
       "      <td>0.024596</td>\n",
       "      <td>0.281803</td>\n",
       "      <td>119.692590</td>\n",
       "      <td>0.027260</td>\n",
       "      <td>0.802252</td>\n",
       "      <td>0.000143</td>\n",
       "      <td>0.769161</td>\n",
       "    </tr>\n",
       "    <tr>\n",
       "      <th>2</th>\n",
       "      <td>1</td>\n",
       "      <td>1.00</td>\n",
       "      <td>0.26</td>\n",
       "      <td>0.45</td>\n",
       "      <td>1.5</td>\n",
       "      <td>0.257848</td>\n",
       "      <td>4885.7940</td>\n",
       "      <td>0.461555</td>\n",
       "      <td>0.949512</td>\n",
       "      <td>4.482889</td>\n",
       "      <td>0.244987</td>\n",
       "      <td>0.034190</td>\n",
       "      <td>0.418402</td>\n",
       "      <td>147.281680</td>\n",
       "      <td>0.035917</td>\n",
       "      <td>0.257848</td>\n",
       "      <td>0.000186</td>\n",
       "      <td>0.602735</td>\n",
       "    </tr>\n",
       "    <tr>\n",
       "      <th>3</th>\n",
       "      <td>1</td>\n",
       "      <td>0.83</td>\n",
       "      <td>0.24</td>\n",
       "      <td>0.10</td>\n",
       "      <td>1.7</td>\n",
       "      <td>0.133108</td>\n",
       "      <td>4709.6700</td>\n",
       "      <td>0.263781</td>\n",
       "      <td>0.772503</td>\n",
       "      <td>4.581167</td>\n",
       "      <td>0.230248</td>\n",
       "      <td>0.016330</td>\n",
       "      <td>0.078280</td>\n",
       "      <td>182.489150</td>\n",
       "      <td>0.016932</td>\n",
       "      <td>0.133108</td>\n",
       "      <td>0.000198</td>\n",
       "      <td>0.506814</td>\n",
       "    </tr>\n",
       "    <tr>\n",
       "      <th>4</th>\n",
       "      <td>1</td>\n",
       "      <td>1.20</td>\n",
       "      <td>0.32</td>\n",
       "      <td>-0.40</td>\n",
       "      <td>1.7</td>\n",
       "      <td>0.570906</td>\n",
       "      <td>7567.7803</td>\n",
       "      <td>5.058152</td>\n",
       "      <td>1.310140</td>\n",
       "      <td>4.282435</td>\n",
       "      <td>0.211951</td>\n",
       "      <td>0.003404</td>\n",
       "      <td>-0.620390</td>\n",
       "      <td>90.396866</td>\n",
       "      <td>0.004865</td>\n",
       "      <td>0.570906</td>\n",
       "      <td>0.000695</td>\n",
       "      <td>0.055732</td>\n",
       "    </tr>\n",
       "  </tbody>\n",
       "</table>\n",
       "</div>"
      ],
      "text/plain": [
       "   evol_stage  initial_mass  initial_Yinit  initial_feh  initial_MLT  \\\n",
       "0           2          0.90           0.28         0.30          2.1   \n",
       "1           1          1.05           0.30         0.35          2.3   \n",
       "2           1          1.00           0.26         0.45          1.5   \n",
       "3           1          0.83           0.24         0.10          1.7   \n",
       "4           1          1.20           0.32        -0.40          1.7   \n",
       "\n",
       "   frac_age  effective_T  luminosity    radius     log_g  surface_he4  \\\n",
       "0  1.208001    5096.0684    1.257615  1.440663  4.074041     0.250045   \n",
       "1  0.802252    5795.2236    1.241361  1.106796  4.370944     0.265167   \n",
       "2  0.257848    4885.7940    0.461555  0.949512  4.482889     0.244987   \n",
       "3  0.133108    4709.6700    0.263781  0.772503  4.581167     0.230248   \n",
       "4  0.570906    7567.7803    5.058152  1.310140  4.282435     0.211951   \n",
       "\n",
       "   surface_Z  star_feh  delta_nu_fit  initial_Zinit  frac_evol  gradient  \\\n",
       "0   0.023094  0.244397     75.369644       0.025096   1.787780  0.001331   \n",
       "1   0.024596  0.281803    119.692590       0.027260   0.802252  0.000143   \n",
       "2   0.034190  0.418402    147.281680       0.035917   0.257848  0.000186   \n",
       "3   0.016330  0.078280    182.489150       0.016932   0.133108  0.000198   \n",
       "4   0.003404 -0.620390     90.396866       0.004865   0.570906  0.000695   \n",
       "\n",
       "   log_star_age  \n",
       "0      1.288534  \n",
       "1      0.769161  \n",
       "2      0.602735  \n",
       "3      0.506814  \n",
       "4      0.055732  "
      ]
     },
     "execution_count": 2,
     "metadata": {},
     "output_type": "execute_result"
    }
   ],
   "source": [
    "train = pd.read_csv('/home/ADF/ajl573/Data/interstellar_data/tracks_04c/tracks_04c_train.csv')\n",
    "train.head()"
   ]
  },
  {
   "cell_type": "code",
   "execution_count": 3,
   "metadata": {},
   "outputs": [
    {
     "data": {
      "text/html": [
       "<div>\n",
       "<style scoped>\n",
       "    .dataframe tbody tr th:only-of-type {\n",
       "        vertical-align: middle;\n",
       "    }\n",
       "\n",
       "    .dataframe tbody tr th {\n",
       "        vertical-align: top;\n",
       "    }\n",
       "\n",
       "    .dataframe thead th {\n",
       "        text-align: right;\n",
       "    }\n",
       "</style>\n",
       "<table border=\"1\" class=\"dataframe\">\n",
       "  <thead>\n",
       "    <tr style=\"text-align: right;\">\n",
       "      <th></th>\n",
       "      <th>evol_stage</th>\n",
       "      <th>initial_mass</th>\n",
       "      <th>initial_Yinit</th>\n",
       "      <th>initial_Zinit</th>\n",
       "      <th>initial_feh</th>\n",
       "      <th>initial_MLT</th>\n",
       "      <th>star_age</th>\n",
       "      <th>frac_age</th>\n",
       "      <th>effective_T</th>\n",
       "      <th>luminosity</th>\n",
       "      <th>radius</th>\n",
       "      <th>log_g</th>\n",
       "      <th>surface_he4</th>\n",
       "      <th>surface_Z</th>\n",
       "      <th>star_feh</th>\n",
       "      <th>delta_nu_fit</th>\n",
       "      <th>frac_evol</th>\n",
       "      <th>gradient</th>\n",
       "    </tr>\n",
       "  </thead>\n",
       "  <tbody>\n",
       "    <tr>\n",
       "      <th>0</th>\n",
       "      <td>1</td>\n",
       "      <td>0.955</td>\n",
       "      <td>0.29</td>\n",
       "      <td>0.017696</td>\n",
       "      <td>0.15</td>\n",
       "      <td>1.4</td>\n",
       "      <td>0.101533</td>\n",
       "      <td>0.010515</td>\n",
       "      <td>5340.6064</td>\n",
       "      <td>0.601833</td>\n",
       "      <td>0.907436</td>\n",
       "      <td>4.502261</td>\n",
       "      <td>0.289404</td>\n",
       "      <td>0.017670</td>\n",
       "      <td>0.148902</td>\n",
       "      <td>153.64706</td>\n",
       "      <td>0.010515</td>\n",
       "      <td>0.000304</td>\n",
       "    </tr>\n",
       "    <tr>\n",
       "      <th>1</th>\n",
       "      <td>1</td>\n",
       "      <td>0.955</td>\n",
       "      <td>0.29</td>\n",
       "      <td>0.017696</td>\n",
       "      <td>0.15</td>\n",
       "      <td>1.4</td>\n",
       "      <td>0.113827</td>\n",
       "      <td>0.011788</td>\n",
       "      <td>5342.0340</td>\n",
       "      <td>0.603564</td>\n",
       "      <td>0.908254</td>\n",
       "      <td>4.501479</td>\n",
       "      <td>0.289308</td>\n",
       "      <td>0.017665</td>\n",
       "      <td>0.148715</td>\n",
       "      <td>153.44257</td>\n",
       "      <td>0.011788</td>\n",
       "      <td>0.000293</td>\n",
       "    </tr>\n",
       "    <tr>\n",
       "      <th>2</th>\n",
       "      <td>1</td>\n",
       "      <td>0.955</td>\n",
       "      <td>0.29</td>\n",
       "      <td>0.017696</td>\n",
       "      <td>0.15</td>\n",
       "      <td>1.4</td>\n",
       "      <td>0.128580</td>\n",
       "      <td>0.013316</td>\n",
       "      <td>5343.3000</td>\n",
       "      <td>0.605240</td>\n",
       "      <td>0.909083</td>\n",
       "      <td>4.500686</td>\n",
       "      <td>0.289194</td>\n",
       "      <td>0.017659</td>\n",
       "      <td>0.148491</td>\n",
       "      <td>153.23601</td>\n",
       "      <td>0.013316</td>\n",
       "      <td>0.000272</td>\n",
       "    </tr>\n",
       "    <tr>\n",
       "      <th>3</th>\n",
       "      <td>1</td>\n",
       "      <td>0.955</td>\n",
       "      <td>0.29</td>\n",
       "      <td>0.017696</td>\n",
       "      <td>0.15</td>\n",
       "      <td>1.4</td>\n",
       "      <td>0.146284</td>\n",
       "      <td>0.015149</td>\n",
       "      <td>5344.3800</td>\n",
       "      <td>0.606864</td>\n",
       "      <td>0.909934</td>\n",
       "      <td>4.499873</td>\n",
       "      <td>0.289055</td>\n",
       "      <td>0.017652</td>\n",
       "      <td>0.148219</td>\n",
       "      <td>153.02490</td>\n",
       "      <td>0.015149</td>\n",
       "      <td>0.000255</td>\n",
       "    </tr>\n",
       "    <tr>\n",
       "      <th>4</th>\n",
       "      <td>1</td>\n",
       "      <td>0.955</td>\n",
       "      <td>0.29</td>\n",
       "      <td>0.017696</td>\n",
       "      <td>0.15</td>\n",
       "      <td>1.4</td>\n",
       "      <td>0.167529</td>\n",
       "      <td>0.017350</td>\n",
       "      <td>5345.3080</td>\n",
       "      <td>0.608473</td>\n",
       "      <td>0.910823</td>\n",
       "      <td>4.499025</td>\n",
       "      <td>0.288889</td>\n",
       "      <td>0.017643</td>\n",
       "      <td>0.147893</td>\n",
       "      <td>152.80542</td>\n",
       "      <td>0.017350</td>\n",
       "      <td>0.000250</td>\n",
       "    </tr>\n",
       "  </tbody>\n",
       "</table>\n",
       "</div>"
      ],
      "text/plain": [
       "   evol_stage  initial_mass  initial_Yinit  initial_Zinit  initial_feh  \\\n",
       "0           1         0.955           0.29       0.017696         0.15   \n",
       "1           1         0.955           0.29       0.017696         0.15   \n",
       "2           1         0.955           0.29       0.017696         0.15   \n",
       "3           1         0.955           0.29       0.017696         0.15   \n",
       "4           1         0.955           0.29       0.017696         0.15   \n",
       "\n",
       "   initial_MLT  star_age  frac_age  effective_T  luminosity    radius  \\\n",
       "0          1.4  0.101533  0.010515    5340.6064    0.601833  0.907436   \n",
       "1          1.4  0.113827  0.011788    5342.0340    0.603564  0.908254   \n",
       "2          1.4  0.128580  0.013316    5343.3000    0.605240  0.909083   \n",
       "3          1.4  0.146284  0.015149    5344.3800    0.606864  0.909934   \n",
       "4          1.4  0.167529  0.017350    5345.3080    0.608473  0.910823   \n",
       "\n",
       "      log_g  surface_he4  surface_Z  star_feh  delta_nu_fit  frac_evol  \\\n",
       "0  4.502261     0.289404   0.017670  0.148902     153.64706   0.010515   \n",
       "1  4.501479     0.289308   0.017665  0.148715     153.44257   0.011788   \n",
       "2  4.500686     0.289194   0.017659  0.148491     153.23601   0.013316   \n",
       "3  4.499873     0.289055   0.017652  0.148219     153.02490   0.015149   \n",
       "4  4.499025     0.288889   0.017643  0.147893     152.80542   0.017350   \n",
       "\n",
       "   gradient  \n",
       "0  0.000304  \n",
       "1  0.000293  \n",
       "2  0.000272  \n",
       "3  0.000255  \n",
       "4  0.000250  "
      ]
     },
     "execution_count": 3,
     "metadata": {},
     "output_type": "execute_result"
    }
   ],
   "source": [
    "test = pd.read_csv('/home/ADF/ajl573/Data/interstellar_data/tracks_04c_test/tracks_04c_test_data.csv')\n",
    "test.head()"
   ]
  },
  {
   "cell_type": "code",
   "execution_count": 4,
   "metadata": {},
   "outputs": [],
   "source": [
    "x_cols = [\n",
    "    'frac_evol', 'initial_mass', 'initial_MLT', 'initial_Yinit', 'initial_Zinit'\n",
    "]"
   ]
  },
  {
   "cell_type": "code",
   "execution_count": 105,
   "metadata": {},
   "outputs": [],
   "source": [
    "y_cols = [\n",
    "    'log_star_age', 'effective_T', 'radius', 'delta_nu_fit', 'star_feh'\n",
    "]"
   ]
  },
  {
   "cell_type": "code",
   "execution_count": 121,
   "metadata": {},
   "outputs": [],
   "source": [
    "n_start = 10\n",
    "n_stop = 1000\n",
    "n_points = 20\n",
    "n_samples = np.linspace(n_start, n_stop, n_points, dtype=int)\n",
    "elapsed_time = []\n",
    "\n",
    "for n in n_samples:\n",
    "    sample = train.sample(n)\n",
    "    points = sample[x_cols].to_numpy()\n",
    "    values = sample[y_cols].to_numpy()\n",
    "    \n",
    "    start_time = time()\n",
    "    interpolator = LinearNDInterpolator(points, values)\n",
    "    current_time = time()\n",
    "    elapsed_time.append(current_time - start_time)"
   ]
  },
  {
   "cell_type": "code",
   "execution_count": 122,
   "metadata": {},
   "outputs": [],
   "source": [
    "fit = np.polyfit(n_samples, elapsed_time, 2)\n",
    "\n",
    "x = np.linspace(n_start, n_stop, 100)\n",
    "estimated_time = np.poly1d(fit)\n",
    "y = estimated_time(x)"
   ]
  },
  {
   "cell_type": "code",
   "execution_count": 123,
   "metadata": {},
   "outputs": [
    {
     "data": {
      "text/plain": [
       "Text(0, 0.5, 'time (s)')"
      ]
     },
     "execution_count": 123,
     "metadata": {},
     "output_type": "execute_result"
    },
    {
     "data": {
      "image/png": "[encoded data removed]",
      "text/plain": [
       "<Figure size 432x288 with 1 Axes>"
      ]
     },
     "metadata": {
      "needs_background": "light"
     },
     "output_type": "display_data"
    }
   ],
   "source": [
    "plt.plot(n_samples, elapsed_time, '.--')\n",
    "plt.plot(x, y)\n",
    "plt.xlabel('N')\n",
    "plt.ylabel('time (s)')"
   ]
  },
  {
   "cell_type": "code",
   "execution_count": 64,
   "metadata": {},
   "outputs": [],
   "source": [
    "def condition(df):\n",
    "    cond = df['log_star_age'].between(np.log10(4.5), np.log10(5.5)) & \\\n",
    "        df['effective_T'].between(5000, 6000) & \\\n",
    "        df['radius'].between(1, 1.5) & \\\n",
    "        df['delta_nu_fit'].between(100, 130) & \\\n",
    "        df['star_feh'].between(-0.1, 0.1)\n",
    "    return cond"
   ]
  },
  {
   "cell_type": "code",
   "execution_count": 65,
   "metadata": {},
   "outputs": [],
   "source": [
    "cond = condition(train)"
   ]
  },
  {
   "cell_type": "code",
   "execution_count": 66,
   "metadata": {},
   "outputs": [],
   "source": [
    "points = train.loc[cond, x_cols].to_numpy()\n",
    "values = train.loc[cond, y_cols].to_numpy()"
   ]
  },
  {
   "cell_type": "code",
   "execution_count": 67,
   "metadata": {},
   "outputs": [
    {
     "name": "stdout",
     "output_type": "stream",
     "text": [
      "estimated time = 184 s or 3 min\n"
     ]
    }
   ],
   "source": [
    "t = estimated_time(len(points))\n",
    "print(f'estimated time = {t:.0f} s or {t/60:.0f} min')"
   ]
  },
  {
   "cell_type": "code",
   "execution_count": 69,
   "metadata": {},
   "outputs": [],
   "source": [
    "interpolator = LinearNDInterpolator(points, values, rescale=True)"
   ]
  },
  {
   "cell_type": "code",
   "execution_count": 73,
   "metadata": {},
   "outputs": [],
   "source": [
    "test['log_star_age'] = np.log10(test['star_age'])"
   ]
  },
  {
   "cell_type": "code",
   "execution_count": 74,
   "metadata": {},
   "outputs": [],
   "source": [
    "cond = condition(test)"
   ]
  },
  {
   "cell_type": "code",
   "execution_count": 75,
   "metadata": {},
   "outputs": [],
   "source": [
    "points = test.loc[cond, x_cols].to_numpy()\n",
    "values = test.loc[cond, y_cols].to_numpy()\n",
    "\n",
    "predictions = interpolator(points)"
   ]
  },
  {
   "cell_type": "code",
   "execution_count": 106,
   "metadata": {},
   "outputs": [],
   "source": [
    "y_pred_cols = [f'{col}_pred' for col in y_cols]"
   ]
  },
  {
   "cell_type": "code",
   "execution_count": 107,
   "metadata": {},
   "outputs": [],
   "source": [
    "for col in y_pred_cols:\n",
    "    test[col] = np.nan"
   ]
  },
  {
   "cell_type": "code",
   "execution_count": 108,
   "metadata": {},
   "outputs": [],
   "source": [
    "test.loc[cond, y_pred_cols] = predictions"
   ]
  },
  {
   "cell_type": "code",
   "execution_count": 109,
   "metadata": {},
   "outputs": [],
   "source": [
    "y_err_cols = [f'{col}_err' for col in y_cols]"
   ]
  },
  {
   "cell_type": "code",
   "execution_count": 110,
   "metadata": {},
   "outputs": [
    {
     "data": {
      "text/html": [
       "<div>\n",
       "<style scoped>\n",
       "    .dataframe tbody tr th:only-of-type {\n",
       "        vertical-align: middle;\n",
       "    }\n",
       "\n",
       "    .dataframe tbody tr th {\n",
       "        vertical-align: top;\n",
       "    }\n",
       "\n",
       "    .dataframe thead th {\n",
       "        text-align: right;\n",
       "    }\n",
       "</style>\n",
       "<table border=\"1\" class=\"dataframe\">\n",
       "  <thead>\n",
       "    <tr style=\"text-align: right;\">\n",
       "      <th></th>\n",
       "      <th>evol_stage</th>\n",
       "      <th>initial_mass</th>\n",
       "      <th>initial_Yinit</th>\n",
       "      <th>initial_Zinit</th>\n",
       "      <th>initial_feh</th>\n",
       "      <th>initial_MLT</th>\n",
       "      <th>star_age</th>\n",
       "      <th>frac_age</th>\n",
       "      <th>effective_T</th>\n",
       "      <th>luminosity</th>\n",
       "      <th>...</th>\n",
       "      <th>effective_T_pred</th>\n",
       "      <th>radius_pred</th>\n",
       "      <th>delta_nu_fit_pred</th>\n",
       "      <th>star_feh_pred</th>\n",
       "      <th>log_star_age_err</th>\n",
       "      <th>effective_T_err</th>\n",
       "      <th>radius_err</th>\n",
       "      <th>delta_nu_fit_err</th>\n",
       "      <th>star_feh_err</th>\n",
       "      <th>star_age_pred</th>\n",
       "    </tr>\n",
       "  </thead>\n",
       "  <tbody>\n",
       "    <tr>\n",
       "      <th>0</th>\n",
       "      <td>1</td>\n",
       "      <td>0.955</td>\n",
       "      <td>0.29</td>\n",
       "      <td>0.017696</td>\n",
       "      <td>0.15</td>\n",
       "      <td>1.4</td>\n",
       "      <td>0.101533</td>\n",
       "      <td>0.010515</td>\n",
       "      <td>5340.6064</td>\n",
       "      <td>0.601833</td>\n",
       "      <td>...</td>\n",
       "      <td>NaN</td>\n",
       "      <td>NaN</td>\n",
       "      <td>NaN</td>\n",
       "      <td>NaN</td>\n",
       "      <td>NaN</td>\n",
       "      <td>NaN</td>\n",
       "      <td>NaN</td>\n",
       "      <td>NaN</td>\n",
       "      <td>NaN</td>\n",
       "      <td>NaN</td>\n",
       "    </tr>\n",
       "    <tr>\n",
       "      <th>1</th>\n",
       "      <td>1</td>\n",
       "      <td>0.955</td>\n",
       "      <td>0.29</td>\n",
       "      <td>0.017696</td>\n",
       "      <td>0.15</td>\n",
       "      <td>1.4</td>\n",
       "      <td>0.113827</td>\n",
       "      <td>0.011788</td>\n",
       "      <td>5342.0340</td>\n",
       "      <td>0.603564</td>\n",
       "      <td>...</td>\n",
       "      <td>NaN</td>\n",
       "      <td>NaN</td>\n",
       "      <td>NaN</td>\n",
       "      <td>NaN</td>\n",
       "      <td>NaN</td>\n",
       "      <td>NaN</td>\n",
       "      <td>NaN</td>\n",
       "      <td>NaN</td>\n",
       "      <td>NaN</td>\n",
       "      <td>NaN</td>\n",
       "    </tr>\n",
       "    <tr>\n",
       "      <th>2</th>\n",
       "      <td>1</td>\n",
       "      <td>0.955</td>\n",
       "      <td>0.29</td>\n",
       "      <td>0.017696</td>\n",
       "      <td>0.15</td>\n",
       "      <td>1.4</td>\n",
       "      <td>0.128580</td>\n",
       "      <td>0.013316</td>\n",
       "      <td>5343.3000</td>\n",
       "      <td>0.605240</td>\n",
       "      <td>...</td>\n",
       "      <td>NaN</td>\n",
       "      <td>NaN</td>\n",
       "      <td>NaN</td>\n",
       "      <td>NaN</td>\n",
       "      <td>NaN</td>\n",
       "      <td>NaN</td>\n",
       "      <td>NaN</td>\n",
       "      <td>NaN</td>\n",
       "      <td>NaN</td>\n",
       "      <td>NaN</td>\n",
       "    </tr>\n",
       "    <tr>\n",
       "      <th>3</th>\n",
       "      <td>1</td>\n",
       "      <td>0.955</td>\n",
       "      <td>0.29</td>\n",
       "      <td>0.017696</td>\n",
       "      <td>0.15</td>\n",
       "      <td>1.4</td>\n",
       "      <td>0.146284</td>\n",
       "      <td>0.015149</td>\n",
       "      <td>5344.3800</td>\n",
       "      <td>0.606864</td>\n",
       "      <td>...</td>\n",
       "      <td>NaN</td>\n",
       "      <td>NaN</td>\n",
       "      <td>NaN</td>\n",
       "      <td>NaN</td>\n",
       "      <td>NaN</td>\n",
       "      <td>NaN</td>\n",
       "      <td>NaN</td>\n",
       "      <td>NaN</td>\n",
       "      <td>NaN</td>\n",
       "      <td>NaN</td>\n",
       "    </tr>\n",
       "    <tr>\n",
       "      <th>4</th>\n",
       "      <td>1</td>\n",
       "      <td>0.955</td>\n",
       "      <td>0.29</td>\n",
       "      <td>0.017696</td>\n",
       "      <td>0.15</td>\n",
       "      <td>1.4</td>\n",
       "      <td>0.167529</td>\n",
       "      <td>0.017350</td>\n",
       "      <td>5345.3080</td>\n",
       "      <td>0.608473</td>\n",
       "      <td>...</td>\n",
       "      <td>NaN</td>\n",
       "      <td>NaN</td>\n",
       "      <td>NaN</td>\n",
       "      <td>NaN</td>\n",
       "      <td>NaN</td>\n",
       "      <td>NaN</td>\n",
       "      <td>NaN</td>\n",
       "      <td>NaN</td>\n",
       "      <td>NaN</td>\n",
       "      <td>NaN</td>\n",
       "    </tr>\n",
       "  </tbody>\n",
       "</table>\n",
       "<p>5 rows × 30 columns</p>\n",
       "</div>"
      ],
      "text/plain": [
       "   evol_stage  initial_mass  initial_Yinit  initial_Zinit  initial_feh  \\\n",
       "0           1         0.955           0.29       0.017696         0.15   \n",
       "1           1         0.955           0.29       0.017696         0.15   \n",
       "2           1         0.955           0.29       0.017696         0.15   \n",
       "3           1         0.955           0.29       0.017696         0.15   \n",
       "4           1         0.955           0.29       0.017696         0.15   \n",
       "\n",
       "   initial_MLT  star_age  frac_age  effective_T  luminosity  ...  \\\n",
       "0          1.4  0.101533  0.010515    5340.6064    0.601833  ...   \n",
       "1          1.4  0.113827  0.011788    5342.0340    0.603564  ...   \n",
       "2          1.4  0.128580  0.013316    5343.3000    0.605240  ...   \n",
       "3          1.4  0.146284  0.015149    5344.3800    0.606864  ...   \n",
       "4          1.4  0.167529  0.017350    5345.3080    0.608473  ...   \n",
       "\n",
       "   effective_T_pred  radius_pred  delta_nu_fit_pred  star_feh_pred  \\\n",
       "0               NaN          NaN                NaN            NaN   \n",
       "1               NaN          NaN                NaN            NaN   \n",
       "2               NaN          NaN                NaN            NaN   \n",
       "3               NaN          NaN                NaN            NaN   \n",
       "4               NaN          NaN                NaN            NaN   \n",
       "\n",
       "   log_star_age_err  effective_T_err  radius_err  delta_nu_fit_err  \\\n",
       "0               NaN              NaN         NaN               NaN   \n",
       "1               NaN              NaN         NaN               NaN   \n",
       "2               NaN              NaN         NaN               NaN   \n",
       "3               NaN              NaN         NaN               NaN   \n",
       "4               NaN              NaN         NaN               NaN   \n",
       "\n",
       "   star_feh_err  star_age_pred  \n",
       "0           NaN            NaN  \n",
       "1           NaN            NaN  \n",
       "2           NaN            NaN  \n",
       "3           NaN            NaN  \n",
       "4           NaN            NaN  \n",
       "\n",
       "[5 rows x 30 columns]"
      ]
     },
     "execution_count": 110,
     "metadata": {},
     "output_type": "execute_result"
    }
   ],
   "source": [
    "test[y_err_cols] = pd.DataFrame(test[y_cols].to_numpy() - test[y_pred_cols].to_numpy())\n",
    "test.head()"
   ]
  },
  {
   "cell_type": "code",
   "execution_count": 111,
   "metadata": {},
   "outputs": [],
   "source": [
    "test['star_age_pred'] = 10**test['log_star_age_pred']\n",
    "test['star_age_err'] = test['star_age'] - test['star_age_pred']"
   ]
  },
  {
   "cell_type": "code",
   "execution_count": 112,
   "metadata": {},
   "outputs": [
    {
     "data": {
      "text/plain": [
       "log_star_age_err    0.003631\n",
       "effective_T_err     7.014917\n",
       "radius_err          0.004063\n",
       "delta_nu_fit_err    0.393850\n",
       "star_feh_err        0.001528\n",
       "star_age_err        0.040674\n",
       "dtype: float64"
      ]
     },
     "execution_count": 112,
     "metadata": {},
     "output_type": "execute_result"
    }
   ],
   "source": [
    "test[y_err_cols+['star_age_err']].std()"
   ]
  },
  {
   "cell_type": "code",
   "execution_count": 119,
   "metadata": {},
   "outputs": [
    {
     "data": {
      "text/plain": [
       "7835"
      ]
     },
     "execution_count": 119,
     "metadata": {},
     "output_type": "execute_result"
    }
   ],
   "source": [
    "len(points)"
   ]
  },
  {
   "cell_type": "code",
   "execution_count": 113,
   "metadata": {},
   "outputs": [
    {
     "name": "stdout",
     "output_type": "stream",
     "text": [
      "n_total =  7736000\n"
     ]
    }
   ],
   "source": [
    "n_total = len(train)\n",
    "print('n_total = ', n_total)"
   ]
  },
  {
   "cell_type": "code",
   "execution_count": 116,
   "metadata": {},
   "outputs": [
    {
     "name": "stdout",
     "output_type": "stream",
     "text": [
      "total estimated time = 52290427 s or 871507 min or 14525 hrs or 605 days\n"
     ]
    }
   ],
   "source": [
    "t = estimated_time(n_total)\n",
    "print(f'total estimated time = {t:.0f} s or {t/60:.0f} min or {t/60/60:.0f} hrs or {t/60/60/24:.0f} days')"
   ]
  },
  {
   "cell_type": "code",
   "execution_count": null,
   "metadata": {},
   "outputs": [],
   "source": []
  }
 ],
 "metadata": {
  "kernelspec": {
   "display_name": "Python 3 (PyMC4)",
   "language": "python",
   "name": "pymc4"
  },
  "language_info": {
   "codemirror_mode": {
    "name": "ipython",
    "version": 3
   },
   "file_extension": ".py",
   "mimetype": "text/x-python",
   "name": "python",
   "nbconvert_exporter": "python",
   "pygments_lexer": "ipython3",
   "version": "3.6.8"
  }
 },
 "nbformat": 4,
 "nbformat_minor": 2
}
