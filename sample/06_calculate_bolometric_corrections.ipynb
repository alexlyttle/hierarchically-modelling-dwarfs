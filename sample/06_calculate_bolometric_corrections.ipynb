{
 "cells": [
  {
   "cell_type": "markdown",
   "metadata": {},
   "source": [
    "# Bolometric corrections\n",
    "\n",
    "**Depreciated** in favour of using `isoclassify`.\n",
    "\n",
    "This notebook also explores the effects of input parameters on the BCs and finds the dominant is effective temperature such that increasing effective temperature decreases BC for a given metallicity (ASPCAP SDSS DR13), k-band photometry (2MASS) and extinction (Berger et al. 2018)."
   ]
  },
  {
   "cell_type": "code",
   "execution_count": 1,
   "metadata": {},
   "outputs": [
    {
     "name": "stderr",
     "output_type": "stream",
     "text": [
      "Holoviews not imported. Some visualizations will not be available.\n",
      "PyMultiNest not imported.  MultiNest fits will not work.\n"
     ]
    }
   ],
   "source": [
    "import numpy as np\n",
    "import pandas as pd\n",
    "import pymc3 as pm\n",
    "from isochrones.mist.bc import MISTBolometricCorrectionGrid\n",
    "import matplotlib.pyplot as plt\n",
    "from tqdm.notebook import tqdm_notebook as tqdm"
   ]
  },
  {
   "cell_type": "code",
   "execution_count": 2,
   "metadata": {},
   "outputs": [
    {
     "data": {
      "text/html": [
       "<div>\n",
       "<style scoped>\n",
       "    .dataframe tbody tr th:only-of-type {\n",
       "        vertical-align: middle;\n",
       "    }\n",
       "\n",
       "    .dataframe tbody tr th {\n",
       "        vertical-align: top;\n",
       "    }\n",
       "\n",
       "    .dataframe thead th {\n",
       "        text-align: right;\n",
       "    }\n",
       "</style>\n",
       "<table border=\"1\" class=\"dataframe\">\n",
       "  <thead>\n",
       "    <tr style=\"text-align: right;\">\n",
       "      <th></th>\n",
       "      <th>KIC</th>\n",
       "      <th>numax</th>\n",
       "      <th>enumax</th>\n",
       "      <th>Dnu</th>\n",
       "      <th>eDnu</th>\n",
       "      <th>Length</th>\n",
       "      <th>HBR</th>\n",
       "      <th>Teff_SDSS</th>\n",
       "      <th>eTeff_SDSS</th>\n",
       "      <th>[M/H]_SDSS</th>\n",
       "      <th>...</th>\n",
       "      <th>Qflg</th>\n",
       "      <th>Rflg</th>\n",
       "      <th>Bflg</th>\n",
       "      <th>Cflg</th>\n",
       "      <th>Xflg</th>\n",
       "      <th>Aflg</th>\n",
       "      <th>seis_logg_SDSS</th>\n",
       "      <th>seis_logg_err_SDSS</th>\n",
       "      <th>seis_logg_ASPC</th>\n",
       "      <th>seis_logg_err_ASPC</th>\n",
       "    </tr>\n",
       "  </thead>\n",
       "  <tbody>\n",
       "    <tr>\n",
       "      <th>0</th>\n",
       "      <td>1435467</td>\n",
       "      <td>1382.311</td>\n",
       "      <td>19.038</td>\n",
       "      <td>70.558</td>\n",
       "      <td>0.087</td>\n",
       "      <td>938.1</td>\n",
       "      <td>1.662</td>\n",
       "      <td>6433.0</td>\n",
       "      <td>86.0</td>\n",
       "      <td>-0.028</td>\n",
       "      <td>...</td>\n",
       "      <td>b'AAA'</td>\n",
       "      <td>b'111'</td>\n",
       "      <td>b'111'</td>\n",
       "      <td>b'000'</td>\n",
       "      <td>0</td>\n",
       "      <td>0</td>\n",
       "      <td>4.111703</td>\n",
       "      <td>0.007873</td>\n",
       "      <td>4.100044</td>\n",
       "      <td>0.007723</td>\n",
       "    </tr>\n",
       "    <tr>\n",
       "      <th>1</th>\n",
       "      <td>2010607</td>\n",
       "      <td>674.919</td>\n",
       "      <td>146.523</td>\n",
       "      <td>42.479</td>\n",
       "      <td>2.185</td>\n",
       "      <td>28.9</td>\n",
       "      <td>1.547</td>\n",
       "      <td>6361.0</td>\n",
       "      <td>71.0</td>\n",
       "      <td>-0.070</td>\n",
       "      <td>...</td>\n",
       "      <td>b'AAA'</td>\n",
       "      <td>b'222'</td>\n",
       "      <td>b'111'</td>\n",
       "      <td>b'000'</td>\n",
       "      <td>0</td>\n",
       "      <td>0</td>\n",
       "      <td>3.797905</td>\n",
       "      <td>0.094409</td>\n",
       "      <td>3.785706</td>\n",
       "      <td>0.094411</td>\n",
       "    </tr>\n",
       "    <tr>\n",
       "      <th>2</th>\n",
       "      <td>2309595</td>\n",
       "      <td>643.208</td>\n",
       "      <td>11.226</td>\n",
       "      <td>39.029</td>\n",
       "      <td>0.721</td>\n",
       "      <td>28.9</td>\n",
       "      <td>1.767</td>\n",
       "      <td>5238.0</td>\n",
       "      <td>65.0</td>\n",
       "      <td>-0.095</td>\n",
       "      <td>...</td>\n",
       "      <td>b'AAA'</td>\n",
       "      <td>b'222'</td>\n",
       "      <td>b'111'</td>\n",
       "      <td>b'000'</td>\n",
       "      <td>0</td>\n",
       "      <td>0</td>\n",
       "      <td>3.734825</td>\n",
       "      <td>0.009083</td>\n",
       "      <td>3.724735</td>\n",
       "      <td>0.009181</td>\n",
       "    </tr>\n",
       "    <tr>\n",
       "      <th>3</th>\n",
       "      <td>2450729</td>\n",
       "      <td>1053.105</td>\n",
       "      <td>114.904</td>\n",
       "      <td>61.910</td>\n",
       "      <td>2.539</td>\n",
       "      <td>28.9</td>\n",
       "      <td>1.470</td>\n",
       "      <td>6029.0</td>\n",
       "      <td>59.0</td>\n",
       "      <td>-0.212</td>\n",
       "      <td>...</td>\n",
       "      <td>b'AAA'</td>\n",
       "      <td>b'222'</td>\n",
       "      <td>b'111'</td>\n",
       "      <td>b'000'</td>\n",
       "      <td>0</td>\n",
       "      <td>0</td>\n",
       "      <td>3.979485</td>\n",
       "      <td>0.047620</td>\n",
       "      <td>3.972583</td>\n",
       "      <td>0.047643</td>\n",
       "    </tr>\n",
       "    <tr>\n",
       "      <th>4</th>\n",
       "      <td>2837475</td>\n",
       "      <td>1629.761</td>\n",
       "      <td>18.396</td>\n",
       "      <td>75.720</td>\n",
       "      <td>0.129</td>\n",
       "      <td>1029.4</td>\n",
       "      <td>1.767</td>\n",
       "      <td>6688.0</td>\n",
       "      <td>57.0</td>\n",
       "      <td>-0.015</td>\n",
       "      <td>...</td>\n",
       "      <td>b'AAA'</td>\n",
       "      <td>b'111'</td>\n",
       "      <td>b'111'</td>\n",
       "      <td>b'000'</td>\n",
       "      <td>0</td>\n",
       "      <td>0</td>\n",
       "      <td>4.191662</td>\n",
       "      <td>0.006726</td>\n",
       "      <td>4.179901</td>\n",
       "      <td>0.006888</td>\n",
       "    </tr>\n",
       "  </tbody>\n",
       "</table>\n",
       "<p>5 rows × 193 columns</p>\n",
       "</div>"
      ],
      "text/plain": [
       "       KIC     numax   enumax     Dnu   eDnu  Length    HBR  Teff_SDSS  \\\n",
       "0  1435467  1382.311   19.038  70.558  0.087   938.1  1.662     6433.0   \n",
       "1  2010607   674.919  146.523  42.479  2.185    28.9  1.547     6361.0   \n",
       "2  2309595   643.208   11.226  39.029  0.721    28.9  1.767     5238.0   \n",
       "3  2450729  1053.105  114.904  61.910  2.539    28.9  1.470     6029.0   \n",
       "4  2837475  1629.761   18.396  75.720  0.129  1029.4  1.767     6688.0   \n",
       "\n",
       "   eTeff_SDSS  [M/H]_SDSS  ...    Qflg    Rflg    Bflg    Cflg  Xflg  Aflg  \\\n",
       "0        86.0      -0.028  ...  b'AAA'  b'111'  b'111'  b'000'     0     0   \n",
       "1        71.0      -0.070  ...  b'AAA'  b'222'  b'111'  b'000'     0     0   \n",
       "2        65.0      -0.095  ...  b'AAA'  b'222'  b'111'  b'000'     0     0   \n",
       "3        59.0      -0.212  ...  b'AAA'  b'222'  b'111'  b'000'     0     0   \n",
       "4        57.0      -0.015  ...  b'AAA'  b'111'  b'111'  b'000'     0     0   \n",
       "\n",
       "   seis_logg_SDSS  seis_logg_err_SDSS  seis_logg_ASPC  seis_logg_err_ASPC  \n",
       "0        4.111703            0.007873        4.100044            0.007723  \n",
       "1        3.797905            0.094409        3.785706            0.094411  \n",
       "2        3.734825            0.009083        3.724735            0.009181  \n",
       "3        3.979485            0.047620        3.972583            0.047643  \n",
       "4        4.191662            0.006726        4.179901            0.006888  \n",
       "\n",
       "[5 rows x 193 columns]"
      ]
     },
     "execution_count": 2,
     "metadata": {},
     "output_type": "execute_result"
    }
   ],
   "source": [
    "path = '../data/archive/s17-b18-gaia-2mass_seis.csv'\n",
    "\n",
    "df = pd.read_csv(path)\n",
    "df.head()"
   ]
  },
  {
   "cell_type": "markdown",
   "metadata": {},
   "source": [
    "Berger used 0.04 mag uncertainty in Av"
   ]
  },
  {
   "cell_type": "code",
   "execution_count": 3,
   "metadata": {},
   "outputs": [
    {
     "data": {
      "text/html": [
       "<div>\n",
       "<style scoped>\n",
       "    .dataframe tbody tr th:only-of-type {\n",
       "        vertical-align: middle;\n",
       "    }\n",
       "\n",
       "    .dataframe tbody tr th {\n",
       "        vertical-align: top;\n",
       "    }\n",
       "\n",
       "    .dataframe thead th {\n",
       "        text-align: right;\n",
       "    }\n",
       "</style>\n",
       "<table border=\"1\" class=\"dataframe\">\n",
       "  <thead>\n",
       "    <tr style=\"text-align: right;\">\n",
       "      <th></th>\n",
       "      <th>KIC</th>\n",
       "      <th>numax</th>\n",
       "      <th>enumax</th>\n",
       "      <th>Dnu</th>\n",
       "      <th>eDnu</th>\n",
       "      <th>Length</th>\n",
       "      <th>HBR</th>\n",
       "      <th>Teff_SDSS</th>\n",
       "      <th>eTeff_SDSS</th>\n",
       "      <th>[M/H]_SDSS</th>\n",
       "      <th>...</th>\n",
       "      <th>Rflg</th>\n",
       "      <th>Bflg</th>\n",
       "      <th>Cflg</th>\n",
       "      <th>Xflg</th>\n",
       "      <th>Aflg</th>\n",
       "      <th>seis_logg_SDSS</th>\n",
       "      <th>seis_logg_err_SDSS</th>\n",
       "      <th>seis_logg_ASPC</th>\n",
       "      <th>seis_logg_err_ASPC</th>\n",
       "      <th>eAV</th>\n",
       "    </tr>\n",
       "  </thead>\n",
       "  <tbody>\n",
       "    <tr>\n",
       "      <th>0</th>\n",
       "      <td>1435467</td>\n",
       "      <td>1382.311</td>\n",
       "      <td>19.038</td>\n",
       "      <td>70.558</td>\n",
       "      <td>0.087</td>\n",
       "      <td>938.1</td>\n",
       "      <td>1.662</td>\n",
       "      <td>6433.0</td>\n",
       "      <td>86.0</td>\n",
       "      <td>-0.028</td>\n",
       "      <td>...</td>\n",
       "      <td>b'111'</td>\n",
       "      <td>b'111'</td>\n",
       "      <td>b'000'</td>\n",
       "      <td>0</td>\n",
       "      <td>0</td>\n",
       "      <td>4.111703</td>\n",
       "      <td>0.007873</td>\n",
       "      <td>4.100044</td>\n",
       "      <td>0.007723</td>\n",
       "      <td>0.04</td>\n",
       "    </tr>\n",
       "    <tr>\n",
       "      <th>1</th>\n",
       "      <td>2010607</td>\n",
       "      <td>674.919</td>\n",
       "      <td>146.523</td>\n",
       "      <td>42.479</td>\n",
       "      <td>2.185</td>\n",
       "      <td>28.9</td>\n",
       "      <td>1.547</td>\n",
       "      <td>6361.0</td>\n",
       "      <td>71.0</td>\n",
       "      <td>-0.070</td>\n",
       "      <td>...</td>\n",
       "      <td>b'222'</td>\n",
       "      <td>b'111'</td>\n",
       "      <td>b'000'</td>\n",
       "      <td>0</td>\n",
       "      <td>0</td>\n",
       "      <td>3.797905</td>\n",
       "      <td>0.094409</td>\n",
       "      <td>3.785706</td>\n",
       "      <td>0.094411</td>\n",
       "      <td>0.04</td>\n",
       "    </tr>\n",
       "    <tr>\n",
       "      <th>2</th>\n",
       "      <td>2309595</td>\n",
       "      <td>643.208</td>\n",
       "      <td>11.226</td>\n",
       "      <td>39.029</td>\n",
       "      <td>0.721</td>\n",
       "      <td>28.9</td>\n",
       "      <td>1.767</td>\n",
       "      <td>5238.0</td>\n",
       "      <td>65.0</td>\n",
       "      <td>-0.095</td>\n",
       "      <td>...</td>\n",
       "      <td>b'222'</td>\n",
       "      <td>b'111'</td>\n",
       "      <td>b'000'</td>\n",
       "      <td>0</td>\n",
       "      <td>0</td>\n",
       "      <td>3.734825</td>\n",
       "      <td>0.009083</td>\n",
       "      <td>3.724735</td>\n",
       "      <td>0.009181</td>\n",
       "      <td>0.04</td>\n",
       "    </tr>\n",
       "    <tr>\n",
       "      <th>3</th>\n",
       "      <td>2450729</td>\n",
       "      <td>1053.105</td>\n",
       "      <td>114.904</td>\n",
       "      <td>61.910</td>\n",
       "      <td>2.539</td>\n",
       "      <td>28.9</td>\n",
       "      <td>1.470</td>\n",
       "      <td>6029.0</td>\n",
       "      <td>59.0</td>\n",
       "      <td>-0.212</td>\n",
       "      <td>...</td>\n",
       "      <td>b'222'</td>\n",
       "      <td>b'111'</td>\n",
       "      <td>b'000'</td>\n",
       "      <td>0</td>\n",
       "      <td>0</td>\n",
       "      <td>3.979485</td>\n",
       "      <td>0.047620</td>\n",
       "      <td>3.972583</td>\n",
       "      <td>0.047643</td>\n",
       "      <td>0.04</td>\n",
       "    </tr>\n",
       "    <tr>\n",
       "      <th>4</th>\n",
       "      <td>2837475</td>\n",
       "      <td>1629.761</td>\n",
       "      <td>18.396</td>\n",
       "      <td>75.720</td>\n",
       "      <td>0.129</td>\n",
       "      <td>1029.4</td>\n",
       "      <td>1.767</td>\n",
       "      <td>6688.0</td>\n",
       "      <td>57.0</td>\n",
       "      <td>-0.015</td>\n",
       "      <td>...</td>\n",
       "      <td>b'111'</td>\n",
       "      <td>b'111'</td>\n",
       "      <td>b'000'</td>\n",
       "      <td>0</td>\n",
       "      <td>0</td>\n",
       "      <td>4.191662</td>\n",
       "      <td>0.006726</td>\n",
       "      <td>4.179901</td>\n",
       "      <td>0.006888</td>\n",
       "      <td>0.04</td>\n",
       "    </tr>\n",
       "  </tbody>\n",
       "</table>\n",
       "<p>5 rows × 194 columns</p>\n",
       "</div>"
      ],
      "text/plain": [
       "       KIC     numax   enumax     Dnu   eDnu  Length    HBR  Teff_SDSS  \\\n",
       "0  1435467  1382.311   19.038  70.558  0.087   938.1  1.662     6433.0   \n",
       "1  2010607   674.919  146.523  42.479  2.185    28.9  1.547     6361.0   \n",
       "2  2309595   643.208   11.226  39.029  0.721    28.9  1.767     5238.0   \n",
       "3  2450729  1053.105  114.904  61.910  2.539    28.9  1.470     6029.0   \n",
       "4  2837475  1629.761   18.396  75.720  0.129  1029.4  1.767     6688.0   \n",
       "\n",
       "   eTeff_SDSS  [M/H]_SDSS  ...    Rflg    Bflg    Cflg  Xflg  Aflg  \\\n",
       "0        86.0      -0.028  ...  b'111'  b'111'  b'000'     0     0   \n",
       "1        71.0      -0.070  ...  b'222'  b'111'  b'000'     0     0   \n",
       "2        65.0      -0.095  ...  b'222'  b'111'  b'000'     0     0   \n",
       "3        59.0      -0.212  ...  b'222'  b'111'  b'000'     0     0   \n",
       "4        57.0      -0.015  ...  b'111'  b'111'  b'000'     0     0   \n",
       "\n",
       "   seis_logg_SDSS  seis_logg_err_SDSS  seis_logg_ASPC  seis_logg_err_ASPC  \\\n",
       "0        4.111703            0.007873        4.100044            0.007723   \n",
       "1        3.797905            0.094409        3.785706            0.094411   \n",
       "2        3.734825            0.009083        3.724735            0.009181   \n",
       "3        3.979485            0.047620        3.972583            0.047643   \n",
       "4        4.191662            0.006726        4.179901            0.006888   \n",
       "\n",
       "    eAV  \n",
       "0  0.04  \n",
       "1  0.04  \n",
       "2  0.04  \n",
       "3  0.04  \n",
       "4  0.04  \n",
       "\n",
       "[5 rows x 194 columns]"
      ]
     },
     "execution_count": 3,
     "metadata": {},
     "output_type": "execute_result"
    }
   ],
   "source": [
    "df['eAV'] = 0.04\n",
    "df.head()"
   ]
  },
  {
   "cell_type": "code",
   "execution_count": 43,
   "metadata": {},
   "outputs": [],
   "source": [
    "scale = 'ASPC'"
   ]
  },
  {
   "cell_type": "code",
   "execution_count": 60,
   "metadata": {},
   "outputs": [],
   "source": [
    "# teff_obs = df[[f'Teff_{scale}', f'eTeff_{scale}']].to_numpy()\n",
    "teff_obs = df[[f'Teff', f'e_Teff']].to_numpy()  # B18\n",
    "logg_obs = df[[f'seis_logg_{scale}', f'seis_logg_err_{scale}']].to_numpy()\n",
    "feh_obs = df[[f'[M/H]_{scale}', f'e[M/H]_{scale}']].to_numpy()\n",
    "av_obs = df[[f'AV', f'eAV']].to_numpy()"
   ]
  },
  {
   "cell_type": "code",
   "execution_count": 72,
   "metadata": {},
   "outputs": [],
   "source": [
    "logg_obs[:, 0] += 0.1"
   ]
  },
  {
   "cell_type": "code",
   "execution_count": 73,
   "metadata": {},
   "outputs": [],
   "source": [
    "bc_grid = MISTBolometricCorrectionGrid(['J', 'H', 'K', 'G', 'BP', 'RP'])"
   ]
  },
  {
   "cell_type": "code",
   "execution_count": 74,
   "metadata": {},
   "outputs": [
    {
     "name": "stdout",
     "output_type": "stream",
     "text": [
      "394\n"
     ]
    }
   ],
   "source": [
    "n = len(df)\n",
    "print(n)"
   ]
  },
  {
   "cell_type": "code",
   "execution_count": 75,
   "metadata": {},
   "outputs": [],
   "source": [
    "n_samples = 1000\n",
    "\n",
    "teff = np.random.normal(*teff_obs.T, size=(n_samples, n))\n",
    "logg = np.random.normal(*logg_obs.T, size=(n_samples, n))\n",
    "feh = np.random.normal(*feh_obs.T, size=(n_samples, n))\n",
    "av = np.random.normal(*av_obs.T, size=(n_samples, n))"
   ]
  },
  {
   "cell_type": "code",
   "execution_count": 76,
   "metadata": {},
   "outputs": [
    {
     "data": {
      "application/vnd.jupyter.widget-view+json": {
       "model_id": "afda8949d82a4097a42d8655c2e386f7",
       "version_major": 2,
       "version_minor": 0
      },
      "text/plain": [
       "HBox(children=(IntProgress(value=0, max=1000), HTML(value='')))"
      ]
     },
     "metadata": {},
     "output_type": "display_data"
    },
    {
     "name": "stdout",
     "output_type": "stream",
     "text": [
      "\n"
     ]
    }
   ],
   "source": [
    "bands = ['K', 'G']\n",
    "\n",
    "samples = np.zeros((n, len(bands), n_samples))\n",
    "for i, (t, g, f, a) in tqdm(enumerate(zip(teff, logg, feh, av)), total=n_samples):\n",
    "    samples[:, :, i] = bc_grid.interp([t, g, f, a], bands)"
   ]
  },
  {
   "cell_type": "code",
   "execution_count": 77,
   "metadata": {},
   "outputs": [],
   "source": [
    "bc = {}\n",
    "summary = {}\n",
    "for i, band in enumerate(bands):\n",
    "    bc[band] = pd.DataFrame(samples[:, i, :].T)\n",
    "    summary[band] = bc[band].describe(percentiles=[0.16, .5, 0.84])"
   ]
  },
  {
   "cell_type": "code",
   "execution_count": 78,
   "metadata": {},
   "outputs": [],
   "source": [
    "scale = 'B18+0.1g'\n",
    "\n",
    "for band in bands:\n",
    "    df[f'bc_{band}_{scale}'] = summary[band].loc['mean']\n",
    "    df[f'bc_{band}_err_{scale}'] = summary[band].loc['std']"
   ]
  },
  {
   "cell_type": "code",
   "execution_count": 79,
   "metadata": {},
   "outputs": [
    {
     "data": {
      "text/html": [
       "<div>\n",
       "<style scoped>\n",
       "    .dataframe tbody tr th:only-of-type {\n",
       "        vertical-align: middle;\n",
       "    }\n",
       "\n",
       "    .dataframe tbody tr th {\n",
       "        vertical-align: top;\n",
       "    }\n",
       "\n",
       "    .dataframe thead th {\n",
       "        text-align: right;\n",
       "    }\n",
       "</style>\n",
       "<table border=\"1\" class=\"dataframe\">\n",
       "  <thead>\n",
       "    <tr style=\"text-align: right;\">\n",
       "      <th></th>\n",
       "      <th>KIC</th>\n",
       "      <th>numax</th>\n",
       "      <th>enumax</th>\n",
       "      <th>Dnu</th>\n",
       "      <th>eDnu</th>\n",
       "      <th>Length</th>\n",
       "      <th>HBR</th>\n",
       "      <th>Teff_SDSS</th>\n",
       "      <th>eTeff_SDSS</th>\n",
       "      <th>[M/H]_SDSS</th>\n",
       "      <th>...</th>\n",
       "      <th>bc_G_B18</th>\n",
       "      <th>bc_G_err_B18</th>\n",
       "      <th>bc_K_B18+0.02g</th>\n",
       "      <th>bc_K_err_B18+0.02g</th>\n",
       "      <th>bc_G_B18+0.02g</th>\n",
       "      <th>bc_G_err_B18+0.02g</th>\n",
       "      <th>bc_K_B18+0.1g</th>\n",
       "      <th>bc_K_err_B18+0.1g</th>\n",
       "      <th>bc_G_B18+0.1g</th>\n",
       "      <th>bc_G_err_B18+0.1g</th>\n",
       "    </tr>\n",
       "  </thead>\n",
       "  <tbody>\n",
       "    <tr>\n",
       "      <th>0</th>\n",
       "      <td>1435467</td>\n",
       "      <td>1382.311</td>\n",
       "      <td>19.038</td>\n",
       "      <td>70.558</td>\n",
       "      <td>0.087</td>\n",
       "      <td>938.1</td>\n",
       "      <td>1.662</td>\n",
       "      <td>6433.0</td>\n",
       "      <td>86.0</td>\n",
       "      <td>-0.028</td>\n",
       "      <td>...</td>\n",
       "      <td>0.055963</td>\n",
       "      <td>0.026125</td>\n",
       "      <td>1.154193</td>\n",
       "      <td>0.063054</td>\n",
       "      <td>0.053633</td>\n",
       "      <td>0.027963</td>\n",
       "      <td>1.155347</td>\n",
       "      <td>0.063943</td>\n",
       "      <td>0.054417</td>\n",
       "      <td>0.027141</td>\n",
       "    </tr>\n",
       "    <tr>\n",
       "      <th>1</th>\n",
       "      <td>2010607</td>\n",
       "      <td>674.919</td>\n",
       "      <td>146.523</td>\n",
       "      <td>42.479</td>\n",
       "      <td>2.185</td>\n",
       "      <td>28.9</td>\n",
       "      <td>1.547</td>\n",
       "      <td>6361.0</td>\n",
       "      <td>71.0</td>\n",
       "      <td>-0.070</td>\n",
       "      <td>...</td>\n",
       "      <td>-0.118618</td>\n",
       "      <td>0.036307</td>\n",
       "      <td>1.177792</td>\n",
       "      <td>0.064188</td>\n",
       "      <td>-0.121782</td>\n",
       "      <td>0.035394</td>\n",
       "      <td>1.179610</td>\n",
       "      <td>0.064069</td>\n",
       "      <td>-0.121155</td>\n",
       "      <td>0.034751</td>\n",
       "    </tr>\n",
       "    <tr>\n",
       "      <th>2</th>\n",
       "      <td>2309595</td>\n",
       "      <td>643.208</td>\n",
       "      <td>11.226</td>\n",
       "      <td>39.029</td>\n",
       "      <td>0.721</td>\n",
       "      <td>28.9</td>\n",
       "      <td>1.767</td>\n",
       "      <td>5238.0</td>\n",
       "      <td>65.0</td>\n",
       "      <td>-0.095</td>\n",
       "      <td>...</td>\n",
       "      <td>-0.103131</td>\n",
       "      <td>0.037832</td>\n",
       "      <td>1.786333</td>\n",
       "      <td>0.060952</td>\n",
       "      <td>-0.102141</td>\n",
       "      <td>0.037563</td>\n",
       "      <td>1.782546</td>\n",
       "      <td>0.063034</td>\n",
       "      <td>-0.102821</td>\n",
       "      <td>0.038893</td>\n",
       "    </tr>\n",
       "    <tr>\n",
       "      <th>3</th>\n",
       "      <td>2450729</td>\n",
       "      <td>1053.105</td>\n",
       "      <td>114.904</td>\n",
       "      <td>61.910</td>\n",
       "      <td>2.539</td>\n",
       "      <td>28.9</td>\n",
       "      <td>1.470</td>\n",
       "      <td>6029.0</td>\n",
       "      <td>59.0</td>\n",
       "      <td>-0.212</td>\n",
       "      <td>...</td>\n",
       "      <td>-0.072675</td>\n",
       "      <td>0.035943</td>\n",
       "      <td>1.373115</td>\n",
       "      <td>0.062064</td>\n",
       "      <td>-0.071321</td>\n",
       "      <td>0.035711</td>\n",
       "      <td>1.371944</td>\n",
       "      <td>0.062095</td>\n",
       "      <td>-0.073308</td>\n",
       "      <td>0.036079</td>\n",
       "    </tr>\n",
       "    <tr>\n",
       "      <th>4</th>\n",
       "      <td>2837475</td>\n",
       "      <td>1629.761</td>\n",
       "      <td>18.396</td>\n",
       "      <td>75.720</td>\n",
       "      <td>0.129</td>\n",
       "      <td>1029.4</td>\n",
       "      <td>1.767</td>\n",
       "      <td>6688.0</td>\n",
       "      <td>57.0</td>\n",
       "      <td>-0.015</td>\n",
       "      <td>...</td>\n",
       "      <td>0.042260</td>\n",
       "      <td>0.031417</td>\n",
       "      <td>1.013568</td>\n",
       "      <td>0.063930</td>\n",
       "      <td>0.043005</td>\n",
       "      <td>0.031125</td>\n",
       "      <td>1.014915</td>\n",
       "      <td>0.059901</td>\n",
       "      <td>0.040798</td>\n",
       "      <td>0.030704</td>\n",
       "    </tr>\n",
       "  </tbody>\n",
       "</table>\n",
       "<p>5 rows × 214 columns</p>\n",
       "</div>"
      ],
      "text/plain": [
       "       KIC     numax   enumax     Dnu   eDnu  Length    HBR  Teff_SDSS  \\\n",
       "0  1435467  1382.311   19.038  70.558  0.087   938.1  1.662     6433.0   \n",
       "1  2010607   674.919  146.523  42.479  2.185    28.9  1.547     6361.0   \n",
       "2  2309595   643.208   11.226  39.029  0.721    28.9  1.767     5238.0   \n",
       "3  2450729  1053.105  114.904  61.910  2.539    28.9  1.470     6029.0   \n",
       "4  2837475  1629.761   18.396  75.720  0.129  1029.4  1.767     6688.0   \n",
       "\n",
       "   eTeff_SDSS  [M/H]_SDSS  ...  bc_G_B18  bc_G_err_B18  bc_K_B18+0.02g  \\\n",
       "0        86.0      -0.028  ...  0.055963      0.026125        1.154193   \n",
       "1        71.0      -0.070  ... -0.118618      0.036307        1.177792   \n",
       "2        65.0      -0.095  ... -0.103131      0.037832        1.786333   \n",
       "3        59.0      -0.212  ... -0.072675      0.035943        1.373115   \n",
       "4        57.0      -0.015  ...  0.042260      0.031417        1.013568   \n",
       "\n",
       "   bc_K_err_B18+0.02g  bc_G_B18+0.02g  bc_G_err_B18+0.02g  bc_K_B18+0.1g  \\\n",
       "0            0.063054        0.053633            0.027963       1.155347   \n",
       "1            0.064188       -0.121782            0.035394       1.179610   \n",
       "2            0.060952       -0.102141            0.037563       1.782546   \n",
       "3            0.062064       -0.071321            0.035711       1.371944   \n",
       "4            0.063930        0.043005            0.031125       1.014915   \n",
       "\n",
       "   bc_K_err_B18+0.1g  bc_G_B18+0.1g  bc_G_err_B18+0.1g  \n",
       "0           0.063943       0.054417           0.027141  \n",
       "1           0.064069      -0.121155           0.034751  \n",
       "2           0.063034      -0.102821           0.038893  \n",
       "3           0.062095      -0.073308           0.036079  \n",
       "4           0.059901       0.040798           0.030704  \n",
       "\n",
       "[5 rows x 214 columns]"
      ]
     },
     "execution_count": 79,
     "metadata": {},
     "output_type": "execute_result"
    }
   ],
   "source": [
    "df.head()"
   ]
  },
  {
   "cell_type": "code",
   "execution_count": 85,
   "metadata": {},
   "outputs": [],
   "source": [
    "df_spec = pd.read_csv('../data/spectroscopy/s17_gaia_4arcsec_apogeeDR14.csv')"
   ]
  },
  {
   "cell_type": "code",
   "execution_count": 81,
   "metadata": {},
   "outputs": [
    {
     "data": {
      "text/plain": [
       "(0.6, 2.0)"
      ]
     },
     "execution_count": 81,
     "metadata": {},
     "output_type": "execute_result"
    },
    {
     "data": {
      "image/png": "[encoded data removed]",
      "text/plain": [
       "<Figure size 432x288 with 1 Axes>"
      ]
     },
     "metadata": {
      "needs_background": "light"
     },
     "output_type": "display_data"
    }
   ],
   "source": [
    "ax = df.plot(kind='scatter', x='bc_K_B18', y='bc_K_SDSS')\n",
    "ax.plot([-1, 1], [-1, 1], 'k--')\n",
    "ax.set_xlim(0.6, 2.)\n",
    "ax.set_ylim(0.6, 2.)"
   ]
  },
  {
   "cell_type": "code",
   "execution_count": 84,
   "metadata": {},
   "outputs": [
    {
     "data": {
      "text/plain": [
       "[<matplotlib.lines.Line2D at 0x129b122d0>]"
      ]
     },
     "execution_count": 84,
     "metadata": {},
     "output_type": "execute_result"
    },
    {
     "data": {
      "image/png": "[encoded data removed]",
      "text/plain": [
       "<Figure size 432x288 with 1 Axes>"
      ]
     },
     "metadata": {
      "needs_background": "light"
     },
     "output_type": "display_data"
    }
   ],
   "source": [
    "ax = df.plot(kind='scatter', x='Teff', y='Teff_SDSS')\n",
    "ax.plot([4500, 7000], [4500, 7000], 'k--')\n",
    "# ax.set_xlim(0.6, 2.)\n",
    "# ax.set_ylim(0.6, 2.)"
   ]
  },
  {
   "cell_type": "code",
   "execution_count": 89,
   "metadata": {},
   "outputs": [],
   "source": [
    "df_super = df.merge(df_spec[df_spec['nearest_neighbour']==1], left_on='KIC', right_on='kepid')"
   ]
  },
  {
   "cell_type": "code",
   "execution_count": 93,
   "metadata": {},
   "outputs": [
    {
     "data": {
      "text/plain": [
       "(4500, 7000)"
      ]
     },
     "execution_count": 93,
     "metadata": {},
     "output_type": "execute_result"
    },
    {
     "data": {
      "image/png": "[encoded data removed]",
      "text/plain": [
       "<Figure size 432x288 with 1 Axes>"
      ]
     },
     "metadata": {
      "needs_background": "light"
     },
     "output_type": "display_data"
    }
   ],
   "source": [
    "lim = [4500, 7000]\n",
    "ax = df_super.plot(kind='scatter', x='Teff_SDSS', y='TEFF')\n",
    "ax.plot(lim, lim, 'k--')\n",
    "# ax.set_xlim(0.6, 2.)\n",
    "ax.set_ylim(lim)"
   ]
  },
  {
   "cell_type": "code",
   "execution_count": 94,
   "metadata": {},
   "outputs": [
    {
     "data": {
      "text/plain": [
       "(4500, 7000)"
      ]
     },
     "execution_count": 94,
     "metadata": {},
     "output_type": "execute_result"
    },
    {
     "data": {
      "image/png": "[encoded data removed]",
      "text/plain": [
       "<Figure size 432x288 with 1 Axes>"
      ]
     },
     "metadata": {
      "needs_background": "light"
     },
     "output_type": "display_data"
    }
   ],
   "source": [
    "lim = [4500, 7000]\n",
    "ax = df_super.plot(kind='scatter', x='Teff', y='TEFF')\n",
    "ax.plot(lim, lim, 'k--')\n",
    "# ax.set_xlim(0.6, 2.)\n",
    "ax.set_ylim(lim)"
   ]
  },
  {
   "cell_type": "markdown",
   "metadata": {},
   "source": [
    "APOGEE DR14 temperatures (TEFF) lower than both the SDSS griz and B18 scales -> we expect lower luminosities than both"
   ]
  },
  {
   "cell_type": "code",
   "execution_count": 152,
   "metadata": {},
   "outputs": [],
   "source": [
    "df.to_csv('../data/archive/s17-b18-gaia-2mass_bc.csv', index=False)"
   ]
  },
  {
   "cell_type": "code",
   "execution_count": null,
   "metadata": {},
   "outputs": [],
   "source": []
  }
 ],
 "metadata": {
  "kernelspec": {
   "display_name": "Python 3 (Base)",
   "language": "python",
   "name": "base"
  },
  "language_info": {
   "codemirror_mode": {
    "name": "ipython",
    "version": 3
   },
   "file_extension": ".py",
   "mimetype": "text/x-python",
   "name": "python",
   "nbconvert_exporter": "python",
   "pygments_lexer": "ipython3",
   "version": "3.7.4"
  }
 },
 "nbformat": 4,
 "nbformat_minor": 2
}
