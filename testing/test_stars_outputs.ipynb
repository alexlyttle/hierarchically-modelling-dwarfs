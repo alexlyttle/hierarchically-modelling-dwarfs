{
 "cells": [
  {
   "cell_type": "code",
   "execution_count": 1,
   "metadata": {},
   "outputs": [],
   "source": [
    "import os\n",
    "import numpy as np\n",
    "import pandas as pd\n",
    "\n",
    "from interstellar import Tracks"
   ]
  },
  {
   "cell_type": "code",
   "execution_count": 2,
   "metadata": {},
   "outputs": [],
   "source": [
    "seed = 101\n",
    "path = '/rds/projects/d/daviesgr-cartography/mesa_grid/grid2_zams_agb/simple_grid_alex100'\n",
    "\n",
    "tracks = Tracks(path=path, name='test_stars')"
   ]
  },
  {
   "cell_type": "code",
   "execution_count": 3,
   "metadata": {},
   "outputs": [
    {
     "data": {
      "text/html": [
       "<div>\n",
       "<style scoped>\n",
       "    .dataframe tbody tr th:only-of-type {\n",
       "        vertical-align: middle;\n",
       "    }\n",
       "\n",
       "    .dataframe tbody tr th {\n",
       "        vertical-align: top;\n",
       "    }\n",
       "\n",
       "    .dataframe thead th {\n",
       "        text-align: right;\n",
       "    }\n",
       "</style>\n",
       "<table border=\"1\" class=\"dataframe\">\n",
       "  <thead>\n",
       "    <tr style=\"text-align: right;\">\n",
       "      <th></th>\n",
       "      <th>file_path</th>\n",
       "      <th>m</th>\n",
       "      <th>Y</th>\n",
       "      <th>FeH</th>\n",
       "      <th>MLT</th>\n",
       "      <th>ov</th>\n",
       "      <th>dif</th>\n",
       "    </tr>\n",
       "  </thead>\n",
       "  <tbody>\n",
       "    <tr>\n",
       "      <th>0</th>\n",
       "      <td>/rds/projects/d/daviesgr-cartography/mesa_grid...</td>\n",
       "      <td>0.96548</td>\n",
       "      <td>0.27685</td>\n",
       "      <td>0.04043</td>\n",
       "      <td>1.85611</td>\n",
       "      <td>0.0</td>\n",
       "      <td>1</td>\n",
       "    </tr>\n",
       "    <tr>\n",
       "      <th>1</th>\n",
       "      <td>/rds/projects/d/daviesgr-cartography/mesa_grid...</td>\n",
       "      <td>0.95309</td>\n",
       "      <td>0.27195</td>\n",
       "      <td>0.00710</td>\n",
       "      <td>1.91350</td>\n",
       "      <td>0.0</td>\n",
       "      <td>1</td>\n",
       "    </tr>\n",
       "    <tr>\n",
       "      <th>2</th>\n",
       "      <td>/rds/projects/d/daviesgr-cartography/mesa_grid...</td>\n",
       "      <td>1.00004</td>\n",
       "      <td>0.28872</td>\n",
       "      <td>0.29397</td>\n",
       "      <td>2.04466</td>\n",
       "      <td>0.0</td>\n",
       "      <td>1</td>\n",
       "    </tr>\n",
       "    <tr>\n",
       "      <th>3</th>\n",
       "      <td>/rds/projects/d/daviesgr-cartography/mesa_grid...</td>\n",
       "      <td>1.14261</td>\n",
       "      <td>0.27603</td>\n",
       "      <td>-0.02713</td>\n",
       "      <td>2.18964</td>\n",
       "      <td>0.0</td>\n",
       "      <td>1</td>\n",
       "    </tr>\n",
       "    <tr>\n",
       "      <th>4</th>\n",
       "      <td>/rds/projects/d/daviesgr-cartography/mesa_grid...</td>\n",
       "      <td>0.90457</td>\n",
       "      <td>0.28077</td>\n",
       "      <td>0.13303</td>\n",
       "      <td>2.00033</td>\n",
       "      <td>0.0</td>\n",
       "      <td>1</td>\n",
       "    </tr>\n",
       "    <tr>\n",
       "      <th>...</th>\n",
       "      <td>...</td>\n",
       "      <td>...</td>\n",
       "      <td>...</td>\n",
       "      <td>...</td>\n",
       "      <td>...</td>\n",
       "      <td>...</td>\n",
       "      <td>...</td>\n",
       "    </tr>\n",
       "    <tr>\n",
       "      <th>95</th>\n",
       "      <td>/rds/projects/d/daviesgr-cartography/mesa_grid...</td>\n",
       "      <td>1.09238</td>\n",
       "      <td>0.29178</td>\n",
       "      <td>0.25319</td>\n",
       "      <td>2.04822</td>\n",
       "      <td>0.0</td>\n",
       "      <td>1</td>\n",
       "    </tr>\n",
       "    <tr>\n",
       "      <th>96</th>\n",
       "      <td>/rds/projects/d/daviesgr-cartography/mesa_grid...</td>\n",
       "      <td>0.90348</td>\n",
       "      <td>0.27679</td>\n",
       "      <td>0.06096</td>\n",
       "      <td>2.00044</td>\n",
       "      <td>0.0</td>\n",
       "      <td>1</td>\n",
       "    </tr>\n",
       "    <tr>\n",
       "      <th>97</th>\n",
       "      <td>/rds/projects/d/daviesgr-cartography/mesa_grid...</td>\n",
       "      <td>0.99345</td>\n",
       "      <td>0.26667</td>\n",
       "      <td>0.04253</td>\n",
       "      <td>1.91546</td>\n",
       "      <td>0.0</td>\n",
       "      <td>1</td>\n",
       "    </tr>\n",
       "    <tr>\n",
       "      <th>98</th>\n",
       "      <td>/rds/projects/d/daviesgr-cartography/mesa_grid...</td>\n",
       "      <td>0.91971</td>\n",
       "      <td>0.27831</td>\n",
       "      <td>0.09672</td>\n",
       "      <td>2.04544</td>\n",
       "      <td>0.0</td>\n",
       "      <td>1</td>\n",
       "    </tr>\n",
       "    <tr>\n",
       "      <th>99</th>\n",
       "      <td>/rds/projects/d/daviesgr-cartography/mesa_grid...</td>\n",
       "      <td>0.91718</td>\n",
       "      <td>0.28454</td>\n",
       "      <td>0.18758</td>\n",
       "      <td>2.07464</td>\n",
       "      <td>0.0</td>\n",
       "      <td>1</td>\n",
       "    </tr>\n",
       "  </tbody>\n",
       "</table>\n",
       "<p>100 rows × 7 columns</p>\n",
       "</div>"
      ],
      "text/plain": [
       "                                            file_path        m        Y  \\\n",
       "0   /rds/projects/d/daviesgr-cartography/mesa_grid...  0.96548  0.27685   \n",
       "1   /rds/projects/d/daviesgr-cartography/mesa_grid...  0.95309  0.27195   \n",
       "2   /rds/projects/d/daviesgr-cartography/mesa_grid...  1.00004  0.28872   \n",
       "3   /rds/projects/d/daviesgr-cartography/mesa_grid...  1.14261  0.27603   \n",
       "4   /rds/projects/d/daviesgr-cartography/mesa_grid...  0.90457  0.28077   \n",
       "..                                                ...      ...      ...   \n",
       "95  /rds/projects/d/daviesgr-cartography/mesa_grid...  1.09238  0.29178   \n",
       "96  /rds/projects/d/daviesgr-cartography/mesa_grid...  0.90348  0.27679   \n",
       "97  /rds/projects/d/daviesgr-cartography/mesa_grid...  0.99345  0.26667   \n",
       "98  /rds/projects/d/daviesgr-cartography/mesa_grid...  0.91971  0.27831   \n",
       "99  /rds/projects/d/daviesgr-cartography/mesa_grid...  0.91718  0.28454   \n",
       "\n",
       "        FeH      MLT   ov  dif  \n",
       "0   0.04043  1.85611  0.0    1  \n",
       "1   0.00710  1.91350  0.0    1  \n",
       "2   0.29397  2.04466  0.0    1  \n",
       "3  -0.02713  2.18964  0.0    1  \n",
       "4   0.13303  2.00033  0.0    1  \n",
       "..      ...      ...  ...  ...  \n",
       "95  0.25319  2.04822  0.0    1  \n",
       "96  0.06096  2.00044  0.0    1  \n",
       "97  0.04253  1.91546  0.0    1  \n",
       "98  0.09672  2.04544  0.0    1  \n",
       "99  0.18758  2.07464  0.0    1  \n",
       "\n",
       "[100 rows x 7 columns]"
      ]
     },
     "execution_count": 3,
     "metadata": {},
     "output_type": "execute_result"
    }
   ],
   "source": [
    "tracks.compile_metadata()\n",
    "tracks.get_metadata()"
   ]
  },
  {
   "cell_type": "code",
   "execution_count": 4,
   "metadata": {},
   "outputs": [
    {
     "name": "stdout",
     "output_type": "stream",
     "text": [
      "['initial_mass', 'initial_Yinit', 'initial_feh', 'initial_MLT', 'evol_stage', 'star_mass', 'star_age', 'frac_age', 'effective_T', 'log_g', 'luminosity', 'radius', 'star_feh', 'delta_nu_fit']\n"
     ]
    }
   ],
   "source": [
    "from interstellar.tracks import DATA_COLS\n",
    "\n",
    "print(DATA_COLS)"
   ]
  },
  {
   "cell_type": "code",
   "execution_count": 5,
   "metadata": {},
   "outputs": [
    {
     "name": "stdout",
     "output_type": "stream",
     "text": [
      "['initial_mass', 'initial_Yinit', 'initial_feh', 'initial_MLT', 'evol_stage', 'star_mass', 'star_age', 'frac_age', 'effective_T', 'log_g', 'luminosity', 'radius', 'star_feh', 'delta_nu_fit', 'surface_he4', 'surface_Z', 'initial_Zinit']\n"
     ]
    }
   ],
   "source": [
    "cols = DATA_COLS + ['surface_he4', 'surface_Z', 'initial_Zinit']\n",
    "print(cols)"
   ]
  },
  {
   "cell_type": "code",
   "execution_count": 6,
   "metadata": {},
   "outputs": [
    {
     "data": {
      "text/html": [
       "<div>\n",
       "<style scoped>\n",
       "    .dataframe tbody tr th:only-of-type {\n",
       "        vertical-align: middle;\n",
       "    }\n",
       "\n",
       "    .dataframe tbody tr th {\n",
       "        vertical-align: top;\n",
       "    }\n",
       "\n",
       "    .dataframe thead th {\n",
       "        text-align: right;\n",
       "    }\n",
       "</style>\n",
       "<table border=\"1\" class=\"dataframe\">\n",
       "  <thead>\n",
       "    <tr style=\"text-align: right;\">\n",
       "      <th></th>\n",
       "      <th>evol_stage</th>\n",
       "      <th>initial_mass</th>\n",
       "      <th>initial_Yinit</th>\n",
       "      <th>initial_Zinit</th>\n",
       "      <th>initial_feh</th>\n",
       "      <th>initial_MLT</th>\n",
       "      <th>star_mass</th>\n",
       "      <th>star_age</th>\n",
       "      <th>frac_age</th>\n",
       "      <th>effective_T</th>\n",
       "      <th>luminosity</th>\n",
       "      <th>radius</th>\n",
       "      <th>log_g</th>\n",
       "      <th>surface_he4</th>\n",
       "      <th>surface_Z</th>\n",
       "      <th>star_feh</th>\n",
       "      <th>delta_nu_fit</th>\n",
       "    </tr>\n",
       "  </thead>\n",
       "  <tbody>\n",
       "    <tr>\n",
       "      <th>0</th>\n",
       "      <td>0</td>\n",
       "      <td>0.96548</td>\n",
       "      <td>0.27685</td>\n",
       "      <td>0.014086</td>\n",
       "      <td>0.04043</td>\n",
       "      <td>1.85611</td>\n",
       "      <td>0.96548</td>\n",
       "      <td>0.000130</td>\n",
       "      <td>0.000015</td>\n",
       "      <td>4410.410861</td>\n",
       "      <td>7.620105</td>\n",
       "      <td>4.734577</td>\n",
       "      <td>3.072070</td>\n",
       "      <td>0.276807</td>\n",
       "      <td>0.014085</td>\n",
       "      <td>0.040381</td>\n",
       "      <td>11.974618</td>\n",
       "    </tr>\n",
       "    <tr>\n",
       "      <th>1</th>\n",
       "      <td>0</td>\n",
       "      <td>0.96548</td>\n",
       "      <td>0.27685</td>\n",
       "      <td>0.014086</td>\n",
       "      <td>0.04043</td>\n",
       "      <td>1.85611</td>\n",
       "      <td>0.96548</td>\n",
       "      <td>0.000136</td>\n",
       "      <td>0.000015</td>\n",
       "      <td>4413.321484</td>\n",
       "      <td>7.395720</td>\n",
       "      <td>4.658198</td>\n",
       "      <td>3.086197</td>\n",
       "      <td>0.276807</td>\n",
       "      <td>0.014085</td>\n",
       "      <td>0.040390</td>\n",
       "      <td>12.276664</td>\n",
       "    </tr>\n",
       "    <tr>\n",
       "      <th>2</th>\n",
       "      <td>0</td>\n",
       "      <td>0.96548</td>\n",
       "      <td>0.27685</td>\n",
       "      <td>0.014086</td>\n",
       "      <td>0.04043</td>\n",
       "      <td>1.85611</td>\n",
       "      <td>0.96548</td>\n",
       "      <td>0.000140</td>\n",
       "      <td>0.000016</td>\n",
       "      <td>4415.321281</td>\n",
       "      <td>7.225692</td>\n",
       "      <td>4.600170</td>\n",
       "      <td>3.097085</td>\n",
       "      <td>0.276809</td>\n",
       "      <td>0.014086</td>\n",
       "      <td>0.040406</td>\n",
       "      <td>12.514915</td>\n",
       "    </tr>\n",
       "    <tr>\n",
       "      <th>3</th>\n",
       "      <td>0</td>\n",
       "      <td>0.96548</td>\n",
       "      <td>0.27685</td>\n",
       "      <td>0.014086</td>\n",
       "      <td>0.04043</td>\n",
       "      <td>1.85611</td>\n",
       "      <td>0.96548</td>\n",
       "      <td>0.000144</td>\n",
       "      <td>0.000016</td>\n",
       "      <td>4416.817866</td>\n",
       "      <td>7.095867</td>\n",
       "      <td>4.555569</td>\n",
       "      <td>3.105547</td>\n",
       "      <td>0.276810</td>\n",
       "      <td>0.014086</td>\n",
       "      <td>0.040421</td>\n",
       "      <td>12.703270</td>\n",
       "    </tr>\n",
       "    <tr>\n",
       "      <th>4</th>\n",
       "      <td>0</td>\n",
       "      <td>0.96548</td>\n",
       "      <td>0.27685</td>\n",
       "      <td>0.014086</td>\n",
       "      <td>0.04043</td>\n",
       "      <td>1.85611</td>\n",
       "      <td>0.96548</td>\n",
       "      <td>0.000147</td>\n",
       "      <td>0.000017</td>\n",
       "      <td>4417.925026</td>\n",
       "      <td>6.995561</td>\n",
       "      <td>4.520989</td>\n",
       "      <td>3.112166</td>\n",
       "      <td>0.276812</td>\n",
       "      <td>0.014087</td>\n",
       "      <td>0.040438</td>\n",
       "      <td>12.852601</td>\n",
       "    </tr>\n",
       "  </tbody>\n",
       "</table>\n",
       "</div>"
      ],
      "text/plain": [
       "   evol_stage  initial_mass  initial_Yinit  initial_Zinit  initial_feh  \\\n",
       "0           0       0.96548        0.27685       0.014086      0.04043   \n",
       "1           0       0.96548        0.27685       0.014086      0.04043   \n",
       "2           0       0.96548        0.27685       0.014086      0.04043   \n",
       "3           0       0.96548        0.27685       0.014086      0.04043   \n",
       "4           0       0.96548        0.27685       0.014086      0.04043   \n",
       "\n",
       "   initial_MLT  star_mass  star_age  frac_age  effective_T  luminosity  \\\n",
       "0      1.85611    0.96548  0.000130  0.000015  4410.410861    7.620105   \n",
       "1      1.85611    0.96548  0.000136  0.000015  4413.321484    7.395720   \n",
       "2      1.85611    0.96548  0.000140  0.000016  4415.321281    7.225692   \n",
       "3      1.85611    0.96548  0.000144  0.000016  4416.817866    7.095867   \n",
       "4      1.85611    0.96548  0.000147  0.000017  4417.925026    6.995561   \n",
       "\n",
       "     radius     log_g  surface_he4  surface_Z  star_feh  delta_nu_fit  \n",
       "0  4.734577  3.072070     0.276807   0.014085  0.040381     11.974618  \n",
       "1  4.658198  3.086197     0.276807   0.014085  0.040390     12.276664  \n",
       "2  4.600170  3.097085     0.276809   0.014086  0.040406     12.514915  \n",
       "3  4.555569  3.105547     0.276810   0.014086  0.040421     12.703270  \n",
       "4  4.520989  3.112166     0.276812   0.014087  0.040438     12.852601  "
      ]
     },
     "execution_count": 6,
     "metadata": {},
     "output_type": "execute_result"
    }
   ],
   "source": [
    "tracks.compile_data(usecols=cols)\n",
    "tracks.get_data().head()"
   ]
  },
  {
   "cell_type": "markdown",
   "metadata": {},
   "source": [
    "Select main sequence."
   ]
  },
  {
   "cell_type": "code",
   "execution_count": 7,
   "metadata": {},
   "outputs": [
    {
     "data": {
      "text/html": [
       "<div>\n",
       "<style scoped>\n",
       "    .dataframe tbody tr th:only-of-type {\n",
       "        vertical-align: middle;\n",
       "    }\n",
       "\n",
       "    .dataframe tbody tr th {\n",
       "        vertical-align: top;\n",
       "    }\n",
       "\n",
       "    .dataframe thead th {\n",
       "        text-align: right;\n",
       "    }\n",
       "</style>\n",
       "<table border=\"1\" class=\"dataframe\">\n",
       "  <thead>\n",
       "    <tr style=\"text-align: right;\">\n",
       "      <th></th>\n",
       "      <th>evol_stage</th>\n",
       "      <th>initial_mass</th>\n",
       "      <th>initial_Yinit</th>\n",
       "      <th>initial_Zinit</th>\n",
       "      <th>initial_feh</th>\n",
       "      <th>initial_MLT</th>\n",
       "      <th>star_mass</th>\n",
       "      <th>star_age</th>\n",
       "      <th>frac_age</th>\n",
       "      <th>effective_T</th>\n",
       "      <th>luminosity</th>\n",
       "      <th>radius</th>\n",
       "      <th>log_g</th>\n",
       "      <th>surface_he4</th>\n",
       "      <th>surface_Z</th>\n",
       "      <th>star_feh</th>\n",
       "      <th>delta_nu_fit</th>\n",
       "    </tr>\n",
       "  </thead>\n",
       "  <tbody>\n",
       "    <tr>\n",
       "      <th>426</th>\n",
       "      <td>1</td>\n",
       "      <td>0.96548</td>\n",
       "      <td>0.27685</td>\n",
       "      <td>0.014086</td>\n",
       "      <td>0.04043</td>\n",
       "      <td>1.85611</td>\n",
       "      <td>0.96548</td>\n",
       "      <td>0.098626</td>\n",
       "      <td>0.011099</td>\n",
       "      <td>5621.123610</td>\n",
       "      <td>0.686437</td>\n",
       "      <td>0.874808</td>\n",
       "      <td>4.538807</td>\n",
       "      <td>0.276273</td>\n",
       "      <td>0.014066</td>\n",
       "      <td>0.039470</td>\n",
       "      <td>162.572925</td>\n",
       "    </tr>\n",
       "    <tr>\n",
       "      <th>427</th>\n",
       "      <td>1</td>\n",
       "      <td>0.96548</td>\n",
       "      <td>0.27685</td>\n",
       "      <td>0.014086</td>\n",
       "      <td>0.04043</td>\n",
       "      <td>1.85611</td>\n",
       "      <td>0.96548</td>\n",
       "      <td>0.111370</td>\n",
       "      <td>0.012533</td>\n",
       "      <td>5622.235071</td>\n",
       "      <td>0.688164</td>\n",
       "      <td>0.875562</td>\n",
       "      <td>4.538059</td>\n",
       "      <td>0.276179</td>\n",
       "      <td>0.014062</td>\n",
       "      <td>0.039283</td>\n",
       "      <td>162.364895</td>\n",
       "    </tr>\n",
       "    <tr>\n",
       "      <th>428</th>\n",
       "      <td>1</td>\n",
       "      <td>0.96548</td>\n",
       "      <td>0.27685</td>\n",
       "      <td>0.014086</td>\n",
       "      <td>0.04043</td>\n",
       "      <td>1.85611</td>\n",
       "      <td>0.96548</td>\n",
       "      <td>0.126661</td>\n",
       "      <td>0.014254</td>\n",
       "      <td>5623.169997</td>\n",
       "      <td>0.689837</td>\n",
       "      <td>0.876334</td>\n",
       "      <td>4.537293</td>\n",
       "      <td>0.276066</td>\n",
       "      <td>0.014057</td>\n",
       "      <td>0.039059</td>\n",
       "      <td>162.152912</td>\n",
       "    </tr>\n",
       "    <tr>\n",
       "      <th>429</th>\n",
       "      <td>1</td>\n",
       "      <td>0.96548</td>\n",
       "      <td>0.27685</td>\n",
       "      <td>0.014086</td>\n",
       "      <td>0.04043</td>\n",
       "      <td>1.85611</td>\n",
       "      <td>0.96548</td>\n",
       "      <td>0.145012</td>\n",
       "      <td>0.016319</td>\n",
       "      <td>5623.977848</td>\n",
       "      <td>0.691502</td>\n",
       "      <td>0.877139</td>\n",
       "      <td>4.536496</td>\n",
       "      <td>0.275929</td>\n",
       "      <td>0.014051</td>\n",
       "      <td>0.038785</td>\n",
       "      <td>161.932933</td>\n",
       "    </tr>\n",
       "    <tr>\n",
       "      <th>430</th>\n",
       "      <td>1</td>\n",
       "      <td>0.96548</td>\n",
       "      <td>0.27685</td>\n",
       "      <td>0.014086</td>\n",
       "      <td>0.04043</td>\n",
       "      <td>1.85611</td>\n",
       "      <td>0.96548</td>\n",
       "      <td>0.167032</td>\n",
       "      <td>0.018797</td>\n",
       "      <td>5624.731344</td>\n",
       "      <td>0.693222</td>\n",
       "      <td>0.877994</td>\n",
       "      <td>4.535650</td>\n",
       "      <td>0.275765</td>\n",
       "      <td>0.014044</td>\n",
       "      <td>0.038458</td>\n",
       "      <td>161.700124</td>\n",
       "    </tr>\n",
       "  </tbody>\n",
       "</table>\n",
       "</div>"
      ],
      "text/plain": [
       "     evol_stage  initial_mass  initial_Yinit  initial_Zinit  initial_feh  \\\n",
       "426           1       0.96548        0.27685       0.014086      0.04043   \n",
       "427           1       0.96548        0.27685       0.014086      0.04043   \n",
       "428           1       0.96548        0.27685       0.014086      0.04043   \n",
       "429           1       0.96548        0.27685       0.014086      0.04043   \n",
       "430           1       0.96548        0.27685       0.014086      0.04043   \n",
       "\n",
       "     initial_MLT  star_mass  star_age  frac_age  effective_T  luminosity  \\\n",
       "426      1.85611    0.96548  0.098626  0.011099  5621.123610    0.686437   \n",
       "427      1.85611    0.96548  0.111370  0.012533  5622.235071    0.688164   \n",
       "428      1.85611    0.96548  0.126661  0.014254  5623.169997    0.689837   \n",
       "429      1.85611    0.96548  0.145012  0.016319  5623.977848    0.691502   \n",
       "430      1.85611    0.96548  0.167032  0.018797  5624.731344    0.693222   \n",
       "\n",
       "       radius     log_g  surface_he4  surface_Z  star_feh  delta_nu_fit  \n",
       "426  0.874808  4.538807     0.276273   0.014066  0.039470    162.572925  \n",
       "427  0.875562  4.538059     0.276179   0.014062  0.039283    162.364895  \n",
       "428  0.876334  4.537293     0.276066   0.014057  0.039059    162.152912  \n",
       "429  0.877139  4.536496     0.275929   0.014051  0.038785    161.932933  \n",
       "430  0.877994  4.535650     0.275765   0.014044  0.038458    161.700124  "
      ]
     },
     "execution_count": 7,
     "metadata": {},
     "output_type": "execute_result"
    }
   ],
   "source": [
    "condition = tracks.get_data('frac_age') > 0.01\n",
    "tracks.select_data(condition).head()"
   ]
  },
  {
   "cell_type": "code",
   "execution_count": 8,
   "metadata": {},
   "outputs": [],
   "source": [
    "tracks.select_data(condition, inplace=True)"
   ]
  },
  {
   "cell_type": "code",
   "execution_count": 9,
   "metadata": {},
   "outputs": [],
   "source": [
    "def frac_evol(track):\n",
    "    return 1.0 + (track['star_age'] - track['star_age'].min()) / \\\n",
    "           (track['star_age'].max() - track['star_age'].min())"
   ]
  },
  {
   "cell_type": "code",
   "execution_count": 10,
   "metadata": {},
   "outputs": [],
   "source": [
    "tracks._data.loc[tracks._data.frac_age<=1.0, 'frac_evol'] = tracks._data.loc[tracks._data.frac_age<=1.0, 'frac_age']"
   ]
  },
  {
   "cell_type": "code",
   "execution_count": 11,
   "metadata": {},
   "outputs": [],
   "source": [
    "grouped = tracks._data.groupby(by=['initial_mass', 'initial_MLT', 'initial_feh', 'initial_Yinit'])\n",
    "\n",
    "for name, group in grouped:\n",
    "    cond = group.frac_age>1.0\n",
    "    tracks._data.loc[group[cond].index, 'frac_evol'] = frac_evol(group.loc[cond])"
   ]
  },
  {
   "cell_type": "markdown",
   "metadata": {},
   "source": [
    "Now we will group by individual track and randomly select a point."
   ]
  },
  {
   "cell_type": "code",
   "execution_count": 12,
   "metadata": {},
   "outputs": [],
   "source": [
    "from scipy import stats"
   ]
  },
  {
   "cell_type": "code",
   "execution_count": 13,
   "metadata": {},
   "outputs": [],
   "source": [
    "mean_age = 7.0\n",
    "std_age = 2."
   ]
  },
  {
   "cell_type": "code",
   "execution_count": 14,
   "metadata": {},
   "outputs": [
    {
     "data": {
      "text/plain": [
       "426    0.000518\n",
       "427    0.000529\n",
       "428    0.000544\n",
       "429    0.000561\n",
       "430    0.000582\n",
       "Name: age_weights, dtype: float64"
      ]
     },
     "execution_count": 14,
     "metadata": {},
     "output_type": "execute_result"
    }
   ],
   "source": [
    "tracks._data['age_weights'] = stats.norm.pdf(tracks._data['star_age'], mean_age, std_age)\n",
    "tracks._data['age_weights'].head()"
   ]
  },
  {
   "cell_type": "code",
   "execution_count": 15,
   "metadata": {},
   "outputs": [
    {
     "data": {
      "text/html": [
       "<div>\n",
       "<style scoped>\n",
       "    .dataframe tbody tr th:only-of-type {\n",
       "        vertical-align: middle;\n",
       "    }\n",
       "\n",
       "    .dataframe tbody tr th {\n",
       "        vertical-align: top;\n",
       "    }\n",
       "\n",
       "    .dataframe thead th {\n",
       "        text-align: right;\n",
       "    }\n",
       "</style>\n",
       "<table border=\"1\" class=\"dataframe\">\n",
       "  <thead>\n",
       "    <tr style=\"text-align: right;\">\n",
       "      <th></th>\n",
       "      <th>evol_stage</th>\n",
       "      <th>initial_mass</th>\n",
       "      <th>initial_Yinit</th>\n",
       "      <th>initial_Zinit</th>\n",
       "      <th>initial_feh</th>\n",
       "      <th>initial_MLT</th>\n",
       "      <th>star_mass</th>\n",
       "      <th>star_age</th>\n",
       "      <th>frac_age</th>\n",
       "      <th>effective_T</th>\n",
       "      <th>luminosity</th>\n",
       "      <th>radius</th>\n",
       "      <th>log_g</th>\n",
       "      <th>surface_he4</th>\n",
       "      <th>surface_Z</th>\n",
       "      <th>star_feh</th>\n",
       "      <th>delta_nu_fit</th>\n",
       "      <th>frac_evol</th>\n",
       "      <th>age_weights</th>\n",
       "    </tr>\n",
       "  </thead>\n",
       "  <tbody>\n",
       "  </tbody>\n",
       "</table>\n",
       "</div>"
      ],
      "text/plain": [
       "Empty DataFrame\n",
       "Columns: [evol_stage, initial_mass, initial_Yinit, initial_Zinit, initial_feh, initial_MLT, star_mass, star_age, frac_age, effective_T, luminosity, radius, log_g, surface_he4, surface_Z, star_feh, delta_nu_fit, frac_evol, age_weights]\n",
       "Index: []"
      ]
     },
     "execution_count": 15,
     "metadata": {},
     "output_type": "execute_result"
    }
   ],
   "source": [
    "test_stars = pd.DataFrame(columns=tracks._data.columns)\n",
    "test_stars"
   ]
  },
  {
   "cell_type": "code",
   "execution_count": 24,
   "metadata": {},
   "outputs": [],
   "source": [
    "np.random.seed(seed)"
   ]
  },
  {
   "cell_type": "code",
   "execution_count": 25,
   "metadata": {},
   "outputs": [],
   "source": [
    "grouped = tracks._data.groupby(by=['initial_mass', 'initial_MLT', 'initial_feh', 'initial_Yinit'])\n",
    "\n",
    "for i, (name, group) in enumerate(grouped):\n",
    "    cond = group.star_age < 14.  # Less than age of the universe\n",
    "    test_stars.loc[i] = group.loc[cond].sample(n=1, weights='age_weights').to_numpy()[0]"
   ]
  },
  {
   "cell_type": "code",
   "execution_count": 26,
   "metadata": {},
   "outputs": [
    {
     "data": {
      "text/html": [
       "<div>\n",
       "<style scoped>\n",
       "    .dataframe tbody tr th:only-of-type {\n",
       "        vertical-align: middle;\n",
       "    }\n",
       "\n",
       "    .dataframe tbody tr th {\n",
       "        vertical-align: top;\n",
       "    }\n",
       "\n",
       "    .dataframe thead th {\n",
       "        text-align: right;\n",
       "    }\n",
       "</style>\n",
       "<table border=\"1\" class=\"dataframe\">\n",
       "  <thead>\n",
       "    <tr style=\"text-align: right;\">\n",
       "      <th></th>\n",
       "      <th>evol_stage</th>\n",
       "      <th>initial_mass</th>\n",
       "      <th>initial_Yinit</th>\n",
       "      <th>initial_Zinit</th>\n",
       "      <th>initial_feh</th>\n",
       "      <th>initial_MLT</th>\n",
       "      <th>star_mass</th>\n",
       "      <th>star_age</th>\n",
       "      <th>frac_age</th>\n",
       "      <th>effective_T</th>\n",
       "      <th>luminosity</th>\n",
       "      <th>radius</th>\n",
       "      <th>log_g</th>\n",
       "      <th>surface_he4</th>\n",
       "      <th>surface_Z</th>\n",
       "      <th>star_feh</th>\n",
       "      <th>delta_nu_fit</th>\n",
       "      <th>frac_evol</th>\n",
       "      <th>age_weights</th>\n",
       "    </tr>\n",
       "  </thead>\n",
       "  <tbody>\n",
       "    <tr>\n",
       "      <th>0</th>\n",
       "      <td>1.0</td>\n",
       "      <td>0.85397</td>\n",
       "      <td>0.25364</td>\n",
       "      <td>0.014426</td>\n",
       "      <td>0.03700</td>\n",
       "      <td>2.00798</td>\n",
       "      <td>0.85397</td>\n",
       "      <td>7.046015</td>\n",
       "      <td>0.398266</td>\n",
       "      <td>5200.535430</td>\n",
       "      <td>0.445522</td>\n",
       "      <td>0.823374</td>\n",
       "      <td>4.538138</td>\n",
       "      <td>0.228446</td>\n",
       "      <td>0.013172</td>\n",
       "      <td>-0.017916</td>\n",
       "      <td>167.944271</td>\n",
       "      <td>0.398266</td>\n",
       "      <td>0.199418</td>\n",
       "    </tr>\n",
       "    <tr>\n",
       "      <th>1</th>\n",
       "      <td>1.0</td>\n",
       "      <td>0.85854</td>\n",
       "      <td>0.27288</td>\n",
       "      <td>0.017527</td>\n",
       "      <td>0.13517</td>\n",
       "      <td>1.84533</td>\n",
       "      <td>0.85854</td>\n",
       "      <td>7.349840</td>\n",
       "      <td>0.435597</td>\n",
       "      <td>5169.130768</td>\n",
       "      <td>0.460919</td>\n",
       "      <td>0.847689</td>\n",
       "      <td>4.515177</td>\n",
       "      <td>0.244816</td>\n",
       "      <td>0.015969</td>\n",
       "      <td>0.076846</td>\n",
       "      <td>161.360379</td>\n",
       "      <td>0.435597</td>\n",
       "      <td>0.196443</td>\n",
       "    </tr>\n",
       "    <tr>\n",
       "      <th>2</th>\n",
       "      <td>1.0</td>\n",
       "      <td>0.86302</td>\n",
       "      <td>0.29363</td>\n",
       "      <td>0.028322</td>\n",
       "      <td>0.36335</td>\n",
       "      <td>1.99334</td>\n",
       "      <td>0.86302</td>\n",
       "      <td>3.216747</td>\n",
       "      <td>0.174959</td>\n",
       "      <td>4893.183014</td>\n",
       "      <td>0.323551</td>\n",
       "      <td>0.792587</td>\n",
       "      <td>4.575816</td>\n",
       "      <td>0.282007</td>\n",
       "      <td>0.027385</td>\n",
       "      <td>0.340614</td>\n",
       "      <td>178.462162</td>\n",
       "      <td>0.174959</td>\n",
       "      <td>0.033333</td>\n",
       "    </tr>\n",
       "    <tr>\n",
       "      <th>3</th>\n",
       "      <td>1.0</td>\n",
       "      <td>0.86445</td>\n",
       "      <td>0.27088</td>\n",
       "      <td>0.012056</td>\n",
       "      <td>-0.03175</td>\n",
       "      <td>1.89884</td>\n",
       "      <td>0.86445</td>\n",
       "      <td>5.086326</td>\n",
       "      <td>0.372984</td>\n",
       "      <td>5427.143855</td>\n",
       "      <td>0.555922</td>\n",
       "      <td>0.844546</td>\n",
       "      <td>4.521383</td>\n",
       "      <td>0.246552</td>\n",
       "      <td>0.011104</td>\n",
       "      <td>-0.082774</td>\n",
       "      <td>162.451236</td>\n",
       "      <td>0.372984</td>\n",
       "      <td>0.126204</td>\n",
       "    </tr>\n",
       "    <tr>\n",
       "      <th>4</th>\n",
       "      <td>1.0</td>\n",
       "      <td>0.86455</td>\n",
       "      <td>0.28837</td>\n",
       "      <td>0.018435</td>\n",
       "      <td>0.16724</td>\n",
       "      <td>1.90678</td>\n",
       "      <td>0.86455</td>\n",
       "      <td>7.930125</td>\n",
       "      <td>0.528107</td>\n",
       "      <td>5297.480060</td>\n",
       "      <td>0.542283</td>\n",
       "      <td>0.875454</td>\n",
       "      <td>4.490213</td>\n",
       "      <td>0.255423</td>\n",
       "      <td>0.016633</td>\n",
       "      <td>0.101207</td>\n",
       "      <td>154.279390</td>\n",
       "      <td>0.528107</td>\n",
       "      <td>0.179025</td>\n",
       "    </tr>\n",
       "  </tbody>\n",
       "</table>\n",
       "</div>"
      ],
      "text/plain": [
       "   evol_stage  initial_mass  initial_Yinit  initial_Zinit  initial_feh  \\\n",
       "0         1.0       0.85397        0.25364       0.014426      0.03700   \n",
       "1         1.0       0.85854        0.27288       0.017527      0.13517   \n",
       "2         1.0       0.86302        0.29363       0.028322      0.36335   \n",
       "3         1.0       0.86445        0.27088       0.012056     -0.03175   \n",
       "4         1.0       0.86455        0.28837       0.018435      0.16724   \n",
       "\n",
       "   initial_MLT  star_mass  star_age  frac_age  effective_T  luminosity  \\\n",
       "0      2.00798    0.85397  7.046015  0.398266  5200.535430    0.445522   \n",
       "1      1.84533    0.85854  7.349840  0.435597  5169.130768    0.460919   \n",
       "2      1.99334    0.86302  3.216747  0.174959  4893.183014    0.323551   \n",
       "3      1.89884    0.86445  5.086326  0.372984  5427.143855    0.555922   \n",
       "4      1.90678    0.86455  7.930125  0.528107  5297.480060    0.542283   \n",
       "\n",
       "     radius     log_g  surface_he4  surface_Z  star_feh  delta_nu_fit  \\\n",
       "0  0.823374  4.538138     0.228446   0.013172 -0.017916    167.944271   \n",
       "1  0.847689  4.515177     0.244816   0.015969  0.076846    161.360379   \n",
       "2  0.792587  4.575816     0.282007   0.027385  0.340614    178.462162   \n",
       "3  0.844546  4.521383     0.246552   0.011104 -0.082774    162.451236   \n",
       "4  0.875454  4.490213     0.255423   0.016633  0.101207    154.279390   \n",
       "\n",
       "   frac_evol  age_weights  \n",
       "0   0.398266     0.199418  \n",
       "1   0.435597     0.196443  \n",
       "2   0.174959     0.033333  \n",
       "3   0.372984     0.126204  \n",
       "4   0.528107     0.179025  "
      ]
     },
     "execution_count": 26,
     "metadata": {},
     "output_type": "execute_result"
    }
   ],
   "source": [
    "test_stars.head()"
   ]
  },
  {
   "cell_type": "code",
   "execution_count": 27,
   "metadata": {},
   "outputs": [
    {
     "data": {
      "text/plain": [
       "<matplotlib.axes._subplots.AxesSubplot at 0x2b7c13f64610>"
      ]
     },
     "execution_count": 27,
     "metadata": {},
     "output_type": "execute_result"
    },
    {
     "data": {
      "image/png": "[encoded data removed]",
      "text/plain": [
       "<Figure size 432x288 with 1 Axes>"
      ]
     },
     "metadata": {
      "needs_background": "light"
     },
     "output_type": "display_data"
    }
   ],
   "source": [
    "%matplotlib inline\n",
    "test_stars.plot(kind='hist', y='star_age')"
   ]
  },
  {
   "cell_type": "code",
   "execution_count": 28,
   "metadata": {},
   "outputs": [
    {
     "data": {
      "text/plain": [
       "<matplotlib.axes._subplots.AxesSubplot at 0x2b7c13f6a3d0>"
      ]
     },
     "execution_count": 28,
     "metadata": {},
     "output_type": "execute_result"
    },
    {
     "data": {
      "image/png": "[encoded data removed]",
      "text/plain": [
       "<Figure size 432x288 with 1 Axes>"
      ]
     },
     "metadata": {
      "needs_background": "light"
     },
     "output_type": "display_data"
    }
   ],
   "source": [
    "test_stars.plot(kind='hist', y='star_feh')"
   ]
  },
  {
   "cell_type": "code",
   "execution_count": 29,
   "metadata": {},
   "outputs": [
    {
     "data": {
      "text/plain": [
       "<matplotlib.axes._subplots.AxesSubplot at 0x2b7c1c0d69d0>"
      ]
     },
     "execution_count": 29,
     "metadata": {},
     "output_type": "execute_result"
    },
    {
     "data": {
      "image/png": "[encoded data removed]",
      "text/plain": [
       "<Figure size 432x288 with 1 Axes>"
      ]
     },
     "metadata": {
      "needs_background": "light"
     },
     "output_type": "display_data"
    }
   ],
   "source": [
    "test_stars.plot(kind='hist', y='log_g')"
   ]
  },
  {
   "cell_type": "code",
   "execution_count": 30,
   "metadata": {},
   "outputs": [
    {
     "data": {
      "text/plain": [
       "<matplotlib.axes._subplots.AxesSubplot at 0x2b7c1c17c910>"
      ]
     },
     "execution_count": 30,
     "metadata": {},
     "output_type": "execute_result"
    },
    {
     "data": {
      "image/png": "[encoded data removed]",
      "text/plain": [
       "<Figure size 432x288 with 1 Axes>"
      ]
     },
     "metadata": {
      "needs_background": "light"
     },
     "output_type": "display_data"
    }
   ],
   "source": [
    "test_stars.plot(kind='hist', y='frac_evol')"
   ]
  },
  {
   "cell_type": "code",
   "execution_count": 31,
   "metadata": {},
   "outputs": [
    {
     "data": {
      "text/plain": [
       "<matplotlib.axes._subplots.AxesSubplot at 0x2b7c1c1ffa10>"
      ]
     },
     "execution_count": 31,
     "metadata": {},
     "output_type": "execute_result"
    },
    {
     "data": {
      "image/png": "[encoded data removed]",
      "text/plain": [
       "<Figure size 432x288 with 1 Axes>"
      ]
     },
     "metadata": {
      "needs_background": "light"
     },
     "output_type": "display_data"
    }
   ],
   "source": [
    "test_stars.plot(kind='hist', y='effective_T')"
   ]
  },
  {
   "cell_type": "code",
   "execution_count": 32,
   "metadata": {},
   "outputs": [
    {
     "data": {
      "image/png": "[encoded data removed]",
      "text/plain": [
       "<Figure size 432x288 with 1 Axes>"
      ]
     },
     "metadata": {
      "needs_background": "light"
     },
     "output_type": "display_data"
    }
   ],
   "source": [
    "ax = test_stars.plot(kind='scatter', x='effective_T', y='log_g')\n",
    "ax.invert_xaxis()\n",
    "ax.invert_yaxis()"
   ]
  },
  {
   "cell_type": "code",
   "execution_count": 33,
   "metadata": {},
   "outputs": [],
   "source": [
    "save_path = '../data/tracks/test_stars'\n",
    "\n",
    "if not os.path.isdir(save_path):\n",
    "    os.mkdir(save_path)"
   ]
  },
  {
   "cell_type": "code",
   "execution_count": 34,
   "metadata": {},
   "outputs": [],
   "source": [
    "test_stars.to_csv(os.path.join(save_path, 'test_stars_outputs.csv'), index_label='index')"
   ]
  },
  {
   "cell_type": "code",
   "execution_count": null,
   "metadata": {},
   "outputs": [],
   "source": []
  }
 ],
 "metadata": {
  "kernelspec": {
   "display_name": "Python 3.7 (Base)",
   "language": "python",
   "name": "python3.7-base"
  },
  "language_info": {
   "codemirror_mode": {
    "name": "ipython",
    "version": 3
   },
   "file_extension": ".py",
   "mimetype": "text/x-python",
   "name": "python",
   "nbconvert_exporter": "python",
   "pygments_lexer": "ipython3",
   "version": "3.7.4"
  }
 },
 "nbformat": 4,
 "nbformat_minor": 2
}
