{
 "cells": [
  {
   "cell_type": "code",
   "execution_count": 1,
   "metadata": {},
   "outputs": [],
   "source": [
    "import numpy as np\n",
    "import pandas as pd\n",
    "\n",
    "from scipy import stats\n",
    "from matplotlib import pyplot as plt"
   ]
  },
  {
   "cell_type": "code",
   "execution_count": 2,
   "metadata": {},
   "outputs": [
    {
     "data": {
      "text/html": [
       "<div>\n",
       "<style scoped>\n",
       "    .dataframe tbody tr th:only-of-type {\n",
       "        vertical-align: middle;\n",
       "    }\n",
       "\n",
       "    .dataframe tbody tr th {\n",
       "        vertical-align: top;\n",
       "    }\n",
       "\n",
       "    .dataframe thead th {\n",
       "        text-align: right;\n",
       "    }\n",
       "</style>\n",
       "<table border=\"1\" class=\"dataframe\">\n",
       "  <thead>\n",
       "    <tr style=\"text-align: right;\">\n",
       "      <th></th>\n",
       "      <th>index</th>\n",
       "      <th>evol_stage</th>\n",
       "      <th>initial_mass</th>\n",
       "      <th>initial_Yinit</th>\n",
       "      <th>initial_Zinit</th>\n",
       "      <th>initial_feh</th>\n",
       "      <th>initial_MLT</th>\n",
       "      <th>star_mass</th>\n",
       "      <th>star_age</th>\n",
       "      <th>frac_age</th>\n",
       "      <th>effective_T</th>\n",
       "      <th>luminosity</th>\n",
       "      <th>radius</th>\n",
       "      <th>log_g</th>\n",
       "      <th>surface_he4</th>\n",
       "      <th>surface_Z</th>\n",
       "      <th>star_feh</th>\n",
       "      <th>delta_nu_fit</th>\n",
       "      <th>frac_evol</th>\n",
       "      <th>age_weights</th>\n",
       "    </tr>\n",
       "  </thead>\n",
       "  <tbody>\n",
       "    <tr>\n",
       "      <th>0</th>\n",
       "      <td>0</td>\n",
       "      <td>1.0</td>\n",
       "      <td>0.85397</td>\n",
       "      <td>0.25364</td>\n",
       "      <td>0.014426</td>\n",
       "      <td>0.03700</td>\n",
       "      <td>2.00798</td>\n",
       "      <td>0.85397</td>\n",
       "      <td>7.046015</td>\n",
       "      <td>0.398266</td>\n",
       "      <td>5200.535430</td>\n",
       "      <td>0.445522</td>\n",
       "      <td>0.823374</td>\n",
       "      <td>4.538138</td>\n",
       "      <td>0.228446</td>\n",
       "      <td>0.013172</td>\n",
       "      <td>-0.017916</td>\n",
       "      <td>167.944271</td>\n",
       "      <td>0.398266</td>\n",
       "      <td>0.199418</td>\n",
       "    </tr>\n",
       "    <tr>\n",
       "      <th>1</th>\n",
       "      <td>1</td>\n",
       "      <td>1.0</td>\n",
       "      <td>0.85854</td>\n",
       "      <td>0.27288</td>\n",
       "      <td>0.017527</td>\n",
       "      <td>0.13517</td>\n",
       "      <td>1.84533</td>\n",
       "      <td>0.85854</td>\n",
       "      <td>7.349840</td>\n",
       "      <td>0.435597</td>\n",
       "      <td>5169.130768</td>\n",
       "      <td>0.460919</td>\n",
       "      <td>0.847689</td>\n",
       "      <td>4.515177</td>\n",
       "      <td>0.244816</td>\n",
       "      <td>0.015969</td>\n",
       "      <td>0.076846</td>\n",
       "      <td>161.360379</td>\n",
       "      <td>0.435597</td>\n",
       "      <td>0.196443</td>\n",
       "    </tr>\n",
       "    <tr>\n",
       "      <th>2</th>\n",
       "      <td>2</td>\n",
       "      <td>1.0</td>\n",
       "      <td>0.86302</td>\n",
       "      <td>0.29363</td>\n",
       "      <td>0.028322</td>\n",
       "      <td>0.36335</td>\n",
       "      <td>1.99334</td>\n",
       "      <td>0.86302</td>\n",
       "      <td>3.216747</td>\n",
       "      <td>0.174959</td>\n",
       "      <td>4893.183014</td>\n",
       "      <td>0.323551</td>\n",
       "      <td>0.792587</td>\n",
       "      <td>4.575816</td>\n",
       "      <td>0.282007</td>\n",
       "      <td>0.027385</td>\n",
       "      <td>0.340614</td>\n",
       "      <td>178.462162</td>\n",
       "      <td>0.174959</td>\n",
       "      <td>0.033333</td>\n",
       "    </tr>\n",
       "    <tr>\n",
       "      <th>3</th>\n",
       "      <td>3</td>\n",
       "      <td>1.0</td>\n",
       "      <td>0.86445</td>\n",
       "      <td>0.27088</td>\n",
       "      <td>0.012056</td>\n",
       "      <td>-0.03175</td>\n",
       "      <td>1.89884</td>\n",
       "      <td>0.86445</td>\n",
       "      <td>5.086326</td>\n",
       "      <td>0.372984</td>\n",
       "      <td>5427.143855</td>\n",
       "      <td>0.555922</td>\n",
       "      <td>0.844546</td>\n",
       "      <td>4.521383</td>\n",
       "      <td>0.246552</td>\n",
       "      <td>0.011104</td>\n",
       "      <td>-0.082774</td>\n",
       "      <td>162.451236</td>\n",
       "      <td>0.372984</td>\n",
       "      <td>0.126204</td>\n",
       "    </tr>\n",
       "    <tr>\n",
       "      <th>4</th>\n",
       "      <td>4</td>\n",
       "      <td>1.0</td>\n",
       "      <td>0.86455</td>\n",
       "      <td>0.28837</td>\n",
       "      <td>0.018435</td>\n",
       "      <td>0.16724</td>\n",
       "      <td>1.90678</td>\n",
       "      <td>0.86455</td>\n",
       "      <td>7.930125</td>\n",
       "      <td>0.528107</td>\n",
       "      <td>5297.480060</td>\n",
       "      <td>0.542283</td>\n",
       "      <td>0.875454</td>\n",
       "      <td>4.490213</td>\n",
       "      <td>0.255423</td>\n",
       "      <td>0.016633</td>\n",
       "      <td>0.101207</td>\n",
       "      <td>154.279390</td>\n",
       "      <td>0.528107</td>\n",
       "      <td>0.179025</td>\n",
       "    </tr>\n",
       "  </tbody>\n",
       "</table>\n",
       "</div>"
      ],
      "text/plain": [
       "   index  evol_stage  initial_mass  initial_Yinit  initial_Zinit  initial_feh  \\\n",
       "0      0         1.0       0.85397        0.25364       0.014426      0.03700   \n",
       "1      1         1.0       0.85854        0.27288       0.017527      0.13517   \n",
       "2      2         1.0       0.86302        0.29363       0.028322      0.36335   \n",
       "3      3         1.0       0.86445        0.27088       0.012056     -0.03175   \n",
       "4      4         1.0       0.86455        0.28837       0.018435      0.16724   \n",
       "\n",
       "   initial_MLT  star_mass  star_age  frac_age  effective_T  luminosity  \\\n",
       "0      2.00798    0.85397  7.046015  0.398266  5200.535430    0.445522   \n",
       "1      1.84533    0.85854  7.349840  0.435597  5169.130768    0.460919   \n",
       "2      1.99334    0.86302  3.216747  0.174959  4893.183014    0.323551   \n",
       "3      1.89884    0.86445  5.086326  0.372984  5427.143855    0.555922   \n",
       "4      1.90678    0.86455  7.930125  0.528107  5297.480060    0.542283   \n",
       "\n",
       "     radius     log_g  surface_he4  surface_Z  star_feh  delta_nu_fit  \\\n",
       "0  0.823374  4.538138     0.228446   0.013172 -0.017916    167.944271   \n",
       "1  0.847689  4.515177     0.244816   0.015969  0.076846    161.360379   \n",
       "2  0.792587  4.575816     0.282007   0.027385  0.340614    178.462162   \n",
       "3  0.844546  4.521383     0.246552   0.011104 -0.082774    162.451236   \n",
       "4  0.875454  4.490213     0.255423   0.016633  0.101207    154.279390   \n",
       "\n",
       "   frac_evol  age_weights  \n",
       "0   0.398266     0.199418  \n",
       "1   0.435597     0.196443  \n",
       "2   0.174959     0.033333  \n",
       "3   0.372984     0.126204  \n",
       "4   0.528107     0.179025  "
      ]
     },
     "execution_count": 2,
     "metadata": {},
     "output_type": "execute_result"
    }
   ],
   "source": [
    "seed = 101\n",
    "\n",
    "truths = pd.read_csv('../data/tracks/test_stars/test_stars_outputs.csv')\n",
    "truths.head()"
   ]
  },
  {
   "cell_type": "markdown",
   "metadata": {},
   "source": [
    "What are the typical distributions of errors on observables?"
   ]
  },
  {
   "cell_type": "code",
   "execution_count": 3,
   "metadata": {
    "scrolled": true
   },
   "outputs": [
    {
     "data": {
      "text/html": [
       "<div>\n",
       "<style scoped>\n",
       "    .dataframe tbody tr th:only-of-type {\n",
       "        vertical-align: middle;\n",
       "    }\n",
       "\n",
       "    .dataframe tbody tr th {\n",
       "        vertical-align: top;\n",
       "    }\n",
       "\n",
       "    .dataframe thead th {\n",
       "        text-align: right;\n",
       "    }\n",
       "</style>\n",
       "<table border=\"1\" class=\"dataframe\">\n",
       "  <thead>\n",
       "    <tr style=\"text-align: right;\">\n",
       "      <th></th>\n",
       "      <th>id_starname</th>\n",
       "      <th>teff</th>\n",
       "      <th>teff_err</th>\n",
       "      <th>logg</th>\n",
       "      <th>logg_err</th>\n",
       "      <th>feh</th>\n",
       "      <th>feh_err</th>\n",
       "      <th>lum</th>\n",
       "      <th>lum_err</th>\n",
       "      <th>gmag</th>\n",
       "      <th>...</th>\n",
       "      <th>dir_teff_err2</th>\n",
       "      <th>dir_mabs</th>\n",
       "      <th>dir_mabs_err1</th>\n",
       "      <th>dir_mabs_err2</th>\n",
       "      <th>dir_mass</th>\n",
       "      <th>dir_mass_err1</th>\n",
       "      <th>dir_mass_err2</th>\n",
       "      <th>dir_rho</th>\n",
       "      <th>dir_rho_err1</th>\n",
       "      <th>dir_rho_err2</th>\n",
       "    </tr>\n",
       "  </thead>\n",
       "  <tbody>\n",
       "    <tr>\n",
       "      <th>0</th>\n",
       "      <td>KIC5950854</td>\n",
       "      <td>5914.0347</td>\n",
       "      <td>134.60000</td>\n",
       "      <td>4.237158</td>\n",
       "      <td>0.009836</td>\n",
       "      <td>-0.173085</td>\n",
       "      <td>0.073964</td>\n",
       "      <td>-99</td>\n",
       "      <td>0</td>\n",
       "      <td>-99</td>\n",
       "      <td>...</td>\n",
       "      <td>-134.60000</td>\n",
       "      <td>2.726344</td>\n",
       "      <td>0.036510</td>\n",
       "      <td>-0.036819</td>\n",
       "      <td>0.0</td>\n",
       "      <td>0.0</td>\n",
       "      <td>-0.0</td>\n",
       "      <td>0.0</td>\n",
       "      <td>0.0</td>\n",
       "      <td>-0.0</td>\n",
       "    </tr>\n",
       "    <tr>\n",
       "      <th>1</th>\n",
       "      <td>KIC7799349</td>\n",
       "      <td>4976.7870</td>\n",
       "      <td>82.60566</td>\n",
       "      <td>3.670984</td>\n",
       "      <td>0.007718</td>\n",
       "      <td>0.284619</td>\n",
       "      <td>0.029484</td>\n",
       "      <td>-99</td>\n",
       "      <td>0</td>\n",
       "      <td>-99</td>\n",
       "      <td>...</td>\n",
       "      <td>-82.60566</td>\n",
       "      <td>1.213493</td>\n",
       "      <td>0.033218</td>\n",
       "      <td>-0.033533</td>\n",
       "      <td>0.0</td>\n",
       "      <td>0.0</td>\n",
       "      <td>-0.0</td>\n",
       "      <td>0.0</td>\n",
       "      <td>0.0</td>\n",
       "      <td>-0.0</td>\n",
       "    </tr>\n",
       "    <tr>\n",
       "      <th>2</th>\n",
       "      <td>KIC5822889</td>\n",
       "      <td>5184.0103</td>\n",
       "      <td>94.43386</td>\n",
       "      <td>3.401706</td>\n",
       "      <td>0.012167</td>\n",
       "      <td>-0.026246</td>\n",
       "      <td>0.039186</td>\n",
       "      <td>-99</td>\n",
       "      <td>0</td>\n",
       "      <td>-99</td>\n",
       "      <td>...</td>\n",
       "      <td>-94.43386</td>\n",
       "      <td>0.192337</td>\n",
       "      <td>0.057803</td>\n",
       "      <td>-0.058261</td>\n",
       "      <td>0.0</td>\n",
       "      <td>0.0</td>\n",
       "      <td>-0.0</td>\n",
       "      <td>0.0</td>\n",
       "      <td>0.0</td>\n",
       "      <td>-0.0</td>\n",
       "    </tr>\n",
       "    <tr>\n",
       "      <th>3</th>\n",
       "      <td>KIC12069569</td>\n",
       "      <td>6062.4185</td>\n",
       "      <td>168.10576</td>\n",
       "      <td>3.825712</td>\n",
       "      <td>0.060999</td>\n",
       "      <td>-0.084244</td>\n",
       "      <td>0.066659</td>\n",
       "      <td>-99</td>\n",
       "      <td>0</td>\n",
       "      <td>-99</td>\n",
       "      <td>...</td>\n",
       "      <td>-168.10576</td>\n",
       "      <td>1.316289</td>\n",
       "      <td>0.043069</td>\n",
       "      <td>-0.043379</td>\n",
       "      <td>0.0</td>\n",
       "      <td>0.0</td>\n",
       "      <td>-0.0</td>\n",
       "      <td>0.0</td>\n",
       "      <td>0.0</td>\n",
       "      <td>-0.0</td>\n",
       "    </tr>\n",
       "    <tr>\n",
       "      <th>4</th>\n",
       "      <td>KIC6947945</td>\n",
       "      <td>5334.4380</td>\n",
       "      <td>103.46670</td>\n",
       "      <td>3.794063</td>\n",
       "      <td>0.011004</td>\n",
       "      <td>-0.041512</td>\n",
       "      <td>0.043107</td>\n",
       "      <td>-99</td>\n",
       "      <td>0</td>\n",
       "      <td>-99</td>\n",
       "      <td>...</td>\n",
       "      <td>-103.46670</td>\n",
       "      <td>1.598508</td>\n",
       "      <td>0.042779</td>\n",
       "      <td>-0.043015</td>\n",
       "      <td>0.0</td>\n",
       "      <td>0.0</td>\n",
       "      <td>-0.0</td>\n",
       "      <td>0.0</td>\n",
       "      <td>0.0</td>\n",
       "      <td>-0.0</td>\n",
       "    </tr>\n",
       "  </tbody>\n",
       "</table>\n",
       "<p>5 rows × 72 columns</p>\n",
       "</div>"
      ],
      "text/plain": [
       "   id_starname       teff   teff_err      logg  logg_err       feh   feh_err  \\\n",
       "0   KIC5950854  5914.0347  134.60000  4.237158  0.009836 -0.173085  0.073964   \n",
       "1   KIC7799349  4976.7870   82.60566  3.670984  0.007718  0.284619  0.029484   \n",
       "2   KIC5822889  5184.0103   94.43386  3.401706  0.012167 -0.026246  0.039186   \n",
       "3  KIC12069569  6062.4185  168.10576  3.825712  0.060999 -0.084244  0.066659   \n",
       "4   KIC6947945  5334.4380  103.46670  3.794063  0.011004 -0.041512  0.043107   \n",
       "\n",
       "   lum  lum_err  gmag  ...  dir_teff_err2  dir_mabs  dir_mabs_err1  \\\n",
       "0  -99        0   -99  ...     -134.60000  2.726344       0.036510   \n",
       "1  -99        0   -99  ...      -82.60566  1.213493       0.033218   \n",
       "2  -99        0   -99  ...      -94.43386  0.192337       0.057803   \n",
       "3  -99        0   -99  ...     -168.10576  1.316289       0.043069   \n",
       "4  -99        0   -99  ...     -103.46670  1.598508       0.042779   \n",
       "\n",
       "   dir_mabs_err2  dir_mass  dir_mass_err1  dir_mass_err2  dir_rho  \\\n",
       "0      -0.036819       0.0            0.0           -0.0      0.0   \n",
       "1      -0.033533       0.0            0.0           -0.0      0.0   \n",
       "2      -0.058261       0.0            0.0           -0.0      0.0   \n",
       "3      -0.043379       0.0            0.0           -0.0      0.0   \n",
       "4      -0.043015       0.0            0.0           -0.0      0.0   \n",
       "\n",
       "   dir_rho_err1  dir_rho_err2  \n",
       "0           0.0          -0.0  \n",
       "1           0.0          -0.0  \n",
       "2           0.0          -0.0  \n",
       "3           0.0          -0.0  \n",
       "4           0.0          -0.0  \n",
       "\n",
       "[5 rows x 72 columns]"
      ]
     },
     "execution_count": 3,
     "metadata": {},
     "output_type": "execute_result"
    }
   ],
   "source": [
    "df = pd.read_csv('../data/isoclassify/isoclassify_outputs_DR14_ASPC.csv')\n",
    "df.head()"
   ]
  },
  {
   "cell_type": "code",
   "execution_count": 4,
   "metadata": {},
   "outputs": [
    {
     "data": {
      "text/plain": [
       "<matplotlib.axes._subplots.AxesSubplot at 0x7f430fb82048>"
      ]
     },
     "execution_count": 4,
     "metadata": {},
     "output_type": "execute_result"
    },
    {
     "data": {
      "image/png": "[encoded data removed]",
      "text/plain": [
       "<Figure size 432x288 with 1 Axes>"
      ]
     },
     "metadata": {
      "needs_background": "light"
     },
     "output_type": "display_data"
    }
   ],
   "source": [
    "df.plot(kind='scatter', x='teff', y='teff_err', xlim=[4000, 7000])"
   ]
  },
  {
   "cell_type": "code",
   "execution_count": 5,
   "metadata": {},
   "outputs": [
    {
     "name": "stdout",
     "output_type": "stream",
     "text": [
      "median = 0.02197\n",
      "std = 0.00309\n"
     ]
    },
    {
     "data": {
      "image/png": "[encoded data removed]",
      "text/plain": [
       "<Figure size 432x288 with 1 Axes>"
      ]
     },
     "metadata": {
      "needs_background": "light"
     },
     "output_type": "display_data"
    }
   ],
   "source": [
    "df['teff_rel_err'] = (df['teff_err'] / df['teff'])\n",
    "df['teff_rel_err'].plot(kind='hist', range=(0.0, 0.1))\n",
    "cond = df['teff_rel_err'] < 1.0\n",
    "print(f\"median = {df['teff_rel_err'][cond].median():.5f}\")\n",
    "print(f\"std = {df['teff_rel_err'][cond].std():.5f}\")"
   ]
  },
  {
   "cell_type": "code",
   "execution_count": 6,
   "metadata": {},
   "outputs": [
    {
     "data": {
      "text/plain": [
       "(0.13532895754831747, 0.0, 0.021573821798650347)"
      ]
     },
     "execution_count": 6,
     "metadata": {},
     "output_type": "execute_result"
    }
   ],
   "source": [
    "teff_mle = stats.lognorm.fit(df['teff_rel_err'][df['teff']>0], floc=0.0)\n",
    "teff_mle"
   ]
  },
  {
   "cell_type": "code",
   "execution_count": 7,
   "metadata": {},
   "outputs": [
    {
     "data": {
      "image/png": "[encoded data removed]",
      "text/plain": [
       "<Figure size 432x288 with 1 Axes>"
      ]
     },
     "metadata": {
      "needs_background": "light"
     },
     "output_type": "display_data"
    }
   ],
   "source": [
    "x = np.linspace(0.0, 0.04, 100)\n",
    "pdf = stats.lognorm.pdf(x, *teff_mle)\n",
    "ax = df['teff_rel_err'].plot(kind='hist', range=(0.0, 0.1), density=True)\n",
    "ax.plot(x, pdf, 'r');"
   ]
  },
  {
   "cell_type": "code",
   "execution_count": 8,
   "metadata": {
    "scrolled": true
   },
   "outputs": [
    {
     "data": {
      "text/plain": [
       "<matplotlib.axes._subplots.AxesSubplot at 0x7f430f393d30>"
      ]
     },
     "execution_count": 8,
     "metadata": {},
     "output_type": "execute_result"
    },
    {
     "data": {
      "image/png": "[encoded data removed]",
      "text/plain": [
       "<Figure size 432x288 with 1 Axes>"
      ]
     },
     "metadata": {
      "needs_background": "light"
     },
     "output_type": "display_data"
    }
   ],
   "source": [
    "df.plot(kind='scatter', x='dir_lum', y='dir_lum_err1', xlim=[0, 10], ylim=[0, 1])"
   ]
  },
  {
   "cell_type": "code",
   "execution_count": 9,
   "metadata": {
    "scrolled": true
   },
   "outputs": [
    {
     "name": "stdout",
     "output_type": "stream",
     "text": [
      "median = 0.03546\n",
      "std = 0.05367\n"
     ]
    },
    {
     "data": {
      "image/png": "[encoded data removed]",
      "text/plain": [
       "<Figure size 432x288 with 1 Axes>"
      ]
     },
     "metadata": {
      "needs_background": "light"
     },
     "output_type": "display_data"
    }
   ],
   "source": [
    "df['dir_lum_rel_err'] = (df['dir_lum_err1'] / df['dir_lum'])\n",
    "df['dir_lum_rel_err'].plot(kind='hist', range=(0.0, 0.1))\n",
    "lum_cond = df['dir_lum_rel_err'] < 1.0\n",
    "print(f\"median = {df['dir_lum_rel_err'][lum_cond].median():.5f}\")\n",
    "print(f\"std = {df['dir_lum_rel_err'][lum_cond].std():.5f}\")"
   ]
  },
  {
   "cell_type": "code",
   "execution_count": 10,
   "metadata": {},
   "outputs": [
    {
     "data": {
      "text/plain": [
       "(0.8347336476536897, 0.02911026149117268, 0.006457817056870006)"
      ]
     },
     "execution_count": 10,
     "metadata": {},
     "output_type": "execute_result"
    }
   ],
   "source": [
    "lum_mle = stats.lognorm.fit(df['dir_lum_rel_err'][lum_cond])  #, floc=0.0)\n",
    "lum_mle"
   ]
  },
  {
   "cell_type": "code",
   "execution_count": 11,
   "metadata": {},
   "outputs": [
    {
     "data": {
      "image/png": "[encoded data removed]",
      "text/plain": [
       "<Figure size 432x288 with 1 Axes>"
      ]
     },
     "metadata": {
      "needs_background": "light"
     },
     "output_type": "display_data"
    }
   ],
   "source": [
    "x = np.linspace(0.0, 0.1, 100)\n",
    "pdf = stats.lognorm.pdf(x, *lum_mle)\n",
    "ax = df['dir_lum_rel_err'].plot(kind='hist', range=(0.0, 0.1), density=True)\n",
    "ax.plot(x, pdf, 'r');"
   ]
  },
  {
   "cell_type": "code",
   "execution_count": 12,
   "metadata": {},
   "outputs": [
    {
     "data": {
      "text/plain": [
       "<matplotlib.axes._subplots.AxesSubplot at 0x7f430f22b160>"
      ]
     },
     "execution_count": 12,
     "metadata": {},
     "output_type": "execute_result"
    },
    {
     "data": {
      "image/png": "[encoded data removed]",
      "text/plain": [
       "<Figure size 432x288 with 1 Axes>"
      ]
     },
     "metadata": {
      "needs_background": "light"
     },
     "output_type": "display_data"
    }
   ],
   "source": [
    "df.plot(kind='scatter', x='feh', y='feh_err', xlim=[-0.5, 0.5])  #, ylim=[0, 0.2])"
   ]
  },
  {
   "cell_type": "code",
   "execution_count": 13,
   "metadata": {},
   "outputs": [
    {
     "name": "stdout",
     "output_type": "stream",
     "text": [
      "median = 0.07260\n",
      "std = 0.01770\n"
     ]
    },
    {
     "data": {
      "image/png": "[encoded data removed]",
      "text/plain": [
       "<Figure size 432x288 with 1 Axes>"
      ]
     },
     "metadata": {
      "needs_background": "light"
     },
     "output_type": "display_data"
    }
   ],
   "source": [
    "df['feh_err'].plot(kind='hist', range=(0.0, 0.1))\n",
    "print(f\"median = {df['feh_err'].median():.5f}\")\n",
    "print(f\"std = {df['feh_err'].std():.5f}\")"
   ]
  },
  {
   "cell_type": "code",
   "execution_count": 14,
   "metadata": {},
   "outputs": [
    {
     "data": {
      "text/plain": [
       "(0.3235915167355602, 0.0, 0.06360030421579696)"
      ]
     },
     "execution_count": 14,
     "metadata": {},
     "output_type": "execute_result"
    }
   ],
   "source": [
    "mhs_mle = stats.lognorm.fit(df['feh_err'], floc=0.0)\n",
    "mhs_mle"
   ]
  },
  {
   "cell_type": "code",
   "execution_count": 15,
   "metadata": {},
   "outputs": [
    {
     "data": {
      "image/png": "[encoded data removed]",
      "text/plain": [
       "<Figure size 432x288 with 1 Axes>"
      ]
     },
     "metadata": {
      "needs_background": "light"
     },
     "output_type": "display_data"
    }
   ],
   "source": [
    "x = np.linspace(0.0, 0.15, 100)\n",
    "pdf = stats.lognorm.pdf(x, *mhs_mle)\n",
    "ax = df['feh_err'].plot(kind='hist', range=(0.0, 0.15), density=True)\n",
    "ax.plot(x, pdf, 'r');"
   ]
  },
  {
   "cell_type": "code",
   "execution_count": 16,
   "metadata": {
    "scrolled": true
   },
   "outputs": [
    {
     "data": {
      "text/plain": [
       "<matplotlib.axes._subplots.AxesSubplot at 0x7f430f128390>"
      ]
     },
     "execution_count": 16,
     "metadata": {},
     "output_type": "execute_result"
    },
    {
     "data": {
      "image/png": "[encoded data removed]",
      "text/plain": [
       "<Figure size 432x288 with 1 Axes>"
      ]
     },
     "metadata": {
      "needs_background": "light"
     },
     "output_type": "display_data"
    }
   ],
   "source": [
    "df.plot(kind='scatter', x='logg', y='logg_err')"
   ]
  },
  {
   "cell_type": "code",
   "execution_count": 17,
   "metadata": {
    "scrolled": true
   },
   "outputs": [
    {
     "name": "stdout",
     "output_type": "stream",
     "text": [
      "median = 0.00488\n",
      "std = 0.00514\n"
     ]
    },
    {
     "data": {
      "image/png": "[encoded data removed]",
      "text/plain": [
       "<Figure size 432x288 with 1 Axes>"
      ]
     },
     "metadata": {
      "needs_background": "light"
     },
     "output_type": "display_data"
    }
   ],
   "source": [
    "df['logg_rel_err'] = (df['logg_err'] / df['logg'])\n",
    "df['logg_rel_err'].plot(kind='hist', range=(0.0, 0.1))\n",
    "# lum_cond = df['logg_rel_err'] < 1.0\n",
    "print(f\"median = {df['logg_rel_err'].median():.5f}\")\n",
    "print(f\"std = {df['logg_rel_err'].std():.5f}\")"
   ]
  },
  {
   "cell_type": "code",
   "execution_count": 18,
   "metadata": {},
   "outputs": [
    {
     "data": {
      "text/plain": [
       "(0.6729351841802348, 0.0, 0.005311703937007749)"
      ]
     },
     "execution_count": 18,
     "metadata": {},
     "output_type": "execute_result"
    }
   ],
   "source": [
    "logg_mle = stats.lognorm.fit(df['logg_rel_err'], floc=0.0)\n",
    "logg_mle"
   ]
  },
  {
   "cell_type": "code",
   "execution_count": 19,
   "metadata": {},
   "outputs": [
    {
     "data": {
      "image/png": "[encoded data removed]",
      "text/plain": [
       "<Figure size 432x288 with 1 Axes>"
      ]
     },
     "metadata": {
      "needs_background": "light"
     },
     "output_type": "display_data"
    }
   ],
   "source": [
    "x = np.linspace(0.0, 0.05, 100)\n",
    "pdf = stats.lognorm.pdf(x, *logg_mle)\n",
    "ax = df['logg_rel_err'].plot(kind='hist', range=(0.0, 0.05), density=True)\n",
    "ax.plot(x, pdf, 'r');"
   ]
  },
  {
   "cell_type": "code",
   "execution_count": 20,
   "metadata": {},
   "outputs": [
    {
     "data": {
      "text/html": [
       "<div>\n",
       "<style scoped>\n",
       "    .dataframe tbody tr th:only-of-type {\n",
       "        vertical-align: middle;\n",
       "    }\n",
       "\n",
       "    .dataframe tbody tr th {\n",
       "        vertical-align: top;\n",
       "    }\n",
       "\n",
       "    .dataframe thead th {\n",
       "        text-align: right;\n",
       "    }\n",
       "</style>\n",
       "<table border=\"1\" class=\"dataframe\">\n",
       "  <thead>\n",
       "    <tr style=\"text-align: right;\">\n",
       "      <th></th>\n",
       "      <th>KIC</th>\n",
       "      <th>numax</th>\n",
       "      <th>enumax</th>\n",
       "      <th>Dnu</th>\n",
       "      <th>eDnu</th>\n",
       "      <th>Length</th>\n",
       "      <th>HBR</th>\n",
       "    </tr>\n",
       "  </thead>\n",
       "  <tbody>\n",
       "    <tr>\n",
       "      <th>0</th>\n",
       "      <td>1435467</td>\n",
       "      <td>1382.311</td>\n",
       "      <td>19.038</td>\n",
       "      <td>70.558</td>\n",
       "      <td>0.087</td>\n",
       "      <td>938.1</td>\n",
       "      <td>1.662</td>\n",
       "    </tr>\n",
       "    <tr>\n",
       "      <th>1</th>\n",
       "      <td>2010607</td>\n",
       "      <td>674.919</td>\n",
       "      <td>146.523</td>\n",
       "      <td>42.479</td>\n",
       "      <td>2.185</td>\n",
       "      <td>28.9</td>\n",
       "      <td>1.547</td>\n",
       "    </tr>\n",
       "    <tr>\n",
       "      <th>2</th>\n",
       "      <td>2309595</td>\n",
       "      <td>643.208</td>\n",
       "      <td>11.226</td>\n",
       "      <td>39.029</td>\n",
       "      <td>0.721</td>\n",
       "      <td>28.9</td>\n",
       "      <td>1.767</td>\n",
       "    </tr>\n",
       "    <tr>\n",
       "      <th>3</th>\n",
       "      <td>2450729</td>\n",
       "      <td>1053.105</td>\n",
       "      <td>114.904</td>\n",
       "      <td>61.910</td>\n",
       "      <td>2.539</td>\n",
       "      <td>28.9</td>\n",
       "      <td>1.470</td>\n",
       "    </tr>\n",
       "    <tr>\n",
       "      <th>4</th>\n",
       "      <td>2837475</td>\n",
       "      <td>1629.761</td>\n",
       "      <td>18.396</td>\n",
       "      <td>75.720</td>\n",
       "      <td>0.129</td>\n",
       "      <td>1029.4</td>\n",
       "      <td>1.767</td>\n",
       "    </tr>\n",
       "  </tbody>\n",
       "</table>\n",
       "</div>"
      ],
      "text/plain": [
       "       KIC     numax   enumax     Dnu   eDnu  Length    HBR\n",
       "0  1435467  1382.311   19.038  70.558  0.087   938.1  1.662\n",
       "1  2010607   674.919  146.523  42.479  2.185    28.9  1.547\n",
       "2  2309595   643.208   11.226  39.029  0.721    28.9  1.767\n",
       "3  2450729  1053.105  114.904  61.910  2.539    28.9  1.470\n",
       "4  2837475  1629.761   18.396  75.720  0.129  1029.4  1.767"
      ]
     },
     "execution_count": 20,
     "metadata": {},
     "output_type": "execute_result"
    }
   ],
   "source": [
    "seis = pd.read_csv('../data/serenelli2017/s17_seis.csv')\n",
    "seis.head()"
   ]
  },
  {
   "cell_type": "code",
   "execution_count": 21,
   "metadata": {},
   "outputs": [
    {
     "data": {
      "text/plain": [
       "<matplotlib.axes._subplots.AxesSubplot at 0x7f430f43fcf8>"
      ]
     },
     "execution_count": 21,
     "metadata": {},
     "output_type": "execute_result"
    },
    {
     "data": {
      "image/png": "[encoded data removed]",
      "text/plain": [
       "<Figure size 432x288 with 1 Axes>"
      ]
     },
     "metadata": {
      "needs_background": "light"
     },
     "output_type": "display_data"
    }
   ],
   "source": [
    "seis.plot(kind='scatter', x='Dnu', y='eDnu')\n",
    "# , xlim=[-0.5, 0.5], ylim=[0, 0.2])"
   ]
  },
  {
   "cell_type": "code",
   "execution_count": 22,
   "metadata": {},
   "outputs": [
    {
     "name": "stdout",
     "output_type": "stream",
     "text": [
      "median = 0.01700\n",
      "std = 0.02247\n"
     ]
    },
    {
     "data": {
      "image/png": "[encoded data removed]",
      "text/plain": [
       "<Figure size 432x288 with 1 Axes>"
      ]
     },
     "metadata": {
      "needs_background": "light"
     },
     "output_type": "display_data"
    }
   ],
   "source": [
    "seis['eDnu_rel'] = (seis['eDnu'] / seis['Dnu'])\n",
    "seis['eDnu_rel'].plot(kind='hist', range=(0.0, 0.1))\n",
    "print(f\"median = {seis['eDnu_rel'].median():.5f}\")\n",
    "print(f\"std = {seis['eDnu_rel'].std():.5f}\")"
   ]
  },
  {
   "cell_type": "code",
   "execution_count": 23,
   "metadata": {},
   "outputs": [
    {
     "data": {
      "text/plain": [
       "(1.194160497523479, 0.0, 0.014032593617570458)"
      ]
     },
     "execution_count": 23,
     "metadata": {},
     "output_type": "execute_result"
    }
   ],
   "source": [
    "dnu_mle = stats.lognorm.fit(seis['eDnu_rel'], floc=0.0)\n",
    "dnu_mle"
   ]
  },
  {
   "cell_type": "code",
   "execution_count": 24,
   "metadata": {
    "scrolled": true
   },
   "outputs": [
    {
     "data": {
      "image/png": "[encoded data removed]",
      "text/plain": [
       "<Figure size 432x288 with 1 Axes>"
      ]
     },
     "metadata": {
      "needs_background": "light"
     },
     "output_type": "display_data"
    }
   ],
   "source": [
    "x = np.linspace(0.0, 0.1, 100)\n",
    "pdf = stats.lognorm.pdf(x, *dnu_mle)\n",
    "ax = seis['eDnu_rel'].plot(kind='hist', range=(0.0, 0.1), density=True)\n",
    "ax.plot(x, pdf, 'r');"
   ]
  },
  {
   "cell_type": "markdown",
   "metadata": {},
   "source": [
    "Generate our error distributions."
   ]
  },
  {
   "cell_type": "code",
   "execution_count": 33,
   "metadata": {},
   "outputs": [],
   "source": [
    "np.random.seed(seed)\n",
    "n = len(truths)\n",
    "teff_err = truths['effective_T'] * df.teff_rel_err.median()\n",
    "lum_err = truths['luminosity'] * df.dir_lum_rel_err.median()\n",
    "mhs_err = np.ones(n) * df.feh_err.median()\n",
    "logg_err = np.ones(n) * df.logg_err.median()\n",
    "dnu_err = np.ones(n) * seis.eDnu.median()\n",
    "# teff_err = df['teff_rel_err'].median() * np.random.lognormal(0.0, \n",
    "#                                                              df['teff_rel_err'].std()*df['teff_rel_err'].median(), n)\n",
    "# lum_err = 0.04 * truths['luminosity'] * np.random.lognormal(0.0, 0.1, n)\n",
    "# mhs_err = 0.08 * np.random.lognormal(0.0, 0.2, n)\n",
    "# dnu_err = 0.008 * truths['delta_nu_fit'] * np.random.lognormal(0.0, 0.8, n)"
   ]
  },
  {
   "cell_type": "code",
   "execution_count": 36,
   "metadata": {},
   "outputs": [
    {
     "data": {
      "text/plain": [
       "0     114.277805\n",
       "1     113.587711\n",
       "2     107.523969\n",
       "3     119.257352\n",
       "4     116.408089\n",
       "         ...    \n",
       "95    110.691165\n",
       "96    128.079623\n",
       "97    123.753063\n",
       "98    119.572083\n",
       "99    120.707617\n",
       "Name: effective_T, Length: 100, dtype: float64"
      ]
     },
     "execution_count": 36,
     "metadata": {},
     "output_type": "execute_result"
    }
   ],
   "source": [
    "teff_err"
   ]
  },
  {
   "cell_type": "code",
   "execution_count": 34,
   "metadata": {},
   "outputs": [],
   "source": [
    "# np.random.seed(seed)\n",
    "# n = len(truths)\n",
    "# teff_err = truths['effective_T'] * stats.lognorm.rvs(*teff_mle, size=n)\n",
    "# lum_err = truths['luminosity'] * stats.lognorm.rvs(*lum_mle, size=n)\n",
    "# mhs_err = stats.lognorm.rvs(*mhs_mle, size=n)\n",
    "# logg_err = truths['log_g'] * stats.lognorm.rvs(*logg_mle, size=n)\n",
    "# dnu_err = truths['delta_nu_fit'] * stats.lognorm.rvs(*dnu_mle, size=n)"
   ]
  },
  {
   "cell_type": "code",
   "execution_count": 37,
   "metadata": {},
   "outputs": [
    {
     "data": {
      "text/plain": [
       "<matplotlib.axes._subplots.AxesSubplot at 0x7f430c69da58>"
      ]
     },
     "execution_count": 37,
     "metadata": {},
     "output_type": "execute_result"
    },
    {
     "data": {
      "image/png": "[encoded data removed]",
      "text/plain": [
       "<Figure size 432x288 with 1 Axes>"
      ]
     },
     "metadata": {
      "needs_background": "light"
     },
     "output_type": "display_data"
    }
   ],
   "source": [
    "teff_err.plot(kind='hist')"
   ]
  },
  {
   "cell_type": "code",
   "execution_count": 38,
   "metadata": {},
   "outputs": [
    {
     "data": {
      "text/plain": [
       "<matplotlib.axes._subplots.AxesSubplot at 0x7f430be0b278>"
      ]
     },
     "execution_count": 38,
     "metadata": {},
     "output_type": "execute_result"
    },
    {
     "data": {
      "image/png": "[encoded data removed]",
      "text/plain": [
       "<Figure size 432x288 with 1 Axes>"
      ]
     },
     "metadata": {
      "needs_background": "light"
     },
     "output_type": "display_data"
    }
   ],
   "source": [
    "lum_err.plot(kind='hist')"
   ]
  },
  {
   "cell_type": "code",
   "execution_count": 44,
   "metadata": {},
   "outputs": [
    {
     "data": {
      "text/plain": [
       "(array([  0.,   0.,   0.,   0.,   0., 100.,   0.,   0.,   0.,   0.]),\n",
       " array([-0.42739576, -0.32739576, -0.22739576, -0.12739576, -0.02739576,\n",
       "         0.07260424,  0.17260424,  0.27260424,  0.37260424,  0.47260424,\n",
       "         0.57260424]),\n",
       " <a list of 10 Patch objects>)"
      ]
     },
     "execution_count": 44,
     "metadata": {},
     "output_type": "execute_result"
    },
    {
     "data": {
      "image/png": "[encoded data removed]",
      "text/plain": [
       "<Figure size 432x288 with 1 Axes>"
      ]
     },
     "metadata": {
      "needs_background": "light"
     },
     "output_type": "display_data"
    }
   ],
   "source": [
    "plt.hist(mhs_err)"
   ]
  },
  {
   "cell_type": "code",
   "execution_count": 45,
   "metadata": {},
   "outputs": [
    {
     "data": {
      "text/plain": [
       "<matplotlib.axes._subplots.AxesSubplot at 0x7f430cddeac8>"
      ]
     },
     "execution_count": 45,
     "metadata": {},
     "output_type": "execute_result"
    },
    {
     "data": {
      "image/png": "[encoded data removed]",
      "text/plain": [
       "<Figure size 432x288 with 1 Axes>"
      ]
     },
     "metadata": {
      "needs_background": "light"
     },
     "output_type": "display_data"
    }
   ],
   "source": [
    "(dnu_err / truths['delta_nu_fit']).plot(kind='hist')"
   ]
  },
  {
   "cell_type": "code",
   "execution_count": 46,
   "metadata": {},
   "outputs": [
    {
     "data": {
      "text/html": [
       "<div>\n",
       "<style scoped>\n",
       "    .dataframe tbody tr th:only-of-type {\n",
       "        vertical-align: middle;\n",
       "    }\n",
       "\n",
       "    .dataframe tbody tr th {\n",
       "        vertical-align: top;\n",
       "    }\n",
       "\n",
       "    .dataframe thead th {\n",
       "        text-align: right;\n",
       "    }\n",
       "</style>\n",
       "<table border=\"1\" class=\"dataframe\">\n",
       "  <thead>\n",
       "    <tr style=\"text-align: right;\">\n",
       "      <th></th>\n",
       "      <th>teff_err</th>\n",
       "      <th>lum_err</th>\n",
       "      <th>mhs_err</th>\n",
       "      <th>logg_err</th>\n",
       "      <th>dnu_err</th>\n",
       "    </tr>\n",
       "  </thead>\n",
       "  <tbody>\n",
       "    <tr>\n",
       "      <th>0</th>\n",
       "      <td>114.277805</td>\n",
       "      <td>0.015823</td>\n",
       "      <td>0.072604</td>\n",
       "      <td>0.019638</td>\n",
       "      <td>0.933</td>\n",
       "    </tr>\n",
       "    <tr>\n",
       "      <th>1</th>\n",
       "      <td>113.587711</td>\n",
       "      <td>0.016370</td>\n",
       "      <td>0.072604</td>\n",
       "      <td>0.019638</td>\n",
       "      <td>0.933</td>\n",
       "    </tr>\n",
       "    <tr>\n",
       "      <th>2</th>\n",
       "      <td>107.523969</td>\n",
       "      <td>0.011491</td>\n",
       "      <td>0.072604</td>\n",
       "      <td>0.019638</td>\n",
       "      <td>0.933</td>\n",
       "    </tr>\n",
       "    <tr>\n",
       "      <th>3</th>\n",
       "      <td>119.257352</td>\n",
       "      <td>0.019744</td>\n",
       "      <td>0.072604</td>\n",
       "      <td>0.019638</td>\n",
       "      <td>0.933</td>\n",
       "    </tr>\n",
       "    <tr>\n",
       "      <th>4</th>\n",
       "      <td>116.408089</td>\n",
       "      <td>0.019259</td>\n",
       "      <td>0.072604</td>\n",
       "      <td>0.019638</td>\n",
       "      <td>0.933</td>\n",
       "    </tr>\n",
       "  </tbody>\n",
       "</table>\n",
       "</div>"
      ],
      "text/plain": [
       "     teff_err   lum_err   mhs_err  logg_err  dnu_err\n",
       "0  114.277805  0.015823  0.072604  0.019638    0.933\n",
       "1  113.587711  0.016370  0.072604  0.019638    0.933\n",
       "2  107.523969  0.011491  0.072604  0.019638    0.933\n",
       "3  119.257352  0.019744  0.072604  0.019638    0.933\n",
       "4  116.408089  0.019259  0.072604  0.019638    0.933"
      ]
     },
     "execution_count": 46,
     "metadata": {},
     "output_type": "execute_result"
    }
   ],
   "source": [
    "obs_cols = {'effective_T': 'teff', 'luminosity': 'lum', 'star_feh': 'mhs', 'log_g': 'logg', \n",
    "            'delta_nu_fit': 'dnu'}\n",
    "obs_err = pd.DataFrame(np.array([teff_err, lum_err, mhs_err, logg_err, dnu_err]).T,\n",
    "                      columns=[f'{col}_err' for col in obs_cols.values()])\n",
    "obs_err.head()"
   ]
  },
  {
   "cell_type": "code",
   "execution_count": 47,
   "metadata": {},
   "outputs": [
    {
     "data": {
      "text/html": [
       "<div>\n",
       "<style scoped>\n",
       "    .dataframe tbody tr th:only-of-type {\n",
       "        vertical-align: middle;\n",
       "    }\n",
       "\n",
       "    .dataframe tbody tr th {\n",
       "        vertical-align: top;\n",
       "    }\n",
       "\n",
       "    .dataframe thead th {\n",
       "        text-align: right;\n",
       "    }\n",
       "</style>\n",
       "<table border=\"1\" class=\"dataframe\">\n",
       "  <thead>\n",
       "    <tr style=\"text-align: right;\">\n",
       "      <th></th>\n",
       "      <th>teff</th>\n",
       "      <th>lum</th>\n",
       "      <th>mhs</th>\n",
       "      <th>logg</th>\n",
       "      <th>dnu</th>\n",
       "    </tr>\n",
       "  </thead>\n",
       "  <tbody>\n",
       "    <tr>\n",
       "      <th>0</th>\n",
       "      <td>5509.868287</td>\n",
       "      <td>0.455461</td>\n",
       "      <td>0.048007</td>\n",
       "      <td>4.548031</td>\n",
       "      <td>168.551764</td>\n",
       "    </tr>\n",
       "    <tr>\n",
       "      <th>1</th>\n",
       "      <td>5132.860162</td>\n",
       "      <td>0.447037</td>\n",
       "      <td>0.120842</td>\n",
       "      <td>4.475545</td>\n",
       "      <td>162.050913</td>\n",
       "    </tr>\n",
       "    <tr>\n",
       "      <th>2</th>\n",
       "      <td>4950.043140</td>\n",
       "      <td>0.316783</td>\n",
       "      <td>0.354314</td>\n",
       "      <td>4.560913</td>\n",
       "      <td>177.591451</td>\n",
       "    </tr>\n",
       "    <tr>\n",
       "      <th>3</th>\n",
       "      <td>5541.041366</td>\n",
       "      <td>0.559689</td>\n",
       "      <td>0.060892</td>\n",
       "      <td>4.572558</td>\n",
       "      <td>163.088949</td>\n",
       "    </tr>\n",
       "    <tr>\n",
       "      <th>4</th>\n",
       "      <td>5332.712767</td>\n",
       "      <td>0.574903</td>\n",
       "      <td>-0.022662</td>\n",
       "      <td>4.467451</td>\n",
       "      <td>154.153583</td>\n",
       "    </tr>\n",
       "  </tbody>\n",
       "</table>\n",
       "</div>"
      ],
      "text/plain": [
       "          teff       lum       mhs      logg         dnu\n",
       "0  5509.868287  0.455461  0.048007  4.548031  168.551764\n",
       "1  5132.860162  0.447037  0.120842  4.475545  162.050913\n",
       "2  4950.043140  0.316783  0.354314  4.560913  177.591451\n",
       "3  5541.041366  0.559689  0.060892  4.572558  163.088949\n",
       "4  5332.712767  0.574903 -0.022662  4.467451  154.153583"
      ]
     },
     "execution_count": 47,
     "metadata": {},
     "output_type": "execute_result"
    }
   ],
   "source": [
    "obs = truths[obs_cols.keys()].rename(columns=obs_cols) + obs_err.to_numpy() * np.random.normal(size=(n, len(obs_cols)))\n",
    "obs.head()"
   ]
  },
  {
   "cell_type": "code",
   "execution_count": 48,
   "metadata": {},
   "outputs": [
    {
     "data": {
      "text/html": [
       "<div>\n",
       "<style scoped>\n",
       "    .dataframe tbody tr th:only-of-type {\n",
       "        vertical-align: middle;\n",
       "    }\n",
       "\n",
       "    .dataframe tbody tr th {\n",
       "        vertical-align: top;\n",
       "    }\n",
       "\n",
       "    .dataframe thead th {\n",
       "        text-align: right;\n",
       "    }\n",
       "</style>\n",
       "<table border=\"1\" class=\"dataframe\">\n",
       "  <thead>\n",
       "    <tr style=\"text-align: right;\">\n",
       "      <th></th>\n",
       "      <th>teff</th>\n",
       "      <th>lum</th>\n",
       "      <th>mhs</th>\n",
       "      <th>logg</th>\n",
       "      <th>dnu</th>\n",
       "      <th>teff_err</th>\n",
       "      <th>lum_err</th>\n",
       "      <th>mhs_err</th>\n",
       "      <th>logg_err</th>\n",
       "      <th>dnu_err</th>\n",
       "    </tr>\n",
       "  </thead>\n",
       "  <tbody>\n",
       "    <tr>\n",
       "      <th>0</th>\n",
       "      <td>5509.868287</td>\n",
       "      <td>0.455461</td>\n",
       "      <td>0.048007</td>\n",
       "      <td>4.548031</td>\n",
       "      <td>168.551764</td>\n",
       "      <td>114.277805</td>\n",
       "      <td>0.015823</td>\n",
       "      <td>0.072604</td>\n",
       "      <td>0.019638</td>\n",
       "      <td>0.933</td>\n",
       "    </tr>\n",
       "    <tr>\n",
       "      <th>1</th>\n",
       "      <td>5132.860162</td>\n",
       "      <td>0.447037</td>\n",
       "      <td>0.120842</td>\n",
       "      <td>4.475545</td>\n",
       "      <td>162.050913</td>\n",
       "      <td>113.587711</td>\n",
       "      <td>0.016370</td>\n",
       "      <td>0.072604</td>\n",
       "      <td>0.019638</td>\n",
       "      <td>0.933</td>\n",
       "    </tr>\n",
       "    <tr>\n",
       "      <th>2</th>\n",
       "      <td>4950.043140</td>\n",
       "      <td>0.316783</td>\n",
       "      <td>0.354314</td>\n",
       "      <td>4.560913</td>\n",
       "      <td>177.591451</td>\n",
       "      <td>107.523969</td>\n",
       "      <td>0.011491</td>\n",
       "      <td>0.072604</td>\n",
       "      <td>0.019638</td>\n",
       "      <td>0.933</td>\n",
       "    </tr>\n",
       "    <tr>\n",
       "      <th>3</th>\n",
       "      <td>5541.041366</td>\n",
       "      <td>0.559689</td>\n",
       "      <td>0.060892</td>\n",
       "      <td>4.572558</td>\n",
       "      <td>163.088949</td>\n",
       "      <td>119.257352</td>\n",
       "      <td>0.019744</td>\n",
       "      <td>0.072604</td>\n",
       "      <td>0.019638</td>\n",
       "      <td>0.933</td>\n",
       "    </tr>\n",
       "    <tr>\n",
       "      <th>4</th>\n",
       "      <td>5332.712767</td>\n",
       "      <td>0.574903</td>\n",
       "      <td>-0.022662</td>\n",
       "      <td>4.467451</td>\n",
       "      <td>154.153583</td>\n",
       "      <td>116.408089</td>\n",
       "      <td>0.019259</td>\n",
       "      <td>0.072604</td>\n",
       "      <td>0.019638</td>\n",
       "      <td>0.933</td>\n",
       "    </tr>\n",
       "  </tbody>\n",
       "</table>\n",
       "</div>"
      ],
      "text/plain": [
       "          teff       lum       mhs      logg         dnu    teff_err  \\\n",
       "0  5509.868287  0.455461  0.048007  4.548031  168.551764  114.277805   \n",
       "1  5132.860162  0.447037  0.120842  4.475545  162.050913  113.587711   \n",
       "2  4950.043140  0.316783  0.354314  4.560913  177.591451  107.523969   \n",
       "3  5541.041366  0.559689  0.060892  4.572558  163.088949  119.257352   \n",
       "4  5332.712767  0.574903 -0.022662  4.467451  154.153583  116.408089   \n",
       "\n",
       "    lum_err   mhs_err  logg_err  dnu_err  \n",
       "0  0.015823  0.072604  0.019638    0.933  \n",
       "1  0.016370  0.072604  0.019638    0.933  \n",
       "2  0.011491  0.072604  0.019638    0.933  \n",
       "3  0.019744  0.072604  0.019638    0.933  \n",
       "4  0.019259  0.072604  0.019638    0.933  "
      ]
     },
     "execution_count": 48,
     "metadata": {},
     "output_type": "execute_result"
    }
   ],
   "source": [
    "obs = obs.join(obs_err)\n",
    "obs.head()"
   ]
  },
  {
   "cell_type": "code",
   "execution_count": 49,
   "metadata": {},
   "outputs": [],
   "source": [
    "obs.to_csv('../data/tracks/test_stars/test_stars_obs.csv', index_label='index')"
   ]
  },
  {
   "cell_type": "code",
   "execution_count": 50,
   "metadata": {},
   "outputs": [
    {
     "data": {
      "text/plain": [
       "<ErrorbarContainer object of 3 artists>"
      ]
     },
     "execution_count": 50,
     "metadata": {},
     "output_type": "execute_result"
    },
    {
     "data": {
      "image/png": "[encoded data removed]",
      "text/plain": [
       "<Figure size 432x288 with 1 Axes>"
      ]
     },
     "metadata": {
      "needs_background": "light"
     },
     "output_type": "display_data"
    }
   ],
   "source": [
    "plt.errorbar(truths['effective_T'], obs['teff'], yerr=obs['teff_err'], fmt='.')"
   ]
  },
  {
   "cell_type": "code",
   "execution_count": 51,
   "metadata": {},
   "outputs": [
    {
     "data": {
      "text/plain": [
       "<ErrorbarContainer object of 3 artists>"
      ]
     },
     "execution_count": 51,
     "metadata": {},
     "output_type": "execute_result"
    },
    {
     "data": {
      "image/png": "[encoded data removed]",
      "text/plain": [
       "<Figure size 432x288 with 1 Axes>"
      ]
     },
     "metadata": {
      "needs_background": "light"
     },
     "output_type": "display_data"
    }
   ],
   "source": [
    "plt.errorbar(truths['luminosity'], obs['lum'], yerr=obs['lum_err'], fmt='.')"
   ]
  },
  {
   "cell_type": "code",
   "execution_count": 52,
   "metadata": {},
   "outputs": [
    {
     "data": {
      "text/plain": [
       "<ErrorbarContainer object of 3 artists>"
      ]
     },
     "execution_count": 52,
     "metadata": {},
     "output_type": "execute_result"
    },
    {
     "data": {
      "image/png": "[encoded data removed]",
      "text/plain": [
       "<Figure size 432x288 with 1 Axes>"
      ]
     },
     "metadata": {
      "needs_background": "light"
     },
     "output_type": "display_data"
    }
   ],
   "source": [
    "plt.errorbar(truths['star_feh'], obs['mhs'], yerr=obs['mhs_err'], fmt='.')"
   ]
  },
  {
   "cell_type": "code",
   "execution_count": 53,
   "metadata": {},
   "outputs": [
    {
     "data": {
      "text/plain": [
       "<ErrorbarContainer object of 3 artists>"
      ]
     },
     "execution_count": 53,
     "metadata": {},
     "output_type": "execute_result"
    },
    {
     "data": {
      "image/png": "[encoded data removed]",
      "text/plain": [
       "<Figure size 432x288 with 1 Axes>"
      ]
     },
     "metadata": {
      "needs_background": "light"
     },
     "output_type": "display_data"
    }
   ],
   "source": [
    "plt.errorbar(truths['log_g'], obs['logg'], yerr=obs['logg_err'], fmt='.')"
   ]
  },
  {
   "cell_type": "code",
   "execution_count": 54,
   "metadata": {},
   "outputs": [
    {
     "data": {
      "text/plain": [
       "<ErrorbarContainer object of 3 artists>"
      ]
     },
     "execution_count": 54,
     "metadata": {},
     "output_type": "execute_result"
    },
    {
     "data": {
      "image/png": "[encoded data removed]",
      "text/plain": [
       "<Figure size 432x288 with 1 Axes>"
      ]
     },
     "metadata": {
      "needs_background": "light"
     },
     "output_type": "display_data"
    }
   ],
   "source": [
    "plt.errorbar(truths['delta_nu_fit'], obs['dnu'], yerr=obs['dnu_err'], fmt='.')"
   ]
  },
  {
   "cell_type": "code",
   "execution_count": null,
   "metadata": {},
   "outputs": [],
   "source": []
  }
 ],
 "metadata": {
  "kernelspec": {
   "display_name": "Python 3 (Interstellar)",
   "language": "python",
   "name": "interstellar"
  },
  "language_info": {
   "codemirror_mode": {
    "name": "ipython",
    "version": 3
   },
   "file_extension": ".py",
   "mimetype": "text/x-python",
   "name": "python",
   "nbconvert_exporter": "python",
   "pygments_lexer": "ipython3",
   "version": "3.6.8"
  }
 },
 "nbformat": 4,
 "nbformat_minor": 2
}
