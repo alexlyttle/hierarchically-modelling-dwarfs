{
 "cells": [
  {
   "cell_type": "code",
   "execution_count": 1,
   "metadata": {},
   "outputs": [],
   "source": [
    "import numpy as np\n",
    "import pandas as pd\n",
    "import matplotlib.pyplot as plt\n",
    "from interstellar import Tracks, DenseNetwork, set_seed\n",
    "import os"
   ]
  },
  {
   "cell_type": "code",
   "execution_count": 2,
   "metadata": {},
   "outputs": [],
   "source": [
    "seed = 101\n",
    "name = 'network_07'\n",
    "tracks = 'tracks_04b'\n",
    "save_path = f'/home/ADF/ajl573/Data/interstellar_data/{name}'\n",
    "load_path = f'/home/ADF/ajl573/Data/interstellar_data/{tracks}'"
   ]
  },
  {
   "cell_type": "code",
   "execution_count": 3,
   "metadata": {},
   "outputs": [],
   "source": [
    "if not os.path.exists(save_path):\n",
    "    os.mkdir(save_path)"
   ]
  },
  {
   "cell_type": "code",
   "execution_count": 4,
   "metadata": {},
   "outputs": [],
   "source": [
    "train = pd.read_csv(f'{load_path}/{tracks}_train.csv')"
   ]
  },
  {
   "cell_type": "markdown",
   "metadata": {},
   "source": [
    "## Resample\n",
    "\n",
    "Let's try to resample 80% of the dataset"
   ]
  },
  {
   "cell_type": "code",
   "execution_count": 5,
   "metadata": {},
   "outputs": [
    {
     "data": {
      "text/plain": [
       "6188586.4"
      ]
     },
     "execution_count": 5,
     "metadata": {},
     "output_type": "execute_result"
    }
   ],
   "source": [
    "0.8 * len(train)"
   ]
  },
  {
   "cell_type": "markdown",
   "metadata": {},
   "source": [
    "For simplicity and batching, I will round this down to 6 million points."
   ]
  },
  {
   "cell_type": "code",
   "execution_count": 6,
   "metadata": {},
   "outputs": [],
   "source": [
    "t = Tracks(name=tracks)\n",
    "t.set_data(train.sample(n=6000000, weights='gradient', random_state=seed))\n",
    "\n",
    "del train"
   ]
  },
  {
   "cell_type": "code",
   "execution_count": 7,
   "metadata": {},
   "outputs": [
    {
     "data": {
      "text/html": [
       "<div>\n",
       "<style scoped>\n",
       "    .dataframe tbody tr th:only-of-type {\n",
       "        vertical-align: middle;\n",
       "    }\n",
       "\n",
       "    .dataframe tbody tr th {\n",
       "        vertical-align: top;\n",
       "    }\n",
       "\n",
       "    .dataframe thead th {\n",
       "        text-align: right;\n",
       "    }\n",
       "</style>\n",
       "<table border=\"1\" class=\"dataframe\">\n",
       "  <thead>\n",
       "    <tr style=\"text-align: right;\">\n",
       "      <th></th>\n",
       "      <th>evol_stage</th>\n",
       "      <th>initial_mass</th>\n",
       "      <th>initial_Yinit</th>\n",
       "      <th>initial_feh</th>\n",
       "      <th>initial_MLT</th>\n",
       "      <th>frac_age</th>\n",
       "      <th>effective_T</th>\n",
       "      <th>luminosity</th>\n",
       "      <th>log_g</th>\n",
       "      <th>surface_he4</th>\n",
       "      <th>surface_Z</th>\n",
       "      <th>star_feh</th>\n",
       "      <th>delta_nu_fit</th>\n",
       "      <th>initial_Zinit</th>\n",
       "      <th>gradient</th>\n",
       "      <th>log_star_age</th>\n",
       "      <th>log_radius</th>\n",
       "    </tr>\n",
       "  </thead>\n",
       "  <tbody>\n",
       "    <tr>\n",
       "      <th>3995955</th>\n",
       "      <td>2</td>\n",
       "      <td>1.08</td>\n",
       "      <td>0.30</td>\n",
       "      <td>0.35</td>\n",
       "      <td>1.9</td>\n",
       "      <td>1.043595</td>\n",
       "      <td>5673.275</td>\n",
       "      <td>1.826398</td>\n",
       "      <td>4.178337</td>\n",
       "      <td>0.259003</td>\n",
       "      <td>0.024350</td>\n",
       "      <td>0.273529</td>\n",
       "      <td>86.067856</td>\n",
       "      <td>0.027260</td>\n",
       "      <td>0.000320</td>\n",
       "      <td>0.870810</td>\n",
       "      <td>0.146389</td>\n",
       "    </tr>\n",
       "    <tr>\n",
       "      <th>4415608</th>\n",
       "      <td>2</td>\n",
       "      <td>1.20</td>\n",
       "      <td>0.26</td>\n",
       "      <td>0.25</td>\n",
       "      <td>1.9</td>\n",
       "      <td>1.155536</td>\n",
       "      <td>5632.717</td>\n",
       "      <td>2.945005</td>\n",
       "      <td>4.003852</td>\n",
       "      <td>0.226761</td>\n",
       "      <td>0.020889</td>\n",
       "      <td>0.185828</td>\n",
       "      <td>62.464220</td>\n",
       "      <td>0.023076</td>\n",
       "      <td>0.001583</td>\n",
       "      <td>0.843099</td>\n",
       "      <td>0.256366</td>\n",
       "    </tr>\n",
       "    <tr>\n",
       "      <th>219821</th>\n",
       "      <td>2</td>\n",
       "      <td>0.94</td>\n",
       "      <td>0.26</td>\n",
       "      <td>0.25</td>\n",
       "      <td>2.3</td>\n",
       "      <td>1.260279</td>\n",
       "      <td>4816.204</td>\n",
       "      <td>2.492565</td>\n",
       "      <td>3.697376</td>\n",
       "      <td>0.255329</td>\n",
       "      <td>0.022432</td>\n",
       "      <td>0.235659</td>\n",
       "      <td>38.246070</td>\n",
       "      <td>0.023076</td>\n",
       "      <td>0.000526</td>\n",
       "      <td>1.276368</td>\n",
       "      <td>0.356172</td>\n",
       "    </tr>\n",
       "    <tr>\n",
       "      <th>1326105</th>\n",
       "      <td>2</td>\n",
       "      <td>0.97</td>\n",
       "      <td>0.24</td>\n",
       "      <td>0.25</td>\n",
       "      <td>2.3</td>\n",
       "      <td>1.184105</td>\n",
       "      <td>5254.683</td>\n",
       "      <td>1.341456</td>\n",
       "      <td>4.131911</td>\n",
       "      <td>0.210687</td>\n",
       "      <td>0.021564</td>\n",
       "      <td>0.190855</td>\n",
       "      <td>81.709206</td>\n",
       "      <td>0.023699</td>\n",
       "      <td>0.001516</td>\n",
       "      <td>1.268245</td>\n",
       "      <td>0.145954</td>\n",
       "    </tr>\n",
       "    <tr>\n",
       "      <th>5302363</th>\n",
       "      <td>2</td>\n",
       "      <td>0.80</td>\n",
       "      <td>0.24</td>\n",
       "      <td>-0.10</td>\n",
       "      <td>2.3</td>\n",
       "      <td>1.186145</td>\n",
       "      <td>4891.288</td>\n",
       "      <td>2.689784</td>\n",
       "      <td>3.620810</td>\n",
       "      <td>0.232189</td>\n",
       "      <td>0.010325</td>\n",
       "      <td>-0.121725</td>\n",
       "      <td>34.789745</td>\n",
       "      <td>0.010772</td>\n",
       "      <td>0.000489</td>\n",
       "      <td>1.412521</td>\n",
       "      <td>0.359271</td>\n",
       "    </tr>\n",
       "  </tbody>\n",
       "</table>\n",
       "</div>"
      ],
      "text/plain": [
       "         evol_stage  initial_mass  initial_Yinit  initial_feh  initial_MLT  \\\n",
       "3995955           2          1.08           0.30         0.35          1.9   \n",
       "4415608           2          1.20           0.26         0.25          1.9   \n",
       "219821            2          0.94           0.26         0.25          2.3   \n",
       "1326105           2          0.97           0.24         0.25          2.3   \n",
       "5302363           2          0.80           0.24        -0.10          2.3   \n",
       "\n",
       "         frac_age  effective_T  luminosity     log_g  surface_he4  surface_Z  \\\n",
       "3995955  1.043595     5673.275    1.826398  4.178337     0.259003   0.024350   \n",
       "4415608  1.155536     5632.717    2.945005  4.003852     0.226761   0.020889   \n",
       "219821   1.260279     4816.204    2.492565  3.697376     0.255329   0.022432   \n",
       "1326105  1.184105     5254.683    1.341456  4.131911     0.210687   0.021564   \n",
       "5302363  1.186145     4891.288    2.689784  3.620810     0.232189   0.010325   \n",
       "\n",
       "         star_feh  delta_nu_fit  initial_Zinit  gradient  log_star_age  \\\n",
       "3995955  0.273529     86.067856       0.027260  0.000320      0.870810   \n",
       "4415608  0.185828     62.464220       0.023076  0.001583      0.843099   \n",
       "219821   0.235659     38.246070       0.023076  0.000526      1.276368   \n",
       "1326105  0.190855     81.709206       0.023699  0.001516      1.268245   \n",
       "5302363 -0.121725     34.789745       0.010772  0.000489      1.412521   \n",
       "\n",
       "         log_radius  \n",
       "3995955    0.146389  \n",
       "4415608    0.256366  \n",
       "219821     0.356172  \n",
       "1326105    0.145954  \n",
       "5302363    0.359271  "
      ]
     },
     "execution_count": 7,
     "metadata": {},
     "output_type": "execute_result"
    }
   ],
   "source": [
    "t.get_data().head()"
   ]
  },
  {
   "cell_type": "code",
   "execution_count": 8,
   "metadata": {},
   "outputs": [
    {
     "data": {
      "text/plain": [
       "6000000"
      ]
     },
     "execution_count": 8,
     "metadata": {},
     "output_type": "execute_result"
    }
   ],
   "source": [
    "len(t._data)"
   ]
  },
  {
   "cell_type": "markdown",
   "metadata": {},
   "source": [
    "## Normalize\n",
    "\n",
    "Let's choose the inputs and outputs and the normalise"
   ]
  },
  {
   "cell_type": "code",
   "execution_count": 9,
   "metadata": {},
   "outputs": [],
   "source": [
    "x_cols = ['frac_age', 'initial_mass', 'initial_MLT', 'initial_Yinit', 'initial_Zinit']\n",
    "y_cols = ['log_star_age', 'effective_T', 'log_radius', 'delta_nu_fit', 'star_feh']"
   ]
  },
  {
   "cell_type": "code",
   "execution_count": 10,
   "metadata": {},
   "outputs": [],
   "source": [
    "factors, _df = t.normalize(loc='mean', scale='std', columns=x_cols+y_cols)"
   ]
  },
  {
   "cell_type": "code",
   "execution_count": 11,
   "metadata": {},
   "outputs": [
    {
     "data": {
      "text/html": [
       "<div>\n",
       "<style scoped>\n",
       "    .dataframe tbody tr th:only-of-type {\n",
       "        vertical-align: middle;\n",
       "    }\n",
       "\n",
       "    .dataframe tbody tr th {\n",
       "        vertical-align: top;\n",
       "    }\n",
       "\n",
       "    .dataframe thead th {\n",
       "        text-align: right;\n",
       "    }\n",
       "</style>\n",
       "<table border=\"1\" class=\"dataframe\">\n",
       "  <thead>\n",
       "    <tr style=\"text-align: right;\">\n",
       "      <th></th>\n",
       "      <th>column</th>\n",
       "      <th>norm_column</th>\n",
       "      <th>loc</th>\n",
       "      <th>scale</th>\n",
       "    </tr>\n",
       "  </thead>\n",
       "  <tbody>\n",
       "    <tr>\n",
       "      <th>0</th>\n",
       "      <td>frac_age</td>\n",
       "      <td>frac_age_norm</td>\n",
       "      <td>0.886590</td>\n",
       "      <td>0.402850</td>\n",
       "    </tr>\n",
       "    <tr>\n",
       "      <th>1</th>\n",
       "      <td>initial_mass</td>\n",
       "      <td>initial_mass_norm</td>\n",
       "      <td>0.996833</td>\n",
       "      <td>0.119499</td>\n",
       "    </tr>\n",
       "    <tr>\n",
       "      <th>2</th>\n",
       "      <td>initial_MLT</td>\n",
       "      <td>initial_MLT_norm</td>\n",
       "      <td>1.997272</td>\n",
       "      <td>0.338006</td>\n",
       "    </tr>\n",
       "    <tr>\n",
       "      <th>3</th>\n",
       "      <td>initial_Yinit</td>\n",
       "      <td>initial_Yinit_norm</td>\n",
       "      <td>0.280062</td>\n",
       "      <td>0.028064</td>\n",
       "    </tr>\n",
       "    <tr>\n",
       "      <th>4</th>\n",
       "      <td>initial_Zinit</td>\n",
       "      <td>initial_Zinit_norm</td>\n",
       "      <td>0.018318</td>\n",
       "      <td>0.010699</td>\n",
       "    </tr>\n",
       "    <tr>\n",
       "      <th>5</th>\n",
       "      <td>log_star_age</td>\n",
       "      <td>log_star_age_norm</td>\n",
       "      <td>0.784033</td>\n",
       "      <td>0.450751</td>\n",
       "    </tr>\n",
       "    <tr>\n",
       "      <th>6</th>\n",
       "      <td>effective_T</td>\n",
       "      <td>effective_T_norm</td>\n",
       "      <td>5528.783927</td>\n",
       "      <td>605.919601</td>\n",
       "    </tr>\n",
       "    <tr>\n",
       "      <th>7</th>\n",
       "      <td>log_radius</td>\n",
       "      <td>log_radius_norm</td>\n",
       "      <td>0.142940</td>\n",
       "      <td>0.149972</td>\n",
       "    </tr>\n",
       "    <tr>\n",
       "      <th>8</th>\n",
       "      <td>delta_nu_fit</td>\n",
       "      <td>delta_nu_fit_norm</td>\n",
       "      <td>92.475003</td>\n",
       "      <td>42.530333</td>\n",
       "    </tr>\n",
       "    <tr>\n",
       "      <th>9</th>\n",
       "      <td>star_feh</td>\n",
       "      <td>star_feh_norm</td>\n",
       "      <td>-0.017718</td>\n",
       "      <td>0.357204</td>\n",
       "    </tr>\n",
       "  </tbody>\n",
       "</table>\n",
       "</div>"
      ],
      "text/plain": [
       "          column         norm_column          loc       scale\n",
       "0       frac_age       frac_age_norm     0.886590    0.402850\n",
       "1   initial_mass   initial_mass_norm     0.996833    0.119499\n",
       "2    initial_MLT    initial_MLT_norm     1.997272    0.338006\n",
       "3  initial_Yinit  initial_Yinit_norm     0.280062    0.028064\n",
       "4  initial_Zinit  initial_Zinit_norm     0.018318    0.010699\n",
       "5   log_star_age   log_star_age_norm     0.784033    0.450751\n",
       "6    effective_T    effective_T_norm  5528.783927  605.919601\n",
       "7     log_radius     log_radius_norm     0.142940    0.149972\n",
       "8   delta_nu_fit   delta_nu_fit_norm    92.475003   42.530333\n",
       "9       star_feh       star_feh_norm    -0.017718    0.357204"
      ]
     },
     "execution_count": 11,
     "metadata": {},
     "output_type": "execute_result"
    }
   ],
   "source": [
    "factors"
   ]
  },
  {
   "cell_type": "markdown",
   "metadata": {},
   "source": [
    "Round the loc and scale to 3 dp"
   ]
  },
  {
   "cell_type": "code",
   "execution_count": 12,
   "metadata": {},
   "outputs": [],
   "source": [
    "factors = round(factors, 3)"
   ]
  },
  {
   "cell_type": "code",
   "execution_count": 13,
   "metadata": {},
   "outputs": [
    {
     "data": {
      "text/html": [
       "<div>\n",
       "<style scoped>\n",
       "    .dataframe tbody tr th:only-of-type {\n",
       "        vertical-align: middle;\n",
       "    }\n",
       "\n",
       "    .dataframe tbody tr th {\n",
       "        vertical-align: top;\n",
       "    }\n",
       "\n",
       "    .dataframe thead th {\n",
       "        text-align: right;\n",
       "    }\n",
       "</style>\n",
       "<table border=\"1\" class=\"dataframe\">\n",
       "  <thead>\n",
       "    <tr style=\"text-align: right;\">\n",
       "      <th></th>\n",
       "      <th>column</th>\n",
       "      <th>norm_column</th>\n",
       "      <th>loc</th>\n",
       "      <th>scale</th>\n",
       "    </tr>\n",
       "  </thead>\n",
       "  <tbody>\n",
       "    <tr>\n",
       "      <th>0</th>\n",
       "      <td>frac_age</td>\n",
       "      <td>frac_age_norm</td>\n",
       "      <td>0.887</td>\n",
       "      <td>0.403</td>\n",
       "    </tr>\n",
       "    <tr>\n",
       "      <th>1</th>\n",
       "      <td>initial_mass</td>\n",
       "      <td>initial_mass_norm</td>\n",
       "      <td>0.997</td>\n",
       "      <td>0.119</td>\n",
       "    </tr>\n",
       "    <tr>\n",
       "      <th>2</th>\n",
       "      <td>initial_MLT</td>\n",
       "      <td>initial_MLT_norm</td>\n",
       "      <td>1.997</td>\n",
       "      <td>0.338</td>\n",
       "    </tr>\n",
       "    <tr>\n",
       "      <th>3</th>\n",
       "      <td>initial_Yinit</td>\n",
       "      <td>initial_Yinit_norm</td>\n",
       "      <td>0.280</td>\n",
       "      <td>0.028</td>\n",
       "    </tr>\n",
       "    <tr>\n",
       "      <th>4</th>\n",
       "      <td>initial_Zinit</td>\n",
       "      <td>initial_Zinit_norm</td>\n",
       "      <td>0.018</td>\n",
       "      <td>0.011</td>\n",
       "    </tr>\n",
       "    <tr>\n",
       "      <th>5</th>\n",
       "      <td>log_star_age</td>\n",
       "      <td>log_star_age_norm</td>\n",
       "      <td>0.784</td>\n",
       "      <td>0.451</td>\n",
       "    </tr>\n",
       "    <tr>\n",
       "      <th>6</th>\n",
       "      <td>effective_T</td>\n",
       "      <td>effective_T_norm</td>\n",
       "      <td>5528.784</td>\n",
       "      <td>605.920</td>\n",
       "    </tr>\n",
       "    <tr>\n",
       "      <th>7</th>\n",
       "      <td>log_radius</td>\n",
       "      <td>log_radius_norm</td>\n",
       "      <td>0.143</td>\n",
       "      <td>0.150</td>\n",
       "    </tr>\n",
       "    <tr>\n",
       "      <th>8</th>\n",
       "      <td>delta_nu_fit</td>\n",
       "      <td>delta_nu_fit_norm</td>\n",
       "      <td>92.475</td>\n",
       "      <td>42.530</td>\n",
       "    </tr>\n",
       "    <tr>\n",
       "      <th>9</th>\n",
       "      <td>star_feh</td>\n",
       "      <td>star_feh_norm</td>\n",
       "      <td>-0.018</td>\n",
       "      <td>0.357</td>\n",
       "    </tr>\n",
       "  </tbody>\n",
       "</table>\n",
       "</div>"
      ],
      "text/plain": [
       "          column         norm_column       loc    scale\n",
       "0       frac_age       frac_age_norm     0.887    0.403\n",
       "1   initial_mass   initial_mass_norm     0.997    0.119\n",
       "2    initial_MLT    initial_MLT_norm     1.997    0.338\n",
       "3  initial_Yinit  initial_Yinit_norm     0.280    0.028\n",
       "4  initial_Zinit  initial_Zinit_norm     0.018    0.011\n",
       "5   log_star_age   log_star_age_norm     0.784    0.451\n",
       "6    effective_T    effective_T_norm  5528.784  605.920\n",
       "7     log_radius     log_radius_norm     0.143    0.150\n",
       "8   delta_nu_fit   delta_nu_fit_norm    92.475   42.530\n",
       "9       star_feh       star_feh_norm    -0.018    0.357"
      ]
     },
     "execution_count": 13,
     "metadata": {},
     "output_type": "execute_result"
    }
   ],
   "source": [
    "factors"
   ]
  },
  {
   "cell_type": "code",
   "execution_count": 14,
   "metadata": {},
   "outputs": [
    {
     "data": {
      "text/html": [
       "<div>\n",
       "<style scoped>\n",
       "    .dataframe tbody tr th:only-of-type {\n",
       "        vertical-align: middle;\n",
       "    }\n",
       "\n",
       "    .dataframe tbody tr th {\n",
       "        vertical-align: top;\n",
       "    }\n",
       "\n",
       "    .dataframe thead th {\n",
       "        text-align: right;\n",
       "    }\n",
       "</style>\n",
       "<table border=\"1\" class=\"dataframe\">\n",
       "  <thead>\n",
       "    <tr style=\"text-align: right;\">\n",
       "      <th></th>\n",
       "      <th>frac_age_norm</th>\n",
       "      <th>initial_mass_norm</th>\n",
       "      <th>initial_MLT_norm</th>\n",
       "      <th>initial_Yinit_norm</th>\n",
       "      <th>initial_Zinit_norm</th>\n",
       "      <th>log_star_age_norm</th>\n",
       "      <th>effective_T_norm</th>\n",
       "      <th>log_radius_norm</th>\n",
       "      <th>delta_nu_fit_norm</th>\n",
       "      <th>star_feh_norm</th>\n",
       "    </tr>\n",
       "  </thead>\n",
       "  <tbody>\n",
       "    <tr>\n",
       "      <th>3995955</th>\n",
       "      <td>0.388573</td>\n",
       "      <td>0.697479</td>\n",
       "      <td>-0.286982</td>\n",
       "      <td>0.714286</td>\n",
       "      <td>0.841818</td>\n",
       "      <td>0.192484</td>\n",
       "      <td>0.238465</td>\n",
       "      <td>0.022593</td>\n",
       "      <td>-0.150650</td>\n",
       "      <td>0.816607</td>\n",
       "    </tr>\n",
       "    <tr>\n",
       "      <th>4415608</th>\n",
       "      <td>0.666342</td>\n",
       "      <td>1.705882</td>\n",
       "      <td>-0.286982</td>\n",
       "      <td>-0.714286</td>\n",
       "      <td>0.461413</td>\n",
       "      <td>0.131040</td>\n",
       "      <td>0.171529</td>\n",
       "      <td>0.755774</td>\n",
       "      <td>-0.705638</td>\n",
       "      <td>0.570948</td>\n",
       "    </tr>\n",
       "    <tr>\n",
       "      <th>219821</th>\n",
       "      <td>0.926252</td>\n",
       "      <td>-0.478992</td>\n",
       "      <td>0.896450</td>\n",
       "      <td>-0.714286</td>\n",
       "      <td>0.461413</td>\n",
       "      <td>1.091725</td>\n",
       "      <td>-1.176030</td>\n",
       "      <td>1.421149</td>\n",
       "      <td>-1.275075</td>\n",
       "      <td>0.710530</td>\n",
       "    </tr>\n",
       "    <tr>\n",
       "      <th>1326105</th>\n",
       "      <td>0.737234</td>\n",
       "      <td>-0.226891</td>\n",
       "      <td>0.896450</td>\n",
       "      <td>-1.428571</td>\n",
       "      <td>0.518110</td>\n",
       "      <td>1.073714</td>\n",
       "      <td>-0.452372</td>\n",
       "      <td>0.019693</td>\n",
       "      <td>-0.253134</td>\n",
       "      <td>0.585029</td>\n",
       "    </tr>\n",
       "    <tr>\n",
       "      <th>5302363</th>\n",
       "      <td>0.742295</td>\n",
       "      <td>-1.655462</td>\n",
       "      <td>0.896450</td>\n",
       "      <td>-1.428571</td>\n",
       "      <td>-0.657099</td>\n",
       "      <td>1.393617</td>\n",
       "      <td>-1.052112</td>\n",
       "      <td>1.441808</td>\n",
       "      <td>-1.356343</td>\n",
       "      <td>-0.290547</td>\n",
       "    </tr>\n",
       "  </tbody>\n",
       "</table>\n",
       "</div>"
      ],
      "text/plain": [
       "         frac_age_norm  initial_mass_norm  initial_MLT_norm  \\\n",
       "3995955       0.388573           0.697479         -0.286982   \n",
       "4415608       0.666342           1.705882         -0.286982   \n",
       "219821        0.926252          -0.478992          0.896450   \n",
       "1326105       0.737234          -0.226891          0.896450   \n",
       "5302363       0.742295          -1.655462          0.896450   \n",
       "\n",
       "         initial_Yinit_norm  initial_Zinit_norm  log_star_age_norm  \\\n",
       "3995955            0.714286            0.841818           0.192484   \n",
       "4415608           -0.714286            0.461413           0.131040   \n",
       "219821            -0.714286            0.461413           1.091725   \n",
       "1326105           -1.428571            0.518110           1.073714   \n",
       "5302363           -1.428571           -0.657099           1.393617   \n",
       "\n",
       "         effective_T_norm  log_radius_norm  delta_nu_fit_norm  star_feh_norm  \n",
       "3995955          0.238465         0.022593          -0.150650       0.816607  \n",
       "4415608          0.171529         0.755774          -0.705638       0.570948  \n",
       "219821          -1.176030         1.421149          -1.275075       0.710530  \n",
       "1326105         -0.452372         0.019693          -0.253134       0.585029  \n",
       "5302363         -1.052112         1.441808          -1.356343      -0.290547  "
      ]
     },
     "execution_count": 14,
     "metadata": {},
     "output_type": "execute_result"
    }
   ],
   "source": [
    "factors, _df = t.normalize(loc=factors['loc'].to_numpy(), scale=factors['scale'].to_numpy(),\n",
    "                           columns=x_cols+y_cols)\n",
    "_df.head()"
   ]
  },
  {
   "cell_type": "code",
   "execution_count": 15,
   "metadata": {},
   "outputs": [],
   "source": [
    "del _df"
   ]
  },
  {
   "cell_type": "code",
   "execution_count": 16,
   "metadata": {},
   "outputs": [],
   "source": [
    "t.normalize(loc=factors['loc'].to_numpy(), scale=factors['scale'].to_numpy(),\n",
    "                           columns=x_cols+y_cols, inplace=True)"
   ]
  },
  {
   "cell_type": "code",
   "execution_count": 17,
   "metadata": {},
   "outputs": [],
   "source": [
    "factors.to_csv(os.path.join(save_path, 'tracks_04b_norm.csv'), index=False)"
   ]
  },
  {
   "cell_type": "code",
   "execution_count": 18,
   "metadata": {},
   "outputs": [
    {
     "data": {
      "text/html": [
       "<div>\n",
       "<style scoped>\n",
       "    .dataframe tbody tr th:only-of-type {\n",
       "        vertical-align: middle;\n",
       "    }\n",
       "\n",
       "    .dataframe tbody tr th {\n",
       "        vertical-align: top;\n",
       "    }\n",
       "\n",
       "    .dataframe thead th {\n",
       "        text-align: right;\n",
       "    }\n",
       "</style>\n",
       "<table border=\"1\" class=\"dataframe\">\n",
       "  <thead>\n",
       "    <tr style=\"text-align: right;\">\n",
       "      <th></th>\n",
       "      <th>frac_age_norm</th>\n",
       "      <th>initial_mass_norm</th>\n",
       "      <th>initial_MLT_norm</th>\n",
       "      <th>initial_Yinit_norm</th>\n",
       "      <th>initial_Zinit_norm</th>\n",
       "      <th>log_star_age_norm</th>\n",
       "      <th>effective_T_norm</th>\n",
       "      <th>log_radius_norm</th>\n",
       "      <th>delta_nu_fit_norm</th>\n",
       "      <th>star_feh_norm</th>\n",
       "    </tr>\n",
       "  </thead>\n",
       "  <tbody>\n",
       "    <tr>\n",
       "      <th>3995955</th>\n",
       "      <td>0.388573</td>\n",
       "      <td>0.697479</td>\n",
       "      <td>-0.286982</td>\n",
       "      <td>0.714286</td>\n",
       "      <td>0.841818</td>\n",
       "      <td>0.192484</td>\n",
       "      <td>0.238465</td>\n",
       "      <td>0.022593</td>\n",
       "      <td>-0.150650</td>\n",
       "      <td>0.816607</td>\n",
       "    </tr>\n",
       "    <tr>\n",
       "      <th>4415608</th>\n",
       "      <td>0.666342</td>\n",
       "      <td>1.705882</td>\n",
       "      <td>-0.286982</td>\n",
       "      <td>-0.714286</td>\n",
       "      <td>0.461413</td>\n",
       "      <td>0.131040</td>\n",
       "      <td>0.171529</td>\n",
       "      <td>0.755774</td>\n",
       "      <td>-0.705638</td>\n",
       "      <td>0.570948</td>\n",
       "    </tr>\n",
       "    <tr>\n",
       "      <th>219821</th>\n",
       "      <td>0.926252</td>\n",
       "      <td>-0.478992</td>\n",
       "      <td>0.896450</td>\n",
       "      <td>-0.714286</td>\n",
       "      <td>0.461413</td>\n",
       "      <td>1.091725</td>\n",
       "      <td>-1.176030</td>\n",
       "      <td>1.421149</td>\n",
       "      <td>-1.275075</td>\n",
       "      <td>0.710530</td>\n",
       "    </tr>\n",
       "    <tr>\n",
       "      <th>1326105</th>\n",
       "      <td>0.737234</td>\n",
       "      <td>-0.226891</td>\n",
       "      <td>0.896450</td>\n",
       "      <td>-1.428571</td>\n",
       "      <td>0.518110</td>\n",
       "      <td>1.073714</td>\n",
       "      <td>-0.452372</td>\n",
       "      <td>0.019693</td>\n",
       "      <td>-0.253134</td>\n",
       "      <td>0.585029</td>\n",
       "    </tr>\n",
       "    <tr>\n",
       "      <th>5302363</th>\n",
       "      <td>0.742295</td>\n",
       "      <td>-1.655462</td>\n",
       "      <td>0.896450</td>\n",
       "      <td>-1.428571</td>\n",
       "      <td>-0.657099</td>\n",
       "      <td>1.393617</td>\n",
       "      <td>-1.052112</td>\n",
       "      <td>1.441808</td>\n",
       "      <td>-1.356343</td>\n",
       "      <td>-0.290547</td>\n",
       "    </tr>\n",
       "  </tbody>\n",
       "</table>\n",
       "</div>"
      ],
      "text/plain": [
       "         frac_age_norm  initial_mass_norm  initial_MLT_norm  \\\n",
       "3995955       0.388573           0.697479         -0.286982   \n",
       "4415608       0.666342           1.705882         -0.286982   \n",
       "219821        0.926252          -0.478992          0.896450   \n",
       "1326105       0.737234          -0.226891          0.896450   \n",
       "5302363       0.742295          -1.655462          0.896450   \n",
       "\n",
       "         initial_Yinit_norm  initial_Zinit_norm  log_star_age_norm  \\\n",
       "3995955            0.714286            0.841818           0.192484   \n",
       "4415608           -0.714286            0.461413           0.131040   \n",
       "219821            -0.714286            0.461413           1.091725   \n",
       "1326105           -1.428571            0.518110           1.073714   \n",
       "5302363           -1.428571           -0.657099           1.393617   \n",
       "\n",
       "         effective_T_norm  log_radius_norm  delta_nu_fit_norm  star_feh_norm  \n",
       "3995955          0.238465         0.022593          -0.150650       0.816607  \n",
       "4415608          0.171529         0.755774          -0.705638       0.570948  \n",
       "219821          -1.176030         1.421149          -1.275075       0.710530  \n",
       "1326105         -0.452372         0.019693          -0.253134       0.585029  \n",
       "5302363         -1.052112         1.441808          -1.356343      -0.290547  "
      ]
     },
     "execution_count": 18,
     "metadata": {},
     "output_type": "execute_result"
    }
   ],
   "source": [
    "train = t.get_data([f'{col}_norm' for col in x_cols+y_cols])\n",
    "train.head()"
   ]
  },
  {
   "cell_type": "code",
   "execution_count": 19,
   "metadata": {},
   "outputs": [
    {
     "data": {
      "text/plain": [
       "<matplotlib.axes._subplots.AxesSubplot at 0x7f4a73d09320>"
      ]
     },
     "execution_count": 19,
     "metadata": {},
     "output_type": "execute_result"
    },
    {
     "data": {
      "image/png": "[encoded data removed]",
      "text/plain": [
       "<Figure size 432x288 with 1 Axes>"
      ]
     },
     "metadata": {
      "needs_background": "light"
     },
     "output_type": "display_data"
    }
   ],
   "source": [
    "train.sample(n=10000).plot(kind='hist', y=[f'{col}_norm' for col in x_cols],\n",
    "                           bins=40, alpha=0.5)"
   ]
  },
  {
   "cell_type": "code",
   "execution_count": 20,
   "metadata": {},
   "outputs": [
    {
     "data": {
      "text/plain": [
       "<matplotlib.axes._subplots.AxesSubplot at 0x7f4a7156a320>"
      ]
     },
     "execution_count": 20,
     "metadata": {},
     "output_type": "execute_result"
    },
    {
     "data": {
      "image/png": "[encoded data removed]",
      "text/plain": [
       "<Figure size 432x288 with 1 Axes>"
      ]
     },
     "metadata": {
      "needs_background": "light"
     },
     "output_type": "display_data"
    }
   ],
   "source": [
    "train.sample(n=10000).plot(kind='hist', y=[f'{col}_norm' for col in y_cols], bins=40, alpha=0.5)"
   ]
  },
  {
   "cell_type": "markdown",
   "metadata": {},
   "source": [
    "Validation"
   ]
  },
  {
   "cell_type": "code",
   "execution_count": 21,
   "metadata": {},
   "outputs": [],
   "source": [
    "val = pd.read_csv(f'{load_path}/{tracks}_val.csv')"
   ]
  },
  {
   "cell_type": "code",
   "execution_count": 22,
   "metadata": {},
   "outputs": [],
   "source": [
    "t = Tracks()\n",
    "t.set_data(val)"
   ]
  },
  {
   "cell_type": "code",
   "execution_count": 23,
   "metadata": {},
   "outputs": [],
   "source": [
    "t.normalize(loc=factors['loc'].to_numpy(), scale=factors['scale'].to_numpy(),\n",
    "            columns=x_cols+y_cols, inplace=True)"
   ]
  },
  {
   "cell_type": "code",
   "execution_count": 24,
   "metadata": {},
   "outputs": [
    {
     "data": {
      "text/html": [
       "<div>\n",
       "<style scoped>\n",
       "    .dataframe tbody tr th:only-of-type {\n",
       "        vertical-align: middle;\n",
       "    }\n",
       "\n",
       "    .dataframe tbody tr th {\n",
       "        vertical-align: top;\n",
       "    }\n",
       "\n",
       "    .dataframe thead th {\n",
       "        text-align: right;\n",
       "    }\n",
       "</style>\n",
       "<table border=\"1\" class=\"dataframe\">\n",
       "  <thead>\n",
       "    <tr style=\"text-align: right;\">\n",
       "      <th></th>\n",
       "      <th>frac_age_norm</th>\n",
       "      <th>initial_mass_norm</th>\n",
       "      <th>initial_MLT_norm</th>\n",
       "      <th>initial_Yinit_norm</th>\n",
       "      <th>initial_Zinit_norm</th>\n",
       "      <th>log_star_age_norm</th>\n",
       "      <th>effective_T_norm</th>\n",
       "      <th>log_radius_norm</th>\n",
       "      <th>delta_nu_fit_norm</th>\n",
       "      <th>star_feh_norm</th>\n",
       "    </tr>\n",
       "  </thead>\n",
       "  <tbody>\n",
       "    <tr>\n",
       "      <th>0</th>\n",
       "      <td>-2.144928</td>\n",
       "      <td>0.02521</td>\n",
       "      <td>0.89645</td>\n",
       "      <td>-1.428571</td>\n",
       "      <td>-0.657099</td>\n",
       "      <td>-3.267303</td>\n",
       "      <td>0.389481</td>\n",
       "      <td>-1.339923</td>\n",
       "      <td>1.706118</td>\n",
       "      <td>-0.236674</td>\n",
       "    </tr>\n",
       "    <tr>\n",
       "      <th>1</th>\n",
       "      <td>-2.055016</td>\n",
       "      <td>0.02521</td>\n",
       "      <td>0.89645</td>\n",
       "      <td>-1.428571</td>\n",
       "      <td>-0.657099</td>\n",
       "      <td>-2.345807</td>\n",
       "      <td>0.403000</td>\n",
       "      <td>-1.312313</td>\n",
       "      <td>1.651492</td>\n",
       "      <td>-0.249146</td>\n",
       "    </tr>\n",
       "    <tr>\n",
       "      <th>2</th>\n",
       "      <td>-2.020283</td>\n",
       "      <td>0.02521</td>\n",
       "      <td>0.89645</td>\n",
       "      <td>-1.428571</td>\n",
       "      <td>-0.657099</td>\n",
       "      <td>-2.140266</td>\n",
       "      <td>0.408372</td>\n",
       "      <td>-1.302933</td>\n",
       "      <td>1.633083</td>\n",
       "      <td>-0.253994</td>\n",
       "    </tr>\n",
       "    <tr>\n",
       "      <th>3</th>\n",
       "      <td>-2.013346</td>\n",
       "      <td>0.02521</td>\n",
       "      <td>0.89645</td>\n",
       "      <td>-1.428571</td>\n",
       "      <td>-0.657099</td>\n",
       "      <td>-2.103994</td>\n",
       "      <td>0.409448</td>\n",
       "      <td>-1.301084</td>\n",
       "      <td>1.629465</td>\n",
       "      <td>-0.254954</td>\n",
       "    </tr>\n",
       "    <tr>\n",
       "      <th>4</th>\n",
       "      <td>-1.985631</td>\n",
       "      <td>0.02521</td>\n",
       "      <td>0.89645</td>\n",
       "      <td>-1.428571</td>\n",
       "      <td>-0.657099</td>\n",
       "      <td>-1.971340</td>\n",
       "      <td>0.413739</td>\n",
       "      <td>-1.293744</td>\n",
       "      <td>1.615137</td>\n",
       "      <td>-0.258766</td>\n",
       "    </tr>\n",
       "  </tbody>\n",
       "</table>\n",
       "</div>"
      ],
      "text/plain": [
       "   frac_age_norm  initial_mass_norm  initial_MLT_norm  initial_Yinit_norm  \\\n",
       "0      -2.144928            0.02521           0.89645           -1.428571   \n",
       "1      -2.055016            0.02521           0.89645           -1.428571   \n",
       "2      -2.020283            0.02521           0.89645           -1.428571   \n",
       "3      -2.013346            0.02521           0.89645           -1.428571   \n",
       "4      -1.985631            0.02521           0.89645           -1.428571   \n",
       "\n",
       "   initial_Zinit_norm  log_star_age_norm  effective_T_norm  log_radius_norm  \\\n",
       "0           -0.657099          -3.267303          0.389481        -1.339923   \n",
       "1           -0.657099          -2.345807          0.403000        -1.312313   \n",
       "2           -0.657099          -2.140266          0.408372        -1.302933   \n",
       "3           -0.657099          -2.103994          0.409448        -1.301084   \n",
       "4           -0.657099          -1.971340          0.413739        -1.293744   \n",
       "\n",
       "   delta_nu_fit_norm  star_feh_norm  \n",
       "0           1.706118      -0.236674  \n",
       "1           1.651492      -0.249146  \n",
       "2           1.633083      -0.253994  \n",
       "3           1.629465      -0.254954  \n",
       "4           1.615137      -0.258766  "
      ]
     },
     "execution_count": 24,
     "metadata": {},
     "output_type": "execute_result"
    }
   ],
   "source": [
    "val = t.get_data([f'{col}_norm' for col in x_cols+y_cols])\n",
    "val.head()"
   ]
  },
  {
   "cell_type": "code",
   "execution_count": 25,
   "metadata": {},
   "outputs": [],
   "source": [
    "del t"
   ]
  },
  {
   "cell_type": "code",
   "execution_count": 26,
   "metadata": {},
   "outputs": [],
   "source": [
    "x_cols = [f'{col}_norm' for col in x_cols]\n",
    "y_cols = [f'{col}_norm' for col in y_cols]"
   ]
  },
  {
   "cell_type": "code",
   "execution_count": 27,
   "metadata": {},
   "outputs": [
    {
     "name": "stdout",
     "output_type": "stream",
     "text": [
      "Length of training data = 6000000\n",
      "Length of validation data = 1933933\n"
     ]
    }
   ],
   "source": [
    "print(f'Length of training data = {len(train)}')\n",
    "print(f'Length of validation data = {len(val)}')"
   ]
  },
  {
   "cell_type": "code",
   "execution_count": 28,
   "metadata": {
    "scrolled": false
   },
   "outputs": [
    {
     "name": "stdout",
     "output_type": "stream",
     "text": [
      "Model: \"network_07\"\n",
      "_________________________________________________________________\n",
      "Layer (type)                 Output Shape              Param #   \n",
      "=================================================================\n",
      "inputs (InputLayer)          [(None, 5)]               0         \n",
      "_________________________________________________________________\n",
      "dense_7 (Dense)              (None, 256)               1536      \n",
      "_________________________________________________________________\n",
      "dense_8 (Dense)              (None, 256)               65792     \n",
      "_________________________________________________________________\n",
      "dense_9 (Dense)              (None, 256)               65792     \n",
      "_________________________________________________________________\n",
      "dense_10 (Dense)             (None, 256)               65792     \n",
      "_________________________________________________________________\n",
      "dense_11 (Dense)             (None, 256)               65792     \n",
      "_________________________________________________________________\n",
      "dense_12 (Dense)             (None, 256)               65792     \n",
      "_________________________________________________________________\n",
      "dense_13 (Dense)             (None, 5)                 1285      \n",
      "=================================================================\n",
      "Total params: 331,781\n",
      "Trainable params: 331,781\n",
      "Non-trainable params: 0\n",
      "_________________________________________________________________\n"
     ]
    }
   ],
   "source": [
    "network = DenseNetwork.from_config(f'{save_path}/{name}_config.json')\n",
    "network.load_model()\n",
    "network.load_history()\n",
    "network.model.summary()"
   ]
  },
  {
   "cell_type": "code",
   "execution_count": null,
   "metadata": {},
   "outputs": [],
   "source": [
    "network.train(train, network.x_cols, network.y_cols, epochs=20000, validation_split=None, validation_data=val,\n",
    "              callbacks=['checkpoint', 'tensorboard'])"
   ]
  },
  {
   "cell_type": "code",
   "execution_count": null,
   "metadata": {},
   "outputs": [],
   "source": [
    "network.save()"
   ]
  },
  {
   "cell_type": "code",
   "execution_count": null,
   "metadata": {},
   "outputs": [],
   "source": [
    "network.plot_metric(val.sample(20000), metric='absolute_error');"
   ]
  },
  {
   "cell_type": "code",
   "execution_count": null,
   "metadata": {},
   "outputs": [],
   "source": [
    "network.plot_metric(val.sample(20000), metric='error');"
   ]
  },
  {
   "cell_type": "code",
   "execution_count": null,
   "metadata": {},
   "outputs": [],
   "source": [
    "scores = network.scores(val.sample(20000))\n",
    "scores"
   ]
  },
  {
   "cell_type": "code",
   "execution_count": null,
   "metadata": {},
   "outputs": [],
   "source": [
    "scale_scores = factors.loc[5:, 'scale'].to_numpy() * scores"
   ]
  },
  {
   "cell_type": "code",
   "execution_count": null,
   "metadata": {},
   "outputs": [],
   "source": [
    "log_cols = [col for col in scale_scores.columns if 'log' in col]\n",
    "log_cols\n",
    "\n",
    "scale_scores[[col[4:] for col in log_cols]] = scale_scores[log_cols] * np.log(10.0)\n",
    "\n",
    "scale_scores.loc['std'].round(5)"
   ]
  },
  {
   "cell_type": "code",
   "execution_count": null,
   "metadata": {},
   "outputs": [],
   "source": []
  }
 ],
 "metadata": {
  "kernelspec": {
   "display_name": "Python 3 (Interstellar)",
   "language": "python",
   "name": "interstellar"
  },
  "language_info": {
   "codemirror_mode": {
    "name": "ipython",
    "version": 3
   },
   "file_extension": ".py",
   "mimetype": "text/x-python",
   "name": "python",
   "nbconvert_exporter": "python",
   "pygments_lexer": "ipython3",
   "version": "3.6.8"
  }
 },
 "nbformat": 4,
 "nbformat_minor": 2
}
