{
 "cells": [
  {
   "cell_type": "code",
   "execution_count": 19,
   "metadata": {},
   "outputs": [],
   "source": [
    "import os\n",
    "import numpy as np\n",
    "import pandas as pd\n",
    "import matplotlib.pyplot as plt\n",
    "from interstellar import Tracks, DenseNetwork, set_seed"
   ]
  },
  {
   "cell_type": "code",
   "execution_count": 20,
   "metadata": {},
   "outputs": [],
   "source": [
    "name = 'network_02a'\n",
    "save_path = f'/home/ADF/ajl573/Data/interstellar_data/{name}'\n",
    "\n",
    "if not os.path.exists(save_path):\n",
    "    os.makedirs(save_path)"
   ]
  },
  {
   "cell_type": "code",
   "execution_count": 3,
   "metadata": {},
   "outputs": [],
   "source": [
    "train = pd.read_csv('/home/ADF/ajl573/Data/interstellar_data/tracks_02/tracks_02_train.csv')\n",
    "val = pd.read_csv('/home/ADF/ajl573/Data/interstellar_data/tracks_02/tracks_02_val.csv')"
   ]
  },
  {
   "cell_type": "code",
   "execution_count": 4,
   "metadata": {},
   "outputs": [
    {
     "name": "stdout",
     "output_type": "stream",
     "text": [
      "Length of training data = 5163732\n",
      "Length of validation data = 1290932\n"
     ]
    }
   ],
   "source": [
    "print(f'Length of training data = {len(train)}')\n",
    "print(f'Length of validation data = {len(val)}')"
   ]
  },
  {
   "cell_type": "markdown",
   "metadata": {},
   "source": [
    "## Load pre-trained network\n",
    "\n",
    "Optional"
   ]
  },
  {
   "cell_type": "code",
   "execution_count": 10,
   "metadata": {},
   "outputs": [
    {
     "name": "stdout",
     "output_type": "stream",
     "text": [
      "Model: \"network_02\"\n",
      "_________________________________________________________________\n",
      "Layer (type)                 Output Shape              Param #   \n",
      "=================================================================\n",
      "inputs (InputLayer)          [(None, 5)]               0         \n",
      "_________________________________________________________________\n",
      "dense (Dense)                (None, 128)               768       \n",
      "_________________________________________________________________\n",
      "dense_1 (Dense)              (None, 128)               16512     \n",
      "_________________________________________________________________\n",
      "dense_2 (Dense)              (None, 128)               16512     \n",
      "_________________________________________________________________\n",
      "dense_3 (Dense)              (None, 128)               16512     \n",
      "_________________________________________________________________\n",
      "dense_4 (Dense)              (None, 128)               16512     \n",
      "_________________________________________________________________\n",
      "dense_5 (Dense)              (None, 128)               16512     \n",
      "_________________________________________________________________\n",
      "dense_6 (Dense)              (None, 128)               16512     \n",
      "_________________________________________________________________\n",
      "dense_7 (Dense)              (None, 6)                 774       \n",
      "=================================================================\n",
      "Total params: 100,614\n",
      "Trainable params: 100,614\n",
      "Non-trainable params: 0\n",
      "_________________________________________________________________\n"
     ]
    }
   ],
   "source": [
    "old_name = 'network_02'\n",
    "old_save_path = f'/home/ADF/ajl573/Data/interstellar_data/{old_name}'\n",
    "\n",
    "network = DenseNetwork.from_config(f'{old_save_path}/{old_name}_config.json')\n",
    "network.load_model()\n",
    "network.load_history()\n",
    "network.name = name\n",
    "network.path = path  # Note it's not great to change the path like this without checking it exists\n",
    "network.model.summary()"
   ]
  },
  {
   "cell_type": "markdown",
   "metadata": {},
   "source": [
    "## Continue training\n",
    "\n",
    "Continue to train the model if required."
   ]
  },
  {
   "cell_type": "code",
   "execution_count": 14,
   "metadata": {},
   "outputs": [
    {
     "name": "stdout",
     "output_type": "stream",
     "text": [
      "Old number of batches = 868\n"
     ]
    }
   ],
   "source": [
    "print(f'Old number of batches = {len(train)//network.batch_size}')"
   ]
  },
  {
   "cell_type": "code",
   "execution_count": 27,
   "metadata": {},
   "outputs": [
    {
     "name": "stdout",
     "output_type": "stream",
     "text": [
      "choose number of batches from:\n",
      "[ 12  14  18  21  28  31  36  42  62  63  84  93 124 126 186 217 252 279\n",
      " 372 434 558 651 661 868]\n"
     ]
    }
   ],
   "source": [
    "n_batches = np.arange(10, 1000)  # Select a range where number of batches is reasonable\n",
    "r = len(train) % n_batches \n",
    "\n",
    "# Print whole multiples of training size\n",
    "print(f'choose number of batches from:\\n{n_batches[r==0]}')"
   ]
  },
  {
   "cell_type": "code",
   "execution_count": 28,
   "metadata": {},
   "outputs": [],
   "source": [
    "network.batch_size = len(train)//661"
   ]
  },
  {
   "cell_type": "code",
   "execution_count": 34,
   "metadata": {},
   "outputs": [],
   "source": [
    "network.train(train, network.x_cols, network.y_cols, epochs=5200, validation_split=None, validation_data=val,\n",
    "              callbacks=['checkpoint', 'tensorboard'])"
   ]
  },
  {
   "cell_type": "markdown",
   "metadata": {},
   "source": [
    "Plot the loss."
   ]
  },
  {
   "cell_type": "code",
   "execution_count": 35,
   "metadata": {},
   "outputs": [
    {
     "data": {
      "image/png": "[encoded data removed]",
      "text/plain": [
       "<Figure size 432x288 with 1 Axes>"
      ]
     },
     "metadata": {
      "needs_background": "light"
     },
     "output_type": "display_data"
    }
   ],
   "source": [
    "ax = network.history.plot(x='epochs', y=['loss', 'val_loss'])\n",
    "ax.set_yscale('log')\n",
    "ax.legend(loc='upper right');"
   ]
  },
  {
   "cell_type": "markdown",
   "metadata": {},
   "source": [
    "Here we see there is still more training possible, but there is a lot more noise, maybe increase the batch size and drop the learning rate to cope with the change."
   ]
  },
  {
   "cell_type": "code",
   "execution_count": 36,
   "metadata": {},
   "outputs": [],
   "source": [
    "network.save()"
   ]
  },
  {
   "cell_type": "markdown",
   "metadata": {},
   "source": [
    "## Best model\n",
    "\n",
    "Load checkpointed best model, note that it replaces the current model in the network so take care when saving."
   ]
  },
  {
   "cell_type": "code",
   "execution_count": 40,
   "metadata": {},
   "outputs": [],
   "source": [
    "network.load_model(suffix='best_model')"
   ]
  },
  {
   "cell_type": "code",
   "execution_count": 41,
   "metadata": {},
   "outputs": [
    {
     "data": {
      "image/png": "[encoded data removed]",
      "text/plain": [
       "<Figure size 1152x648 with 6 Axes>"
      ]
     },
     "metadata": {
      "needs_background": "light"
     },
     "output_type": "display_data"
    }
   ],
   "source": [
    "network.plot_metric(val.sample(10000));"
   ]
  },
  {
   "cell_type": "code",
   "execution_count": 42,
   "metadata": {},
   "outputs": [
    {
     "data": {
      "text/html": [
       "<div>\n",
       "<style scoped>\n",
       "    .dataframe tbody tr th:only-of-type {\n",
       "        vertical-align: middle;\n",
       "    }\n",
       "\n",
       "    .dataframe tbody tr th {\n",
       "        vertical-align: top;\n",
       "    }\n",
       "\n",
       "    .dataframe thead th {\n",
       "        text-align: right;\n",
       "    }\n",
       "</style>\n",
       "<table border=\"1\" class=\"dataframe\">\n",
       "  <thead>\n",
       "    <tr style=\"text-align: right;\">\n",
       "      <th></th>\n",
       "      <th>log_star_age_norm</th>\n",
       "      <th>log_effective_T_norm</th>\n",
       "      <th>log_radius_norm</th>\n",
       "      <th>log_delta_nu_fit_norm</th>\n",
       "      <th>log_surface_he4_norm</th>\n",
       "      <th>log_surface_Z_norm</th>\n",
       "    </tr>\n",
       "  </thead>\n",
       "  <tbody>\n",
       "    <tr>\n",
       "      <th>count</th>\n",
       "      <td>1.000000e+04</td>\n",
       "      <td>1.000000e+04</td>\n",
       "      <td>1.000000e+04</td>\n",
       "      <td>1.000000e+04</td>\n",
       "      <td>1.000000e+04</td>\n",
       "      <td>1.000000e+04</td>\n",
       "    </tr>\n",
       "    <tr>\n",
       "      <th>mean</th>\n",
       "      <td>1.318791e-03</td>\n",
       "      <td>4.585954e-04</td>\n",
       "      <td>7.946131e-04</td>\n",
       "      <td>1.131634e-03</td>\n",
       "      <td>7.181503e-04</td>\n",
       "      <td>9.825670e-04</td>\n",
       "    </tr>\n",
       "    <tr>\n",
       "      <th>std</th>\n",
       "      <td>9.874618e-04</td>\n",
       "      <td>5.065911e-04</td>\n",
       "      <td>1.045998e-03</td>\n",
       "      <td>1.573195e-03</td>\n",
       "      <td>9.781003e-04</td>\n",
       "      <td>1.064029e-03</td>\n",
       "    </tr>\n",
       "    <tr>\n",
       "      <th>min</th>\n",
       "      <td>5.710960e-08</td>\n",
       "      <td>1.547652e-08</td>\n",
       "      <td>6.157036e-08</td>\n",
       "      <td>2.630379e-08</td>\n",
       "      <td>2.168789e-08</td>\n",
       "      <td>2.691499e-07</td>\n",
       "    </tr>\n",
       "    <tr>\n",
       "      <th>25%</th>\n",
       "      <td>5.818239e-04</td>\n",
       "      <td>1.694936e-04</td>\n",
       "      <td>2.700356e-04</td>\n",
       "      <td>3.488621e-04</td>\n",
       "      <td>2.266241e-04</td>\n",
       "      <td>3.852294e-04</td>\n",
       "    </tr>\n",
       "    <tr>\n",
       "      <th>50%</th>\n",
       "      <td>1.155584e-03</td>\n",
       "      <td>3.494507e-04</td>\n",
       "      <td>5.160491e-04</td>\n",
       "      <td>6.802411e-04</td>\n",
       "      <td>4.796586e-04</td>\n",
       "      <td>7.870566e-04</td>\n",
       "    </tr>\n",
       "    <tr>\n",
       "      <th>75%</th>\n",
       "      <td>1.846057e-03</td>\n",
       "      <td>5.983951e-04</td>\n",
       "      <td>9.214105e-04</td>\n",
       "      <td>1.287241e-03</td>\n",
       "      <td>8.894351e-04</td>\n",
       "      <td>1.290126e-03</td>\n",
       "    </tr>\n",
       "    <tr>\n",
       "      <th>max</th>\n",
       "      <td>1.051062e-02</td>\n",
       "      <td>2.594295e-02</td>\n",
       "      <td>2.972806e-02</td>\n",
       "      <td>3.542879e-02</td>\n",
       "      <td>2.565213e-02</td>\n",
       "      <td>2.529283e-02</td>\n",
       "    </tr>\n",
       "  </tbody>\n",
       "</table>\n",
       "</div>"
      ],
      "text/plain": [
       "       log_star_age_norm  log_effective_T_norm  log_radius_norm  \\\n",
       "count       1.000000e+04          1.000000e+04     1.000000e+04   \n",
       "mean        1.318791e-03          4.585954e-04     7.946131e-04   \n",
       "std         9.874618e-04          5.065911e-04     1.045998e-03   \n",
       "min         5.710960e-08          1.547652e-08     6.157036e-08   \n",
       "25%         5.818239e-04          1.694936e-04     2.700356e-04   \n",
       "50%         1.155584e-03          3.494507e-04     5.160491e-04   \n",
       "75%         1.846057e-03          5.983951e-04     9.214105e-04   \n",
       "max         1.051062e-02          2.594295e-02     2.972806e-02   \n",
       "\n",
       "       log_delta_nu_fit_norm  log_surface_he4_norm  log_surface_Z_norm  \n",
       "count           1.000000e+04          1.000000e+04        1.000000e+04  \n",
       "mean            1.131634e-03          7.181503e-04        9.825670e-04  \n",
       "std             1.573195e-03          9.781003e-04        1.064029e-03  \n",
       "min             2.630379e-08          2.168789e-08        2.691499e-07  \n",
       "25%             3.488621e-04          2.266241e-04        3.852294e-04  \n",
       "50%             6.802411e-04          4.796586e-04        7.870566e-04  \n",
       "75%             1.287241e-03          8.894351e-04        1.290126e-03  \n",
       "max             3.542879e-02          2.565213e-02        2.529283e-02  "
      ]
     },
     "execution_count": 42,
     "metadata": {},
     "output_type": "execute_result"
    }
   ],
   "source": [
    "network.scores(val.sample(10000))"
   ]
  },
  {
   "cell_type": "code",
   "execution_count": null,
   "metadata": {},
   "outputs": [],
   "source": []
  }
 ],
 "metadata": {
  "kernelspec": {
   "display_name": "Python 3 (Interstellar)",
   "language": "python",
   "name": "interstellar"
  },
  "language_info": {
   "codemirror_mode": {
    "name": "ipython",
    "version": 3
   },
   "file_extension": ".py",
   "mimetype": "text/x-python",
   "name": "python",
   "nbconvert_exporter": "python",
   "pygments_lexer": "ipython3",
   "version": "3.6.8"
  }
 },
 "nbformat": 4,
 "nbformat_minor": 2
}
