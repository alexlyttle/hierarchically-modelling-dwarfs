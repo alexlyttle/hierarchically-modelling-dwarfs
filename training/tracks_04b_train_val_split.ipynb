{
 "cells": [
  {
   "cell_type": "code",
   "execution_count": 1,
   "metadata": {},
   "outputs": [],
   "source": [
    "import os\n",
    "import matplotlib.pyplot as plt\n",
    "from interstellar import Tracks, set_seed\n",
    "import numpy as np"
   ]
  },
  {
   "cell_type": "code",
   "execution_count": 2,
   "metadata": {},
   "outputs": [],
   "source": [
    "seed = 101\n",
    "name = 'tracks_04b'\n",
    "tracks_path = f'/home/ADF/ajl573/Data/interstellar_data/{name}'\n",
    "tracks = Tracks(name=name)\n",
    "tracks.load(tracks_path)"
   ]
  },
  {
   "cell_type": "code",
   "execution_count": 3,
   "metadata": {},
   "outputs": [
    {
     "data": {
      "text/html": [
       "<div>\n",
       "<style scoped>\n",
       "    .dataframe tbody tr th:only-of-type {\n",
       "        vertical-align: middle;\n",
       "    }\n",
       "\n",
       "    .dataframe tbody tr th {\n",
       "        vertical-align: top;\n",
       "    }\n",
       "\n",
       "    .dataframe thead th {\n",
       "        text-align: right;\n",
       "    }\n",
       "</style>\n",
       "<table border=\"1\" class=\"dataframe\">\n",
       "  <thead>\n",
       "    <tr style=\"text-align: right;\">\n",
       "      <th></th>\n",
       "      <th>file_path</th>\n",
       "      <th>m</th>\n",
       "      <th>Y</th>\n",
       "      <th>FeH</th>\n",
       "      <th>MLT</th>\n",
       "      <th>ov</th>\n",
       "      <th>dif</th>\n",
       "    </tr>\n",
       "  </thead>\n",
       "  <tbody>\n",
       "    <tr>\n",
       "      <th>0</th>\n",
       "      <td>/rds/projects/d/daviesgr-cartography/mesa_grid...</td>\n",
       "      <td>1.00</td>\n",
       "      <td>0.24</td>\n",
       "      <td>-0.1</td>\n",
       "      <td>2.3</td>\n",
       "      <td>0.0</td>\n",
       "      <td>1</td>\n",
       "    </tr>\n",
       "    <tr>\n",
       "      <th>1</th>\n",
       "      <td>/rds/projects/d/daviesgr-cartography/mesa_grid...</td>\n",
       "      <td>0.94</td>\n",
       "      <td>0.32</td>\n",
       "      <td>0.0</td>\n",
       "      <td>2.5</td>\n",
       "      <td>0.0</td>\n",
       "      <td>1</td>\n",
       "    </tr>\n",
       "    <tr>\n",
       "      <th>2</th>\n",
       "      <td>/rds/projects/d/daviesgr-cartography/mesa_grid...</td>\n",
       "      <td>0.92</td>\n",
       "      <td>0.28</td>\n",
       "      <td>-0.3</td>\n",
       "      <td>1.7</td>\n",
       "      <td>0.0</td>\n",
       "      <td>1</td>\n",
       "    </tr>\n",
       "    <tr>\n",
       "      <th>3</th>\n",
       "      <td>/rds/projects/d/daviesgr-cartography/mesa_grid...</td>\n",
       "      <td>0.91</td>\n",
       "      <td>0.32</td>\n",
       "      <td>0.0</td>\n",
       "      <td>2.5</td>\n",
       "      <td>0.0</td>\n",
       "      <td>1</td>\n",
       "    </tr>\n",
       "    <tr>\n",
       "      <th>4</th>\n",
       "      <td>/rds/projects/d/daviesgr-cartography/mesa_grid...</td>\n",
       "      <td>1.01</td>\n",
       "      <td>0.30</td>\n",
       "      <td>-0.1</td>\n",
       "      <td>2.5</td>\n",
       "      <td>0.0</td>\n",
       "      <td>1</td>\n",
       "    </tr>\n",
       "  </tbody>\n",
       "</table>\n",
       "</div>"
      ],
      "text/plain": [
       "                                           file_path     m     Y  FeH  MLT  \\\n",
       "0  /rds/projects/d/daviesgr-cartography/mesa_grid...  1.00  0.24 -0.1  2.3   \n",
       "1  /rds/projects/d/daviesgr-cartography/mesa_grid...  0.94  0.32  0.0  2.5   \n",
       "2  /rds/projects/d/daviesgr-cartography/mesa_grid...  0.92  0.28 -0.3  1.7   \n",
       "3  /rds/projects/d/daviesgr-cartography/mesa_grid...  0.91  0.32  0.0  2.5   \n",
       "4  /rds/projects/d/daviesgr-cartography/mesa_grid...  1.01  0.30 -0.1  2.5   \n",
       "\n",
       "    ov  dif  \n",
       "0  0.0    1  \n",
       "1  0.0    1  \n",
       "2  0.0    1  \n",
       "3  0.0    1  \n",
       "4  0.0    1  "
      ]
     },
     "execution_count": 3,
     "metadata": {},
     "output_type": "execute_result"
    }
   ],
   "source": [
    "tracks.get_metadata().head()"
   ]
  },
  {
   "cell_type": "code",
   "execution_count": 4,
   "metadata": {},
   "outputs": [
    {
     "data": {
      "text/html": [
       "<div>\n",
       "<style scoped>\n",
       "    .dataframe tbody tr th:only-of-type {\n",
       "        vertical-align: middle;\n",
       "    }\n",
       "\n",
       "    .dataframe tbody tr th {\n",
       "        vertical-align: top;\n",
       "    }\n",
       "\n",
       "    .dataframe thead th {\n",
       "        text-align: right;\n",
       "    }\n",
       "</style>\n",
       "<table border=\"1\" class=\"dataframe\">\n",
       "  <thead>\n",
       "    <tr style=\"text-align: right;\">\n",
       "      <th></th>\n",
       "      <th>evol_stage</th>\n",
       "      <th>initial_mass</th>\n",
       "      <th>initial_Yinit</th>\n",
       "      <th>initial_feh</th>\n",
       "      <th>initial_MLT</th>\n",
       "      <th>star_age</th>\n",
       "      <th>frac_age</th>\n",
       "      <th>effective_T</th>\n",
       "      <th>luminosity</th>\n",
       "      <th>radius</th>\n",
       "      <th>log_g</th>\n",
       "      <th>surface_he4</th>\n",
       "      <th>surface_Z</th>\n",
       "      <th>star_feh</th>\n",
       "      <th>delta_nu_fit</th>\n",
       "      <th>initial_Zinit</th>\n",
       "      <th>gradient</th>\n",
       "    </tr>\n",
       "  </thead>\n",
       "  <tbody>\n",
       "    <tr>\n",
       "      <th>0</th>\n",
       "      <td>1</td>\n",
       "      <td>1.0</td>\n",
       "      <td>0.24</td>\n",
       "      <td>-0.1</td>\n",
       "      <td>2.3</td>\n",
       "      <td>0.101718</td>\n",
       "      <td>0.011245</td>\n",
       "      <td>5761.7700</td>\n",
       "      <td>0.750791</td>\n",
       "      <td>0.870776</td>\n",
       "      <td>4.558076</td>\n",
       "      <td>0.239467</td>\n",
       "      <td>0.010753</td>\n",
       "      <td>-0.101076</td>\n",
       "      <td>166.23111</td>\n",
       "      <td>0.010772</td>\n",
       "      <td>0.000202</td>\n",
       "    </tr>\n",
       "    <tr>\n",
       "      <th>1</th>\n",
       "      <td>1</td>\n",
       "      <td>1.0</td>\n",
       "      <td>0.24</td>\n",
       "      <td>-0.1</td>\n",
       "      <td>2.3</td>\n",
       "      <td>0.115514</td>\n",
       "      <td>0.012770</td>\n",
       "      <td>5762.3745</td>\n",
       "      <td>0.752437</td>\n",
       "      <td>0.871547</td>\n",
       "      <td>4.557307</td>\n",
       "      <td>0.239379</td>\n",
       "      <td>0.010749</td>\n",
       "      <td>-0.101265</td>\n",
       "      <td>166.01129</td>\n",
       "      <td>0.010772</td>\n",
       "      <td>0.000203</td>\n",
       "    </tr>\n",
       "    <tr>\n",
       "      <th>2</th>\n",
       "      <td>1</td>\n",
       "      <td>1.0</td>\n",
       "      <td>0.24</td>\n",
       "      <td>-0.1</td>\n",
       "      <td>2.3</td>\n",
       "      <td>0.132069</td>\n",
       "      <td>0.014600</td>\n",
       "      <td>5762.9420</td>\n",
       "      <td>0.754108</td>\n",
       "      <td>0.872343</td>\n",
       "      <td>4.556515</td>\n",
       "      <td>0.239273</td>\n",
       "      <td>0.010745</td>\n",
       "      <td>-0.101491</td>\n",
       "      <td>165.78581</td>\n",
       "      <td>0.010772</td>\n",
       "      <td>0.000207</td>\n",
       "    </tr>\n",
       "    <tr>\n",
       "      <th>3</th>\n",
       "      <td>1</td>\n",
       "      <td>1.0</td>\n",
       "      <td>0.24</td>\n",
       "      <td>-0.1</td>\n",
       "      <td>2.3</td>\n",
       "      <td>0.151936</td>\n",
       "      <td>0.016796</td>\n",
       "      <td>5763.4970</td>\n",
       "      <td>0.755837</td>\n",
       "      <td>0.873174</td>\n",
       "      <td>4.555688</td>\n",
       "      <td>0.239144</td>\n",
       "      <td>0.010740</td>\n",
       "      <td>-0.101767</td>\n",
       "      <td>165.55112</td>\n",
       "      <td>0.010772</td>\n",
       "      <td>0.000216</td>\n",
       "    </tr>\n",
       "    <tr>\n",
       "      <th>4</th>\n",
       "      <td>1</td>\n",
       "      <td>1.0</td>\n",
       "      <td>0.24</td>\n",
       "      <td>-0.1</td>\n",
       "      <td>2.3</td>\n",
       "      <td>0.175776</td>\n",
       "      <td>0.019431</td>\n",
       "      <td>5764.0933</td>\n",
       "      <td>0.757678</td>\n",
       "      <td>0.874056</td>\n",
       "      <td>4.554811</td>\n",
       "      <td>0.238991</td>\n",
       "      <td>0.010735</td>\n",
       "      <td>-0.102098</td>\n",
       "      <td>165.30295</td>\n",
       "      <td>0.010772</td>\n",
       "      <td>0.000233</td>\n",
       "    </tr>\n",
       "  </tbody>\n",
       "</table>\n",
       "</div>"
      ],
      "text/plain": [
       "   evol_stage  initial_mass  initial_Yinit  initial_feh  initial_MLT  \\\n",
       "0           1           1.0           0.24         -0.1          2.3   \n",
       "1           1           1.0           0.24         -0.1          2.3   \n",
       "2           1           1.0           0.24         -0.1          2.3   \n",
       "3           1           1.0           0.24         -0.1          2.3   \n",
       "4           1           1.0           0.24         -0.1          2.3   \n",
       "\n",
       "   star_age  frac_age  effective_T  luminosity    radius     log_g  \\\n",
       "0  0.101718  0.011245    5761.7700    0.750791  0.870776  4.558076   \n",
       "1  0.115514  0.012770    5762.3745    0.752437  0.871547  4.557307   \n",
       "2  0.132069  0.014600    5762.9420    0.754108  0.872343  4.556515   \n",
       "3  0.151936  0.016796    5763.4970    0.755837  0.873174  4.555688   \n",
       "4  0.175776  0.019431    5764.0933    0.757678  0.874056  4.554811   \n",
       "\n",
       "   surface_he4  surface_Z  star_feh  delta_nu_fit  initial_Zinit  gradient  \n",
       "0     0.239467   0.010753 -0.101076     166.23111       0.010772  0.000202  \n",
       "1     0.239379   0.010749 -0.101265     166.01129       0.010772  0.000203  \n",
       "2     0.239273   0.010745 -0.101491     165.78581       0.010772  0.000207  \n",
       "3     0.239144   0.010740 -0.101767     165.55112       0.010772  0.000216  \n",
       "4     0.238991   0.010735 -0.102098     165.30295       0.010772  0.000233  "
      ]
     },
     "execution_count": 4,
     "metadata": {},
     "output_type": "execute_result"
    }
   ],
   "source": [
    "tracks.get_data().head()"
   ]
  },
  {
   "cell_type": "code",
   "execution_count": 9,
   "metadata": {},
   "outputs": [],
   "source": [
    "x_cols = ['frac_age', 'initial_mass', 'initial_MLT', \n",
    "          'initial_Yinit', 'initial_Zinit',]\n",
    "y_cols = ['star_age', 'effective_T', 'radius',\n",
    "          'delta_nu_fit', 'star_feh']"
   ]
  },
  {
   "cell_type": "code",
   "execution_count": 10,
   "metadata": {},
   "outputs": [
    {
     "data": {
      "image/png": "[encoded data removed]",
      "text/plain": [
       "<Figure size 432x288 with 1 Axes>"
      ]
     },
     "metadata": {
      "needs_background": "light"
     },
     "output_type": "display_data"
    },
    {
     "data": {
      "image/png": "[encoded data removed]",
      "text/plain": [
       "<Figure size 432x288 with 1 Axes>"
      ]
     },
     "metadata": {
      "needs_background": "light"
     },
     "output_type": "display_data"
    },
    {
     "data": {
      "image/png": "[encoded data removed]",
      "text/plain": [
       "<Figure size 432x288 with 1 Axes>"
      ]
     },
     "metadata": {
      "needs_background": "light"
     },
     "output_type": "display_data"
    },
    {
     "data": {
      "image/png": "[encoded data removed]",
      "text/plain": [
       "<Figure size 432x288 with 1 Axes>"
      ]
     },
     "metadata": {
      "needs_background": "light"
     },
     "output_type": "display_data"
    },
    {
     "data": {
      "image/png": "[encoded data removed]",
      "text/plain": [
       "<Figure size 432x288 with 1 Axes>"
      ]
     },
     "metadata": {
      "needs_background": "light"
     },
     "output_type": "display_data"
    },
    {
     "data": {
      "image/png": "[encoded data removed]",
      "text/plain": [
       "<Figure size 432x288 with 1 Axes>"
      ]
     },
     "metadata": {
      "needs_background": "light"
     },
     "output_type": "display_data"
    },
    {
     "data": {
      "image/png": "[encoded data removed]",
      "text/plain": [
       "<Figure size 432x288 with 1 Axes>"
      ]
     },
     "metadata": {
      "needs_background": "light"
     },
     "output_type": "display_data"
    },
    {
     "data": {
      "image/png": "[encoded data removed]",
      "text/plain": [
       "<Figure size 432x288 with 1 Axes>"
      ]
     },
     "metadata": {
      "needs_background": "light"
     },
     "output_type": "display_data"
    },
    {
     "data": {
      "image/png": "[encoded data removed]",
      "text/plain": [
       "<Figure size 432x288 with 1 Axes>"
      ]
     },
     "metadata": {
      "needs_background": "light"
     },
     "output_type": "display_data"
    },
    {
     "data": {
      "image/png": "[encoded data removed]",
      "text/plain": [
       "<Figure size 432x288 with 1 Axes>"
      ]
     },
     "metadata": {
      "needs_background": "light"
     },
     "output_type": "display_data"
    }
   ],
   "source": [
    "for col in x_cols+y_cols:\n",
    "    fig, ax = plt.subplots()\n",
    "    tracks.sample_data(number=10000).plot(ax=ax, kind='hist',\n",
    "                           y=col, bins=20, alpha=0.5)\n",
    "    ax.set_title(col)"
   ]
  },
  {
   "cell_type": "markdown",
   "metadata": {},
   "source": [
    "## Choose log cols\n",
    "\n",
    "From these histograms it makes sense to log star age and radius, with everything else to be scaled in the training set."
   ]
  },
  {
   "cell_type": "code",
   "execution_count": 13,
   "metadata": {},
   "outputs": [],
   "source": [
    "log_cols = ['star_age', 'radius']\n",
    "\n",
    "tracks.log10(columns=log_cols, inplace=True)"
   ]
  },
  {
   "cell_type": "code",
   "execution_count": 14,
   "metadata": {},
   "outputs": [],
   "source": [
    "tracks._data.drop(columns=log_cols, inplace=True)"
   ]
  },
  {
   "cell_type": "markdown",
   "metadata": {},
   "source": [
    "## Train Validation split\n",
    "\n",
    "Choose the train-validation split by sampling 80% of the tracks data and then "
   ]
  },
  {
   "cell_type": "code",
   "execution_count": 15,
   "metadata": {},
   "outputs": [],
   "source": [
    "train = tracks.sample_data(fraction=0.8, random_state=seed)"
   ]
  },
  {
   "cell_type": "code",
   "execution_count": 22,
   "metadata": {},
   "outputs": [],
   "source": [
    "val = tracks._data.loc[~tracks._data.index.isin(train.index)]"
   ]
  },
  {
   "cell_type": "code",
   "execution_count": 25,
   "metadata": {},
   "outputs": [
    {
     "name": "stdout",
     "output_type": "stream",
     "text": [
      "Length of training data = 7735733\n",
      "Length of validation data = 1933933\n"
     ]
    }
   ],
   "source": [
    "print(f'Length of training data = {len(train)}')\n",
    "print(f'Length of validation data = {len(val)}')"
   ]
  },
  {
   "cell_type": "code",
   "execution_count": 28,
   "metadata": {},
   "outputs": [],
   "source": [
    "train.to_csv(os.path.join(tracks_path, f'{tracks.name}_train.csv'), index=False)\n",
    "val.to_csv(os.path.join(tracks_path, f'{tracks.name}_val.csv'), index=False)"
   ]
  },
  {
   "cell_type": "code",
   "execution_count": null,
   "metadata": {},
   "outputs": [],
   "source": []
  }
 ],
 "metadata": {
  "kernelspec": {
   "display_name": "Python 3 (Interstellar)",
   "language": "python",
   "name": "interstellar"
  },
  "language_info": {
   "codemirror_mode": {
    "name": "ipython",
    "version": 3
   },
   "file_extension": ".py",
   "mimetype": "text/x-python",
   "name": "python",
   "nbconvert_exporter": "python",
   "pygments_lexer": "ipython3",
   "version": "3.6.8"
  }
 },
 "nbformat": 4,
 "nbformat_minor": 2
}
