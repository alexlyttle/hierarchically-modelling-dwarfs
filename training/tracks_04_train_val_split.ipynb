{
 "cells": [
  {
   "cell_type": "code",
   "execution_count": 1,
   "metadata": {},
   "outputs": [],
   "source": [
    "import os\n",
    "import matplotlib.pyplot as plt\n",
    "from interstellar import Tracks, set_seed"
   ]
  },
  {
   "cell_type": "code",
   "execution_count": 2,
   "metadata": {},
   "outputs": [],
   "source": [
    "seed = 101\n",
    "name = 'tracks_04'\n",
    "tracks_path = f'/home/ADF/ajl573/Data/interstellar_data/{name}'\n",
    "tracks = Tracks(name=name)\n",
    "tracks.load(tracks_path)"
   ]
  },
  {
   "cell_type": "code",
   "execution_count": 3,
   "metadata": {},
   "outputs": [
    {
     "data": {
      "text/html": [
       "<div>\n",
       "<style scoped>\n",
       "    .dataframe tbody tr th:only-of-type {\n",
       "        vertical-align: middle;\n",
       "    }\n",
       "\n",
       "    .dataframe tbody tr th {\n",
       "        vertical-align: top;\n",
       "    }\n",
       "\n",
       "    .dataframe thead th {\n",
       "        text-align: right;\n",
       "    }\n",
       "</style>\n",
       "<table border=\"1\" class=\"dataframe\">\n",
       "  <thead>\n",
       "    <tr style=\"text-align: right;\">\n",
       "      <th></th>\n",
       "      <th>file_path</th>\n",
       "      <th>m</th>\n",
       "      <th>Y</th>\n",
       "      <th>FeH</th>\n",
       "      <th>MLT</th>\n",
       "      <th>ov</th>\n",
       "      <th>dif</th>\n",
       "    </tr>\n",
       "  </thead>\n",
       "  <tbody>\n",
       "    <tr>\n",
       "      <th>0</th>\n",
       "      <td>/rds/projects/d/daviesgr-cartography/mesa_grid...</td>\n",
       "      <td>1.00</td>\n",
       "      <td>0.24</td>\n",
       "      <td>-0.1</td>\n",
       "      <td>2.3</td>\n",
       "      <td>0.0</td>\n",
       "      <td>1</td>\n",
       "    </tr>\n",
       "    <tr>\n",
       "      <th>1</th>\n",
       "      <td>/rds/projects/d/daviesgr-cartography/mesa_grid...</td>\n",
       "      <td>0.94</td>\n",
       "      <td>0.32</td>\n",
       "      <td>0.0</td>\n",
       "      <td>2.5</td>\n",
       "      <td>0.0</td>\n",
       "      <td>1</td>\n",
       "    </tr>\n",
       "    <tr>\n",
       "      <th>2</th>\n",
       "      <td>/rds/projects/d/daviesgr-cartography/mesa_grid...</td>\n",
       "      <td>0.92</td>\n",
       "      <td>0.28</td>\n",
       "      <td>-0.3</td>\n",
       "      <td>1.7</td>\n",
       "      <td>0.0</td>\n",
       "      <td>1</td>\n",
       "    </tr>\n",
       "    <tr>\n",
       "      <th>3</th>\n",
       "      <td>/rds/projects/d/daviesgr-cartography/mesa_grid...</td>\n",
       "      <td>0.91</td>\n",
       "      <td>0.32</td>\n",
       "      <td>0.0</td>\n",
       "      <td>2.5</td>\n",
       "      <td>0.0</td>\n",
       "      <td>1</td>\n",
       "    </tr>\n",
       "    <tr>\n",
       "      <th>4</th>\n",
       "      <td>/rds/projects/d/daviesgr-cartography/mesa_grid...</td>\n",
       "      <td>1.01</td>\n",
       "      <td>0.30</td>\n",
       "      <td>-0.1</td>\n",
       "      <td>2.5</td>\n",
       "      <td>0.0</td>\n",
       "      <td>1</td>\n",
       "    </tr>\n",
       "  </tbody>\n",
       "</table>\n",
       "</div>"
      ],
      "text/plain": [
       "                                           file_path     m     Y  FeH  MLT  \\\n",
       "0  /rds/projects/d/daviesgr-cartography/mesa_grid...  1.00  0.24 -0.1  2.3   \n",
       "1  /rds/projects/d/daviesgr-cartography/mesa_grid...  0.94  0.32  0.0  2.5   \n",
       "2  /rds/projects/d/daviesgr-cartography/mesa_grid...  0.92  0.28 -0.3  1.7   \n",
       "3  /rds/projects/d/daviesgr-cartography/mesa_grid...  0.91  0.32  0.0  2.5   \n",
       "4  /rds/projects/d/daviesgr-cartography/mesa_grid...  1.01  0.30 -0.1  2.5   \n",
       "\n",
       "    ov  dif  \n",
       "0  0.0    1  \n",
       "1  0.0    1  \n",
       "2  0.0    1  \n",
       "3  0.0    1  \n",
       "4  0.0    1  "
      ]
     },
     "execution_count": 3,
     "metadata": {},
     "output_type": "execute_result"
    }
   ],
   "source": [
    "tracks.get_metadata().head()"
   ]
  },
  {
   "cell_type": "code",
   "execution_count": 4,
   "metadata": {},
   "outputs": [
    {
     "data": {
      "text/html": [
       "<div>\n",
       "<style scoped>\n",
       "    .dataframe tbody tr th:only-of-type {\n",
       "        vertical-align: middle;\n",
       "    }\n",
       "\n",
       "    .dataframe tbody tr th {\n",
       "        vertical-align: top;\n",
       "    }\n",
       "\n",
       "    .dataframe thead th {\n",
       "        text-align: right;\n",
       "    }\n",
       "</style>\n",
       "<table border=\"1\" class=\"dataframe\">\n",
       "  <thead>\n",
       "    <tr style=\"text-align: right;\">\n",
       "      <th></th>\n",
       "      <th>log_frac_age_norm</th>\n",
       "      <th>log_initial_mass_norm</th>\n",
       "      <th>log_initial_MLT_norm</th>\n",
       "      <th>initial_feh_norm</th>\n",
       "      <th>log_initial_Yinit_norm</th>\n",
       "      <th>log_initial_Zinit_norm</th>\n",
       "      <th>log_star_age_norm</th>\n",
       "      <th>log_effective_T_norm</th>\n",
       "      <th>log_radius_norm</th>\n",
       "      <th>log_delta_nu_fit_norm</th>\n",
       "      <th>star_feh_norm</th>\n",
       "      <th>log_surface_he4_norm</th>\n",
       "      <th>log_surface_Z_norm</th>\n",
       "    </tr>\n",
       "  </thead>\n",
       "  <tbody>\n",
       "    <tr>\n",
       "      <th>0</th>\n",
       "      <td>-1.881058</td>\n",
       "      <td>0.0</td>\n",
       "      <td>0.082728</td>\n",
       "      <td>-0.1</td>\n",
       "      <td>-0.066789</td>\n",
       "      <td>-0.062707</td>\n",
       "      <td>-1.734604</td>\n",
       "      <td>0.005556</td>\n",
       "      <td>-0.152094</td>\n",
       "      <td>0.225712</td>\n",
       "      <td>-0.006076</td>\n",
       "      <td>0.001246</td>\n",
       "      <td>-0.012479</td>\n",
       "    </tr>\n",
       "    <tr>\n",
       "      <th>1</th>\n",
       "      <td>-1.825820</td>\n",
       "      <td>0.0</td>\n",
       "      <td>0.082728</td>\n",
       "      <td>-0.1</td>\n",
       "      <td>-0.066789</td>\n",
       "      <td>-0.062707</td>\n",
       "      <td>-1.679366</td>\n",
       "      <td>0.005601</td>\n",
       "      <td>-0.151709</td>\n",
       "      <td>0.225138</td>\n",
       "      <td>-0.006265</td>\n",
       "      <td>0.001086</td>\n",
       "      <td>-0.012614</td>\n",
       "    </tr>\n",
       "    <tr>\n",
       "      <th>2</th>\n",
       "      <td>-1.767652</td>\n",
       "      <td>0.0</td>\n",
       "      <td>0.082728</td>\n",
       "      <td>-0.1</td>\n",
       "      <td>-0.066789</td>\n",
       "      <td>-0.062707</td>\n",
       "      <td>-1.621198</td>\n",
       "      <td>0.005644</td>\n",
       "      <td>-0.151313</td>\n",
       "      <td>0.224547</td>\n",
       "      <td>-0.006491</td>\n",
       "      <td>0.000894</td>\n",
       "      <td>-0.012777</td>\n",
       "    </tr>\n",
       "    <tr>\n",
       "      <th>3</th>\n",
       "      <td>-1.706793</td>\n",
       "      <td>0.0</td>\n",
       "      <td>0.082728</td>\n",
       "      <td>-0.1</td>\n",
       "      <td>-0.066789</td>\n",
       "      <td>-0.062707</td>\n",
       "      <td>-1.560340</td>\n",
       "      <td>0.005686</td>\n",
       "      <td>-0.150899</td>\n",
       "      <td>0.223932</td>\n",
       "      <td>-0.006767</td>\n",
       "      <td>0.000660</td>\n",
       "      <td>-0.012976</td>\n",
       "    </tr>\n",
       "    <tr>\n",
       "      <th>4</th>\n",
       "      <td>-1.643494</td>\n",
       "      <td>0.0</td>\n",
       "      <td>0.082728</td>\n",
       "      <td>-0.1</td>\n",
       "      <td>-0.066789</td>\n",
       "      <td>-0.062707</td>\n",
       "      <td>-1.497041</td>\n",
       "      <td>0.005731</td>\n",
       "      <td>-0.150461</td>\n",
       "      <td>0.223281</td>\n",
       "      <td>-0.007098</td>\n",
       "      <td>0.000381</td>\n",
       "      <td>-0.013213</td>\n",
       "    </tr>\n",
       "  </tbody>\n",
       "</table>\n",
       "</div>"
      ],
      "text/plain": [
       "   log_frac_age_norm  log_initial_mass_norm  log_initial_MLT_norm  \\\n",
       "0          -1.881058                    0.0              0.082728   \n",
       "1          -1.825820                    0.0              0.082728   \n",
       "2          -1.767652                    0.0              0.082728   \n",
       "3          -1.706793                    0.0              0.082728   \n",
       "4          -1.643494                    0.0              0.082728   \n",
       "\n",
       "   initial_feh_norm  log_initial_Yinit_norm  log_initial_Zinit_norm  \\\n",
       "0              -0.1               -0.066789               -0.062707   \n",
       "1              -0.1               -0.066789               -0.062707   \n",
       "2              -0.1               -0.066789               -0.062707   \n",
       "3              -0.1               -0.066789               -0.062707   \n",
       "4              -0.1               -0.066789               -0.062707   \n",
       "\n",
       "   log_star_age_norm  log_effective_T_norm  log_radius_norm  \\\n",
       "0          -1.734604              0.005556        -0.152094   \n",
       "1          -1.679366              0.005601        -0.151709   \n",
       "2          -1.621198              0.005644        -0.151313   \n",
       "3          -1.560340              0.005686        -0.150899   \n",
       "4          -1.497041              0.005731        -0.150461   \n",
       "\n",
       "   log_delta_nu_fit_norm  star_feh_norm  log_surface_he4_norm  \\\n",
       "0               0.225712      -0.006076              0.001246   \n",
       "1               0.225138      -0.006265              0.001086   \n",
       "2               0.224547      -0.006491              0.000894   \n",
       "3               0.223932      -0.006767              0.000660   \n",
       "4               0.223281      -0.007098              0.000381   \n",
       "\n",
       "   log_surface_Z_norm  \n",
       "0           -0.012479  \n",
       "1           -0.012614  \n",
       "2           -0.012777  \n",
       "3           -0.012976  \n",
       "4           -0.013213  "
      ]
     },
     "execution_count": 4,
     "metadata": {},
     "output_type": "execute_result"
    }
   ],
   "source": [
    "tracks.get_data().head()"
   ]
  },
  {
   "cell_type": "code",
   "execution_count": 5,
   "metadata": {},
   "outputs": [],
   "source": [
    "x_cols = ['log_frac_age_norm', 'log_initial_mass_norm', 'log_initial_MLT_norm', \n",
    "          'log_initial_Yinit_norm', 'log_initial_Zinit_norm',]\n",
    "y_cols = ['log_star_age_norm', 'log_effective_T_norm', 'log_radius_norm',\n",
    "          'log_delta_nu_fit_norm', 'star_feh_norm']"
   ]
  },
  {
   "cell_type": "code",
   "execution_count": 6,
   "metadata": {},
   "outputs": [
    {
     "data": {
      "image/png": "[encoded data removed]",
      "text/plain": [
       "<Figure size 1152x648 with 1 Axes>"
      ]
     },
     "metadata": {
      "needs_background": "light"
     },
     "output_type": "display_data"
    }
   ],
   "source": [
    "ax = tracks.get_data().plot(kind='hist', figsize=(16, 9),\n",
    "                       y=x_cols, bins=40, alpha=0.5)\n",
    "ax.set_title('Inputs');"
   ]
  },
  {
   "cell_type": "code",
   "execution_count": 7,
   "metadata": {},
   "outputs": [
    {
     "data": {
      "image/png": "[encoded data removed]",
      "text/plain": [
       "<Figure size 1152x648 with 1 Axes>"
      ]
     },
     "metadata": {
      "needs_background": "light"
     },
     "output_type": "display_data"
    }
   ],
   "source": [
    "ax = tracks.get_data().plot(kind='hist', figsize=(16, 9),\n",
    "                       y=y_cols, bins=40, alpha=0.5)\n",
    "ax.set_title('Outputs');"
   ]
  },
  {
   "cell_type": "markdown",
   "metadata": {},
   "source": [
    "Shuffle the data and select columns"
   ]
  },
  {
   "cell_type": "code",
   "execution_count": 8,
   "metadata": {},
   "outputs": [
    {
     "data": {
      "text/html": [
       "<div>\n",
       "<style scoped>\n",
       "    .dataframe tbody tr th:only-of-type {\n",
       "        vertical-align: middle;\n",
       "    }\n",
       "\n",
       "    .dataframe tbody tr th {\n",
       "        vertical-align: top;\n",
       "    }\n",
       "\n",
       "    .dataframe thead th {\n",
       "        text-align: right;\n",
       "    }\n",
       "</style>\n",
       "<table border=\"1\" class=\"dataframe\">\n",
       "  <thead>\n",
       "    <tr style=\"text-align: right;\">\n",
       "      <th></th>\n",
       "      <th>log_frac_age_norm</th>\n",
       "      <th>log_initial_mass_norm</th>\n",
       "      <th>log_initial_MLT_norm</th>\n",
       "      <th>log_initial_Yinit_norm</th>\n",
       "      <th>log_initial_Zinit_norm</th>\n",
       "      <th>log_star_age_norm</th>\n",
       "      <th>log_effective_T_norm</th>\n",
       "      <th>log_radius_norm</th>\n",
       "      <th>log_delta_nu_fit_norm</th>\n",
       "      <th>star_feh_norm</th>\n",
       "    </tr>\n",
       "  </thead>\n",
       "  <tbody>\n",
       "    <tr>\n",
       "      <th>62279</th>\n",
       "      <td>0.009308</td>\n",
       "      <td>-0.031517</td>\n",
       "      <td>-0.102909</td>\n",
       "      <td>0.000158</td>\n",
       "      <td>0.495839</td>\n",
       "      <td>0.472568</td>\n",
       "      <td>-0.067146</td>\n",
       "      <td>-0.056785</td>\n",
       "      <td>0.073284</td>\n",
       "      <td>0.487025</td>\n",
       "    </tr>\n",
       "    <tr>\n",
       "      <th>4185218</th>\n",
       "      <td>0.152353</td>\n",
       "      <td>-0.050610</td>\n",
       "      <td>-0.102909</td>\n",
       "      <td>-0.032027</td>\n",
       "      <td>0.024120</td>\n",
       "      <td>0.483799</td>\n",
       "      <td>-0.073189</td>\n",
       "      <td>0.166551</td>\n",
       "      <td>-0.268818</td>\n",
       "      <td>0.054685</td>\n",
       "    </tr>\n",
       "    <tr>\n",
       "      <th>7478373</th>\n",
       "      <td>-0.361507</td>\n",
       "      <td>-0.045757</td>\n",
       "      <td>-0.048551</td>\n",
       "      <td>0.030121</td>\n",
       "      <td>0.292369</td>\n",
       "      <td>-0.035501</td>\n",
       "      <td>-0.040335</td>\n",
       "      <td>-0.143945</td>\n",
       "      <td>0.193347</td>\n",
       "      <td>0.349513</td>\n",
       "    </tr>\n",
       "    <tr>\n",
       "      <th>4993317</th>\n",
       "      <td>-0.818465</td>\n",
       "      <td>-0.065502</td>\n",
       "      <td>0.082728</td>\n",
       "      <td>0.058150</td>\n",
       "      <td>-0.209744</td>\n",
       "      <td>-0.743654</td>\n",
       "      <td>0.022823</td>\n",
       "      <td>-0.180811</td>\n",
       "      <td>0.234198</td>\n",
       "      <td>-0.125041</td>\n",
       "    </tr>\n",
       "    <tr>\n",
       "      <th>5026900</th>\n",
       "      <td>-0.462858</td>\n",
       "      <td>-0.017729</td>\n",
       "      <td>0.043219</td>\n",
       "      <td>0.030121</td>\n",
       "      <td>0.195494</td>\n",
       "      <td>-0.311242</td>\n",
       "      <td>-0.003517</td>\n",
       "      <td>-0.134803</td>\n",
       "      <td>0.192343</td>\n",
       "      <td>0.264007</td>\n",
       "    </tr>\n",
       "  </tbody>\n",
       "</table>\n",
       "</div>"
      ],
      "text/plain": [
       "         log_frac_age_norm  log_initial_mass_norm  log_initial_MLT_norm  \\\n",
       "62279             0.009308              -0.031517             -0.102909   \n",
       "4185218           0.152353              -0.050610             -0.102909   \n",
       "7478373          -0.361507              -0.045757             -0.048551   \n",
       "4993317          -0.818465              -0.065502              0.082728   \n",
       "5026900          -0.462858              -0.017729              0.043219   \n",
       "\n",
       "         log_initial_Yinit_norm  log_initial_Zinit_norm  log_star_age_norm  \\\n",
       "62279                  0.000158                0.495839           0.472568   \n",
       "4185218               -0.032027                0.024120           0.483799   \n",
       "7478373                0.030121                0.292369          -0.035501   \n",
       "4993317                0.058150               -0.209744          -0.743654   \n",
       "5026900                0.030121                0.195494          -0.311242   \n",
       "\n",
       "         log_effective_T_norm  log_radius_norm  log_delta_nu_fit_norm  \\\n",
       "62279               -0.067146        -0.056785               0.073284   \n",
       "4185218             -0.073189         0.166551              -0.268818   \n",
       "7478373             -0.040335        -0.143945               0.193347   \n",
       "4993317              0.022823        -0.180811               0.234198   \n",
       "5026900             -0.003517        -0.134803               0.192343   \n",
       "\n",
       "         star_feh_norm  \n",
       "62279         0.487025  \n",
       "4185218       0.054685  \n",
       "7478373       0.349513  \n",
       "4993317      -0.125041  \n",
       "5026900       0.264007  "
      ]
     },
     "execution_count": 8,
     "metadata": {},
     "output_type": "execute_result"
    }
   ],
   "source": [
    "set_seed(seed)\n",
    "data = tracks.sample_data(fraction=1.0, columns=x_cols+y_cols)\n",
    "data.head()"
   ]
  },
  {
   "cell_type": "code",
   "execution_count": 9,
   "metadata": {},
   "outputs": [
    {
     "name": "stdout",
     "output_type": "stream",
     "text": [
      "Length of dataset = 7525326\n"
     ]
    }
   ],
   "source": [
    "print(f'Length of dataset = {len(data)}')"
   ]
  },
  {
   "cell_type": "code",
   "execution_count": 10,
   "metadata": {},
   "outputs": [],
   "source": [
    "train = data.head(int(0.8*len(data)) + 1)\n",
    "val = data.tail(int(0.2*len(data)))\n",
    "\n",
    "data = None  # Remove the data variable, no longer needed"
   ]
  },
  {
   "cell_type": "code",
   "execution_count": 11,
   "metadata": {},
   "outputs": [
    {
     "name": "stdout",
     "output_type": "stream",
     "text": [
      "Length of training data = 6020261\n",
      "Length of validation data = 1505065\n"
     ]
    }
   ],
   "source": [
    "print(f'Length of training data = {len(train)}')\n",
    "print(f'Length of validation data = {len(val)}')"
   ]
  },
  {
   "cell_type": "code",
   "execution_count": 12,
   "metadata": {},
   "outputs": [],
   "source": [
    "train.to_csv(os.path.join(tracks_path, f'{tracks.name}_train.csv'), index=False)\n",
    "val.to_csv(os.path.join(tracks_path, f'{tracks.name}_val.csv'), index=False)"
   ]
  },
  {
   "cell_type": "code",
   "execution_count": null,
   "metadata": {},
   "outputs": [],
   "source": []
  }
 ],
 "metadata": {
  "kernelspec": {
   "display_name": "Python 3 (Interstellar)",
   "language": "python",
   "name": "interstellar"
  },
  "language_info": {
   "codemirror_mode": {
    "name": "ipython",
    "version": 3
   },
   "file_extension": ".py",
   "mimetype": "text/x-python",
   "name": "python",
   "nbconvert_exporter": "python",
   "pygments_lexer": "ipython3",
   "version": "3.6.8"
  }
 },
 "nbformat": 4,
 "nbformat_minor": 2
}
