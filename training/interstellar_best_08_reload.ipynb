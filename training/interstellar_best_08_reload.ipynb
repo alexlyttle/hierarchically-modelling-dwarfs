{
 "cells": [
  {
   "cell_type": "code",
   "execution_count": 1,
   "metadata": {},
   "outputs": [],
   "source": [
    "import numpy as np\n",
    "import pandas as pd\n",
    "import matplotlib.pyplot as plt\n",
    "from interstellar import Tracks, DenseNetwork, set_seed\n",
    "import os"
   ]
  },
  {
   "cell_type": "code",
   "execution_count": 2,
   "metadata": {},
   "outputs": [],
   "source": [
    "seed = 101\n",
    "name = 'network_08'\n",
    "tracks = 'tracks_04b'\n",
    "save_path = f'/home/ADF/ajl573/Data/interstellar_data/{name}'\n",
    "load_path = f'/home/ADF/ajl573/Data/interstellar_data/{tracks}'"
   ]
  },
  {
   "cell_type": "code",
   "execution_count": 3,
   "metadata": {},
   "outputs": [],
   "source": [
    "if not os.path.exists(save_path):\n",
    "    os.mkdir(save_path)"
   ]
  },
  {
   "cell_type": "code",
   "execution_count": 4,
   "metadata": {},
   "outputs": [],
   "source": [
    "train = pd.read_csv(f'{load_path}/{tracks}_train.csv')"
   ]
  },
  {
   "cell_type": "code",
   "execution_count": 5,
   "metadata": {},
   "outputs": [
    {
     "data": {
      "text/plain": [
       "7735733"
      ]
     },
     "execution_count": 5,
     "metadata": {},
     "output_type": "execute_result"
    }
   ],
   "source": [
    "len(train)"
   ]
  },
  {
   "cell_type": "code",
   "execution_count": 6,
   "metadata": {},
   "outputs": [],
   "source": [
    "t = Tracks(name=tracks)\n",
    "t.set_data(train.sample(7735500, random_state=seed))\n",
    "\n",
    "del train"
   ]
  },
  {
   "cell_type": "code",
   "execution_count": 7,
   "metadata": {},
   "outputs": [
    {
     "data": {
      "text/html": [
       "<div>\n",
       "<style scoped>\n",
       "    .dataframe tbody tr th:only-of-type {\n",
       "        vertical-align: middle;\n",
       "    }\n",
       "\n",
       "    .dataframe tbody tr th {\n",
       "        vertical-align: top;\n",
       "    }\n",
       "\n",
       "    .dataframe thead th {\n",
       "        text-align: right;\n",
       "    }\n",
       "</style>\n",
       "<table border=\"1\" class=\"dataframe\">\n",
       "  <thead>\n",
       "    <tr style=\"text-align: right;\">\n",
       "      <th></th>\n",
       "      <th>evol_stage</th>\n",
       "      <th>initial_mass</th>\n",
       "      <th>initial_Yinit</th>\n",
       "      <th>initial_feh</th>\n",
       "      <th>initial_MLT</th>\n",
       "      <th>frac_age</th>\n",
       "      <th>effective_T</th>\n",
       "      <th>luminosity</th>\n",
       "      <th>log_g</th>\n",
       "      <th>surface_he4</th>\n",
       "      <th>surface_Z</th>\n",
       "      <th>star_feh</th>\n",
       "      <th>delta_nu_fit</th>\n",
       "      <th>initial_Zinit</th>\n",
       "      <th>gradient</th>\n",
       "      <th>log_star_age</th>\n",
       "      <th>log_radius</th>\n",
       "    </tr>\n",
       "  </thead>\n",
       "  <tbody>\n",
       "    <tr>\n",
       "      <th>5933768</th>\n",
       "      <td>1</td>\n",
       "      <td>1.17</td>\n",
       "      <td>0.24</td>\n",
       "      <td>-0.2</td>\n",
       "      <td>1.5</td>\n",
       "      <td>0.381987</td>\n",
       "      <td>6180.6750</td>\n",
       "      <td>2.203866</td>\n",
       "      <td>4.280516</td>\n",
       "      <td>0.121770</td>\n",
       "      <td>0.004602</td>\n",
       "      <td>-0.536008</td>\n",
       "      <td>97.249210</td>\n",
       "      <td>0.008581</td>\n",
       "      <td>0.000138</td>\n",
       "      <td>0.219018</td>\n",
       "      <td>0.112780</td>\n",
       "    </tr>\n",
       "    <tr>\n",
       "      <th>334900</th>\n",
       "      <td>1</td>\n",
       "      <td>1.16</td>\n",
       "      <td>0.28</td>\n",
       "      <td>-0.3</td>\n",
       "      <td>1.7</td>\n",
       "      <td>0.996618</td>\n",
       "      <td>6587.1980</td>\n",
       "      <td>4.786881</td>\n",
       "      <td>4.050493</td>\n",
       "      <td>0.149323</td>\n",
       "      <td>0.003788</td>\n",
       "      <td>-0.607039</td>\n",
       "      <td>63.997060</td>\n",
       "      <td>0.006473</td>\n",
       "      <td>0.000463</td>\n",
       "      <td>0.490498</td>\n",
       "      <td>0.225884</td>\n",
       "    </tr>\n",
       "    <tr>\n",
       "      <th>7135268</th>\n",
       "      <td>2</td>\n",
       "      <td>1.18</td>\n",
       "      <td>0.28</td>\n",
       "      <td>-0.1</td>\n",
       "      <td>2.3</td>\n",
       "      <td>1.022719</td>\n",
       "      <td>6349.7030</td>\n",
       "      <td>4.278201</td>\n",
       "      <td>4.042870</td>\n",
       "      <td>0.184591</td>\n",
       "      <td>0.007162</td>\n",
       "      <td>-0.310150</td>\n",
       "      <td>65.216125</td>\n",
       "      <td>0.010205</td>\n",
       "      <td>0.000369</td>\n",
       "      <td>0.568727</td>\n",
       "      <td>0.233383</td>\n",
       "    </tr>\n",
       "    <tr>\n",
       "      <th>3251278</th>\n",
       "      <td>1</td>\n",
       "      <td>0.81</td>\n",
       "      <td>0.24</td>\n",
       "      <td>0.4</td>\n",
       "      <td>2.5</td>\n",
       "      <td>0.545067</td>\n",
       "      <td>4438.7354</td>\n",
       "      <td>0.223159</td>\n",
       "      <td>4.540280</td>\n",
       "      <td>0.201984</td>\n",
       "      <td>0.028536</td>\n",
       "      <td>0.311528</td>\n",
       "      <td>171.295750</td>\n",
       "      <td>0.033051</td>\n",
       "      <td>0.000317</td>\n",
       "      <td>1.309384</td>\n",
       "      <td>-0.096953</td>\n",
       "    </tr>\n",
       "    <tr>\n",
       "      <th>1224838</th>\n",
       "      <td>2</td>\n",
       "      <td>1.12</td>\n",
       "      <td>0.32</td>\n",
       "      <td>0.2</td>\n",
       "      <td>1.9</td>\n",
       "      <td>1.269763</td>\n",
       "      <td>5169.1978</td>\n",
       "      <td>3.214738</td>\n",
       "      <td>3.786232</td>\n",
       "      <td>0.309476</td>\n",
       "      <td>0.018507</td>\n",
       "      <td>0.182351</td>\n",
       "      <td>43.206272</td>\n",
       "      <td>0.018963</td>\n",
       "      <td>0.001241</td>\n",
       "      <td>0.760349</td>\n",
       "      <td>0.349985</td>\n",
       "    </tr>\n",
       "  </tbody>\n",
       "</table>\n",
       "</div>"
      ],
      "text/plain": [
       "         evol_stage  initial_mass  initial_Yinit  initial_feh  initial_MLT  \\\n",
       "5933768           1          1.17           0.24         -0.2          1.5   \n",
       "334900            1          1.16           0.28         -0.3          1.7   \n",
       "7135268           2          1.18           0.28         -0.1          2.3   \n",
       "3251278           1          0.81           0.24          0.4          2.5   \n",
       "1224838           2          1.12           0.32          0.2          1.9   \n",
       "\n",
       "         frac_age  effective_T  luminosity     log_g  surface_he4  surface_Z  \\\n",
       "5933768  0.381987    6180.6750    2.203866  4.280516     0.121770   0.004602   \n",
       "334900   0.996618    6587.1980    4.786881  4.050493     0.149323   0.003788   \n",
       "7135268  1.022719    6349.7030    4.278201  4.042870     0.184591   0.007162   \n",
       "3251278  0.545067    4438.7354    0.223159  4.540280     0.201984   0.028536   \n",
       "1224838  1.269763    5169.1978    3.214738  3.786232     0.309476   0.018507   \n",
       "\n",
       "         star_feh  delta_nu_fit  initial_Zinit  gradient  log_star_age  \\\n",
       "5933768 -0.536008     97.249210       0.008581  0.000138      0.219018   \n",
       "334900  -0.607039     63.997060       0.006473  0.000463      0.490498   \n",
       "7135268 -0.310150     65.216125       0.010205  0.000369      0.568727   \n",
       "3251278  0.311528    171.295750       0.033051  0.000317      1.309384   \n",
       "1224838  0.182351     43.206272       0.018963  0.001241      0.760349   \n",
       "\n",
       "         log_radius  \n",
       "5933768    0.112780  \n",
       "334900     0.225884  \n",
       "7135268    0.233383  \n",
       "3251278   -0.096953  \n",
       "1224838    0.349985  "
      ]
     },
     "execution_count": 7,
     "metadata": {},
     "output_type": "execute_result"
    }
   ],
   "source": [
    "t.get_data().head()"
   ]
  },
  {
   "cell_type": "code",
   "execution_count": 8,
   "metadata": {},
   "outputs": [
    {
     "data": {
      "text/plain": [
       "7735500"
      ]
     },
     "execution_count": 8,
     "metadata": {},
     "output_type": "execute_result"
    }
   ],
   "source": [
    "len(t._data)"
   ]
  },
  {
   "cell_type": "markdown",
   "metadata": {},
   "source": [
    "## Normalize\n",
    "\n",
    "Let's choose the inputs and outputs and the normalise"
   ]
  },
  {
   "cell_type": "code",
   "execution_count": 9,
   "metadata": {},
   "outputs": [],
   "source": [
    "x_cols = ['frac_age', 'initial_mass', 'initial_MLT', 'initial_Yinit', 'initial_Zinit']\n",
    "y_cols = ['log_star_age', 'effective_T', 'log_radius', 'delta_nu_fit', 'star_feh']"
   ]
  },
  {
   "cell_type": "code",
   "execution_count": 10,
   "metadata": {},
   "outputs": [],
   "source": [
    "factors, _df = t.normalize(loc='mean', scale='std', columns=x_cols+y_cols)"
   ]
  },
  {
   "cell_type": "code",
   "execution_count": 11,
   "metadata": {},
   "outputs": [
    {
     "data": {
      "text/html": [
       "<div>\n",
       "<style scoped>\n",
       "    .dataframe tbody tr th:only-of-type {\n",
       "        vertical-align: middle;\n",
       "    }\n",
       "\n",
       "    .dataframe tbody tr th {\n",
       "        vertical-align: top;\n",
       "    }\n",
       "\n",
       "    .dataframe thead th {\n",
       "        text-align: right;\n",
       "    }\n",
       "</style>\n",
       "<table border=\"1\" class=\"dataframe\">\n",
       "  <thead>\n",
       "    <tr style=\"text-align: right;\">\n",
       "      <th></th>\n",
       "      <th>column</th>\n",
       "      <th>norm_column</th>\n",
       "      <th>loc</th>\n",
       "      <th>scale</th>\n",
       "    </tr>\n",
       "  </thead>\n",
       "  <tbody>\n",
       "    <tr>\n",
       "      <th>0</th>\n",
       "      <td>frac_age</td>\n",
       "      <td>frac_age_norm</td>\n",
       "      <td>0.807264</td>\n",
       "      <td>0.414357</td>\n",
       "    </tr>\n",
       "    <tr>\n",
       "      <th>1</th>\n",
       "      <td>initial_mass</td>\n",
       "      <td>initial_mass_norm</td>\n",
       "      <td>0.997338</td>\n",
       "      <td>0.117963</td>\n",
       "    </tr>\n",
       "    <tr>\n",
       "      <th>2</th>\n",
       "      <td>initial_MLT</td>\n",
       "      <td>initial_MLT_norm</td>\n",
       "      <td>1.996954</td>\n",
       "      <td>0.337990</td>\n",
       "    </tr>\n",
       "    <tr>\n",
       "      <th>3</th>\n",
       "      <td>initial_Yinit</td>\n",
       "      <td>initial_Yinit_norm</td>\n",
       "      <td>0.279594</td>\n",
       "      <td>0.028033</td>\n",
       "    </tr>\n",
       "    <tr>\n",
       "      <th>4</th>\n",
       "      <td>initial_Zinit</td>\n",
       "      <td>initial_Zinit_norm</td>\n",
       "      <td>0.018303</td>\n",
       "      <td>0.010686</td>\n",
       "    </tr>\n",
       "    <tr>\n",
       "      <th>5</th>\n",
       "      <td>log_star_age</td>\n",
       "      <td>log_star_age_norm</td>\n",
       "      <td>0.727604</td>\n",
       "      <td>0.466882</td>\n",
       "    </tr>\n",
       "    <tr>\n",
       "      <th>6</th>\n",
       "      <td>effective_T</td>\n",
       "      <td>effective_T_norm</td>\n",
       "      <td>5569.763832</td>\n",
       "      <td>601.275379</td>\n",
       "    </tr>\n",
       "    <tr>\n",
       "      <th>7</th>\n",
       "      <td>log_radius</td>\n",
       "      <td>log_radius_norm</td>\n",
       "      <td>0.117955</td>\n",
       "      <td>0.146779</td>\n",
       "    </tr>\n",
       "    <tr>\n",
       "      <th>8</th>\n",
       "      <td>delta_nu_fit</td>\n",
       "      <td>delta_nu_fit_norm</td>\n",
       "      <td>99.854229</td>\n",
       "      <td>42.580915</td>\n",
       "    </tr>\n",
       "    <tr>\n",
       "      <th>9</th>\n",
       "      <td>star_feh</td>\n",
       "      <td>star_feh_norm</td>\n",
       "      <td>-0.021189</td>\n",
       "      <td>0.360914</td>\n",
       "    </tr>\n",
       "  </tbody>\n",
       "</table>\n",
       "</div>"
      ],
      "text/plain": [
       "          column         norm_column          loc       scale\n",
       "0       frac_age       frac_age_norm     0.807264    0.414357\n",
       "1   initial_mass   initial_mass_norm     0.997338    0.117963\n",
       "2    initial_MLT    initial_MLT_norm     1.996954    0.337990\n",
       "3  initial_Yinit  initial_Yinit_norm     0.279594    0.028033\n",
       "4  initial_Zinit  initial_Zinit_norm     0.018303    0.010686\n",
       "5   log_star_age   log_star_age_norm     0.727604    0.466882\n",
       "6    effective_T    effective_T_norm  5569.763832  601.275379\n",
       "7     log_radius     log_radius_norm     0.117955    0.146779\n",
       "8   delta_nu_fit   delta_nu_fit_norm    99.854229   42.580915\n",
       "9       star_feh       star_feh_norm    -0.021189    0.360914"
      ]
     },
     "execution_count": 11,
     "metadata": {},
     "output_type": "execute_result"
    }
   ],
   "source": [
    "factors"
   ]
  },
  {
   "cell_type": "markdown",
   "metadata": {},
   "source": [
    "Round the loc and scale to 3 dp"
   ]
  },
  {
   "cell_type": "code",
   "execution_count": 12,
   "metadata": {},
   "outputs": [],
   "source": [
    "factors = round(factors, 3)"
   ]
  },
  {
   "cell_type": "code",
   "execution_count": 13,
   "metadata": {},
   "outputs": [
    {
     "data": {
      "text/html": [
       "<div>\n",
       "<style scoped>\n",
       "    .dataframe tbody tr th:only-of-type {\n",
       "        vertical-align: middle;\n",
       "    }\n",
       "\n",
       "    .dataframe tbody tr th {\n",
       "        vertical-align: top;\n",
       "    }\n",
       "\n",
       "    .dataframe thead th {\n",
       "        text-align: right;\n",
       "    }\n",
       "</style>\n",
       "<table border=\"1\" class=\"dataframe\">\n",
       "  <thead>\n",
       "    <tr style=\"text-align: right;\">\n",
       "      <th></th>\n",
       "      <th>column</th>\n",
       "      <th>norm_column</th>\n",
       "      <th>loc</th>\n",
       "      <th>scale</th>\n",
       "    </tr>\n",
       "  </thead>\n",
       "  <tbody>\n",
       "    <tr>\n",
       "      <th>0</th>\n",
       "      <td>frac_age</td>\n",
       "      <td>frac_age_norm</td>\n",
       "      <td>0.807</td>\n",
       "      <td>0.414</td>\n",
       "    </tr>\n",
       "    <tr>\n",
       "      <th>1</th>\n",
       "      <td>initial_mass</td>\n",
       "      <td>initial_mass_norm</td>\n",
       "      <td>0.997</td>\n",
       "      <td>0.118</td>\n",
       "    </tr>\n",
       "    <tr>\n",
       "      <th>2</th>\n",
       "      <td>initial_MLT</td>\n",
       "      <td>initial_MLT_norm</td>\n",
       "      <td>1.997</td>\n",
       "      <td>0.338</td>\n",
       "    </tr>\n",
       "    <tr>\n",
       "      <th>3</th>\n",
       "      <td>initial_Yinit</td>\n",
       "      <td>initial_Yinit_norm</td>\n",
       "      <td>0.280</td>\n",
       "      <td>0.028</td>\n",
       "    </tr>\n",
       "    <tr>\n",
       "      <th>4</th>\n",
       "      <td>initial_Zinit</td>\n",
       "      <td>initial_Zinit_norm</td>\n",
       "      <td>0.018</td>\n",
       "      <td>0.011</td>\n",
       "    </tr>\n",
       "    <tr>\n",
       "      <th>5</th>\n",
       "      <td>log_star_age</td>\n",
       "      <td>log_star_age_norm</td>\n",
       "      <td>0.728</td>\n",
       "      <td>0.467</td>\n",
       "    </tr>\n",
       "    <tr>\n",
       "      <th>6</th>\n",
       "      <td>effective_T</td>\n",
       "      <td>effective_T_norm</td>\n",
       "      <td>5569.764</td>\n",
       "      <td>601.275</td>\n",
       "    </tr>\n",
       "    <tr>\n",
       "      <th>7</th>\n",
       "      <td>log_radius</td>\n",
       "      <td>log_radius_norm</td>\n",
       "      <td>0.118</td>\n",
       "      <td>0.147</td>\n",
       "    </tr>\n",
       "    <tr>\n",
       "      <th>8</th>\n",
       "      <td>delta_nu_fit</td>\n",
       "      <td>delta_nu_fit_norm</td>\n",
       "      <td>99.854</td>\n",
       "      <td>42.581</td>\n",
       "    </tr>\n",
       "    <tr>\n",
       "      <th>9</th>\n",
       "      <td>star_feh</td>\n",
       "      <td>star_feh_norm</td>\n",
       "      <td>-0.021</td>\n",
       "      <td>0.361</td>\n",
       "    </tr>\n",
       "  </tbody>\n",
       "</table>\n",
       "</div>"
      ],
      "text/plain": [
       "          column         norm_column       loc    scale\n",
       "0       frac_age       frac_age_norm     0.807    0.414\n",
       "1   initial_mass   initial_mass_norm     0.997    0.118\n",
       "2    initial_MLT    initial_MLT_norm     1.997    0.338\n",
       "3  initial_Yinit  initial_Yinit_norm     0.280    0.028\n",
       "4  initial_Zinit  initial_Zinit_norm     0.018    0.011\n",
       "5   log_star_age   log_star_age_norm     0.728    0.467\n",
       "6    effective_T    effective_T_norm  5569.764  601.275\n",
       "7     log_radius     log_radius_norm     0.118    0.147\n",
       "8   delta_nu_fit   delta_nu_fit_norm    99.854   42.581\n",
       "9       star_feh       star_feh_norm    -0.021    0.361"
      ]
     },
     "execution_count": 13,
     "metadata": {},
     "output_type": "execute_result"
    }
   ],
   "source": [
    "factors"
   ]
  },
  {
   "cell_type": "code",
   "execution_count": 14,
   "metadata": {},
   "outputs": [
    {
     "data": {
      "text/html": [
       "<div>\n",
       "<style scoped>\n",
       "    .dataframe tbody tr th:only-of-type {\n",
       "        vertical-align: middle;\n",
       "    }\n",
       "\n",
       "    .dataframe tbody tr th {\n",
       "        vertical-align: top;\n",
       "    }\n",
       "\n",
       "    .dataframe thead th {\n",
       "        text-align: right;\n",
       "    }\n",
       "</style>\n",
       "<table border=\"1\" class=\"dataframe\">\n",
       "  <thead>\n",
       "    <tr style=\"text-align: right;\">\n",
       "      <th></th>\n",
       "      <th>frac_age_norm</th>\n",
       "      <th>initial_mass_norm</th>\n",
       "      <th>initial_MLT_norm</th>\n",
       "      <th>initial_Yinit_norm</th>\n",
       "      <th>initial_Zinit_norm</th>\n",
       "      <th>log_star_age_norm</th>\n",
       "      <th>effective_T_norm</th>\n",
       "      <th>log_radius_norm</th>\n",
       "      <th>delta_nu_fit_norm</th>\n",
       "      <th>star_feh_norm</th>\n",
       "    </tr>\n",
       "  </thead>\n",
       "  <tbody>\n",
       "    <tr>\n",
       "      <th>5933768</th>\n",
       "      <td>-1.026600</td>\n",
       "      <td>1.466102</td>\n",
       "      <td>-1.470414</td>\n",
       "      <td>-1.428571</td>\n",
       "      <td>-0.856232</td>\n",
       "      <td>-1.089898</td>\n",
       "      <td>1.016026</td>\n",
       "      <td>-0.035513</td>\n",
       "      <td>-0.061173</td>\n",
       "      <td>-1.426616</td>\n",
       "    </tr>\n",
       "    <tr>\n",
       "      <th>334900</th>\n",
       "      <td>0.458014</td>\n",
       "      <td>1.381356</td>\n",
       "      <td>-0.878698</td>\n",
       "      <td>0.000000</td>\n",
       "      <td>-1.047931</td>\n",
       "      <td>-0.508570</td>\n",
       "      <td>1.692128</td>\n",
       "      <td>0.733903</td>\n",
       "      <td>-0.842088</td>\n",
       "      <td>-1.623377</td>\n",
       "    </tr>\n",
       "    <tr>\n",
       "      <th>7135268</th>\n",
       "      <td>0.521060</td>\n",
       "      <td>1.550847</td>\n",
       "      <td>0.896450</td>\n",
       "      <td>0.000000</td>\n",
       "      <td>-0.708640</td>\n",
       "      <td>-0.341055</td>\n",
       "      <td>1.297142</td>\n",
       "      <td>0.784916</td>\n",
       "      <td>-0.813458</td>\n",
       "      <td>-0.800970</td>\n",
       "    </tr>\n",
       "    <tr>\n",
       "      <th>3251278</th>\n",
       "      <td>-0.632689</td>\n",
       "      <td>-1.584746</td>\n",
       "      <td>1.488166</td>\n",
       "      <td>-1.428571</td>\n",
       "      <td>1.368259</td>\n",
       "      <td>1.244934</td>\n",
       "      <td>-1.881050</td>\n",
       "      <td>-1.462265</td>\n",
       "      <td>1.677785</td>\n",
       "      <td>0.921130</td>\n",
       "    </tr>\n",
       "    <tr>\n",
       "      <th>1224838</th>\n",
       "      <td>1.117784</td>\n",
       "      <td>1.042373</td>\n",
       "      <td>-0.286982</td>\n",
       "      <td>1.428571</td>\n",
       "      <td>0.087535</td>\n",
       "      <td>0.069269</td>\n",
       "      <td>-0.666195</td>\n",
       "      <td>1.578132</td>\n",
       "      <td>-1.330352</td>\n",
       "      <td>0.563298</td>\n",
       "    </tr>\n",
       "  </tbody>\n",
       "</table>\n",
       "</div>"
      ],
      "text/plain": [
       "         frac_age_norm  initial_mass_norm  initial_MLT_norm  \\\n",
       "5933768      -1.026600           1.466102         -1.470414   \n",
       "334900        0.458014           1.381356         -0.878698   \n",
       "7135268       0.521060           1.550847          0.896450   \n",
       "3251278      -0.632689          -1.584746          1.488166   \n",
       "1224838       1.117784           1.042373         -0.286982   \n",
       "\n",
       "         initial_Yinit_norm  initial_Zinit_norm  log_star_age_norm  \\\n",
       "5933768           -1.428571           -0.856232          -1.089898   \n",
       "334900             0.000000           -1.047931          -0.508570   \n",
       "7135268            0.000000           -0.708640          -0.341055   \n",
       "3251278           -1.428571            1.368259           1.244934   \n",
       "1224838            1.428571            0.087535           0.069269   \n",
       "\n",
       "         effective_T_norm  log_radius_norm  delta_nu_fit_norm  star_feh_norm  \n",
       "5933768          1.016026        -0.035513          -0.061173      -1.426616  \n",
       "334900           1.692128         0.733903          -0.842088      -1.623377  \n",
       "7135268          1.297142         0.784916          -0.813458      -0.800970  \n",
       "3251278         -1.881050        -1.462265           1.677785       0.921130  \n",
       "1224838         -0.666195         1.578132          -1.330352       0.563298  "
      ]
     },
     "execution_count": 14,
     "metadata": {},
     "output_type": "execute_result"
    }
   ],
   "source": [
    "factors, _df = t.normalize(loc=factors['loc'].to_numpy(), scale=factors['scale'].to_numpy(),\n",
    "                           columns=x_cols+y_cols)\n",
    "_df.head()"
   ]
  },
  {
   "cell_type": "code",
   "execution_count": 15,
   "metadata": {},
   "outputs": [],
   "source": [
    "del _df"
   ]
  },
  {
   "cell_type": "code",
   "execution_count": 16,
   "metadata": {},
   "outputs": [],
   "source": [
    "t.normalize(loc=factors['loc'].to_numpy(), scale=factors['scale'].to_numpy(),\n",
    "                           columns=x_cols+y_cols, inplace=True)"
   ]
  },
  {
   "cell_type": "code",
   "execution_count": 17,
   "metadata": {},
   "outputs": [],
   "source": [
    "t.norm_factors.to_csv(os.path.join(save_path, 'tracks_04b_norm.csv'), index=False)"
   ]
  },
  {
   "cell_type": "code",
   "execution_count": 18,
   "metadata": {},
   "outputs": [
    {
     "data": {
      "text/html": [
       "<div>\n",
       "<style scoped>\n",
       "    .dataframe tbody tr th:only-of-type {\n",
       "        vertical-align: middle;\n",
       "    }\n",
       "\n",
       "    .dataframe tbody tr th {\n",
       "        vertical-align: top;\n",
       "    }\n",
       "\n",
       "    .dataframe thead th {\n",
       "        text-align: right;\n",
       "    }\n",
       "</style>\n",
       "<table border=\"1\" class=\"dataframe\">\n",
       "  <thead>\n",
       "    <tr style=\"text-align: right;\">\n",
       "      <th></th>\n",
       "      <th>frac_age_norm</th>\n",
       "      <th>initial_mass_norm</th>\n",
       "      <th>initial_MLT_norm</th>\n",
       "      <th>initial_Yinit_norm</th>\n",
       "      <th>initial_Zinit_norm</th>\n",
       "      <th>log_star_age_norm</th>\n",
       "      <th>effective_T_norm</th>\n",
       "      <th>log_radius_norm</th>\n",
       "      <th>delta_nu_fit_norm</th>\n",
       "      <th>star_feh_norm</th>\n",
       "      <th>gradient</th>\n",
       "    </tr>\n",
       "  </thead>\n",
       "  <tbody>\n",
       "    <tr>\n",
       "      <th>5933768</th>\n",
       "      <td>-1.026600</td>\n",
       "      <td>1.466102</td>\n",
       "      <td>-1.470414</td>\n",
       "      <td>-1.428571</td>\n",
       "      <td>-0.856232</td>\n",
       "      <td>-1.089898</td>\n",
       "      <td>1.016026</td>\n",
       "      <td>-0.035513</td>\n",
       "      <td>-0.061173</td>\n",
       "      <td>-1.426616</td>\n",
       "      <td>0.000138</td>\n",
       "    </tr>\n",
       "    <tr>\n",
       "      <th>334900</th>\n",
       "      <td>0.458014</td>\n",
       "      <td>1.381356</td>\n",
       "      <td>-0.878698</td>\n",
       "      <td>0.000000</td>\n",
       "      <td>-1.047931</td>\n",
       "      <td>-0.508570</td>\n",
       "      <td>1.692128</td>\n",
       "      <td>0.733903</td>\n",
       "      <td>-0.842088</td>\n",
       "      <td>-1.623377</td>\n",
       "      <td>0.000463</td>\n",
       "    </tr>\n",
       "    <tr>\n",
       "      <th>7135268</th>\n",
       "      <td>0.521060</td>\n",
       "      <td>1.550847</td>\n",
       "      <td>0.896450</td>\n",
       "      <td>0.000000</td>\n",
       "      <td>-0.708640</td>\n",
       "      <td>-0.341055</td>\n",
       "      <td>1.297142</td>\n",
       "      <td>0.784916</td>\n",
       "      <td>-0.813458</td>\n",
       "      <td>-0.800970</td>\n",
       "      <td>0.000369</td>\n",
       "    </tr>\n",
       "    <tr>\n",
       "      <th>3251278</th>\n",
       "      <td>-0.632689</td>\n",
       "      <td>-1.584746</td>\n",
       "      <td>1.488166</td>\n",
       "      <td>-1.428571</td>\n",
       "      <td>1.368259</td>\n",
       "      <td>1.244934</td>\n",
       "      <td>-1.881050</td>\n",
       "      <td>-1.462265</td>\n",
       "      <td>1.677785</td>\n",
       "      <td>0.921130</td>\n",
       "      <td>0.000317</td>\n",
       "    </tr>\n",
       "    <tr>\n",
       "      <th>1224838</th>\n",
       "      <td>1.117784</td>\n",
       "      <td>1.042373</td>\n",
       "      <td>-0.286982</td>\n",
       "      <td>1.428571</td>\n",
       "      <td>0.087535</td>\n",
       "      <td>0.069269</td>\n",
       "      <td>-0.666195</td>\n",
       "      <td>1.578132</td>\n",
       "      <td>-1.330352</td>\n",
       "      <td>0.563298</td>\n",
       "      <td>0.001241</td>\n",
       "    </tr>\n",
       "  </tbody>\n",
       "</table>\n",
       "</div>"
      ],
      "text/plain": [
       "         frac_age_norm  initial_mass_norm  initial_MLT_norm  \\\n",
       "5933768      -1.026600           1.466102         -1.470414   \n",
       "334900        0.458014           1.381356         -0.878698   \n",
       "7135268       0.521060           1.550847          0.896450   \n",
       "3251278      -0.632689          -1.584746          1.488166   \n",
       "1224838       1.117784           1.042373         -0.286982   \n",
       "\n",
       "         initial_Yinit_norm  initial_Zinit_norm  log_star_age_norm  \\\n",
       "5933768           -1.428571           -0.856232          -1.089898   \n",
       "334900             0.000000           -1.047931          -0.508570   \n",
       "7135268            0.000000           -0.708640          -0.341055   \n",
       "3251278           -1.428571            1.368259           1.244934   \n",
       "1224838            1.428571            0.087535           0.069269   \n",
       "\n",
       "         effective_T_norm  log_radius_norm  delta_nu_fit_norm  star_feh_norm  \\\n",
       "5933768          1.016026        -0.035513          -0.061173      -1.426616   \n",
       "334900           1.692128         0.733903          -0.842088      -1.623377   \n",
       "7135268          1.297142         0.784916          -0.813458      -0.800970   \n",
       "3251278         -1.881050        -1.462265           1.677785       0.921130   \n",
       "1224838         -0.666195         1.578132          -1.330352       0.563298   \n",
       "\n",
       "         gradient  \n",
       "5933768  0.000138  \n",
       "334900   0.000463  \n",
       "7135268  0.000369  \n",
       "3251278  0.000317  \n",
       "1224838  0.001241  "
      ]
     },
     "execution_count": 18,
     "metadata": {},
     "output_type": "execute_result"
    }
   ],
   "source": [
    "train = t.get_data([f'{col}_norm' for col in x_cols+y_cols]+['gradient'])\n",
    "train.head()"
   ]
  },
  {
   "cell_type": "code",
   "execution_count": 19,
   "metadata": {},
   "outputs": [
    {
     "data": {
      "text/plain": [
       "<matplotlib.axes._subplots.AxesSubplot at 0x7f439daa14e0>"
      ]
     },
     "execution_count": 19,
     "metadata": {},
     "output_type": "execute_result"
    },
    {
     "data": {
      "image/png": "[encoded data removed]",
      "text/plain": [
       "<Figure size 432x288 with 1 Axes>"
      ]
     },
     "metadata": {
      "needs_background": "light"
     },
     "output_type": "display_data"
    }
   ],
   "source": [
    "train.sample(n=10000).plot(kind='hist', y=[f'{col}_norm' for col in x_cols], bins=40, alpha=0.5)"
   ]
  },
  {
   "cell_type": "code",
   "execution_count": 20,
   "metadata": {},
   "outputs": [
    {
     "data": {
      "text/plain": [
       "<matplotlib.axes._subplots.AxesSubplot at 0x7f439d2f9518>"
      ]
     },
     "execution_count": 20,
     "metadata": {},
     "output_type": "execute_result"
    },
    {
     "data": {
      "image/png": "[encoded data removed]",
      "text/plain": [
       "<Figure size 432x288 with 1 Axes>"
      ]
     },
     "metadata": {
      "needs_background": "light"
     },
     "output_type": "display_data"
    }
   ],
   "source": [
    "train.sample(n=10000).plot(kind='hist', y=[f'{col}_norm' for col in y_cols], bins=40, alpha=0.5)"
   ]
  },
  {
   "cell_type": "markdown",
   "metadata": {},
   "source": [
    "Normalise training weights such that they are of order 1"
   ]
  },
  {
   "cell_type": "code",
   "execution_count": 21,
   "metadata": {},
   "outputs": [],
   "source": [
    "train['weight'] = train['gradient']/train['gradient'].std()"
   ]
  },
  {
   "cell_type": "code",
   "execution_count": 22,
   "metadata": {},
   "outputs": [
    {
     "data": {
      "text/plain": [
       "<matplotlib.axes._subplots.AxesSubplot at 0x7f439d0881d0>"
      ]
     },
     "execution_count": 22,
     "metadata": {},
     "output_type": "execute_result"
    },
    {
     "data": {
      "image/png": "[encoded data removed]",
      "text/plain": [
       "<Figure size 432x288 with 1 Axes>"
      ]
     },
     "metadata": {
      "needs_background": "light"
     },
     "output_type": "display_data"
    }
   ],
   "source": [
    "train['weight'].plot(kind='hist', bins=100)"
   ]
  },
  {
   "cell_type": "markdown",
   "metadata": {},
   "source": [
    "Validation"
   ]
  },
  {
   "cell_type": "code",
   "execution_count": 23,
   "metadata": {},
   "outputs": [],
   "source": [
    "val = pd.read_csv(f'{load_path}/{tracks}_val.csv')"
   ]
  },
  {
   "cell_type": "code",
   "execution_count": 24,
   "metadata": {},
   "outputs": [],
   "source": [
    "t = Tracks()\n",
    "t.set_data(val)"
   ]
  },
  {
   "cell_type": "code",
   "execution_count": 25,
   "metadata": {},
   "outputs": [],
   "source": [
    "t.normalize(loc=factors['loc'].to_numpy(), scale=factors['scale'].to_numpy(),\n",
    "            columns=x_cols+y_cols, inplace=True)"
   ]
  },
  {
   "cell_type": "code",
   "execution_count": 26,
   "metadata": {},
   "outputs": [
    {
     "data": {
      "text/html": [
       "<div>\n",
       "<style scoped>\n",
       "    .dataframe tbody tr th:only-of-type {\n",
       "        vertical-align: middle;\n",
       "    }\n",
       "\n",
       "    .dataframe tbody tr th {\n",
       "        vertical-align: top;\n",
       "    }\n",
       "\n",
       "    .dataframe thead th {\n",
       "        text-align: right;\n",
       "    }\n",
       "</style>\n",
       "<table border=\"1\" class=\"dataframe\">\n",
       "  <thead>\n",
       "    <tr style=\"text-align: right;\">\n",
       "      <th></th>\n",
       "      <th>frac_age_norm</th>\n",
       "      <th>initial_mass_norm</th>\n",
       "      <th>initial_MLT_norm</th>\n",
       "      <th>initial_Yinit_norm</th>\n",
       "      <th>initial_Zinit_norm</th>\n",
       "      <th>log_star_age_norm</th>\n",
       "      <th>effective_T_norm</th>\n",
       "      <th>log_radius_norm</th>\n",
       "      <th>delta_nu_fit_norm</th>\n",
       "      <th>star_feh_norm</th>\n",
       "    </tr>\n",
       "  </thead>\n",
       "  <tbody>\n",
       "    <tr>\n",
       "      <th>0</th>\n",
       "      <td>-1.894701</td>\n",
       "      <td>0.025424</td>\n",
       "      <td>0.89645</td>\n",
       "      <td>-1.428571</td>\n",
       "      <td>-0.657099</td>\n",
       "      <td>-3.035447</td>\n",
       "      <td>0.324335</td>\n",
       "      <td>-1.197201</td>\n",
       "      <td>1.530781</td>\n",
       "      <td>-0.225741</td>\n",
       "    </tr>\n",
       "    <tr>\n",
       "      <th>1</th>\n",
       "      <td>-1.807178</td>\n",
       "      <td>0.025424</td>\n",
       "      <td>0.89645</td>\n",
       "      <td>-1.428571</td>\n",
       "      <td>-0.657099</td>\n",
       "      <td>-2.145522</td>\n",
       "      <td>0.337958</td>\n",
       "      <td>-1.169027</td>\n",
       "      <td>1.476221</td>\n",
       "      <td>-0.238075</td>\n",
       "    </tr>\n",
       "    <tr>\n",
       "      <th>2</th>\n",
       "      <td>-1.773367</td>\n",
       "      <td>0.025424</td>\n",
       "      <td>0.89645</td>\n",
       "      <td>-1.428571</td>\n",
       "      <td>-0.657099</td>\n",
       "      <td>-1.947024</td>\n",
       "      <td>0.343372</td>\n",
       "      <td>-1.159455</td>\n",
       "      <td>1.457834</td>\n",
       "      <td>-0.242870</td>\n",
       "    </tr>\n",
       "    <tr>\n",
       "      <th>3</th>\n",
       "      <td>-1.766615</td>\n",
       "      <td>0.025424</td>\n",
       "      <td>0.89645</td>\n",
       "      <td>-1.428571</td>\n",
       "      <td>-0.657099</td>\n",
       "      <td>-1.911994</td>\n",
       "      <td>0.344456</td>\n",
       "      <td>-1.157568</td>\n",
       "      <td>1.454220</td>\n",
       "      <td>-0.243819</td>\n",
       "    </tr>\n",
       "    <tr>\n",
       "      <th>4</th>\n",
       "      <td>-1.739636</td>\n",
       "      <td>0.025424</td>\n",
       "      <td>0.89645</td>\n",
       "      <td>-1.428571</td>\n",
       "      <td>-0.657099</td>\n",
       "      <td>-1.783885</td>\n",
       "      <td>0.348781</td>\n",
       "      <td>-1.150079</td>\n",
       "      <td>1.439909</td>\n",
       "      <td>-0.247589</td>\n",
       "    </tr>\n",
       "  </tbody>\n",
       "</table>\n",
       "</div>"
      ],
      "text/plain": [
       "   frac_age_norm  initial_mass_norm  initial_MLT_norm  initial_Yinit_norm  \\\n",
       "0      -1.894701           0.025424           0.89645           -1.428571   \n",
       "1      -1.807178           0.025424           0.89645           -1.428571   \n",
       "2      -1.773367           0.025424           0.89645           -1.428571   \n",
       "3      -1.766615           0.025424           0.89645           -1.428571   \n",
       "4      -1.739636           0.025424           0.89645           -1.428571   \n",
       "\n",
       "   initial_Zinit_norm  log_star_age_norm  effective_T_norm  log_radius_norm  \\\n",
       "0           -0.657099          -3.035447          0.324335        -1.197201   \n",
       "1           -0.657099          -2.145522          0.337958        -1.169027   \n",
       "2           -0.657099          -1.947024          0.343372        -1.159455   \n",
       "3           -0.657099          -1.911994          0.344456        -1.157568   \n",
       "4           -0.657099          -1.783885          0.348781        -1.150079   \n",
       "\n",
       "   delta_nu_fit_norm  star_feh_norm  \n",
       "0           1.530781      -0.225741  \n",
       "1           1.476221      -0.238075  \n",
       "2           1.457834      -0.242870  \n",
       "3           1.454220      -0.243819  \n",
       "4           1.439909      -0.247589  "
      ]
     },
     "execution_count": 26,
     "metadata": {},
     "output_type": "execute_result"
    }
   ],
   "source": [
    "val = t.get_data([f'{col}_norm' for col in x_cols+y_cols])\n",
    "val.head()"
   ]
  },
  {
   "cell_type": "code",
   "execution_count": 27,
   "metadata": {},
   "outputs": [],
   "source": [
    "del t"
   ]
  },
  {
   "cell_type": "code",
   "execution_count": 28,
   "metadata": {},
   "outputs": [],
   "source": [
    "x_cols = [f'{col}_norm' for col in x_cols]\n",
    "y_cols = [f'{col}_norm' for col in y_cols]"
   ]
  },
  {
   "cell_type": "code",
   "execution_count": 29,
   "metadata": {},
   "outputs": [
    {
     "name": "stdout",
     "output_type": "stream",
     "text": [
      "Length of training data = 7735500\n",
      "Length of validation data = 1933933\n"
     ]
    }
   ],
   "source": [
    "print(f'Length of training data = {len(train)}')\n",
    "print(f'Length of validation data = {len(val)}')"
   ]
  },
  {
   "cell_type": "code",
   "execution_count": 30,
   "metadata": {
    "scrolled": false
   },
   "outputs": [
    {
     "name": "stdout",
     "output_type": "stream",
     "text": [
      "Model: \"network_08\"\n",
      "_________________________________________________________________\n",
      "Layer (type)                 Output Shape              Param #   \n",
      "=================================================================\n",
      "inputs (InputLayer)          [(None, 5)]               0         \n",
      "_________________________________________________________________\n",
      "dense (Dense)                (None, 128)               768       \n",
      "_________________________________________________________________\n",
      "dense_1 (Dense)              (None, 128)               16512     \n",
      "_________________________________________________________________\n",
      "dense_2 (Dense)              (None, 128)               16512     \n",
      "_________________________________________________________________\n",
      "dense_3 (Dense)              (None, 128)               16512     \n",
      "_________________________________________________________________\n",
      "dense_4 (Dense)              (None, 128)               16512     \n",
      "_________________________________________________________________\n",
      "dense_5 (Dense)              (None, 128)               16512     \n",
      "_________________________________________________________________\n",
      "dense_6 (Dense)              (None, 5)                 645       \n",
      "=================================================================\n",
      "Total params: 83,973\n",
      "Trainable params: 83,973\n",
      "Non-trainable params: 0\n",
      "_________________________________________________________________\n"
     ]
    }
   ],
   "source": [
    "network = DenseNetwork.from_config(f'{save_path}/{name}_config.json')\n",
    "network.load_model()\n",
    "network.load_history()\n",
    "network.model.summary()"
   ]
  },
  {
   "cell_type": "code",
   "execution_count": 31,
   "metadata": {},
   "outputs": [],
   "source": [
    "fit_kw = {'sample_weight': train['weight'].to_numpy()}"
   ]
  },
  {
   "cell_type": "code",
   "execution_count": null,
   "metadata": {},
   "outputs": [
    {
     "name": "stdout",
     "output_type": "stream",
     "text": [
      "WARNING:tensorflow:sample_weight modes were coerced from\n",
      "  ...\n",
      "    to  \n",
      "  ['...']\n"
     ]
    }
   ],
   "source": [
    "network.train(train, network.x_cols, network.y_cols, epochs=20000, validation_split=None, validation_data=val,\n",
    "              callbacks=['checkpoint', 'tensorboard'], fit_kw=fit_kw)"
   ]
  },
  {
   "cell_type": "code",
   "execution_count": null,
   "metadata": {},
   "outputs": [],
   "source": [
    "network.save()"
   ]
  },
  {
   "cell_type": "code",
   "execution_count": null,
   "metadata": {},
   "outputs": [],
   "source": [
    "network.plot_metric(val.sample(20000), metric='absolute_error');"
   ]
  },
  {
   "cell_type": "code",
   "execution_count": null,
   "metadata": {},
   "outputs": [],
   "source": [
    "network.plot_metric(val.sample(20000), metric='error');"
   ]
  },
  {
   "cell_type": "code",
   "execution_count": null,
   "metadata": {},
   "outputs": [],
   "source": [
    "scores = network.scores(val.sample(20000))\n",
    "scores"
   ]
  },
  {
   "cell_type": "code",
   "execution_count": null,
   "metadata": {},
   "outputs": [],
   "source": [
    "scale_scores = factors.loc[5:, 'scale'].to_numpy() * scores"
   ]
  },
  {
   "cell_type": "code",
   "execution_count": null,
   "metadata": {},
   "outputs": [],
   "source": [
    "log_cols = [col for col in scale_scores.columns if 'log' in col]\n",
    "log_cols\n",
    "\n",
    "scale_scores[[col[4:] for col in log_cols]] = scale_scores[log_cols] * np.log(10.0)\n",
    "\n",
    "scale_scores.loc['std'].round(5)"
   ]
  },
  {
   "cell_type": "code",
   "execution_count": null,
   "metadata": {},
   "outputs": [],
   "source": []
  }
 ],
 "metadata": {
  "kernelspec": {
   "display_name": "Python 3 (Interstellar)",
   "language": "python",
   "name": "interstellar"
  },
  "language_info": {
   "codemirror_mode": {
    "name": "ipython",
    "version": 3
   },
   "file_extension": ".py",
   "mimetype": "text/x-python",
   "name": "python",
   "nbconvert_exporter": "python",
   "pygments_lexer": "ipython3",
   "version": "3.6.8"
  }
 },
 "nbformat": 4,
 "nbformat_minor": 2
}
