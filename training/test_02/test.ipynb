{
 "cells": [
  {
   "cell_type": "code",
   "execution_count": 2,
   "metadata": {},
   "outputs": [],
   "source": [
    "import tensorflow as tf"
   ]
  },
  {
   "cell_type": "code",
   "execution_count": 3,
   "metadata": {},
   "outputs": [
    {
     "name": "stdout",
     "output_type": "stream",
     "text": [
      "TensorFlow Versiom = 2.0.0\n"
     ]
    }
   ],
   "source": [
    "print(f'TensorFlow Versiom = {tf.__version__}')\n",
    "\n",
    "if not tf.test.is_gpu_available(\n",
    "    cuda_only=False, min_cuda_compute_capability=None\n",
    "):\n",
    "    raise RuntimeError('no GPU available')"
   ]
  },
  {
   "cell_type": "code",
   "execution_count": 4,
   "metadata": {},
   "outputs": [
    {
     "name": "stderr",
     "output_type": "stream",
     "text": [
      "/rds/homes/a/ajl573/.virtualenvs/python3.7-gpu/lib/python3.7/site-packages/interstellar/config.py:24: UserWarning: No user config.yml file found. Default values will be used as in defaults.yml.\n",
      "  warnings.warn('No user config.yml file found. Default values will be used as in defaults.yml.')\n"
     ]
    }
   ],
   "source": [
    "from interstellar import Data, grid\n",
    "import numpy as np\n",
    "import matplotlib.pyplot as plt\n",
    "%matplotlib inline"
   ]
  },
  {
   "cell_type": "code",
   "execution_count": 4,
   "metadata": {},
   "outputs": [],
   "source": [
    "data_path = '/rds/projects/d/daviesgr-cartography/mesa_grid/grid2_zams_agb/simple_grid_alex/'\n",
    "data_cols = ['initial_mass', 'initial_Yinit', 'initial_feh', 'initial_MLT', 'evol_stage',\n",
    "             'star_mass', 'star_age', 'frac_age', 'effective_T', 'luminosity', 'radius', 'star_feh',\n",
    "             'delta_nu_fit']\n",
    "\n",
    "tracks = Data()\n",
    "tracks.load_all(path_to_data=data_path, usecols=data_cols)"
   ]
  },
  {
   "cell_type": "code",
   "execution_count": 5,
   "metadata": {},
   "outputs": [
    {
     "name": "stdout",
     "output_type": "stream",
     "text": [
      "Selecting Models at MS Phase with \"dwarf\"\n",
      "Selecting Models at Subgiant and Red-giant phases with \"giant\"\n"
     ]
    },
    {
     "data": {
      "text/html": [
       "<div>\n",
       "<style scoped>\n",
       "    .dataframe tbody tr th:only-of-type {\n",
       "        vertical-align: middle;\n",
       "    }\n",
       "\n",
       "    .dataframe tbody tr th {\n",
       "        vertical-align: top;\n",
       "    }\n",
       "\n",
       "    .dataframe thead th {\n",
       "        text-align: right;\n",
       "    }\n",
       "</style>\n",
       "<table border=\"1\" class=\"dataframe\">\n",
       "  <thead>\n",
       "    <tr style=\"text-align: right;\">\n",
       "      <th></th>\n",
       "      <th>evol_stage</th>\n",
       "      <th>initial_mass</th>\n",
       "      <th>initial_Yinit</th>\n",
       "      <th>initial_feh</th>\n",
       "      <th>initial_MLT</th>\n",
       "      <th>star_mass</th>\n",
       "      <th>star_age</th>\n",
       "      <th>frac_age</th>\n",
       "      <th>effective_T</th>\n",
       "      <th>luminosity</th>\n",
       "      <th>radius</th>\n",
       "      <th>star_feh</th>\n",
       "      <th>delta_nu_fit</th>\n",
       "      <th>initial_tenfeh</th>\n",
       "      <th>star_tenfeh</th>\n",
       "    </tr>\n",
       "  </thead>\n",
       "  <tbody>\n",
       "    <tr>\n",
       "      <th>6616467</th>\n",
       "      <td>1</td>\n",
       "      <td>1.05</td>\n",
       "      <td>0.32</td>\n",
       "      <td>0.0</td>\n",
       "      <td>2.3</td>\n",
       "      <td>1.050000</td>\n",
       "      <td>0.975761</td>\n",
       "      <td>0.224919</td>\n",
       "      <td>6345.075761</td>\n",
       "      <td>1.641008</td>\n",
       "      <td>1.061550</td>\n",
       "      <td>-0.051322</td>\n",
       "      <td>125.970962</td>\n",
       "      <td>1.000000</td>\n",
       "      <td>0.888542</td>\n",
       "    </tr>\n",
       "    <tr>\n",
       "      <th>10301494</th>\n",
       "      <td>2</td>\n",
       "      <td>1.19</td>\n",
       "      <td>0.28</td>\n",
       "      <td>0.1</td>\n",
       "      <td>1.7</td>\n",
       "      <td>1.187204</td>\n",
       "      <td>5.603998</td>\n",
       "      <td>1.283972</td>\n",
       "      <td>4839.786402</td>\n",
       "      <td>3.770300</td>\n",
       "      <td>2.765632</td>\n",
       "      <td>0.091403</td>\n",
       "      <td>32.199323</td>\n",
       "      <td>1.258925</td>\n",
       "      <td>1.234251</td>\n",
       "    </tr>\n",
       "    <tr>\n",
       "      <th>7557540</th>\n",
       "      <td>1</td>\n",
       "      <td>1.09</td>\n",
       "      <td>0.26</td>\n",
       "      <td>-0.2</td>\n",
       "      <td>2.1</td>\n",
       "      <td>1.090000</td>\n",
       "      <td>2.590117</td>\n",
       "      <td>0.552099</td>\n",
       "      <td>6277.650934</td>\n",
       "      <td>1.991712</td>\n",
       "      <td>1.194752</td>\n",
       "      <td>-0.371970</td>\n",
       "      <td>107.364629</td>\n",
       "      <td>0.630957</td>\n",
       "      <td>0.424649</td>\n",
       "    </tr>\n",
       "    <tr>\n",
       "      <th>2993997</th>\n",
       "      <td>2</td>\n",
       "      <td>0.92</td>\n",
       "      <td>0.26</td>\n",
       "      <td>-0.1</td>\n",
       "      <td>2.1</td>\n",
       "      <td>0.916989</td>\n",
       "      <td>13.630729</td>\n",
       "      <td>1.255964</td>\n",
       "      <td>5006.102017</td>\n",
       "      <td>2.595420</td>\n",
       "      <td>2.144684</td>\n",
       "      <td>-0.119332</td>\n",
       "      <td>41.415932</td>\n",
       "      <td>0.794328</td>\n",
       "      <td>0.759746</td>\n",
       "    </tr>\n",
       "    <tr>\n",
       "      <th>10602748</th>\n",
       "      <td>2</td>\n",
       "      <td>1.10</td>\n",
       "      <td>0.32</td>\n",
       "      <td>-0.3</td>\n",
       "      <td>1.7</td>\n",
       "      <td>1.096987</td>\n",
       "      <td>3.626668</td>\n",
       "      <td>1.292599</td>\n",
       "      <td>5630.303429</td>\n",
       "      <td>6.713747</td>\n",
       "      <td>2.726953</td>\n",
       "      <td>-0.334785</td>\n",
       "      <td>32.096193</td>\n",
       "      <td>0.501187</td>\n",
       "      <td>0.462610</td>\n",
       "    </tr>\n",
       "  </tbody>\n",
       "</table>\n",
       "</div>"
      ],
      "text/plain": [
       "          evol_stage  initial_mass  initial_Yinit  initial_feh  initial_MLT  \\\n",
       "6616467            1          1.05           0.32          0.0          2.3   \n",
       "10301494           2          1.19           0.28          0.1          1.7   \n",
       "7557540            1          1.09           0.26         -0.2          2.1   \n",
       "2993997            2          0.92           0.26         -0.1          2.1   \n",
       "10602748           2          1.10           0.32         -0.3          1.7   \n",
       "\n",
       "          star_mass   star_age  frac_age  effective_T  luminosity    radius  \\\n",
       "6616467    1.050000   0.975761  0.224919  6345.075761    1.641008  1.061550   \n",
       "10301494   1.187204   5.603998  1.283972  4839.786402    3.770300  2.765632   \n",
       "7557540    1.090000   2.590117  0.552099  6277.650934    1.991712  1.194752   \n",
       "2993997    0.916989  13.630729  1.255964  5006.102017    2.595420  2.144684   \n",
       "10602748   1.096987   3.626668  1.292599  5630.303429    6.713747  2.726953   \n",
       "\n",
       "          star_feh  delta_nu_fit  initial_tenfeh  star_tenfeh  \n",
       "6616467  -0.051322    125.970962        1.000000     0.888542  \n",
       "10301494  0.091403     32.199323        1.258925     1.234251  \n",
       "7557540  -0.371970    107.364629        0.630957     0.424649  \n",
       "2993997  -0.119332     41.415932        0.794328     0.759746  \n",
       "10602748 -0.334785     32.096193        0.501187     0.462610  "
      ]
     },
     "execution_count": 5,
     "metadata": {},
     "output_type": "execute_result"
    }
   ],
   "source": [
    "tracks.select_evolution(stages=['dwarf', 'giant'], inplace=True)\n",
    "data = tracks.data.sample(frac=0.2)  # Resample and reduce for testing\n",
    "data['initial_tenfeh'] = 10**data['initial_feh']\n",
    "data['star_tenfeh'] = 10**data['star_feh']\n",
    "\n",
    "data.head()"
   ]
  },
  {
   "cell_type": "code",
   "execution_count": 6,
   "metadata": {},
   "outputs": [],
   "source": [
    "del(tracks)"
   ]
  },
  {
   "cell_type": "code",
   "execution_count": 13,
   "metadata": {},
   "outputs": [],
   "source": [
    "data['tenfage'] = 10**data['frac_age']"
   ]
  },
  {
   "cell_type": "code",
   "execution_count": 25,
   "metadata": {},
   "outputs": [],
   "source": [
    "x_cols = ['initial_mass', 'frac_age', 'initial_tenfeh', 'initial_MLT', 'initial_Yinit']\n",
    "y_cols = ['effective_T', 'radius', 'delta_nu_fit', 'star_tenfeh', 'star_age']"
   ]
  },
  {
   "cell_type": "code",
   "execution_count": 26,
   "metadata": {},
   "outputs": [
    {
     "name": "stderr",
     "output_type": "stream",
     "text": [
      "/rds/bear-apps/2019b/EL7-haswell/software/IPython/7.9.0-fosscuda-2019b-Python-3.7.4/lib/python3.7/site-packages/ipykernel_launcher.py:1: RuntimeWarning: divide by zero encountered in log10\n",
      "  \"\"\"Entry point for launching an IPython kernel.\n",
      "/rds/bear-apps/2019b/EL7-haswell/software/IPython/7.9.0-fosscuda-2019b-Python-3.7.4/lib/python3.7/site-packages/ipykernel_launcher.py:1: RuntimeWarning: invalid value encountered in log10\n",
      "  \"\"\"Entry point for launching an IPython kernel.\n"
     ]
    },
    {
     "data": {
      "image/png": "[encoded data removed]",
      "text/plain": [
       "<Figure size 432x288 with 1 Axes>"
      ]
     },
     "metadata": {
      "needs_background": "light"
     },
     "output_type": "display_data"
    }
   ],
   "source": [
    "ax = np.log10(data).plot(kind='hist', y=x_cols, bins=20, alpha=0.5)\n",
    "ax.set_title('Log Input Data');"
   ]
  },
  {
   "cell_type": "code",
   "execution_count": 27,
   "metadata": {},
   "outputs": [
    {
     "name": "stderr",
     "output_type": "stream",
     "text": [
      "/rds/bear-apps/2019b/EL7-haswell/software/IPython/7.9.0-fosscuda-2019b-Python-3.7.4/lib/python3.7/site-packages/ipykernel_launcher.py:1: RuntimeWarning: divide by zero encountered in log10\n",
      "  \"\"\"Entry point for launching an IPython kernel.\n",
      "/rds/bear-apps/2019b/EL7-haswell/software/IPython/7.9.0-fosscuda-2019b-Python-3.7.4/lib/python3.7/site-packages/ipykernel_launcher.py:1: RuntimeWarning: invalid value encountered in log10\n",
      "  \"\"\"Entry point for launching an IPython kernel.\n"
     ]
    },
    {
     "data": {
      "text/plain": [
       "Text(0.5, 1.0, 'Log Output Data')"
      ]
     },
     "execution_count": 27,
     "metadata": {},
     "output_type": "execute_result"
    },
    {
     "data": {
      "image/png": "[encoded data removed]",
      "text/plain": [
       "<Figure size 432x288 with 1 Axes>"
      ]
     },
     "metadata": {
      "needs_background": "light"
     },
     "output_type": "display_data"
    }
   ],
   "source": [
    "ax = np.log10(data).plot(kind='hist', y=y_cols, bins=20, alpha=0.5)\n",
    "ax.set_title('Log Output Data')"
   ]
  },
  {
   "cell_type": "code",
   "execution_count": 31,
   "metadata": {},
   "outputs": [],
   "source": [
    "for col in x_cols + y_cols:\n",
    "    data[f'lm_{col}'] = np.log10(data[col]) - np.median(np.log10(data[col]))"
   ]
  },
  {
   "cell_type": "code",
   "execution_count": 32,
   "metadata": {},
   "outputs": [],
   "source": [
    "lm_x_cols = [f'lm_{col}' for col in x_cols]\n",
    "lm_y_cols = [f'lm_{col}' for col in y_cols]"
   ]
  },
  {
   "cell_type": "code",
   "execution_count": 36,
   "metadata": {},
   "outputs": [
    {
     "data": {
      "image/png": "[encoded data removed]",
      "text/plain": [
       "<Figure size 432x288 with 1 Axes>"
      ]
     },
     "metadata": {
      "needs_background": "light"
     },
     "output_type": "display_data"
    }
   ],
   "source": [
    "ax = data.plot(kind='hist', y=lm_x_cols, bins=20, alpha=0.3)\n",
    "ax.set_title('Log Input Data - Median');"
   ]
  },
  {
   "cell_type": "code",
   "execution_count": 37,
   "metadata": {},
   "outputs": [
    {
     "data": {
      "text/plain": [
       "Text(0.5, 1.0, 'Log Output Data - Median')"
      ]
     },
     "execution_count": 37,
     "metadata": {},
     "output_type": "execute_result"
    },
    {
     "data": {
      "image/png": "[encoded data removed]",
      "text/plain": [
       "<Figure size 432x288 with 1 Axes>"
      ]
     },
     "metadata": {
      "needs_background": "light"
     },
     "output_type": "display_data"
    }
   ],
   "source": [
    "ax = data.plot(kind='hist', y=lm_y_cols, bins=20, alpha=0.3)\n",
    "ax.set_title('Log Output Data - Median')"
   ]
  },
  {
   "cell_type": "code",
   "execution_count": 42,
   "metadata": {},
   "outputs": [],
   "source": [
    "arch = [[len(lm_x_cols), 128, 128, 128, 128, 128, 128, len(lm_y_cols)]]\n",
    "activation = ['elu']\n",
    "l2s = [1e-10]\n",
    "\n",
    "g = grid(data, lm_x_cols, lm_y_cols, arch=arch, activation=activation, l2s=l2s)"
   ]
  },
  {
   "cell_type": "code",
   "execution_count": 43,
   "metadata": {},
   "outputs": [
    {
     "name": "stdout",
     "output_type": "stream",
     "text": [
      "WARNING:tensorflow:Method (on_train_batch_end) is slow compared to the batch update (0.102501). Check your callbacks.\n",
      "Model : 00000\n",
      "Median in y_0 : 0.003385\n",
      "Median in y_1 : 0.007293\n",
      "Median in y_2 : 0.006981\n",
      "Median in y_3 : 0.011589\n",
      "Median in y_4 : 0.008030\n"
     ]
    }
   ],
   "source": [
    "g(1000, batch_fraction=0.05, process='none')"
   ]
  },
  {
   "cell_type": "code",
   "execution_count": 46,
   "metadata": {},
   "outputs": [],
   "source": [
    "x_med = []\n",
    "y_med = []\n",
    "for col in x_cols:\n",
    "    x_med.append(np.median(np.log10(data[col])))\n",
    "\n",
    "for col in y_cols:\n",
    "    y_med.append(np.median(np.log10(data[col])))"
   ]
  },
  {
   "cell_type": "code",
   "execution_count": 78,
   "metadata": {},
   "outputs": [],
   "source": [
    "mass = 1.0\n",
    "fage = 1.0\n",
    "tenfeh = 10**0.04\n",
    "mlt = 1.9\n",
    "yi = 0.27"
   ]
  },
  {
   "cell_type": "code",
   "execution_count": 79,
   "metadata": {},
   "outputs": [],
   "source": [
    "xx = np.log10([[mass, fage, tenfeh, mlt, yi]])"
   ]
  },
  {
   "cell_type": "code",
   "execution_count": 80,
   "metadata": {},
   "outputs": [],
   "source": [
    "n = 1000\n",
    "fage = np.linspace(0+1/n, 1+1/n, n)"
   ]
  },
  {
   "cell_type": "code",
   "execution_count": 81,
   "metadata": {},
   "outputs": [],
   "source": [
    "xx = xx*np.ones((n, 5))"
   ]
  },
  {
   "cell_type": "code",
   "execution_count": 82,
   "metadata": {},
   "outputs": [],
   "source": [
    "xx[:, 1] = np.log10(fage)"
   ]
  },
  {
   "cell_type": "code",
   "execution_count": 83,
   "metadata": {},
   "outputs": [],
   "source": [
    "yy = g.nn_dict['00000'].model.predict(xx - x_med) + y_med"
   ]
  },
  {
   "cell_type": "code",
   "execution_count": 84,
   "metadata": {},
   "outputs": [],
   "source": [
    "solar_teff = 5777  # kelvin"
   ]
  },
  {
   "cell_type": "code",
   "execution_count": 85,
   "metadata": {},
   "outputs": [
    {
     "data": {
      "text/plain": [
       "Text(0, 0.5, 'log R/Rsun')"
      ]
     },
     "execution_count": 85,
     "metadata": {},
     "output_type": "execute_result"
    },
    {
     "data": {
      "image/png": "[encoded data removed]",
      "text/plain": [
       "<Figure size 432x288 with 1 Axes>"
      ]
     },
     "metadata": {
      "needs_background": "light"
     },
     "output_type": "display_data"
    }
   ],
   "source": [
    "plt.plot(*yy[:, 0:2].T)\n",
    "plt.plot(np.log10(solar_teff), 0.0, 'rx')\n",
    "plt.gca().invert_xaxis()\n",
    "plt.xlabel('log Teff')\n",
    "plt.ylabel('log R/Rsun')"
   ]
  },
  {
   "cell_type": "code",
   "execution_count": 86,
   "metadata": {},
   "outputs": [],
   "source": [
    "log_L = 4 * (yy[:, 0] - np.log10(solar_teff)) + 2 * yy[:, 1]"
   ]
  },
  {
   "cell_type": "code",
   "execution_count": 87,
   "metadata": {},
   "outputs": [
    {
     "data": {
      "text/plain": [
       "Text(0, 0.5, 'log L/Lsun')"
      ]
     },
     "execution_count": 87,
     "metadata": {},
     "output_type": "execute_result"
    },
    {
     "data": {
      "image/png": "[encoded data removed]",
      "text/plain": [
       "<Figure size 432x288 with 1 Axes>"
      ]
     },
     "metadata": {
      "needs_background": "light"
     },
     "output_type": "display_data"
    }
   ],
   "source": [
    "plt.plot(yy[:, 0], log_L)\n",
    "plt.plot(np.log10(solar_teff), 0.0, 'rx')\n",
    "plt.gca().invert_xaxis()\n",
    "plt.xlabel('log Teff')\n",
    "plt.ylabel('log L/Lsun')"
   ]
  },
  {
   "cell_type": "code",
   "execution_count": 88,
   "metadata": {},
   "outputs": [],
   "source": [
    "axis_values = {'initial_mass': [0.9, 1.0, 1.1],\n",
    "               'frac_age': np.linspace(0+1/100., 1.2, 100),\n",
    "               'initial_tenfeh': 10**np.array([-0.1, 0.0, 0.1]),\n",
    "               'initial_MLT': [1.9],\n",
    "               'initial_Yinit': [0.27]}"
   ]
  },
  {
   "cell_type": "code",
   "execution_count": 89,
   "metadata": {},
   "outputs": [],
   "source": [
    "testdata = Data(axis_values=axis_values)"
   ]
  },
  {
   "cell_type": "code",
   "execution_count": 90,
   "metadata": {},
   "outputs": [],
   "source": [
    "testcols = testdata.grid_points.columns"
   ]
  },
  {
   "cell_type": "code",
   "execution_count": 91,
   "metadata": {},
   "outputs": [],
   "source": [
    "xx = np.log10(testdata.grid_points.to_numpy())"
   ]
  },
  {
   "cell_type": "code",
   "execution_count": 92,
   "metadata": {},
   "outputs": [],
   "source": [
    "yy = g.nn_dict['00000'].model.predict(xx - x_med) + y_med"
   ]
  },
  {
   "cell_type": "code",
   "execution_count": 93,
   "metadata": {},
   "outputs": [],
   "source": [
    "log_L = 4 * (yy[:, 0] - np.log10(solar_teff)) + 2 * yy[:, 1]"
   ]
  },
  {
   "cell_type": "code",
   "execution_count": 1,
   "metadata": {},
   "outputs": [
    {
     "ename": "NameError",
     "evalue": "name 'plt' is not defined",
     "output_type": "error",
     "traceback": [
      "\u001b[0;31m---------------------------------------------------------------------------\u001b[0m",
      "\u001b[0;31mNameError\u001b[0m                                 Traceback (most recent call last)",
      "\u001b[0;32m<ipython-input-1-0bb3ce461dec>\u001b[0m in \u001b[0;36m<module>\u001b[0;34m\u001b[0m\n\u001b[0;32m----> 1\u001b[0;31m \u001b[0ms\u001b[0m \u001b[0;34m=\u001b[0m \u001b[0mplt\u001b[0m\u001b[0;34m.\u001b[0m\u001b[0mscatter\u001b[0m\u001b[0;34m(\u001b[0m\u001b[0myy\u001b[0m\u001b[0;34m[\u001b[0m\u001b[0;34m:\u001b[0m\u001b[0;34m,\u001b[0m \u001b[0;36m0\u001b[0m\u001b[0;34m]\u001b[0m\u001b[0;34m,\u001b[0m \u001b[0mlog_L\u001b[0m\u001b[0;34m,\u001b[0m \u001b[0mc\u001b[0m\u001b[0;34m=\u001b[0m\u001b[0myy\u001b[0m\u001b[0;34m[\u001b[0m\u001b[0;34m:\u001b[0m\u001b[0;34m,\u001b[0m \u001b[0;36m3\u001b[0m\u001b[0;34m]\u001b[0m\u001b[0;34m,\u001b[0m \u001b[0ms\u001b[0m\u001b[0;34m=\u001b[0m\u001b[0;36m4\u001b[0m\u001b[0;34m,\u001b[0m \u001b[0malpha\u001b[0m\u001b[0;34m=\u001b[0m\u001b[0;36m0.5\u001b[0m\u001b[0;34m)\u001b[0m\u001b[0;34m\u001b[0m\u001b[0;34m\u001b[0m\u001b[0m\n\u001b[0m\u001b[1;32m      2\u001b[0m \u001b[0mplt\u001b[0m\u001b[0;34m.\u001b[0m\u001b[0mplot\u001b[0m\u001b[0;34m(\u001b[0m\u001b[0mnp\u001b[0m\u001b[0;34m.\u001b[0m\u001b[0mlog10\u001b[0m\u001b[0;34m(\u001b[0m\u001b[0msolar_teff\u001b[0m\u001b[0;34m)\u001b[0m\u001b[0;34m,\u001b[0m \u001b[0;36m0.0\u001b[0m\u001b[0;34m,\u001b[0m \u001b[0;34m'rx'\u001b[0m\u001b[0;34m)\u001b[0m\u001b[0;34m\u001b[0m\u001b[0;34m\u001b[0m\u001b[0m\n\u001b[1;32m      3\u001b[0m \u001b[0mplt\u001b[0m\u001b[0;34m.\u001b[0m\u001b[0mgca\u001b[0m\u001b[0;34m(\u001b[0m\u001b[0;34m)\u001b[0m\u001b[0;34m.\u001b[0m\u001b[0minvert_xaxis\u001b[0m\u001b[0;34m(\u001b[0m\u001b[0;34m)\u001b[0m\u001b[0;34m\u001b[0m\u001b[0;34m\u001b[0m\u001b[0m\n\u001b[1;32m      4\u001b[0m \u001b[0mplt\u001b[0m\u001b[0;34m.\u001b[0m\u001b[0mxlabel\u001b[0m\u001b[0;34m(\u001b[0m\u001b[0;34m'log Teff'\u001b[0m\u001b[0;34m)\u001b[0m\u001b[0;34m\u001b[0m\u001b[0;34m\u001b[0m\u001b[0m\n\u001b[1;32m      5\u001b[0m \u001b[0mplt\u001b[0m\u001b[0;34m.\u001b[0m\u001b[0mylabel\u001b[0m\u001b[0;34m(\u001b[0m\u001b[0;34m'log L/Lsun'\u001b[0m\u001b[0;34m)\u001b[0m\u001b[0;34m\u001b[0m\u001b[0;34m\u001b[0m\u001b[0m\n",
      "\u001b[0;31mNameError\u001b[0m: name 'plt' is not defined"
     ]
    }
   ],
   "source": [
    "s = plt.scatter(yy[:, 0], log_L, c=yy[:, 3], s=4, alpha=0.5)\n",
    "plt.plot(np.log10(solar_teff), 0.0, 'rx')\n",
    "plt.gca().invert_xaxis()\n",
    "plt.xlabel('log Teff')\n",
    "plt.ylabel('log L/Lsun')\n",
    "plt.colorbar(s, label='Surface [M/H]')"
   ]
  },
  {
   "cell_type": "code",
   "execution_count": 211,
   "metadata": {},
   "outputs": [
    {
     "data": {
      "text/html": [
       "<div>\n",
       "<style scoped>\n",
       "    .dataframe tbody tr th:only-of-type {\n",
       "        vertical-align: middle;\n",
       "    }\n",
       "\n",
       "    .dataframe tbody tr th {\n",
       "        vertical-align: top;\n",
       "    }\n",
       "\n",
       "    .dataframe thead th {\n",
       "        text-align: right;\n",
       "    }\n",
       "</style>\n",
       "<table border=\"1\" class=\"dataframe\">\n",
       "  <thead>\n",
       "    <tr style=\"text-align: right;\">\n",
       "      <th></th>\n",
       "      <th>evol_stage</th>\n",
       "      <th>initial_mass</th>\n",
       "      <th>initial_Yinit</th>\n",
       "      <th>initial_feh</th>\n",
       "      <th>initial_MLT</th>\n",
       "      <th>star_mass</th>\n",
       "      <th>star_age</th>\n",
       "      <th>frac_age</th>\n",
       "      <th>effective_T</th>\n",
       "      <th>luminosity</th>\n",
       "      <th>radius</th>\n",
       "      <th>star_feh</th>\n",
       "      <th>delta_nu_fit</th>\n",
       "      <th>initial_tenfeh</th>\n",
       "      <th>star_tenfeh</th>\n",
       "    </tr>\n",
       "  </thead>\n",
       "  <tbody>\n",
       "    <tr>\n",
       "      <th>10439713</th>\n",
       "      <td>2</td>\n",
       "      <td>1.10</td>\n",
       "      <td>0.24</td>\n",
       "      <td>-0.2</td>\n",
       "      <td>1.9</td>\n",
       "      <td>1.095956</td>\n",
       "      <td>7.309578</td>\n",
       "      <td>1.363157</td>\n",
       "      <td>5020.847637</td>\n",
       "      <td>3.976134</td>\n",
       "      <td>2.638975</td>\n",
       "      <td>-0.209060</td>\n",
       "      <td>33.169929</td>\n",
       "      <td>0.630957</td>\n",
       "      <td>0.617931</td>\n",
       "    </tr>\n",
       "    <tr>\n",
       "      <th>9870393</th>\n",
       "      <td>2</td>\n",
       "      <td>1.17</td>\n",
       "      <td>0.30</td>\n",
       "      <td>-0.5</td>\n",
       "      <td>2.3</td>\n",
       "      <td>1.169823</td>\n",
       "      <td>2.307537</td>\n",
       "      <td>0.989664</td>\n",
       "      <td>7306.233116</td>\n",
       "      <td>6.069215</td>\n",
       "      <td>1.539707</td>\n",
       "      <td>-0.765169</td>\n",
       "      <td>71.140356</td>\n",
       "      <td>0.316228</td>\n",
       "      <td>0.171724</td>\n",
       "    </tr>\n",
       "    <tr>\n",
       "      <th>7084608</th>\n",
       "      <td>2</td>\n",
       "      <td>1.07</td>\n",
       "      <td>0.28</td>\n",
       "      <td>-0.4</td>\n",
       "      <td>2.3</td>\n",
       "      <td>1.065717</td>\n",
       "      <td>5.103172</td>\n",
       "      <td>1.397830</td>\n",
       "      <td>5384.940989</td>\n",
       "      <td>5.375899</td>\n",
       "      <td>2.667611</td>\n",
       "      <td>-0.409632</td>\n",
       "      <td>32.091428</td>\n",
       "      <td>0.398107</td>\n",
       "      <td>0.389375</td>\n",
       "    </tr>\n",
       "    <tr>\n",
       "      <th>6454241</th>\n",
       "      <td>1</td>\n",
       "      <td>1.05</td>\n",
       "      <td>0.24</td>\n",
       "      <td>0.0</td>\n",
       "      <td>1.9</td>\n",
       "      <td>1.050000</td>\n",
       "      <td>2.261107</td>\n",
       "      <td>0.277839</td>\n",
       "      <td>5756.461324</td>\n",
       "      <td>0.995033</td>\n",
       "      <td>1.004307</td>\n",
       "      <td>-0.035678</td>\n",
       "      <td>138.097004</td>\n",
       "      <td>1.000000</td>\n",
       "      <td>0.921132</td>\n",
       "    </tr>\n",
       "    <tr>\n",
       "      <th>1266278</th>\n",
       "      <td>2</td>\n",
       "      <td>0.85</td>\n",
       "      <td>0.32</td>\n",
       "      <td>0.3</td>\n",
       "      <td>1.5</td>\n",
       "      <td>0.848014</td>\n",
       "      <td>17.619708</td>\n",
       "      <td>1.213255</td>\n",
       "      <td>4954.672598</td>\n",
       "      <td>1.190561</td>\n",
       "      <td>1.482876</td>\n",
       "      <td>0.232457</td>\n",
       "      <td>70.463084</td>\n",
       "      <td>1.995262</td>\n",
       "      <td>1.707878</td>\n",
       "    </tr>\n",
       "  </tbody>\n",
       "</table>\n",
       "</div>"
      ],
      "text/plain": [
       "          evol_stage  initial_mass  initial_Yinit  initial_feh  initial_MLT  \\\n",
       "10439713           2          1.10           0.24         -0.2          1.9   \n",
       "9870393            2          1.17           0.30         -0.5          2.3   \n",
       "7084608            2          1.07           0.28         -0.4          2.3   \n",
       "6454241            1          1.05           0.24          0.0          1.9   \n",
       "1266278            2          0.85           0.32          0.3          1.5   \n",
       "\n",
       "          star_mass   star_age  frac_age  effective_T  luminosity    radius  \\\n",
       "10439713   1.095956   7.309578  1.363157  5020.847637    3.976134  2.638975   \n",
       "9870393    1.169823   2.307537  0.989664  7306.233116    6.069215  1.539707   \n",
       "7084608    1.065717   5.103172  1.397830  5384.940989    5.375899  2.667611   \n",
       "6454241    1.050000   2.261107  0.277839  5756.461324    0.995033  1.004307   \n",
       "1266278    0.848014  17.619708  1.213255  4954.672598    1.190561  1.482876   \n",
       "\n",
       "          star_feh  delta_nu_fit  initial_tenfeh  star_tenfeh  \n",
       "10439713 -0.209060     33.169929        0.630957     0.617931  \n",
       "9870393  -0.765169     71.140356        0.316228     0.171724  \n",
       "7084608  -0.409632     32.091428        0.398107     0.389375  \n",
       "6454241  -0.035678    138.097004        1.000000     0.921132  \n",
       "1266278   0.232457     70.463084        1.995262     1.707878  "
      ]
     },
     "execution_count": 211,
     "metadata": {},
     "output_type": "execute_result"
    }
   ],
   "source": [
    "data.head()"
   ]
  },
  {
   "cell_type": "markdown",
   "metadata": {},
   "source": [
    "KERNAL DIED, RIP"
   ]
  },
  {
   "cell_type": "code",
   "execution_count": null,
   "metadata": {},
   "outputs": [],
   "source": []
  }
 ],
 "metadata": {
  "kernelspec": {
   "display_name": "Python 3.7 (GPU)",
   "language": "python",
   "name": "python3.7-gpu"
  },
  "language_info": {
   "codemirror_mode": {
    "name": "ipython",
    "version": 3
   },
   "file_extension": ".py",
   "mimetype": "text/x-python",
   "name": "python",
   "nbconvert_exporter": "python",
   "pygments_lexer": "ipython3",
   "version": "3.7.4"
  }
 },
 "nbformat": 4,
 "nbformat_minor": 2
}
