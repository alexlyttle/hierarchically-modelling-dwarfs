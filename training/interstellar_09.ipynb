{
 "cells": [
  {
   "cell_type": "markdown",
   "metadata": {},
   "source": [
    "Anoteher test of architecture with better batch size"
   ]
  },
  {
   "cell_type": "code",
   "execution_count": 1,
   "metadata": {},
   "outputs": [],
   "source": [
    "import numpy as np\n",
    "import pandas as pd\n",
    "import matplotlib.pyplot as plt\n",
    "from interstellar import Tracks, DenseNetworkGrid, set_seed"
   ]
  },
  {
   "cell_type": "code",
   "execution_count": 4,
   "metadata": {},
   "outputs": [],
   "source": [
    "name = 'grid_09'\n",
    "save_path = f'/home/ADF/ajl573/Data/interstellar_data/{name}'\n",
    "load_path = '/home/ADF/ajl573/Data/interstellar_data/tracks_02'"
   ]
  },
  {
   "cell_type": "code",
   "execution_count": 5,
   "metadata": {},
   "outputs": [],
   "source": [
    "tracks = Tracks()\n",
    "tracks.load(load_path)"
   ]
  },
  {
   "cell_type": "code",
   "execution_count": 6,
   "metadata": {},
   "outputs": [
    {
     "data": {
      "text/html": [
       "<div>\n",
       "<style scoped>\n",
       "    .dataframe tbody tr th:only-of-type {\n",
       "        vertical-align: middle;\n",
       "    }\n",
       "\n",
       "    .dataframe tbody tr th {\n",
       "        vertical-align: top;\n",
       "    }\n",
       "\n",
       "    .dataframe thead th {\n",
       "        text-align: right;\n",
       "    }\n",
       "</style>\n",
       "<table border=\"1\" class=\"dataframe\">\n",
       "  <thead>\n",
       "    <tr style=\"text-align: right;\">\n",
       "      <th></th>\n",
       "      <th>file_name</th>\n",
       "      <th>m</th>\n",
       "      <th>Y</th>\n",
       "      <th>FeH</th>\n",
       "      <th>MLT</th>\n",
       "      <th>ov</th>\n",
       "      <th>dif</th>\n",
       "    </tr>\n",
       "  </thead>\n",
       "  <tbody>\n",
       "    <tr>\n",
       "      <th>0</th>\n",
       "      <td>m1.0Y0.24FeH-0.1MLT2.3ov0.0dif1.csv</td>\n",
       "      <td>1.00</td>\n",
       "      <td>0.24</td>\n",
       "      <td>-0.1</td>\n",
       "      <td>2.3</td>\n",
       "      <td>0.0</td>\n",
       "      <td>1</td>\n",
       "    </tr>\n",
       "    <tr>\n",
       "      <th>1</th>\n",
       "      <td>m0.92Y0.28FeH-0.3MLT1.7ov0.0dif1.csv</td>\n",
       "      <td>0.92</td>\n",
       "      <td>0.28</td>\n",
       "      <td>-0.3</td>\n",
       "      <td>1.7</td>\n",
       "      <td>0.0</td>\n",
       "      <td>1</td>\n",
       "    </tr>\n",
       "    <tr>\n",
       "      <th>2</th>\n",
       "      <td>m0.82Y0.32FeH0.1MLT2.1ov0.0dif1.csv</td>\n",
       "      <td>0.82</td>\n",
       "      <td>0.32</td>\n",
       "      <td>0.1</td>\n",
       "      <td>2.1</td>\n",
       "      <td>0.0</td>\n",
       "      <td>1</td>\n",
       "    </tr>\n",
       "    <tr>\n",
       "      <th>3</th>\n",
       "      <td>m0.82Y0.24FeH0.0MLT1.9ov0.0dif1.csv</td>\n",
       "      <td>0.82</td>\n",
       "      <td>0.24</td>\n",
       "      <td>0.0</td>\n",
       "      <td>1.9</td>\n",
       "      <td>0.0</td>\n",
       "      <td>1</td>\n",
       "    </tr>\n",
       "    <tr>\n",
       "      <th>4</th>\n",
       "      <td>m1.17Y0.28FeH0.1MLT2.3ov0.0dif1.csv</td>\n",
       "      <td>1.17</td>\n",
       "      <td>0.28</td>\n",
       "      <td>0.1</td>\n",
       "      <td>2.3</td>\n",
       "      <td>0.0</td>\n",
       "      <td>1</td>\n",
       "    </tr>\n",
       "  </tbody>\n",
       "</table>\n",
       "</div>"
      ],
      "text/plain": [
       "                              file_name     m     Y  FeH  MLT   ov  dif\n",
       "0   m1.0Y0.24FeH-0.1MLT2.3ov0.0dif1.csv  1.00  0.24 -0.1  2.3  0.0    1\n",
       "1  m0.92Y0.28FeH-0.3MLT1.7ov0.0dif1.csv  0.92  0.28 -0.3  1.7  0.0    1\n",
       "2   m0.82Y0.32FeH0.1MLT2.1ov0.0dif1.csv  0.82  0.32  0.1  2.1  0.0    1\n",
       "3   m0.82Y0.24FeH0.0MLT1.9ov0.0dif1.csv  0.82  0.24  0.0  1.9  0.0    1\n",
       "4   m1.17Y0.28FeH0.1MLT2.3ov0.0dif1.csv  1.17  0.28  0.1  2.3  0.0    1"
      ]
     },
     "execution_count": 6,
     "metadata": {},
     "output_type": "execute_result"
    }
   ],
   "source": [
    "tracks.get_metadata().head()"
   ]
  },
  {
   "cell_type": "code",
   "execution_count": 7,
   "metadata": {},
   "outputs": [
    {
     "data": {
      "text/html": [
       "<div>\n",
       "<style scoped>\n",
       "    .dataframe tbody tr th:only-of-type {\n",
       "        vertical-align: middle;\n",
       "    }\n",
       "\n",
       "    .dataframe tbody tr th {\n",
       "        vertical-align: top;\n",
       "    }\n",
       "\n",
       "    .dataframe thead th {\n",
       "        text-align: right;\n",
       "    }\n",
       "</style>\n",
       "<table border=\"1\" class=\"dataframe\">\n",
       "  <thead>\n",
       "    <tr style=\"text-align: right;\">\n",
       "      <th></th>\n",
       "      <th>evol_stage</th>\n",
       "      <th>initial_feh</th>\n",
       "      <th>star_mass</th>\n",
       "      <th>luminosity</th>\n",
       "      <th>log_g</th>\n",
       "      <th>star_feh</th>\n",
       "      <th>log_frac_age</th>\n",
       "      <th>log_initial_mass</th>\n",
       "      <th>log_initial_MLT</th>\n",
       "      <th>log_initial_Yinit</th>\n",
       "      <th>...</th>\n",
       "      <th>log_initial_MLT_norm</th>\n",
       "      <th>log_initial_Yinit_norm</th>\n",
       "      <th>log_initial_Z_norm</th>\n",
       "      <th>log_star_age_norm</th>\n",
       "      <th>log_effective_T_norm</th>\n",
       "      <th>log_radius_norm</th>\n",
       "      <th>log_delta_nu_fit_norm</th>\n",
       "      <th>star_feh_norm</th>\n",
       "      <th>log_surface_he4_norm</th>\n",
       "      <th>log_surface_Z_norm</th>\n",
       "    </tr>\n",
       "  </thead>\n",
       "  <tbody>\n",
       "    <tr>\n",
       "      <th>0</th>\n",
       "      <td>1</td>\n",
       "      <td>-0.1</td>\n",
       "      <td>1.0</td>\n",
       "      <td>0.760630</td>\n",
       "      <td>4.560423</td>\n",
       "      <td>-0.100188</td>\n",
       "      <td>-2.394550</td>\n",
       "      <td>0.0</td>\n",
       "      <td>0.361728</td>\n",
       "      <td>-0.619789</td>\n",
       "      <td>...</td>\n",
       "      <td>0.082728</td>\n",
       "      <td>-0.066789</td>\n",
       "      <td>-0.074825</td>\n",
       "      <td>-2.172096</td>\n",
       "      <td>0.009556</td>\n",
       "      <td>-0.153267</td>\n",
       "      <td>0.227380</td>\n",
       "      <td>-0.005188</td>\n",
       "      <td>0.002002</td>\n",
       "      <td>-0.011841</td>\n",
       "    </tr>\n",
       "    <tr>\n",
       "      <th>1</th>\n",
       "      <td>1</td>\n",
       "      <td>-0.1</td>\n",
       "      <td>1.0</td>\n",
       "      <td>0.749957</td>\n",
       "      <td>4.564024</td>\n",
       "      <td>-0.100198</td>\n",
       "      <td>-2.385753</td>\n",
       "      <td>0.0</td>\n",
       "      <td>0.361728</td>\n",
       "      <td>-0.619789</td>\n",
       "      <td>...</td>\n",
       "      <td>0.082728</td>\n",
       "      <td>-0.066789</td>\n",
       "      <td>-0.074825</td>\n",
       "      <td>-2.163299</td>\n",
       "      <td>0.008922</td>\n",
       "      <td>-0.155067</td>\n",
       "      <td>0.230071</td>\n",
       "      <td>-0.005198</td>\n",
       "      <td>0.001994</td>\n",
       "      <td>-0.011848</td>\n",
       "    </tr>\n",
       "    <tr>\n",
       "      <th>2</th>\n",
       "      <td>1</td>\n",
       "      <td>-0.1</td>\n",
       "      <td>1.0</td>\n",
       "      <td>0.741406</td>\n",
       "      <td>4.566707</td>\n",
       "      <td>-0.100209</td>\n",
       "      <td>-2.375426</td>\n",
       "      <td>0.0</td>\n",
       "      <td>0.361728</td>\n",
       "      <td>-0.619789</td>\n",
       "      <td>...</td>\n",
       "      <td>0.082728</td>\n",
       "      <td>-0.066789</td>\n",
       "      <td>-0.074825</td>\n",
       "      <td>-2.152973</td>\n",
       "      <td>0.008348</td>\n",
       "      <td>-0.156409</td>\n",
       "      <td>0.232081</td>\n",
       "      <td>-0.005209</td>\n",
       "      <td>0.001984</td>\n",
       "      <td>-0.011856</td>\n",
       "    </tr>\n",
       "    <tr>\n",
       "      <th>3</th>\n",
       "      <td>1</td>\n",
       "      <td>-0.1</td>\n",
       "      <td>1.0</td>\n",
       "      <td>0.735484</td>\n",
       "      <td>4.568303</td>\n",
       "      <td>-0.100221</td>\n",
       "      <td>-2.363350</td>\n",
       "      <td>0.0</td>\n",
       "      <td>0.361728</td>\n",
       "      <td>-0.619789</td>\n",
       "      <td>...</td>\n",
       "      <td>0.082728</td>\n",
       "      <td>-0.066789</td>\n",
       "      <td>-0.074825</td>\n",
       "      <td>-2.140897</td>\n",
       "      <td>0.007876</td>\n",
       "      <td>-0.157207</td>\n",
       "      <td>0.233283</td>\n",
       "      <td>-0.005221</td>\n",
       "      <td>0.001973</td>\n",
       "      <td>-0.011865</td>\n",
       "    </tr>\n",
       "    <tr>\n",
       "      <th>4</th>\n",
       "      <td>1</td>\n",
       "      <td>-0.1</td>\n",
       "      <td>1.0</td>\n",
       "      <td>0.732361</td>\n",
       "      <td>4.568802</td>\n",
       "      <td>-0.100238</td>\n",
       "      <td>-2.349288</td>\n",
       "      <td>0.0</td>\n",
       "      <td>0.361728</td>\n",
       "      <td>-0.619789</td>\n",
       "      <td>...</td>\n",
       "      <td>0.082728</td>\n",
       "      <td>-0.066789</td>\n",
       "      <td>-0.074825</td>\n",
       "      <td>-2.126835</td>\n",
       "      <td>0.007539</td>\n",
       "      <td>-0.157456</td>\n",
       "      <td>0.233670</td>\n",
       "      <td>-0.005238</td>\n",
       "      <td>0.001958</td>\n",
       "      <td>-0.011876</td>\n",
       "    </tr>\n",
       "  </tbody>\n",
       "</table>\n",
       "<p>5 rows × 29 columns</p>\n",
       "</div>"
      ],
      "text/plain": [
       "   evol_stage  initial_feh  star_mass  luminosity     log_g  star_feh  \\\n",
       "0           1         -0.1        1.0    0.760630  4.560423 -0.100188   \n",
       "1           1         -0.1        1.0    0.749957  4.564024 -0.100198   \n",
       "2           1         -0.1        1.0    0.741406  4.566707 -0.100209   \n",
       "3           1         -0.1        1.0    0.735484  4.568303 -0.100221   \n",
       "4           1         -0.1        1.0    0.732361  4.568802 -0.100238   \n",
       "\n",
       "   log_frac_age  log_initial_mass  log_initial_MLT  log_initial_Yinit  ...  \\\n",
       "0     -2.394550               0.0         0.361728          -0.619789  ...   \n",
       "1     -2.385753               0.0         0.361728          -0.619789  ...   \n",
       "2     -2.375426               0.0         0.361728          -0.619789  ...   \n",
       "3     -2.363350               0.0         0.361728          -0.619789  ...   \n",
       "4     -2.349288               0.0         0.361728          -0.619789  ...   \n",
       "\n",
       "   log_initial_MLT_norm  log_initial_Yinit_norm  log_initial_Z_norm  \\\n",
       "0              0.082728               -0.066789           -0.074825   \n",
       "1              0.082728               -0.066789           -0.074825   \n",
       "2              0.082728               -0.066789           -0.074825   \n",
       "3              0.082728               -0.066789           -0.074825   \n",
       "4              0.082728               -0.066789           -0.074825   \n",
       "\n",
       "   log_star_age_norm  log_effective_T_norm  log_radius_norm  \\\n",
       "0          -2.172096              0.009556        -0.153267   \n",
       "1          -2.163299              0.008922        -0.155067   \n",
       "2          -2.152973              0.008348        -0.156409   \n",
       "3          -2.140897              0.007876        -0.157207   \n",
       "4          -2.126835              0.007539        -0.157456   \n",
       "\n",
       "   log_delta_nu_fit_norm  star_feh_norm  log_surface_he4_norm  \\\n",
       "0               0.227380      -0.005188              0.002002   \n",
       "1               0.230071      -0.005198              0.001994   \n",
       "2               0.232081      -0.005209              0.001984   \n",
       "3               0.233283      -0.005221              0.001973   \n",
       "4               0.233670      -0.005238              0.001958   \n",
       "\n",
       "   log_surface_Z_norm  \n",
       "0           -0.011841  \n",
       "1           -0.011848  \n",
       "2           -0.011856  \n",
       "3           -0.011865  \n",
       "4           -0.011876  \n",
       "\n",
       "[5 rows x 29 columns]"
      ]
     },
     "execution_count": 7,
     "metadata": {},
     "output_type": "execute_result"
    }
   ],
   "source": [
    "tracks.get_data().head()"
   ]
  },
  {
   "cell_type": "code",
   "execution_count": 9,
   "metadata": {},
   "outputs": [],
   "source": [
    "x_cols = ['log_frac_age_norm', 'log_initial_mass_norm','log_initial_MLT_norm', \n",
    "          'log_initial_Yinit_norm', 'log_initial_Z_norm']\n",
    "y_cols = ['log_star_age_norm', 'log_effective_T_norm', 'log_radius_norm',\n",
    "          'log_delta_nu_fit_norm', 'log_surface_he4_norm', 'log_surface_Z_norm']"
   ]
  },
  {
   "cell_type": "code",
   "execution_count": 10,
   "metadata": {},
   "outputs": [
    {
     "data": {
      "text/plain": [
       "<matplotlib.axes._subplots.AxesSubplot at 0x7f7b5dd18518>"
      ]
     },
     "execution_count": 10,
     "metadata": {},
     "output_type": "execute_result"
    },
    {
     "data": {
      "image/png": "[encoded data removed]",
      "text/plain": [
       "<Figure size 432x288 with 1 Axes>"
      ]
     },
     "metadata": {
      "needs_background": "light"
     },
     "output_type": "display_data"
    }
   ],
   "source": [
    "tracks.get_data().plot(kind='hist',\n",
    "                       y=x_cols+y_cols,\n",
    "                       bins=40, alpha=0.5)"
   ]
  },
  {
   "cell_type": "code",
   "execution_count": 11,
   "metadata": {},
   "outputs": [
    {
     "data": {
      "text/html": [
       "<div>\n",
       "<style scoped>\n",
       "    .dataframe tbody tr th:only-of-type {\n",
       "        vertical-align: middle;\n",
       "    }\n",
       "\n",
       "    .dataframe tbody tr th {\n",
       "        vertical-align: top;\n",
       "    }\n",
       "\n",
       "    .dataframe thead th {\n",
       "        text-align: right;\n",
       "    }\n",
       "</style>\n",
       "<table border=\"1\" class=\"dataframe\">\n",
       "  <thead>\n",
       "    <tr style=\"text-align: right;\">\n",
       "      <th></th>\n",
       "      <th>log_frac_age_norm</th>\n",
       "      <th>log_initial_mass_norm</th>\n",
       "      <th>log_initial_MLT_norm</th>\n",
       "      <th>log_initial_Yinit_norm</th>\n",
       "      <th>log_initial_Z_norm</th>\n",
       "      <th>log_star_age_norm</th>\n",
       "      <th>log_effective_T_norm</th>\n",
       "      <th>log_radius_norm</th>\n",
       "      <th>log_delta_nu_fit_norm</th>\n",
       "      <th>log_surface_he4_norm</th>\n",
       "      <th>log_surface_Z_norm</th>\n",
       "    </tr>\n",
       "  </thead>\n",
       "  <tbody>\n",
       "    <tr>\n",
       "      <th>5323617</th>\n",
       "      <td>-0.413108</td>\n",
       "      <td>-0.066581</td>\n",
       "      <td>0.082728</td>\n",
       "      <td>0.000158</td>\n",
       "      <td>-0.098340</td>\n",
       "      <td>-0.120701</td>\n",
       "      <td>-0.005829</td>\n",
       "      <td>-0.186181</td>\n",
       "      <td>0.241946</td>\n",
       "      <td>0.035663</td>\n",
       "      <td>-0.064664</td>\n",
       "    </tr>\n",
       "    <tr>\n",
       "      <th>4920966</th>\n",
       "      <td>0.165619</td>\n",
       "      <td>0.083181</td>\n",
       "      <td>-0.000246</td>\n",
       "      <td>0.030121</td>\n",
       "      <td>0.471477</td>\n",
       "      <td>0.150685</td>\n",
       "      <td>-0.074867</td>\n",
       "      <td>0.292421</td>\n",
       "      <td>-0.399550</td>\n",
       "      <td>0.089082</td>\n",
       "      <td>0.526601</td>\n",
       "    </tr>\n",
       "    <tr>\n",
       "      <th>2948371</th>\n",
       "      <td>-0.273604</td>\n",
       "      <td>0.064698</td>\n",
       "      <td>-0.102909</td>\n",
       "      <td>-0.032027</td>\n",
       "      <td>0.011987</td>\n",
       "      <td>-0.388764</td>\n",
       "      <td>0.024218</td>\n",
       "      <td>0.018269</td>\n",
       "      <td>0.001753</td>\n",
       "      <td>-0.102742</td>\n",
       "      <td>-0.052748</td>\n",
       "    </tr>\n",
       "    <tr>\n",
       "      <th>229413</th>\n",
       "      <td>-0.588613</td>\n",
       "      <td>-0.046610</td>\n",
       "      <td>0.082728</td>\n",
       "      <td>0.030121</td>\n",
       "      <td>-0.110549</td>\n",
       "      <td>-0.448798</td>\n",
       "      <td>0.013448</td>\n",
       "      <td>-0.168372</td>\n",
       "      <td>0.224419</td>\n",
       "      <td>0.077867</td>\n",
       "      <td>-0.066061</td>\n",
       "    </tr>\n",
       "    <tr>\n",
       "      <th>1054345</th>\n",
       "      <td>-0.196777</td>\n",
       "      <td>-0.018276</td>\n",
       "      <td>-0.048551</td>\n",
       "      <td>0.030121</td>\n",
       "      <td>0.376348</td>\n",
       "      <td>0.090103</td>\n",
       "      <td>-0.034648</td>\n",
       "      <td>-0.105347</td>\n",
       "      <td>0.148099</td>\n",
       "      <td>0.052552</td>\n",
       "      <td>0.400300</td>\n",
       "    </tr>\n",
       "  </tbody>\n",
       "</table>\n",
       "</div>"
      ],
      "text/plain": [
       "         log_frac_age_norm  log_initial_mass_norm  log_initial_MLT_norm  \\\n",
       "5323617          -0.413108              -0.066581              0.082728   \n",
       "4920966           0.165619               0.083181             -0.000246   \n",
       "2948371          -0.273604               0.064698             -0.102909   \n",
       "229413           -0.588613              -0.046610              0.082728   \n",
       "1054345          -0.196777              -0.018276             -0.048551   \n",
       "\n",
       "         log_initial_Yinit_norm  log_initial_Z_norm  log_star_age_norm  \\\n",
       "5323617                0.000158           -0.098340          -0.120701   \n",
       "4920966                0.030121            0.471477           0.150685   \n",
       "2948371               -0.032027            0.011987          -0.388764   \n",
       "229413                 0.030121           -0.110549          -0.448798   \n",
       "1054345                0.030121            0.376348           0.090103   \n",
       "\n",
       "         log_effective_T_norm  log_radius_norm  log_delta_nu_fit_norm  \\\n",
       "5323617             -0.005829        -0.186181               0.241946   \n",
       "4920966             -0.074867         0.292421              -0.399550   \n",
       "2948371              0.024218         0.018269               0.001753   \n",
       "229413               0.013448        -0.168372               0.224419   \n",
       "1054345             -0.034648        -0.105347               0.148099   \n",
       "\n",
       "         log_surface_he4_norm  log_surface_Z_norm  \n",
       "5323617              0.035663           -0.064664  \n",
       "4920966              0.089082            0.526601  \n",
       "2948371             -0.102742           -0.052748  \n",
       "229413               0.077867           -0.066061  \n",
       "1054345              0.052552            0.400300  "
      ]
     },
     "execution_count": 11,
     "metadata": {},
     "output_type": "execute_result"
    }
   ],
   "source": [
    "set_seed(101)\n",
    "data = tracks.sample_data(fraction=1.0, columns=x_cols+y_cols)\n",
    "data.head()"
   ]
  },
  {
   "cell_type": "code",
   "execution_count": 12,
   "metadata": {},
   "outputs": [],
   "source": [
    "train = data.head(int(0.8*len(data)) + 1)\n",
    "val = data.tail(int(0.2*len(data)))"
   ]
  },
  {
   "cell_type": "code",
   "execution_count": 13,
   "metadata": {},
   "outputs": [
    {
     "name": "stdout",
     "output_type": "stream",
     "text": [
      "Length of training data = 5163732\n",
      "Length of validation data = 1290932\n"
     ]
    }
   ],
   "source": [
    "print(f'Length of training data = {len(train)}')\n",
    "print(f'Length of validation data = {len(val)}')"
   ]
  },
  {
   "cell_type": "code",
   "execution_count": 14,
   "metadata": {},
   "outputs": [
    {
     "name": "stdout",
     "output_type": "stream",
     "text": [
      "choose number of batches from:\n",
      "[ 558  651  661  868 1116 1302 1322 1953 1983]\n"
     ]
    }
   ],
   "source": [
    "n_batches = np.arange(500, 2000)  # Select a range where number of batches is reasonable\n",
    "r = len(train) % n_batches \n",
    "\n",
    "# Print whole multiples of training size\n",
    "print(f'choose number of batches from:\\n{n_batches[r==0]}')"
   ]
  },
  {
   "cell_type": "code",
   "execution_count": 15,
   "metadata": {},
   "outputs": [],
   "source": [
    "depth = [5, 8]\n",
    "width = [128, 512]\n",
    "activation = 'elu'\n",
    "batch_size = len(train)//868\n",
    "regularization_l2 = 0.0\n",
    "optimizer = 'nadam'\n",
    "loss = 'mae'\n",
    "metrics = ['mse']"
   ]
  },
  {
   "cell_type": "code",
   "execution_count": 16,
   "metadata": {},
   "outputs": [
    {
     "data": {
      "text/html": [
       "<div>\n",
       "<style scoped>\n",
       "    .dataframe tbody tr th:only-of-type {\n",
       "        vertical-align: middle;\n",
       "    }\n",
       "\n",
       "    .dataframe tbody tr th {\n",
       "        vertical-align: top;\n",
       "    }\n",
       "\n",
       "    .dataframe thead th {\n",
       "        text-align: right;\n",
       "    }\n",
       "</style>\n",
       "<table border=\"1\" class=\"dataframe\">\n",
       "  <thead>\n",
       "    <tr style=\"text-align: right;\">\n",
       "      <th></th>\n",
       "      <th>depth</th>\n",
       "      <th>width</th>\n",
       "      <th>activation</th>\n",
       "      <th>batch_size</th>\n",
       "      <th>regularization_l2</th>\n",
       "    </tr>\n",
       "    <tr>\n",
       "      <th>name</th>\n",
       "      <th></th>\n",
       "      <th></th>\n",
       "      <th></th>\n",
       "      <th></th>\n",
       "      <th></th>\n",
       "    </tr>\n",
       "  </thead>\n",
       "  <tbody>\n",
       "    <tr>\n",
       "      <th>grid_09_0</th>\n",
       "      <td>5</td>\n",
       "      <td>128</td>\n",
       "      <td>elu</td>\n",
       "      <td>5949</td>\n",
       "      <td>0.0</td>\n",
       "    </tr>\n",
       "    <tr>\n",
       "      <th>grid_09_1</th>\n",
       "      <td>8</td>\n",
       "      <td>128</td>\n",
       "      <td>elu</td>\n",
       "      <td>5949</td>\n",
       "      <td>0.0</td>\n",
       "    </tr>\n",
       "    <tr>\n",
       "      <th>grid_09_2</th>\n",
       "      <td>5</td>\n",
       "      <td>512</td>\n",
       "      <td>elu</td>\n",
       "      <td>5949</td>\n",
       "      <td>0.0</td>\n",
       "    </tr>\n",
       "    <tr>\n",
       "      <th>grid_09_3</th>\n",
       "      <td>8</td>\n",
       "      <td>512</td>\n",
       "      <td>elu</td>\n",
       "      <td>5949</td>\n",
       "      <td>0.0</td>\n",
       "    </tr>\n",
       "  </tbody>\n",
       "</table>\n",
       "</div>"
      ],
      "text/plain": [
       "           depth  width activation  batch_size  regularization_l2\n",
       "name                                                             \n",
       "grid_09_0      5    128        elu        5949                0.0\n",
       "grid_09_1      8    128        elu        5949                0.0\n",
       "grid_09_2      5    512        elu        5949                0.0\n",
       "grid_09_3      8    512        elu        5949                0.0"
      ]
     },
     "execution_count": 16,
     "metadata": {},
     "output_type": "execute_result"
    }
   ],
   "source": [
    "grid = DenseNetworkGrid(path=save_path, name=name, depth=depth, width=width,\n",
    "                        activation=activation, batch_size=batch_size, regularization_l2=regularization_l2)\n",
    "\n",
    "grid.data"
   ]
  },
  {
   "cell_type": "code",
   "execution_count": 17,
   "metadata": {},
   "outputs": [],
   "source": [
    "grid.make_networks()"
   ]
  },
  {
   "cell_type": "code",
   "execution_count": 18,
   "metadata": {},
   "outputs": [],
   "source": [
    "grid.build_all(len(x_cols), len(y_cols))"
   ]
  },
  {
   "cell_type": "code",
   "execution_count": 19,
   "metadata": {},
   "outputs": [],
   "source": [
    "grid.compile_all(optimizer=optimizer, loss=loss, metrics=metrics)"
   ]
  },
  {
   "cell_type": "code",
   "execution_count": 20,
   "metadata": {},
   "outputs": [],
   "source": [
    "data = None"
   ]
  },
  {
   "cell_type": "code",
   "execution_count": 21,
   "metadata": {},
   "outputs": [],
   "source": [
    "grid.train_all(train, x_cols, y_cols, epochs=50, validation_data=val, validation_split=None,\n",
    "               callbacks=['checkpoint', 'tensorboard'], history_kw={'nth_row': 5})"
   ]
  },
  {
   "cell_type": "markdown",
   "metadata": {},
   "source": [
    "Add a function which plots history for all networks."
   ]
  },
  {
   "cell_type": "code",
   "execution_count": 22,
   "metadata": {},
   "outputs": [
    {
     "data": {
      "text/plain": [
       "Text(0, 0.5, 'loss (mae)')"
      ]
     },
     "execution_count": 22,
     "metadata": {},
     "output_type": "execute_result"
    },
    {
     "data": {
      "image/png": "[encoded data removed]",
      "text/plain": [
       "<Figure size 432x288 with 1 Axes>"
      ]
     },
     "metadata": {
      "needs_background": "light"
     },
     "output_type": "display_data"
    }
   ],
   "source": [
    "fig, ax = plt.subplots()\n",
    "for network in grid.networks:\n",
    "    network.history.plot(ax=ax, x='epochs', y=['val_loss'], logy=True, alpha=0.5,\n",
    "                         label=[f'{network.name} val loss'])\n",
    "ax.set_ylabel('loss (mae)')"
   ]
  },
  {
   "cell_type": "code",
   "execution_count": 23,
   "metadata": {},
   "outputs": [
    {
     "data": {
      "text/html": [
       "<div>\n",
       "<style scoped>\n",
       "    .dataframe tbody tr th:only-of-type {\n",
       "        vertical-align: middle;\n",
       "    }\n",
       "\n",
       "    .dataframe tbody tr th {\n",
       "        vertical-align: top;\n",
       "    }\n",
       "\n",
       "    .dataframe thead th {\n",
       "        text-align: right;\n",
       "    }\n",
       "</style>\n",
       "<table border=\"1\" class=\"dataframe\">\n",
       "  <thead>\n",
       "    <tr style=\"text-align: right;\">\n",
       "      <th></th>\n",
       "      <th>mae</th>\n",
       "      <th>mse</th>\n",
       "    </tr>\n",
       "    <tr>\n",
       "      <th>name</th>\n",
       "      <th></th>\n",
       "      <th></th>\n",
       "    </tr>\n",
       "  </thead>\n",
       "  <tbody>\n",
       "    <tr>\n",
       "      <th>grid_09_0</th>\n",
       "      <td>0.003700</td>\n",
       "      <td>0.000042</td>\n",
       "    </tr>\n",
       "    <tr>\n",
       "      <th>grid_09_1</th>\n",
       "      <td>0.003258</td>\n",
       "      <td>0.000027</td>\n",
       "    </tr>\n",
       "    <tr>\n",
       "      <th>grid_09_2</th>\n",
       "      <td>0.003906</td>\n",
       "      <td>0.000049</td>\n",
       "    </tr>\n",
       "    <tr>\n",
       "      <th>grid_09_3</th>\n",
       "      <td>0.184081</td>\n",
       "      <td>0.083463</td>\n",
       "    </tr>\n",
       "  </tbody>\n",
       "</table>\n",
       "</div>"
      ],
      "text/plain": [
       "                mae       mse\n",
       "name                         \n",
       "grid_09_0  0.003700  0.000042\n",
       "grid_09_1  0.003258  0.000027\n",
       "grid_09_2  0.003906  0.000049\n",
       "grid_09_3  0.184081  0.083463"
      ]
     },
     "execution_count": 23,
     "metadata": {},
     "output_type": "execute_result"
    }
   ],
   "source": [
    "grid.evaluate_all(val.sample(n=5000))"
   ]
  },
  {
   "cell_type": "code",
   "execution_count": 24,
   "metadata": {},
   "outputs": [
    {
     "data": {
      "text/html": [
       "<div>\n",
       "<style scoped>\n",
       "    .dataframe tbody tr th:only-of-type {\n",
       "        vertical-align: middle;\n",
       "    }\n",
       "\n",
       "    .dataframe tbody tr th {\n",
       "        vertical-align: top;\n",
       "    }\n",
       "\n",
       "    .dataframe thead th {\n",
       "        text-align: right;\n",
       "    }\n",
       "</style>\n",
       "<table border=\"1\" class=\"dataframe\">\n",
       "  <thead>\n",
       "    <tr style=\"text-align: right;\">\n",
       "      <th></th>\n",
       "      <th>depth</th>\n",
       "      <th>width</th>\n",
       "      <th>activation</th>\n",
       "      <th>batch_size</th>\n",
       "      <th>regularization_l2</th>\n",
       "      <th>model_filename</th>\n",
       "      <th>history_filename</th>\n",
       "    </tr>\n",
       "    <tr>\n",
       "      <th>name</th>\n",
       "      <th></th>\n",
       "      <th></th>\n",
       "      <th></th>\n",
       "      <th></th>\n",
       "      <th></th>\n",
       "      <th></th>\n",
       "      <th></th>\n",
       "    </tr>\n",
       "  </thead>\n",
       "  <tbody>\n",
       "    <tr>\n",
       "      <th>grid_09_0</th>\n",
       "      <td>5</td>\n",
       "      <td>128</td>\n",
       "      <td>elu</td>\n",
       "      <td>5949</td>\n",
       "      <td>0.0</td>\n",
       "      <td>grid_09_0_model.h5</td>\n",
       "      <td>grid_09_0_history.csv</td>\n",
       "    </tr>\n",
       "    <tr>\n",
       "      <th>grid_09_1</th>\n",
       "      <td>8</td>\n",
       "      <td>128</td>\n",
       "      <td>elu</td>\n",
       "      <td>5949</td>\n",
       "      <td>0.0</td>\n",
       "      <td>grid_09_1_model.h5</td>\n",
       "      <td>grid_09_1_history.csv</td>\n",
       "    </tr>\n",
       "    <tr>\n",
       "      <th>grid_09_2</th>\n",
       "      <td>5</td>\n",
       "      <td>512</td>\n",
       "      <td>elu</td>\n",
       "      <td>5949</td>\n",
       "      <td>0.0</td>\n",
       "      <td>grid_09_2_model.h5</td>\n",
       "      <td>grid_09_2_history.csv</td>\n",
       "    </tr>\n",
       "    <tr>\n",
       "      <th>grid_09_3</th>\n",
       "      <td>8</td>\n",
       "      <td>512</td>\n",
       "      <td>elu</td>\n",
       "      <td>5949</td>\n",
       "      <td>0.0</td>\n",
       "      <td>grid_09_3_model.h5</td>\n",
       "      <td>grid_09_3_history.csv</td>\n",
       "    </tr>\n",
       "  </tbody>\n",
       "</table>\n",
       "</div>"
      ],
      "text/plain": [
       "           depth  width activation  batch_size  regularization_l2  \\\n",
       "name                                                                \n",
       "grid_09_0      5    128        elu        5949                0.0   \n",
       "grid_09_1      8    128        elu        5949                0.0   \n",
       "grid_09_2      5    512        elu        5949                0.0   \n",
       "grid_09_3      8    512        elu        5949                0.0   \n",
       "\n",
       "               model_filename       history_filename  \n",
       "name                                                  \n",
       "grid_09_0  grid_09_0_model.h5  grid_09_0_history.csv  \n",
       "grid_09_1  grid_09_1_model.h5  grid_09_1_history.csv  \n",
       "grid_09_2  grid_09_2_model.h5  grid_09_2_history.csv  \n",
       "grid_09_3  grid_09_3_model.h5  grid_09_3_history.csv  "
      ]
     },
     "execution_count": 24,
     "metadata": {},
     "output_type": "execute_result"
    }
   ],
   "source": [
    "grid.data"
   ]
  },
  {
   "cell_type": "code",
   "execution_count": 25,
   "metadata": {},
   "outputs": [],
   "source": [
    "import seaborn as sns"
   ]
  },
  {
   "cell_type": "code",
   "execution_count": 26,
   "metadata": {},
   "outputs": [],
   "source": [
    "val = val.sample(n=10000)"
   ]
  },
  {
   "cell_type": "code",
   "execution_count": 27,
   "metadata": {},
   "outputs": [],
   "source": [
    "df_dict = {}\n",
    "for i, network in enumerate(grid.networks):\n",
    "#     network = grid.networks[i]\n",
    "    df_dict[network.name] = np.abs(network.predict(val) - val[y_cols].reset_index(drop=True))"
   ]
  },
  {
   "cell_type": "code",
   "execution_count": 28,
   "metadata": {},
   "outputs": [
    {
     "data": {
      "text/html": [
       "<div>\n",
       "<style scoped>\n",
       "    .dataframe tbody tr th:only-of-type {\n",
       "        vertical-align: middle;\n",
       "    }\n",
       "\n",
       "    .dataframe tbody tr th {\n",
       "        vertical-align: top;\n",
       "    }\n",
       "\n",
       "    .dataframe thead th {\n",
       "        text-align: right;\n",
       "    }\n",
       "</style>\n",
       "<table border=\"1\" class=\"dataframe\">\n",
       "  <thead>\n",
       "    <tr style=\"text-align: right;\">\n",
       "      <th></th>\n",
       "      <th>name</th>\n",
       "      <th>log_star_age_norm</th>\n",
       "      <th>log_effective_T_norm</th>\n",
       "      <th>log_radius_norm</th>\n",
       "      <th>log_delta_nu_fit_norm</th>\n",
       "      <th>log_surface_he4_norm</th>\n",
       "      <th>log_surface_Z_norm</th>\n",
       "    </tr>\n",
       "  </thead>\n",
       "  <tbody>\n",
       "    <tr>\n",
       "      <th>0</th>\n",
       "      <td>grid_09_0</td>\n",
       "      <td>0.000917</td>\n",
       "      <td>0.001219</td>\n",
       "      <td>0.002934</td>\n",
       "      <td>0.003417</td>\n",
       "      <td>0.002729</td>\n",
       "      <td>0.003332</td>\n",
       "    </tr>\n",
       "    <tr>\n",
       "      <th>1</th>\n",
       "      <td>grid_09_0</td>\n",
       "      <td>0.004551</td>\n",
       "      <td>0.000042</td>\n",
       "      <td>0.007535</td>\n",
       "      <td>0.011868</td>\n",
       "      <td>0.003189</td>\n",
       "      <td>0.003626</td>\n",
       "    </tr>\n",
       "    <tr>\n",
       "      <th>2</th>\n",
       "      <td>grid_09_0</td>\n",
       "      <td>0.001091</td>\n",
       "      <td>0.001186</td>\n",
       "      <td>0.003013</td>\n",
       "      <td>0.003851</td>\n",
       "      <td>0.000100</td>\n",
       "      <td>0.002581</td>\n",
       "    </tr>\n",
       "    <tr>\n",
       "      <th>3</th>\n",
       "      <td>grid_09_0</td>\n",
       "      <td>0.004344</td>\n",
       "      <td>0.002488</td>\n",
       "      <td>0.002381</td>\n",
       "      <td>0.004279</td>\n",
       "      <td>0.001032</td>\n",
       "      <td>0.005246</td>\n",
       "    </tr>\n",
       "    <tr>\n",
       "      <th>4</th>\n",
       "      <td>grid_09_0</td>\n",
       "      <td>0.001238</td>\n",
       "      <td>0.001238</td>\n",
       "      <td>0.003548</td>\n",
       "      <td>0.005637</td>\n",
       "      <td>0.005034</td>\n",
       "      <td>0.003815</td>\n",
       "    </tr>\n",
       "  </tbody>\n",
       "</table>\n",
       "</div>"
      ],
      "text/plain": [
       "        name  log_star_age_norm  log_effective_T_norm  log_radius_norm  \\\n",
       "0  grid_09_0           0.000917              0.001219         0.002934   \n",
       "1  grid_09_0           0.004551              0.000042         0.007535   \n",
       "2  grid_09_0           0.001091              0.001186         0.003013   \n",
       "3  grid_09_0           0.004344              0.002488         0.002381   \n",
       "4  grid_09_0           0.001238              0.001238         0.003548   \n",
       "\n",
       "   log_delta_nu_fit_norm  log_surface_he4_norm  log_surface_Z_norm  \n",
       "0               0.003417              0.002729            0.003332  \n",
       "1               0.011868              0.003189            0.003626  \n",
       "2               0.003851              0.000100            0.002581  \n",
       "3               0.004279              0.001032            0.005246  \n",
       "4               0.005637              0.005034            0.003815  "
      ]
     },
     "execution_count": 28,
     "metadata": {},
     "output_type": "execute_result"
    }
   ],
   "source": [
    "df_err = pd.concat(df_dict).reset_index(level=0).rename(columns={'level_0': 'name'})\n",
    "df_err.head()"
   ]
  },
  {
   "cell_type": "code",
   "execution_count": 29,
   "metadata": {},
   "outputs": [
    {
     "data": {
      "text/html": [
       "<div>\n",
       "<style scoped>\n",
       "    .dataframe tbody tr th:only-of-type {\n",
       "        vertical-align: middle;\n",
       "    }\n",
       "\n",
       "    .dataframe tbody tr th {\n",
       "        vertical-align: top;\n",
       "    }\n",
       "\n",
       "    .dataframe thead th {\n",
       "        text-align: right;\n",
       "    }\n",
       "</style>\n",
       "<table border=\"1\" class=\"dataframe\">\n",
       "  <thead>\n",
       "    <tr style=\"text-align: right;\">\n",
       "      <th></th>\n",
       "      <th>name</th>\n",
       "      <th>mae</th>\n",
       "    </tr>\n",
       "  </thead>\n",
       "  <tbody>\n",
       "    <tr>\n",
       "      <th>0</th>\n",
       "      <td>grid_09_0</td>\n",
       "      <td>0.002424</td>\n",
       "    </tr>\n",
       "    <tr>\n",
       "      <th>1</th>\n",
       "      <td>grid_09_0</td>\n",
       "      <td>0.005135</td>\n",
       "    </tr>\n",
       "    <tr>\n",
       "      <th>2</th>\n",
       "      <td>grid_09_0</td>\n",
       "      <td>0.001970</td>\n",
       "    </tr>\n",
       "    <tr>\n",
       "      <th>3</th>\n",
       "      <td>grid_09_0</td>\n",
       "      <td>0.003295</td>\n",
       "    </tr>\n",
       "    <tr>\n",
       "      <th>4</th>\n",
       "      <td>grid_09_0</td>\n",
       "      <td>0.003418</td>\n",
       "    </tr>\n",
       "  </tbody>\n",
       "</table>\n",
       "</div>"
      ],
      "text/plain": [
       "        name       mae\n",
       "0  grid_09_0  0.002424\n",
       "1  grid_09_0  0.005135\n",
       "2  grid_09_0  0.001970\n",
       "3  grid_09_0  0.003295\n",
       "4  grid_09_0  0.003418"
      ]
     },
     "execution_count": 29,
     "metadata": {},
     "output_type": "execute_result"
    }
   ],
   "source": [
    "df_mae = pd.concat(df_dict).mean(axis=1).reset_index(level=0).rename(columns={'level_0': 'name', 0: 'mae'})\n",
    "df_mae.head()"
   ]
  },
  {
   "cell_type": "code",
   "execution_count": 30,
   "metadata": {},
   "outputs": [],
   "source": [
    "df_mae['log_mae'] = np.log10(df_mae['mae'])"
   ]
  },
  {
   "cell_type": "code",
   "execution_count": 31,
   "metadata": {},
   "outputs": [],
   "source": [
    "order = df_mae.set_index('name').median(level=0).sort_values('log_mae', ascending=False).index"
   ]
  },
  {
   "cell_type": "code",
   "execution_count": 32,
   "metadata": {},
   "outputs": [
    {
     "data": {
      "text/html": [
       "<div>\n",
       "<style scoped>\n",
       "    .dataframe tbody tr th:only-of-type {\n",
       "        vertical-align: middle;\n",
       "    }\n",
       "\n",
       "    .dataframe tbody tr th {\n",
       "        vertical-align: top;\n",
       "    }\n",
       "\n",
       "    .dataframe thead th {\n",
       "        text-align: right;\n",
       "    }\n",
       "</style>\n",
       "<table border=\"1\" class=\"dataframe\">\n",
       "  <thead>\n",
       "    <tr style=\"text-align: right;\">\n",
       "      <th></th>\n",
       "      <th>name</th>\n",
       "      <th>log_star_age_norm</th>\n",
       "      <th>log_effective_T_norm</th>\n",
       "      <th>log_radius_norm</th>\n",
       "      <th>log_delta_nu_fit_norm</th>\n",
       "      <th>log_surface_he4_norm</th>\n",
       "      <th>log_surface_Z_norm</th>\n",
       "    </tr>\n",
       "  </thead>\n",
       "  <tbody>\n",
       "    <tr>\n",
       "      <th>0</th>\n",
       "      <td>grid_09_0</td>\n",
       "      <td>0.000917</td>\n",
       "      <td>0.001219</td>\n",
       "      <td>0.002934</td>\n",
       "      <td>0.003417</td>\n",
       "      <td>0.002729</td>\n",
       "      <td>0.003332</td>\n",
       "    </tr>\n",
       "    <tr>\n",
       "      <th>1</th>\n",
       "      <td>grid_09_0</td>\n",
       "      <td>0.004551</td>\n",
       "      <td>0.000042</td>\n",
       "      <td>0.007535</td>\n",
       "      <td>0.011868</td>\n",
       "      <td>0.003189</td>\n",
       "      <td>0.003626</td>\n",
       "    </tr>\n",
       "    <tr>\n",
       "      <th>2</th>\n",
       "      <td>grid_09_0</td>\n",
       "      <td>0.001091</td>\n",
       "      <td>0.001186</td>\n",
       "      <td>0.003013</td>\n",
       "      <td>0.003851</td>\n",
       "      <td>0.000100</td>\n",
       "      <td>0.002581</td>\n",
       "    </tr>\n",
       "    <tr>\n",
       "      <th>3</th>\n",
       "      <td>grid_09_0</td>\n",
       "      <td>0.004344</td>\n",
       "      <td>0.002488</td>\n",
       "      <td>0.002381</td>\n",
       "      <td>0.004279</td>\n",
       "      <td>0.001032</td>\n",
       "      <td>0.005246</td>\n",
       "    </tr>\n",
       "    <tr>\n",
       "      <th>4</th>\n",
       "      <td>grid_09_0</td>\n",
       "      <td>0.001238</td>\n",
       "      <td>0.001238</td>\n",
       "      <td>0.003548</td>\n",
       "      <td>0.005637</td>\n",
       "      <td>0.005034</td>\n",
       "      <td>0.003815</td>\n",
       "    </tr>\n",
       "  </tbody>\n",
       "</table>\n",
       "</div>"
      ],
      "text/plain": [
       "        name  log_star_age_norm  log_effective_T_norm  log_radius_norm  \\\n",
       "0  grid_09_0           0.000917              0.001219         0.002934   \n",
       "1  grid_09_0           0.004551              0.000042         0.007535   \n",
       "2  grid_09_0           0.001091              0.001186         0.003013   \n",
       "3  grid_09_0           0.004344              0.002488         0.002381   \n",
       "4  grid_09_0           0.001238              0.001238         0.003548   \n",
       "\n",
       "   log_delta_nu_fit_norm  log_surface_he4_norm  log_surface_Z_norm  \n",
       "0               0.003417              0.002729            0.003332  \n",
       "1               0.011868              0.003189            0.003626  \n",
       "2               0.003851              0.000100            0.002581  \n",
       "3               0.004279              0.001032            0.005246  \n",
       "4               0.005637              0.005034            0.003815  "
      ]
     },
     "execution_count": 32,
     "metadata": {},
     "output_type": "execute_result"
    }
   ],
   "source": [
    "df_err.head()"
   ]
  },
  {
   "cell_type": "code",
   "execution_count": 33,
   "metadata": {},
   "outputs": [],
   "source": [
    "df_err_col = df_err.set_index('name').stack().reset_index().rename(columns={'level_1': 'output',\n",
    "                                                                0: 'abs_err'})\n",
    "\n",
    "df_err_col['log_abs_err'] = np.log10(df_err_col['abs_err'])"
   ]
  },
  {
   "cell_type": "code",
   "execution_count": 34,
   "metadata": {},
   "outputs": [
    {
     "data": {
      "text/plain": [
       "<matplotlib.legend.Legend at 0x7f7a31e00e48>"
      ]
     },
     "execution_count": 34,
     "metadata": {},
     "output_type": "execute_result"
    },
    {
     "data": {
      "image/png": "[encoded data removed]",
      "text/plain": [
       "<Figure size 432x324 with 1 Axes>"
      ]
     },
     "metadata": {
      "needs_background": "light"
     },
     "output_type": "display_data"
    }
   ],
   "source": [
    "w = 1.5 * len(grid.data)\n",
    "fig, ax = plt.subplots(figsize=(w, 4.5))\n",
    "width = 0.15 * len(y_cols)\n",
    "sns.boxplot(data=df_err_col, x='name', y='log_abs_err', hue='output',\n",
    "            width=width, fliersize=2, color='C0', palette='colorblind',\n",
    "            order=order, ax=ax, saturation=0.9)\n",
    "# ax.set_yscale('log')\n",
    "plt.xticks(rotation=45)\n",
    "plt.yticks(rotation=45)\n",
    "ax.legend(bbox_to_anchor=(1.0, 1.02))"
   ]
  },
  {
   "cell_type": "code",
   "execution_count": 35,
   "metadata": {},
   "outputs": [],
   "source": [
    "scores = grid.score_all(val)"
   ]
  },
  {
   "cell_type": "code",
   "execution_count": 36,
   "metadata": {},
   "outputs": [
    {
     "data": {
      "text/html": [
       "<div>\n",
       "<style scoped>\n",
       "    .dataframe tbody tr th:only-of-type {\n",
       "        vertical-align: middle;\n",
       "    }\n",
       "\n",
       "    .dataframe tbody tr th {\n",
       "        vertical-align: top;\n",
       "    }\n",
       "\n",
       "    .dataframe thead th {\n",
       "        text-align: right;\n",
       "    }\n",
       "</style>\n",
       "<table border=\"1\" class=\"dataframe\">\n",
       "  <thead>\n",
       "    <tr style=\"text-align: right;\">\n",
       "      <th></th>\n",
       "      <th>log_star_age_norm</th>\n",
       "      <th>log_effective_T_norm</th>\n",
       "      <th>log_radius_norm</th>\n",
       "      <th>log_delta_nu_fit_norm</th>\n",
       "      <th>log_surface_he4_norm</th>\n",
       "      <th>log_surface_Z_norm</th>\n",
       "    </tr>\n",
       "  </thead>\n",
       "  <tbody>\n",
       "    <tr>\n",
       "      <th>grid_09_0</th>\n",
       "      <td>0.003430</td>\n",
       "      <td>0.002247</td>\n",
       "      <td>0.006080</td>\n",
       "      <td>0.009359</td>\n",
       "      <td>0.004449</td>\n",
       "      <td>0.004076</td>\n",
       "    </tr>\n",
       "    <tr>\n",
       "      <th>grid_09_1</th>\n",
       "      <td>0.003078</td>\n",
       "      <td>0.001595</td>\n",
       "      <td>0.004621</td>\n",
       "      <td>0.007193</td>\n",
       "      <td>0.002497</td>\n",
       "      <td>0.002932</td>\n",
       "    </tr>\n",
       "    <tr>\n",
       "      <th>grid_09_2</th>\n",
       "      <td>0.003546</td>\n",
       "      <td>0.002281</td>\n",
       "      <td>0.006257</td>\n",
       "      <td>0.009816</td>\n",
       "      <td>0.004733</td>\n",
       "      <td>0.004624</td>\n",
       "    </tr>\n",
       "    <tr>\n",
       "      <th>grid_09_3</th>\n",
       "      <td>0.376963</td>\n",
       "      <td>0.031512</td>\n",
       "      <td>0.077802</td>\n",
       "      <td>0.144096</td>\n",
       "      <td>0.076361</td>\n",
       "      <td>0.178039</td>\n",
       "    </tr>\n",
       "  </tbody>\n",
       "</table>\n",
       "</div>"
      ],
      "text/plain": [
       "           log_star_age_norm  log_effective_T_norm  log_radius_norm  \\\n",
       "grid_09_0           0.003430              0.002247         0.006080   \n",
       "grid_09_1           0.003078              0.001595         0.004621   \n",
       "grid_09_2           0.003546              0.002281         0.006257   \n",
       "grid_09_3           0.376963              0.031512         0.077802   \n",
       "\n",
       "           log_delta_nu_fit_norm  log_surface_he4_norm  log_surface_Z_norm  \n",
       "grid_09_0               0.009359              0.004449            0.004076  \n",
       "grid_09_1               0.007193              0.002497            0.002932  \n",
       "grid_09_2               0.009816              0.004733            0.004624  \n",
       "grid_09_3               0.144096              0.076361            0.178039  "
      ]
     },
     "execution_count": 36,
     "metadata": {},
     "output_type": "execute_result"
    }
   ],
   "source": [
    "scores.xs('std', level=1)"
   ]
  },
  {
   "cell_type": "code",
   "execution_count": null,
   "metadata": {},
   "outputs": [],
   "source": []
  }
 ],
 "metadata": {
  "kernelspec": {
   "display_name": "Python 3 (Interstellar)",
   "language": "python",
   "name": "interstellar"
  },
  "language_info": {
   "codemirror_mode": {
    "name": "ipython",
    "version": 3
   },
   "file_extension": ".py",
   "mimetype": "text/x-python",
   "name": "python",
   "nbconvert_exporter": "python",
   "pygments_lexer": "ipython3",
   "version": "3.6.8"
  }
 },
 "nbformat": 4,
 "nbformat_minor": 2
}
