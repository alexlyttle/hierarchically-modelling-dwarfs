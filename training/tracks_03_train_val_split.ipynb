{
 "cells": [
  {
   "cell_type": "code",
   "execution_count": 1,
   "metadata": {},
   "outputs": [],
   "source": [
    "import os\n",
    "import matplotlib.pyplot as plt\n",
    "from interstellar import Tracks, set_seed"
   ]
  },
  {
   "cell_type": "code",
   "execution_count": 2,
   "metadata": {},
   "outputs": [],
   "source": [
    "seed = 101\n",
    "name = 'tracks_03'\n",
    "tracks_path = f'/home/ADF/ajl573/Data/interstellar_data/{name}'\n",
    "tracks = Tracks(name=name)\n",
    "tracks.load(tracks_path)"
   ]
  },
  {
   "cell_type": "code",
   "execution_count": 3,
   "metadata": {},
   "outputs": [
    {
     "data": {
      "text/html": [
       "<div>\n",
       "<style scoped>\n",
       "    .dataframe tbody tr th:only-of-type {\n",
       "        vertical-align: middle;\n",
       "    }\n",
       "\n",
       "    .dataframe tbody tr th {\n",
       "        vertical-align: top;\n",
       "    }\n",
       "\n",
       "    .dataframe thead th {\n",
       "        text-align: right;\n",
       "    }\n",
       "</style>\n",
       "<table border=\"1\" class=\"dataframe\">\n",
       "  <thead>\n",
       "    <tr style=\"text-align: right;\">\n",
       "      <th></th>\n",
       "      <th>file_name</th>\n",
       "      <th>m</th>\n",
       "      <th>Y</th>\n",
       "      <th>FeH</th>\n",
       "      <th>MLT</th>\n",
       "      <th>ov</th>\n",
       "      <th>dif</th>\n",
       "    </tr>\n",
       "  </thead>\n",
       "  <tbody>\n",
       "    <tr>\n",
       "      <th>0</th>\n",
       "      <td>m1.0Y0.24FeH-0.1MLT2.3ov0.0dif1.csv</td>\n",
       "      <td>1.00</td>\n",
       "      <td>0.24</td>\n",
       "      <td>-0.1</td>\n",
       "      <td>2.3</td>\n",
       "      <td>0.0</td>\n",
       "      <td>1</td>\n",
       "    </tr>\n",
       "    <tr>\n",
       "      <th>1</th>\n",
       "      <td>m0.92Y0.28FeH-0.3MLT1.7ov0.0dif1.csv</td>\n",
       "      <td>0.92</td>\n",
       "      <td>0.28</td>\n",
       "      <td>-0.3</td>\n",
       "      <td>1.7</td>\n",
       "      <td>0.0</td>\n",
       "      <td>1</td>\n",
       "    </tr>\n",
       "    <tr>\n",
       "      <th>2</th>\n",
       "      <td>m0.82Y0.32FeH0.1MLT2.1ov0.0dif1.csv</td>\n",
       "      <td>0.82</td>\n",
       "      <td>0.32</td>\n",
       "      <td>0.1</td>\n",
       "      <td>2.1</td>\n",
       "      <td>0.0</td>\n",
       "      <td>1</td>\n",
       "    </tr>\n",
       "    <tr>\n",
       "      <th>3</th>\n",
       "      <td>m0.82Y0.24FeH0.0MLT1.9ov0.0dif1.csv</td>\n",
       "      <td>0.82</td>\n",
       "      <td>0.24</td>\n",
       "      <td>0.0</td>\n",
       "      <td>1.9</td>\n",
       "      <td>0.0</td>\n",
       "      <td>1</td>\n",
       "    </tr>\n",
       "    <tr>\n",
       "      <th>4</th>\n",
       "      <td>m1.17Y0.28FeH0.1MLT2.3ov0.0dif1.csv</td>\n",
       "      <td>1.17</td>\n",
       "      <td>0.28</td>\n",
       "      <td>0.1</td>\n",
       "      <td>2.3</td>\n",
       "      <td>0.0</td>\n",
       "      <td>1</td>\n",
       "    </tr>\n",
       "  </tbody>\n",
       "</table>\n",
       "</div>"
      ],
      "text/plain": [
       "                              file_name     m     Y  FeH  MLT   ov  dif\n",
       "0   m1.0Y0.24FeH-0.1MLT2.3ov0.0dif1.csv  1.00  0.24 -0.1  2.3  0.0    1\n",
       "1  m0.92Y0.28FeH-0.3MLT1.7ov0.0dif1.csv  0.92  0.28 -0.3  1.7  0.0    1\n",
       "2   m0.82Y0.32FeH0.1MLT2.1ov0.0dif1.csv  0.82  0.32  0.1  2.1  0.0    1\n",
       "3   m0.82Y0.24FeH0.0MLT1.9ov0.0dif1.csv  0.82  0.24  0.0  1.9  0.0    1\n",
       "4   m1.17Y0.28FeH0.1MLT2.3ov0.0dif1.csv  1.17  0.28  0.1  2.3  0.0    1"
      ]
     },
     "execution_count": 3,
     "metadata": {},
     "output_type": "execute_result"
    }
   ],
   "source": [
    "tracks.get_metadata().head()"
   ]
  },
  {
   "cell_type": "code",
   "execution_count": 4,
   "metadata": {},
   "outputs": [
    {
     "data": {
      "text/html": [
       "<div>\n",
       "<style scoped>\n",
       "    .dataframe tbody tr th:only-of-type {\n",
       "        vertical-align: middle;\n",
       "    }\n",
       "\n",
       "    .dataframe tbody tr th {\n",
       "        vertical-align: top;\n",
       "    }\n",
       "\n",
       "    .dataframe thead th {\n",
       "        text-align: right;\n",
       "    }\n",
       "</style>\n",
       "<table border=\"1\" class=\"dataframe\">\n",
       "  <thead>\n",
       "    <tr style=\"text-align: right;\">\n",
       "      <th></th>\n",
       "      <th>log_frac_age_norm</th>\n",
       "      <th>log_initial_mass_norm</th>\n",
       "      <th>log_initial_MLT_norm</th>\n",
       "      <th>initial_feh_norm</th>\n",
       "      <th>log_initial_Yinit_norm</th>\n",
       "      <th>log_initial_Z_norm</th>\n",
       "      <th>frac_he_core_mass_norm</th>\n",
       "      <th>log_star_age_norm</th>\n",
       "      <th>log_effective_T_norm</th>\n",
       "      <th>log_radius_norm</th>\n",
       "      <th>log_delta_nu_fit_norm</th>\n",
       "      <th>star_feh_norm</th>\n",
       "      <th>log_surface_he4_norm</th>\n",
       "      <th>log_surface_Z_norm</th>\n",
       "    </tr>\n",
       "  </thead>\n",
       "  <tbody>\n",
       "    <tr>\n",
       "      <th>0</th>\n",
       "      <td>-1.880058</td>\n",
       "      <td>0.0</td>\n",
       "      <td>0.082728</td>\n",
       "      <td>-0.1</td>\n",
       "      <td>-0.066789</td>\n",
       "      <td>-0.074825</td>\n",
       "      <td>0.0</td>\n",
       "      <td>-1.734604</td>\n",
       "      <td>0.007556</td>\n",
       "      <td>-0.155094</td>\n",
       "      <td>0.229712</td>\n",
       "      <td>-0.006076</td>\n",
       "      <td>0.003246</td>\n",
       "      <td>-0.012479</td>\n",
       "    </tr>\n",
       "    <tr>\n",
       "      <th>1</th>\n",
       "      <td>-1.824820</td>\n",
       "      <td>0.0</td>\n",
       "      <td>0.082728</td>\n",
       "      <td>-0.1</td>\n",
       "      <td>-0.066789</td>\n",
       "      <td>-0.074825</td>\n",
       "      <td>0.0</td>\n",
       "      <td>-1.679366</td>\n",
       "      <td>0.007601</td>\n",
       "      <td>-0.154709</td>\n",
       "      <td>0.229138</td>\n",
       "      <td>-0.006265</td>\n",
       "      <td>0.003086</td>\n",
       "      <td>-0.012614</td>\n",
       "    </tr>\n",
       "    <tr>\n",
       "      <th>2</th>\n",
       "      <td>-1.766652</td>\n",
       "      <td>0.0</td>\n",
       "      <td>0.082728</td>\n",
       "      <td>-0.1</td>\n",
       "      <td>-0.066789</td>\n",
       "      <td>-0.074825</td>\n",
       "      <td>0.0</td>\n",
       "      <td>-1.621198</td>\n",
       "      <td>0.007644</td>\n",
       "      <td>-0.154313</td>\n",
       "      <td>0.228547</td>\n",
       "      <td>-0.006491</td>\n",
       "      <td>0.002894</td>\n",
       "      <td>-0.012777</td>\n",
       "    </tr>\n",
       "    <tr>\n",
       "      <th>3</th>\n",
       "      <td>-1.705793</td>\n",
       "      <td>0.0</td>\n",
       "      <td>0.082728</td>\n",
       "      <td>-0.1</td>\n",
       "      <td>-0.066789</td>\n",
       "      <td>-0.074825</td>\n",
       "      <td>0.0</td>\n",
       "      <td>-1.560340</td>\n",
       "      <td>0.007686</td>\n",
       "      <td>-0.153899</td>\n",
       "      <td>0.227932</td>\n",
       "      <td>-0.006767</td>\n",
       "      <td>0.002660</td>\n",
       "      <td>-0.012976</td>\n",
       "    </tr>\n",
       "    <tr>\n",
       "      <th>4</th>\n",
       "      <td>-1.642494</td>\n",
       "      <td>0.0</td>\n",
       "      <td>0.082728</td>\n",
       "      <td>-0.1</td>\n",
       "      <td>-0.066789</td>\n",
       "      <td>-0.074825</td>\n",
       "      <td>0.0</td>\n",
       "      <td>-1.497041</td>\n",
       "      <td>0.007731</td>\n",
       "      <td>-0.153461</td>\n",
       "      <td>0.227281</td>\n",
       "      <td>-0.007098</td>\n",
       "      <td>0.002381</td>\n",
       "      <td>-0.013213</td>\n",
       "    </tr>\n",
       "  </tbody>\n",
       "</table>\n",
       "</div>"
      ],
      "text/plain": [
       "   log_frac_age_norm  log_initial_mass_norm  log_initial_MLT_norm  \\\n",
       "0          -1.880058                    0.0              0.082728   \n",
       "1          -1.824820                    0.0              0.082728   \n",
       "2          -1.766652                    0.0              0.082728   \n",
       "3          -1.705793                    0.0              0.082728   \n",
       "4          -1.642494                    0.0              0.082728   \n",
       "\n",
       "   initial_feh_norm  log_initial_Yinit_norm  log_initial_Z_norm  \\\n",
       "0              -0.1               -0.066789           -0.074825   \n",
       "1              -0.1               -0.066789           -0.074825   \n",
       "2              -0.1               -0.066789           -0.074825   \n",
       "3              -0.1               -0.066789           -0.074825   \n",
       "4              -0.1               -0.066789           -0.074825   \n",
       "\n",
       "   frac_he_core_mass_norm  log_star_age_norm  log_effective_T_norm  \\\n",
       "0                     0.0          -1.734604              0.007556   \n",
       "1                     0.0          -1.679366              0.007601   \n",
       "2                     0.0          -1.621198              0.007644   \n",
       "3                     0.0          -1.560340              0.007686   \n",
       "4                     0.0          -1.497041              0.007731   \n",
       "\n",
       "   log_radius_norm  log_delta_nu_fit_norm  star_feh_norm  \\\n",
       "0        -0.155094               0.229712      -0.006076   \n",
       "1        -0.154709               0.229138      -0.006265   \n",
       "2        -0.154313               0.228547      -0.006491   \n",
       "3        -0.153899               0.227932      -0.006767   \n",
       "4        -0.153461               0.227281      -0.007098   \n",
       "\n",
       "   log_surface_he4_norm  log_surface_Z_norm  \n",
       "0              0.003246           -0.012479  \n",
       "1              0.003086           -0.012614  \n",
       "2              0.002894           -0.012777  \n",
       "3              0.002660           -0.012976  \n",
       "4              0.002381           -0.013213  "
      ]
     },
     "execution_count": 4,
     "metadata": {},
     "output_type": "execute_result"
    }
   ],
   "source": [
    "tracks.get_data().head()"
   ]
  },
  {
   "cell_type": "code",
   "execution_count": 5,
   "metadata": {},
   "outputs": [],
   "source": [
    "x_cols = ['log_frac_age_norm', 'log_initial_mass_norm', 'log_initial_MLT_norm', \n",
    "          'log_initial_Yinit_norm', 'log_initial_Z_norm', 'frac_he_core_mass_norm']\n",
    "y_cols = ['log_star_age_norm', 'log_effective_T_norm', 'log_radius_norm',\n",
    "          'log_delta_nu_fit_norm', 'star_feh_norm']"
   ]
  },
  {
   "cell_type": "code",
   "execution_count": 6,
   "metadata": {},
   "outputs": [
    {
     "data": {
      "image/png": "[encoded data removed]",
      "text/plain": [
       "<Figure size 432x288 with 1 Axes>"
      ]
     },
     "metadata": {
      "needs_background": "light"
     },
     "output_type": "display_data"
    }
   ],
   "source": [
    "ax = tracks.get_data().plot(kind='hist',\n",
    "                       y=x_cols,\n",
    "                       bins=40, alpha=0.5)\n",
    "ax.set_title('Inputs');"
   ]
  },
  {
   "cell_type": "code",
   "execution_count": 7,
   "metadata": {},
   "outputs": [
    {
     "data": {
      "image/png": "[encoded data removed]",
      "text/plain": [
       "<Figure size 432x288 with 1 Axes>"
      ]
     },
     "metadata": {
      "needs_background": "light"
     },
     "output_type": "display_data"
    }
   ],
   "source": [
    "ax = tracks.get_data().plot(kind='hist',\n",
    "                       y=y_cols,\n",
    "                       bins=40, alpha=0.5)\n",
    "ax.set_title('Outputs');"
   ]
  },
  {
   "cell_type": "markdown",
   "metadata": {},
   "source": [
    "Shuffle the data and select columns"
   ]
  },
  {
   "cell_type": "code",
   "execution_count": 13,
   "metadata": {},
   "outputs": [
    {
     "data": {
      "text/html": [
       "<div>\n",
       "<style scoped>\n",
       "    .dataframe tbody tr th:only-of-type {\n",
       "        vertical-align: middle;\n",
       "    }\n",
       "\n",
       "    .dataframe tbody tr th {\n",
       "        vertical-align: top;\n",
       "    }\n",
       "\n",
       "    .dataframe thead th {\n",
       "        text-align: right;\n",
       "    }\n",
       "</style>\n",
       "<table border=\"1\" class=\"dataframe\">\n",
       "  <thead>\n",
       "    <tr style=\"text-align: right;\">\n",
       "      <th></th>\n",
       "      <th>log_frac_age_norm</th>\n",
       "      <th>log_initial_mass_norm</th>\n",
       "      <th>log_initial_MLT_norm</th>\n",
       "      <th>log_initial_Yinit_norm</th>\n",
       "      <th>log_initial_Z_norm</th>\n",
       "      <th>frac_he_core_mass_norm</th>\n",
       "      <th>log_star_age_norm</th>\n",
       "      <th>log_effective_T_norm</th>\n",
       "      <th>log_radius_norm</th>\n",
       "      <th>log_delta_nu_fit_norm</th>\n",
       "      <th>star_feh_norm</th>\n",
       "    </tr>\n",
       "  </thead>\n",
       "  <tbody>\n",
       "    <tr>\n",
       "      <th>3162884</th>\n",
       "      <td>-0.189163</td>\n",
       "      <td>0.029384</td>\n",
       "      <td>0.043219</td>\n",
       "      <td>0.030121</td>\n",
       "      <td>0.471462</td>\n",
       "      <td>0.0</td>\n",
       "      <td>-0.086021</td>\n",
       "      <td>-0.006214</td>\n",
       "      <td>-0.078068</td>\n",
       "      <td>0.131739</td>\n",
       "      <td>0.546577</td>\n",
       "    </tr>\n",
       "    <tr>\n",
       "      <th>1667556</th>\n",
       "      <td>-0.002536</td>\n",
       "      <td>0.079181</td>\n",
       "      <td>-0.048551</td>\n",
       "      <td>-0.066789</td>\n",
       "      <td>-0.074822</td>\n",
       "      <td>0.0</td>\n",
       "      <td>-0.163146</td>\n",
       "      <td>0.028332</td>\n",
       "      <td>0.091255</td>\n",
       "      <td>-0.098357</td>\n",
       "      <td>-0.304225</td>\n",
       "    </tr>\n",
       "    <tr>\n",
       "      <th>3506178</th>\n",
       "      <td>-0.113468</td>\n",
       "      <td>0.041393</td>\n",
       "      <td>-0.000246</td>\n",
       "      <td>-0.032027</td>\n",
       "      <td>0.109996</td>\n",
       "      <td>0.0</td>\n",
       "      <td>-0.125386</td>\n",
       "      <td>0.017360</td>\n",
       "      <td>-0.017984</td>\n",
       "      <td>0.048159</td>\n",
       "      <td>0.106664</td>\n",
       "    </tr>\n",
       "    <tr>\n",
       "      <th>5826782</th>\n",
       "      <td>-0.463693</td>\n",
       "      <td>-0.065502</td>\n",
       "      <td>0.043219</td>\n",
       "      <td>0.000158</td>\n",
       "      <td>-0.395224</td>\n",
       "      <td>0.0</td>\n",
       "      <td>-0.315533</td>\n",
       "      <td>0.019922</td>\n",
       "      <td>-0.165888</td>\n",
       "      <td>0.211007</td>\n",
       "      <td>-0.361815</td>\n",
       "    </tr>\n",
       "    <tr>\n",
       "      <th>702677</th>\n",
       "      <td>-0.054868</td>\n",
       "      <td>0.068186</td>\n",
       "      <td>-0.000246</td>\n",
       "      <td>-0.032027</td>\n",
       "      <td>0.400452</td>\n",
       "      <td>0.0</td>\n",
       "      <td>0.038743</td>\n",
       "      <td>-0.004367</td>\n",
       "      <td>0.006893</td>\n",
       "      <td>0.025918</td>\n",
       "      <td>0.422864</td>\n",
       "    </tr>\n",
       "  </tbody>\n",
       "</table>\n",
       "</div>"
      ],
      "text/plain": [
       "         log_frac_age_norm  log_initial_mass_norm  log_initial_MLT_norm  \\\n",
       "3162884          -0.189163               0.029384              0.043219   \n",
       "1667556          -0.002536               0.079181             -0.048551   \n",
       "3506178          -0.113468               0.041393             -0.000246   \n",
       "5826782          -0.463693              -0.065502              0.043219   \n",
       "702677           -0.054868               0.068186             -0.000246   \n",
       "\n",
       "         log_initial_Yinit_norm  log_initial_Z_norm  frac_he_core_mass_norm  \\\n",
       "3162884                0.030121            0.471462                     0.0   \n",
       "1667556               -0.066789           -0.074822                     0.0   \n",
       "3506178               -0.032027            0.109996                     0.0   \n",
       "5826782                0.000158           -0.395224                     0.0   \n",
       "702677                -0.032027            0.400452                     0.0   \n",
       "\n",
       "         log_star_age_norm  log_effective_T_norm  log_radius_norm  \\\n",
       "3162884          -0.086021             -0.006214        -0.078068   \n",
       "1667556          -0.163146              0.028332         0.091255   \n",
       "3506178          -0.125386              0.017360        -0.017984   \n",
       "5826782          -0.315533              0.019922        -0.165888   \n",
       "702677            0.038743             -0.004367         0.006893   \n",
       "\n",
       "         log_delta_nu_fit_norm  star_feh_norm  \n",
       "3162884               0.131739       0.546577  \n",
       "1667556              -0.098357      -0.304225  \n",
       "3506178               0.048159       0.106664  \n",
       "5826782               0.211007      -0.361815  \n",
       "702677                0.025918       0.422864  "
      ]
     },
     "execution_count": 13,
     "metadata": {},
     "output_type": "execute_result"
    }
   ],
   "source": [
    "set_seed(seed)\n",
    "data = tracks.sample_data(fraction=1.0, columns=x_cols+y_cols)\n",
    "data.head()"
   ]
  },
  {
   "cell_type": "code",
   "execution_count": 14,
   "metadata": {},
   "outputs": [
    {
     "name": "stdout",
     "output_type": "stream",
     "text": [
      "Length of dataset = 6354056\n"
     ]
    }
   ],
   "source": [
    "print(f'Length of dataset = {len(data)}')"
   ]
  },
  {
   "cell_type": "code",
   "execution_count": 15,
   "metadata": {},
   "outputs": [],
   "source": [
    "train = data.head(int(0.8*len(data)) + 1)\n",
    "val = data.tail(int(0.2*len(data)))\n",
    "\n",
    "data = None  # Remove the data variable, no longer needed"
   ]
  },
  {
   "cell_type": "code",
   "execution_count": 16,
   "metadata": {},
   "outputs": [
    {
     "name": "stdout",
     "output_type": "stream",
     "text": [
      "Length of training data = 5083245\n",
      "Length of validation data = 1270811\n"
     ]
    }
   ],
   "source": [
    "print(f'Length of training data = {len(train)}')\n",
    "print(f'Length of validation data = {len(val)}')"
   ]
  },
  {
   "cell_type": "code",
   "execution_count": 17,
   "metadata": {},
   "outputs": [],
   "source": [
    "train.to_csv(os.path.join(tracks_path, f'{tracks.name}_train.csv'), index=False)\n",
    "val.to_csv(os.path.join(tracks_path, f'{tracks.name}_val.csv'), index=False)"
   ]
  },
  {
   "cell_type": "code",
   "execution_count": null,
   "metadata": {},
   "outputs": [],
   "source": []
  }
 ],
 "metadata": {
  "kernelspec": {
   "display_name": "Python 3 (Interstellar)",
   "language": "python",
   "name": "interstellar"
  },
  "language_info": {
   "codemirror_mode": {
    "name": "ipython",
    "version": 3
   },
   "file_extension": ".py",
   "mimetype": "text/x-python",
   "name": "python",
   "nbconvert_exporter": "python",
   "pygments_lexer": "ipython3",
   "version": "3.6.8"
  }
 },
 "nbformat": 4,
 "nbformat_minor": 2
}
