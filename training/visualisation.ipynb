{
 "cells": [
  {
   "cell_type": "code",
   "execution_count": 49,
   "metadata": {},
   "outputs": [],
   "source": [
    "import tensorflow as tf\n",
    "import numpy as np\n",
    "import pandas as pd\n",
    "import seaborn as sns\n",
    "from matplotlib import pyplot as plt"
   ]
  },
  {
   "cell_type": "code",
   "execution_count": 3,
   "metadata": {},
   "outputs": [],
   "source": [
    "model = tf.keras.models.load_model('../data/networks/network_10/network_10_best_model.h5')\n",
    "weights = model.get_weights()"
   ]
  },
  {
   "cell_type": "code",
   "execution_count": 67,
   "metadata": {},
   "outputs": [
    {
     "data": {
      "text/plain": [
       "(5, 5)"
      ]
     },
     "execution_count": 67,
     "metadata": {},
     "output_type": "execute_result"
    }
   ],
   "source": [
    "inputs = np.repeat(np.linspace(-1, 1, 5)[:, np.newaxis], 5, axis=1)\n",
    "inputs.shape"
   ]
  },
  {
   "cell_type": "code",
   "execution_count": 68,
   "metadata": {},
   "outputs": [
    {
     "data": {
      "text/plain": [
       "array([[-1. , -1. , -1. , -1. , -1. ],\n",
       "       [-0.5, -0.5, -0.5, -0.5, -0.5],\n",
       "       [ 0. ,  0. ,  0. ,  0. ,  0. ],\n",
       "       [ 0.5,  0.5,  0.5,  0.5,  0.5],\n",
       "       [ 1. ,  1. ,  1. ,  1. ,  1. ]])"
      ]
     },
     "execution_count": 68,
     "metadata": {},
     "output_type": "execute_result"
    }
   ],
   "source": [
    "inputs"
   ]
  },
  {
   "cell_type": "code",
   "execution_count": 69,
   "metadata": {},
   "outputs": [],
   "source": [
    "a, b, c, d, e = np.meshgrid(*inputs.T)"
   ]
  },
  {
   "cell_type": "code",
   "execution_count": 76,
   "metadata": {},
   "outputs": [],
   "source": [
    "inputs = []\n",
    "for x in [a, b, c, d, e]:\n",
    "    inputs.append(x.flatten())\n",
    "inputs = np.array(inputs).T"
   ]
  },
  {
   "cell_type": "code",
   "execution_count": 78,
   "metadata": {},
   "outputs": [
    {
     "data": {
      "text/plain": [
       "(3125, 5)"
      ]
     },
     "execution_count": 78,
     "metadata": {},
     "output_type": "execute_result"
    }
   ],
   "source": [
    "outputs = model.predict(inputs)\n",
    "outputs.shape"
   ]
  },
  {
   "cell_type": "code",
   "execution_count": 81,
   "metadata": {},
   "outputs": [],
   "source": [
    "columns = ['f_evol', 'mass', 'mlt', 'y', 'z', 'age', 'teff', 'rad', 'dnu', 'mhs']"
   ]
  },
  {
   "cell_type": "code",
   "execution_count": 82,
   "metadata": {},
   "outputs": [
    {
     "data": {
      "text/html": [
       "<div>\n",
       "<style scoped>\n",
       "    .dataframe tbody tr th:only-of-type {\n",
       "        vertical-align: middle;\n",
       "    }\n",
       "\n",
       "    .dataframe tbody tr th {\n",
       "        vertical-align: top;\n",
       "    }\n",
       "\n",
       "    .dataframe thead th {\n",
       "        text-align: right;\n",
       "    }\n",
       "</style>\n",
       "<table border=\"1\" class=\"dataframe\">\n",
       "  <thead>\n",
       "    <tr style=\"text-align: right;\">\n",
       "      <th></th>\n",
       "      <th>f_evol</th>\n",
       "      <th>mass</th>\n",
       "      <th>mlt</th>\n",
       "      <th>y</th>\n",
       "      <th>z</th>\n",
       "      <th>age</th>\n",
       "      <th>teff</th>\n",
       "      <th>rad</th>\n",
       "      <th>dnu</th>\n",
       "      <th>mhs</th>\n",
       "    </tr>\n",
       "  </thead>\n",
       "  <tbody>\n",
       "    <tr>\n",
       "      <th>0</th>\n",
       "      <td>-1.0</td>\n",
       "      <td>-1.0</td>\n",
       "      <td>-1.0</td>\n",
       "      <td>-1.0</td>\n",
       "      <td>-1.0</td>\n",
       "      <td>-0.924989</td>\n",
       "      <td>0.117231</td>\n",
       "      <td>-0.706183</td>\n",
       "      <td>1.315324</td>\n",
       "      <td>-1.314773</td>\n",
       "    </tr>\n",
       "    <tr>\n",
       "      <th>1</th>\n",
       "      <td>-1.0</td>\n",
       "      <td>-1.0</td>\n",
       "      <td>-1.0</td>\n",
       "      <td>-1.0</td>\n",
       "      <td>-0.5</td>\n",
       "      <td>-0.647798</td>\n",
       "      <td>-0.514205</td>\n",
       "      <td>-0.747491</td>\n",
       "      <td>1.471433</td>\n",
       "      <td>-0.493131</td>\n",
       "    </tr>\n",
       "    <tr>\n",
       "      <th>2</th>\n",
       "      <td>-1.0</td>\n",
       "      <td>-1.0</td>\n",
       "      <td>-1.0</td>\n",
       "      <td>-1.0</td>\n",
       "      <td>0.0</td>\n",
       "      <td>-0.458334</td>\n",
       "      <td>-0.957756</td>\n",
       "      <td>-0.762291</td>\n",
       "      <td>1.528834</td>\n",
       "      <td>-0.009243</td>\n",
       "    </tr>\n",
       "    <tr>\n",
       "      <th>3</th>\n",
       "      <td>-1.0</td>\n",
       "      <td>-1.0</td>\n",
       "      <td>-1.0</td>\n",
       "      <td>-1.0</td>\n",
       "      <td>0.5</td>\n",
       "      <td>-0.299317</td>\n",
       "      <td>-1.328033</td>\n",
       "      <td>-0.768726</td>\n",
       "      <td>1.554473</td>\n",
       "      <td>0.336240</td>\n",
       "    </tr>\n",
       "    <tr>\n",
       "      <th>4</th>\n",
       "      <td>-1.0</td>\n",
       "      <td>-1.0</td>\n",
       "      <td>-1.0</td>\n",
       "      <td>-1.0</td>\n",
       "      <td>1.0</td>\n",
       "      <td>-0.182375</td>\n",
       "      <td>-1.590258</td>\n",
       "      <td>-0.776910</td>\n",
       "      <td>1.583587</td>\n",
       "      <td>0.607125</td>\n",
       "    </tr>\n",
       "    <tr>\n",
       "      <th>...</th>\n",
       "      <td>...</td>\n",
       "      <td>...</td>\n",
       "      <td>...</td>\n",
       "      <td>...</td>\n",
       "      <td>...</td>\n",
       "      <td>...</td>\n",
       "      <td>...</td>\n",
       "      <td>...</td>\n",
       "      <td>...</td>\n",
       "      <td>...</td>\n",
       "    </tr>\n",
       "    <tr>\n",
       "      <th>3120</th>\n",
       "      <td>1.0</td>\n",
       "      <td>1.0</td>\n",
       "      <td>1.0</td>\n",
       "      <td>1.0</td>\n",
       "      <td>-1.0</td>\n",
       "      <td>-0.572442</td>\n",
       "      <td>1.672418</td>\n",
       "      <td>1.309603</td>\n",
       "      <td>-1.082922</td>\n",
       "      <td>-1.382607</td>\n",
       "    </tr>\n",
       "    <tr>\n",
       "      <th>3121</th>\n",
       "      <td>1.0</td>\n",
       "      <td>1.0</td>\n",
       "      <td>1.0</td>\n",
       "      <td>1.0</td>\n",
       "      <td>-0.5</td>\n",
       "      <td>-0.313068</td>\n",
       "      <td>0.952607</td>\n",
       "      <td>1.241958</td>\n",
       "      <td>-1.018067</td>\n",
       "      <td>-0.627011</td>\n",
       "    </tr>\n",
       "    <tr>\n",
       "      <th>3122</th>\n",
       "      <td>1.0</td>\n",
       "      <td>1.0</td>\n",
       "      <td>1.0</td>\n",
       "      <td>1.0</td>\n",
       "      <td>0.0</td>\n",
       "      <td>-0.131024</td>\n",
       "      <td>0.678005</td>\n",
       "      <td>1.042450</td>\n",
       "      <td>-0.888683</td>\n",
       "      <td>-0.052579</td>\n",
       "    </tr>\n",
       "    <tr>\n",
       "      <th>3123</th>\n",
       "      <td>1.0</td>\n",
       "      <td>1.0</td>\n",
       "      <td>1.0</td>\n",
       "      <td>1.0</td>\n",
       "      <td>0.5</td>\n",
       "      <td>0.022014</td>\n",
       "      <td>0.468977</td>\n",
       "      <td>0.883895</td>\n",
       "      <td>-0.779085</td>\n",
       "      <td>0.340442</td>\n",
       "    </tr>\n",
       "    <tr>\n",
       "      <th>3124</th>\n",
       "      <td>1.0</td>\n",
       "      <td>1.0</td>\n",
       "      <td>1.0</td>\n",
       "      <td>1.0</td>\n",
       "      <td>1.0</td>\n",
       "      <td>0.139987</td>\n",
       "      <td>0.304284</td>\n",
       "      <td>0.779321</td>\n",
       "      <td>-0.701448</td>\n",
       "      <td>0.628831</td>\n",
       "    </tr>\n",
       "  </tbody>\n",
       "</table>\n",
       "<p>3125 rows × 10 columns</p>\n",
       "</div>"
      ],
      "text/plain": [
       "      f_evol  mass  mlt    y    z       age      teff       rad       dnu  \\\n",
       "0       -1.0  -1.0 -1.0 -1.0 -1.0 -0.924989  0.117231 -0.706183  1.315324   \n",
       "1       -1.0  -1.0 -1.0 -1.0 -0.5 -0.647798 -0.514205 -0.747491  1.471433   \n",
       "2       -1.0  -1.0 -1.0 -1.0  0.0 -0.458334 -0.957756 -0.762291  1.528834   \n",
       "3       -1.0  -1.0 -1.0 -1.0  0.5 -0.299317 -1.328033 -0.768726  1.554473   \n",
       "4       -1.0  -1.0 -1.0 -1.0  1.0 -0.182375 -1.590258 -0.776910  1.583587   \n",
       "...      ...   ...  ...  ...  ...       ...       ...       ...       ...   \n",
       "3120     1.0   1.0  1.0  1.0 -1.0 -0.572442  1.672418  1.309603 -1.082922   \n",
       "3121     1.0   1.0  1.0  1.0 -0.5 -0.313068  0.952607  1.241958 -1.018067   \n",
       "3122     1.0   1.0  1.0  1.0  0.0 -0.131024  0.678005  1.042450 -0.888683   \n",
       "3123     1.0   1.0  1.0  1.0  0.5  0.022014  0.468977  0.883895 -0.779085   \n",
       "3124     1.0   1.0  1.0  1.0  1.0  0.139987  0.304284  0.779321 -0.701448   \n",
       "\n",
       "           mhs  \n",
       "0    -1.314773  \n",
       "1    -0.493131  \n",
       "2    -0.009243  \n",
       "3     0.336240  \n",
       "4     0.607125  \n",
       "...        ...  \n",
       "3120 -1.382607  \n",
       "3121 -0.627011  \n",
       "3122 -0.052579  \n",
       "3123  0.340442  \n",
       "3124  0.628831  \n",
       "\n",
       "[3125 rows x 10 columns]"
      ]
     },
     "execution_count": 82,
     "metadata": {},
     "output_type": "execute_result"
    }
   ],
   "source": [
    "df = pd.DataFrame(np.concatenate((inputs, outputs), axis=1), columns=columns)\n",
    "df"
   ]
  },
  {
   "cell_type": "code",
   "execution_count": 96,
   "metadata": {},
   "outputs": [
    {
     "data": {
      "image/png": "[encoded data removed]",
      "text/plain": [
       "<Figure size 720x540 with 2 Axes>"
      ]
     },
     "metadata": {
      "needs_background": "light"
     },
     "output_type": "display_data"
    }
   ],
   "source": [
    "plt.subplots(figsize=(10,7.5))\n",
    "ax = sns.heatmap(df.corr(), square=True, cmap='viridis')"
   ]
  },
  {
   "cell_type": "code",
   "execution_count": null,
   "metadata": {},
   "outputs": [],
   "source": []
  }
 ],
 "metadata": {
  "kernelspec": {
   "display_name": "Python 3 (Interstellar)",
   "language": "python",
   "name": "interstellar-dev"
  },
  "language_info": {
   "codemirror_mode": {
    "name": "ipython",
    "version": 3
   },
   "file_extension": ".py",
   "mimetype": "text/x-python",
   "name": "python",
   "nbconvert_exporter": "python",
   "pygments_lexer": "ipython3",
   "version": "3.7.4"
  }
 },
 "nbformat": 4,
 "nbformat_minor": 2
}
