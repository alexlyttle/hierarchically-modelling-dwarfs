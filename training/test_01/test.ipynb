{
 "cells": [
  {
   "cell_type": "code",
   "execution_count": 1,
   "metadata": {},
   "outputs": [],
   "source": [
    "import tensorflow as tf"
   ]
  },
  {
   "cell_type": "code",
   "execution_count": 2,
   "metadata": {},
   "outputs": [
    {
     "name": "stdout",
     "output_type": "stream",
     "text": [
      "TensorFlow Versiom = 2.0.0\n"
     ]
    }
   ],
   "source": [
    "print(f'TensorFlow Versiom = {tf.__version__}')\n",
    "\n",
    "if not tf.test.is_gpu_available(\n",
    "    cuda_only=False, min_cuda_compute_capability=None\n",
    "):\n",
    "    raise RuntimeError('no GPU available')"
   ]
  },
  {
   "cell_type": "code",
   "execution_count": 13,
   "metadata": {},
   "outputs": [],
   "source": [
    "from interstellar import Data, grid\n",
    "import numpy as np\n",
    "%matplotlib inline"
   ]
  },
  {
   "cell_type": "code",
   "execution_count": 4,
   "metadata": {},
   "outputs": [],
   "source": [
    "data_path = '/rds/projects/d/daviesgr-cartography/mesa_grid/grid2_zams_agb/simple_grid_alex/'\n",
    "data_cols = ['initial_mass', 'initial_Yinit', 'initial_feh', 'initial_MLT', 'evol_stage',\n",
    "             'star_mass', 'star_age', 'frac_age', 'effective_T', 'luminosity', 'radius', 'star_feh',\n",
    "             'delta_nu_fit']\n",
    "\n",
    "tracks = Data()\n",
    "tracks.load_all(path_to_data=data_path, usecols=data_cols)"
   ]
  },
  {
   "cell_type": "code",
   "execution_count": 205,
   "metadata": {},
   "outputs": [
    {
     "name": "stdout",
     "output_type": "stream",
     "text": [
      "Selecting Models at MS Phase with \"dwarf\"\n",
      "Selecting Models at Subgiant and Red-giant phases with \"giant\"\n"
     ]
    },
    {
     "data": {
      "text/html": [
       "<div>\n",
       "<style scoped>\n",
       "    .dataframe tbody tr th:only-of-type {\n",
       "        vertical-align: middle;\n",
       "    }\n",
       "\n",
       "    .dataframe tbody tr th {\n",
       "        vertical-align: top;\n",
       "    }\n",
       "\n",
       "    .dataframe thead th {\n",
       "        text-align: right;\n",
       "    }\n",
       "</style>\n",
       "<table border=\"1\" class=\"dataframe\">\n",
       "  <thead>\n",
       "    <tr style=\"text-align: right;\">\n",
       "      <th></th>\n",
       "      <th>evol_stage</th>\n",
       "      <th>initial_mass</th>\n",
       "      <th>initial_Yinit</th>\n",
       "      <th>initial_feh</th>\n",
       "      <th>initial_MLT</th>\n",
       "      <th>star_mass</th>\n",
       "      <th>star_age</th>\n",
       "      <th>frac_age</th>\n",
       "      <th>effective_T</th>\n",
       "      <th>luminosity</th>\n",
       "      <th>radius</th>\n",
       "      <th>star_feh</th>\n",
       "      <th>delta_nu_fit</th>\n",
       "      <th>initial_tenfeh</th>\n",
       "      <th>star_tenfeh</th>\n",
       "    </tr>\n",
       "  </thead>\n",
       "  <tbody>\n",
       "    <tr>\n",
       "      <th>10439713</th>\n",
       "      <td>2</td>\n",
       "      <td>1.10</td>\n",
       "      <td>0.24</td>\n",
       "      <td>-0.2</td>\n",
       "      <td>1.9</td>\n",
       "      <td>1.095956</td>\n",
       "      <td>7.309578</td>\n",
       "      <td>1.363157</td>\n",
       "      <td>5020.847637</td>\n",
       "      <td>3.976134</td>\n",
       "      <td>2.638975</td>\n",
       "      <td>-0.209060</td>\n",
       "      <td>33.169929</td>\n",
       "      <td>0.630957</td>\n",
       "      <td>0.617931</td>\n",
       "    </tr>\n",
       "    <tr>\n",
       "      <th>9870393</th>\n",
       "      <td>2</td>\n",
       "      <td>1.17</td>\n",
       "      <td>0.30</td>\n",
       "      <td>-0.5</td>\n",
       "      <td>2.3</td>\n",
       "      <td>1.169823</td>\n",
       "      <td>2.307537</td>\n",
       "      <td>0.989664</td>\n",
       "      <td>7306.233116</td>\n",
       "      <td>6.069215</td>\n",
       "      <td>1.539707</td>\n",
       "      <td>-0.765169</td>\n",
       "      <td>71.140356</td>\n",
       "      <td>0.316228</td>\n",
       "      <td>0.171724</td>\n",
       "    </tr>\n",
       "    <tr>\n",
       "      <th>7084608</th>\n",
       "      <td>2</td>\n",
       "      <td>1.07</td>\n",
       "      <td>0.28</td>\n",
       "      <td>-0.4</td>\n",
       "      <td>2.3</td>\n",
       "      <td>1.065717</td>\n",
       "      <td>5.103172</td>\n",
       "      <td>1.397830</td>\n",
       "      <td>5384.940989</td>\n",
       "      <td>5.375899</td>\n",
       "      <td>2.667611</td>\n",
       "      <td>-0.409632</td>\n",
       "      <td>32.091428</td>\n",
       "      <td>0.398107</td>\n",
       "      <td>0.389375</td>\n",
       "    </tr>\n",
       "    <tr>\n",
       "      <th>6454241</th>\n",
       "      <td>1</td>\n",
       "      <td>1.05</td>\n",
       "      <td>0.24</td>\n",
       "      <td>0.0</td>\n",
       "      <td>1.9</td>\n",
       "      <td>1.050000</td>\n",
       "      <td>2.261107</td>\n",
       "      <td>0.277839</td>\n",
       "      <td>5756.461324</td>\n",
       "      <td>0.995033</td>\n",
       "      <td>1.004307</td>\n",
       "      <td>-0.035678</td>\n",
       "      <td>138.097004</td>\n",
       "      <td>1.000000</td>\n",
       "      <td>0.921132</td>\n",
       "    </tr>\n",
       "    <tr>\n",
       "      <th>1266278</th>\n",
       "      <td>2</td>\n",
       "      <td>0.85</td>\n",
       "      <td>0.32</td>\n",
       "      <td>0.3</td>\n",
       "      <td>1.5</td>\n",
       "      <td>0.848014</td>\n",
       "      <td>17.619708</td>\n",
       "      <td>1.213255</td>\n",
       "      <td>4954.672598</td>\n",
       "      <td>1.190561</td>\n",
       "      <td>1.482876</td>\n",
       "      <td>0.232457</td>\n",
       "      <td>70.463084</td>\n",
       "      <td>1.995262</td>\n",
       "      <td>1.707878</td>\n",
       "    </tr>\n",
       "  </tbody>\n",
       "</table>\n",
       "</div>"
      ],
      "text/plain": [
       "          evol_stage  initial_mass  initial_Yinit  initial_feh  initial_MLT  \\\n",
       "10439713           2          1.10           0.24         -0.2          1.9   \n",
       "9870393            2          1.17           0.30         -0.5          2.3   \n",
       "7084608            2          1.07           0.28         -0.4          2.3   \n",
       "6454241            1          1.05           0.24          0.0          1.9   \n",
       "1266278            2          0.85           0.32          0.3          1.5   \n",
       "\n",
       "          star_mass   star_age  frac_age  effective_T  luminosity    radius  \\\n",
       "10439713   1.095956   7.309578  1.363157  5020.847637    3.976134  2.638975   \n",
       "9870393    1.169823   2.307537  0.989664  7306.233116    6.069215  1.539707   \n",
       "7084608    1.065717   5.103172  1.397830  5384.940989    5.375899  2.667611   \n",
       "6454241    1.050000   2.261107  0.277839  5756.461324    0.995033  1.004307   \n",
       "1266278    0.848014  17.619708  1.213255  4954.672598    1.190561  1.482876   \n",
       "\n",
       "          star_feh  delta_nu_fit  initial_tenfeh  star_tenfeh  \n",
       "10439713 -0.209060     33.169929        0.630957     0.617931  \n",
       "9870393  -0.765169     71.140356        0.316228     0.171724  \n",
       "7084608  -0.409632     32.091428        0.398107     0.389375  \n",
       "6454241  -0.035678    138.097004        1.000000     0.921132  \n",
       "1266278   0.232457     70.463084        1.995262     1.707878  "
      ]
     },
     "execution_count": 205,
     "metadata": {},
     "output_type": "execute_result"
    }
   ],
   "source": [
    "tracks.select_evolution(stages=['dwarf', 'giant'], inplace=True)\n",
    "data = tracks.data.sample(frac=0.2)  # Resample and reduce for testing\n",
    "data['initial_tenfeh'] = 10**data['initial_feh']\n",
    "data['star_tenfeh'] = 10**data['star_feh']\n",
    "\n",
    "data.head()"
   ]
  },
  {
   "cell_type": "code",
   "execution_count": 6,
   "metadata": {},
   "outputs": [],
   "source": [
    "x_cols = ['initial_mass', 'frac_age', 'initial_tenfeh', 'initial_MLT', 'initial_Yinit']\n",
    "y_cols = ['effective_T', 'radius', 'delta_nu_fit', 'star_tenfeh', 'star_age']"
   ]
  },
  {
   "cell_type": "code",
   "execution_count": 18,
   "metadata": {},
   "outputs": [
    {
     "name": "stderr",
     "output_type": "stream",
     "text": [
      "/rds/bear-apps/2019b/EL7-haswell/software/IPython/7.9.0-fosscuda-2019b-Python-3.7.4/lib/python3.7/site-packages/ipykernel_launcher.py:1: RuntimeWarning: divide by zero encountered in log10\n",
      "  \"\"\"Entry point for launching an IPython kernel.\n",
      "/rds/bear-apps/2019b/EL7-haswell/software/IPython/7.9.0-fosscuda-2019b-Python-3.7.4/lib/python3.7/site-packages/ipykernel_launcher.py:1: RuntimeWarning: invalid value encountered in log10\n",
      "  \"\"\"Entry point for launching an IPython kernel.\n"
     ]
    },
    {
     "data": {
      "image/png": "[encoded data removed]",
      "text/plain": [
       "<Figure size 432x288 with 1 Axes>"
      ]
     },
     "metadata": {
      "needs_background": "light"
     },
     "output_type": "display_data"
    }
   ],
   "source": [
    "ax = np.log10(data).plot(kind='hist', y=x_cols, bins=20, alpha=0.5)\n",
    "ax.set_title('Log Input Data');"
   ]
  },
  {
   "cell_type": "code",
   "execution_count": 19,
   "metadata": {},
   "outputs": [
    {
     "name": "stderr",
     "output_type": "stream",
     "text": [
      "/rds/bear-apps/2019b/EL7-haswell/software/IPython/7.9.0-fosscuda-2019b-Python-3.7.4/lib/python3.7/site-packages/ipykernel_launcher.py:1: RuntimeWarning: divide by zero encountered in log10\n",
      "  \"\"\"Entry point for launching an IPython kernel.\n",
      "/rds/bear-apps/2019b/EL7-haswell/software/IPython/7.9.0-fosscuda-2019b-Python-3.7.4/lib/python3.7/site-packages/ipykernel_launcher.py:1: RuntimeWarning: invalid value encountered in log10\n",
      "  \"\"\"Entry point for launching an IPython kernel.\n"
     ]
    },
    {
     "data": {
      "text/plain": [
       "Text(0.5, 1.0, 'Log Output Data')"
      ]
     },
     "execution_count": 19,
     "metadata": {},
     "output_type": "execute_result"
    },
    {
     "data": {
      "image/png": "[encoded data removed]",
      "text/plain": [
       "<Figure size 432x288 with 1 Axes>"
      ]
     },
     "metadata": {
      "needs_background": "light"
     },
     "output_type": "display_data"
    }
   ],
   "source": [
    "ax = np.log10(data).plot(kind='hist', y=y_cols, bins=20, alpha=0.5)\n",
    "ax.set_title('Log Output Data')"
   ]
  },
  {
   "cell_type": "code",
   "execution_count": 26,
   "metadata": {},
   "outputs": [],
   "source": [
    "arch = [[len(x_cols), 128, 128, 128, 128, 128, len(y_cols)], [len(x_cols), 256, 256, 256, 256, 256, len(y_cols)]]\n",
    "activation = ['elu', 'relu']\n",
    "l2s = [1e-10]\n",
    "\n",
    "g = grid(data, x_cols, y_cols,\n",
    "          arch=arch, activation=activation, l2s=l2s)"
   ]
  },
  {
   "cell_type": "code",
   "execution_count": 27,
   "metadata": {},
   "outputs": [
    {
     "name": "stdout",
     "output_type": "stream",
     "text": [
      "WARNING:tensorflow:Method (on_train_batch_end) is slow compared to the batch update (0.239096). Check your callbacks.\n",
      "WARNING:tensorflow:Method (on_train_batch_end) is slow compared to the batch update (0.294650). Check your callbacks.\n",
      "Model : 00000\n",
      "Median in y_0 : 0.010950\n",
      "Median in y_1 : 0.023159\n",
      "Median in y_2 : 0.011678\n",
      "Median in y_3 : 0.032135\n",
      "Model : 00100\n",
      "Median in y_0 : 0.037052\n",
      "Median in y_1 : 0.012993\n",
      "Median in y_2 : 0.029255\n",
      "Median in y_3 : 0.023047\n",
      "Model : 01000\n",
      "Median in y_0 : 0.013562\n",
      "Median in y_1 : 0.022630\n",
      "Median in y_2 : 0.015808\n",
      "Median in y_3 : 0.037869\n",
      "Model : 01100\n",
      "Median in y_0 : 0.027634\n",
      "Median in y_1 : 0.010950\n",
      "Median in y_2 : 0.014548\n",
      "Median in y_3 : 0.042387\n"
     ]
    }
   ],
   "source": [
    "g(1000, batch_fraction=0.1)"
   ]
  },
  {
   "cell_type": "code",
   "execution_count": 155,
   "metadata": {},
   "outputs": [],
   "source": [
    "mass = 1.0\n",
    "fage = 1.0\n",
    "tenfeh = 10**0.035\n",
    "mlt = 1.9\n",
    "yi = 0.265"
   ]
  },
  {
   "cell_type": "code",
   "execution_count": 156,
   "metadata": {},
   "outputs": [],
   "source": [
    "xx = np.log10([[mass, fage, tenfeh, mlt, yi]])"
   ]
  },
  {
   "cell_type": "code",
   "execution_count": 157,
   "metadata": {},
   "outputs": [],
   "source": [
    "n = 1000\n",
    "fage = np.linspace(0+1/n, 1+1/n, n)"
   ]
  },
  {
   "cell_type": "code",
   "execution_count": 158,
   "metadata": {},
   "outputs": [],
   "source": [
    "xx = xx*np.ones((n, 5))"
   ]
  },
  {
   "cell_type": "code",
   "execution_count": 159,
   "metadata": {},
   "outputs": [],
   "source": [
    "xx[:, 1] = np.log10(fage)"
   ]
  },
  {
   "cell_type": "code",
   "execution_count": 160,
   "metadata": {},
   "outputs": [],
   "source": [
    "yy = g.nn_dict['00000'].model.predict(xx)"
   ]
  },
  {
   "cell_type": "code",
   "execution_count": 161,
   "metadata": {},
   "outputs": [],
   "source": [
    "solar_teff = 5777  # kelvin"
   ]
  },
  {
   "cell_type": "code",
   "execution_count": 162,
   "metadata": {},
   "outputs": [
    {
     "data": {
      "text/plain": [
       "Text(0, 0.5, 'log R/Rsun')"
      ]
     },
     "execution_count": 162,
     "metadata": {},
     "output_type": "execute_result"
    },
    {
     "data": {
      "image/png": "[encoded data removed]",
      "text/plain": [
       "<Figure size 432x288 with 1 Axes>"
      ]
     },
     "metadata": {
      "needs_background": "light"
     },
     "output_type": "display_data"
    }
   ],
   "source": [
    "plt.plot(*yy[:, 0:2].T)\n",
    "plt.plot(np.log10(solar_teff), 0.0, 'rx')\n",
    "plt.gca().invert_xaxis()\n",
    "plt.xlabel('log Teff')\n",
    "plt.ylabel('log R/Rsun')"
   ]
  },
  {
   "cell_type": "code",
   "execution_count": 163,
   "metadata": {},
   "outputs": [],
   "source": [
    "log_L = 4 * (yy[:, 0] - np.log10(solar_teff)) + 2 * yy[:, 1]"
   ]
  },
  {
   "cell_type": "code",
   "execution_count": 164,
   "metadata": {},
   "outputs": [
    {
     "data": {
      "text/plain": [
       "Text(0, 0.5, 'log L/Lsun')"
      ]
     },
     "execution_count": 164,
     "metadata": {},
     "output_type": "execute_result"
    },
    {
     "data": {
      "image/png": "[encoded data removed]",
      "text/plain": [
       "<Figure size 432x288 with 1 Axes>"
      ]
     },
     "metadata": {
      "needs_background": "light"
     },
     "output_type": "display_data"
    }
   ],
   "source": [
    "plt.plot(yy[:, 0], log_L)\n",
    "plt.plot(np.log10(solar_teff), 0.0, 'rx')\n",
    "plt.gca().invert_xaxis()\n",
    "plt.xlabel('log Teff')\n",
    "plt.ylabel('log L/Lsun')"
   ]
  },
  {
   "cell_type": "code",
   "execution_count": 214,
   "metadata": {},
   "outputs": [],
   "source": [
    "axis_values = {'initial_mass': [0.9, 1.0, 1.1],\n",
    "               'frac_age': np.linspace(0+1/100., 1.2, 100),\n",
    "               'initial_tenfeh': 10**np.array([-0.1, 0.0, 0.1]),\n",
    "               'initial_MLT': [1.9],\n",
    "               'initial_Yinit': [0.26]}"
   ]
  },
  {
   "cell_type": "code",
   "execution_count": 215,
   "metadata": {},
   "outputs": [],
   "source": [
    "testdata = Data(axis_values=axis_values)"
   ]
  },
  {
   "cell_type": "code",
   "execution_count": 220,
   "metadata": {},
   "outputs": [],
   "source": [
    "testcols = testdata.grid_points.columns"
   ]
  },
  {
   "cell_type": "code",
   "execution_count": 216,
   "metadata": {},
   "outputs": [],
   "source": [
    "xx = np.log10(testdata.grid_points.to_numpy())"
   ]
  },
  {
   "cell_type": "code",
   "execution_count": 217,
   "metadata": {},
   "outputs": [],
   "source": [
    "yy = g.nn_dict['00000'].model.predict(xx)"
   ]
  },
  {
   "cell_type": "code",
   "execution_count": 218,
   "metadata": {},
   "outputs": [],
   "source": [
    "log_L = 4 * (yy[:, 0] - np.log10(solar_teff)) + 2 * yy[:, 1]"
   ]
  },
  {
   "cell_type": "code",
   "execution_count": 213,
   "metadata": {},
   "outputs": [
    {
     "data": {
      "text/plain": [
       "<matplotlib.colorbar.Colorbar at 0x2abf6889acd0>"
      ]
     },
     "execution_count": 213,
     "metadata": {},
     "output_type": "execute_result"
    },
    {
     "data": {
      "image/png": "[encoded data removed]",
      "text/plain": [
       "<Figure size 432x288 with 2 Axes>"
      ]
     },
     "metadata": {
      "needs_background": "light"
     },
     "output_type": "display_data"
    }
   ],
   "source": [
    "\n",
    "np.log10(data[data[testcols]==testdata]).plot(kind='scatter', x='effective_T', y='luminosity', alpha=0.2)\n",
    "s = plt.scatter(yy[:, 0], log_L, c=yy[:, 3], s=4, alpha=0.5)\n",
    "plt.plot(np.log10(solar_teff), 0.0, 'rx')\n",
    "plt.gca().invert_xaxis()\n",
    "plt.xlabel('log Teff')\n",
    "plt.ylabel('log L/Lsun')\n",
    "plt.colorbar(s, label='Surface [M/H]')"
   ]
  },
  {
   "cell_type": "code",
   "execution_count": 211,
   "metadata": {},
   "outputs": [
    {
     "data": {
      "text/html": [
       "<div>\n",
       "<style scoped>\n",
       "    .dataframe tbody tr th:only-of-type {\n",
       "        vertical-align: middle;\n",
       "    }\n",
       "\n",
       "    .dataframe tbody tr th {\n",
       "        vertical-align: top;\n",
       "    }\n",
       "\n",
       "    .dataframe thead th {\n",
       "        text-align: right;\n",
       "    }\n",
       "</style>\n",
       "<table border=\"1\" class=\"dataframe\">\n",
       "  <thead>\n",
       "    <tr style=\"text-align: right;\">\n",
       "      <th></th>\n",
       "      <th>evol_stage</th>\n",
       "      <th>initial_mass</th>\n",
       "      <th>initial_Yinit</th>\n",
       "      <th>initial_feh</th>\n",
       "      <th>initial_MLT</th>\n",
       "      <th>star_mass</th>\n",
       "      <th>star_age</th>\n",
       "      <th>frac_age</th>\n",
       "      <th>effective_T</th>\n",
       "      <th>luminosity</th>\n",
       "      <th>radius</th>\n",
       "      <th>star_feh</th>\n",
       "      <th>delta_nu_fit</th>\n",
       "      <th>initial_tenfeh</th>\n",
       "      <th>star_tenfeh</th>\n",
       "    </tr>\n",
       "  </thead>\n",
       "  <tbody>\n",
       "    <tr>\n",
       "      <th>10439713</th>\n",
       "      <td>2</td>\n",
       "      <td>1.10</td>\n",
       "      <td>0.24</td>\n",
       "      <td>-0.2</td>\n",
       "      <td>1.9</td>\n",
       "      <td>1.095956</td>\n",
       "      <td>7.309578</td>\n",
       "      <td>1.363157</td>\n",
       "      <td>5020.847637</td>\n",
       "      <td>3.976134</td>\n",
       "      <td>2.638975</td>\n",
       "      <td>-0.209060</td>\n",
       "      <td>33.169929</td>\n",
       "      <td>0.630957</td>\n",
       "      <td>0.617931</td>\n",
       "    </tr>\n",
       "    <tr>\n",
       "      <th>9870393</th>\n",
       "      <td>2</td>\n",
       "      <td>1.17</td>\n",
       "      <td>0.30</td>\n",
       "      <td>-0.5</td>\n",
       "      <td>2.3</td>\n",
       "      <td>1.169823</td>\n",
       "      <td>2.307537</td>\n",
       "      <td>0.989664</td>\n",
       "      <td>7306.233116</td>\n",
       "      <td>6.069215</td>\n",
       "      <td>1.539707</td>\n",
       "      <td>-0.765169</td>\n",
       "      <td>71.140356</td>\n",
       "      <td>0.316228</td>\n",
       "      <td>0.171724</td>\n",
       "    </tr>\n",
       "    <tr>\n",
       "      <th>7084608</th>\n",
       "      <td>2</td>\n",
       "      <td>1.07</td>\n",
       "      <td>0.28</td>\n",
       "      <td>-0.4</td>\n",
       "      <td>2.3</td>\n",
       "      <td>1.065717</td>\n",
       "      <td>5.103172</td>\n",
       "      <td>1.397830</td>\n",
       "      <td>5384.940989</td>\n",
       "      <td>5.375899</td>\n",
       "      <td>2.667611</td>\n",
       "      <td>-0.409632</td>\n",
       "      <td>32.091428</td>\n",
       "      <td>0.398107</td>\n",
       "      <td>0.389375</td>\n",
       "    </tr>\n",
       "    <tr>\n",
       "      <th>6454241</th>\n",
       "      <td>1</td>\n",
       "      <td>1.05</td>\n",
       "      <td>0.24</td>\n",
       "      <td>0.0</td>\n",
       "      <td>1.9</td>\n",
       "      <td>1.050000</td>\n",
       "      <td>2.261107</td>\n",
       "      <td>0.277839</td>\n",
       "      <td>5756.461324</td>\n",
       "      <td>0.995033</td>\n",
       "      <td>1.004307</td>\n",
       "      <td>-0.035678</td>\n",
       "      <td>138.097004</td>\n",
       "      <td>1.000000</td>\n",
       "      <td>0.921132</td>\n",
       "    </tr>\n",
       "    <tr>\n",
       "      <th>1266278</th>\n",
       "      <td>2</td>\n",
       "      <td>0.85</td>\n",
       "      <td>0.32</td>\n",
       "      <td>0.3</td>\n",
       "      <td>1.5</td>\n",
       "      <td>0.848014</td>\n",
       "      <td>17.619708</td>\n",
       "      <td>1.213255</td>\n",
       "      <td>4954.672598</td>\n",
       "      <td>1.190561</td>\n",
       "      <td>1.482876</td>\n",
       "      <td>0.232457</td>\n",
       "      <td>70.463084</td>\n",
       "      <td>1.995262</td>\n",
       "      <td>1.707878</td>\n",
       "    </tr>\n",
       "  </tbody>\n",
       "</table>\n",
       "</div>"
      ],
      "text/plain": [
       "          evol_stage  initial_mass  initial_Yinit  initial_feh  initial_MLT  \\\n",
       "10439713           2          1.10           0.24         -0.2          1.9   \n",
       "9870393            2          1.17           0.30         -0.5          2.3   \n",
       "7084608            2          1.07           0.28         -0.4          2.3   \n",
       "6454241            1          1.05           0.24          0.0          1.9   \n",
       "1266278            2          0.85           0.32          0.3          1.5   \n",
       "\n",
       "          star_mass   star_age  frac_age  effective_T  luminosity    radius  \\\n",
       "10439713   1.095956   7.309578  1.363157  5020.847637    3.976134  2.638975   \n",
       "9870393    1.169823   2.307537  0.989664  7306.233116    6.069215  1.539707   \n",
       "7084608    1.065717   5.103172  1.397830  5384.940989    5.375899  2.667611   \n",
       "6454241    1.050000   2.261107  0.277839  5756.461324    0.995033  1.004307   \n",
       "1266278    0.848014  17.619708  1.213255  4954.672598    1.190561  1.482876   \n",
       "\n",
       "          star_feh  delta_nu_fit  initial_tenfeh  star_tenfeh  \n",
       "10439713 -0.209060     33.169929        0.630957     0.617931  \n",
       "9870393  -0.765169     71.140356        0.316228     0.171724  \n",
       "7084608  -0.409632     32.091428        0.398107     0.389375  \n",
       "6454241  -0.035678    138.097004        1.000000     0.921132  \n",
       "1266278   0.232457     70.463084        1.995262     1.707878  "
      ]
     },
     "execution_count": 211,
     "metadata": {},
     "output_type": "execute_result"
    }
   ],
   "source": [
    "data.head()"
   ]
  },
  {
   "cell_type": "code",
   "execution_count": null,
   "metadata": {},
   "outputs": [],
   "source": []
  }
 ],
 "metadata": {
  "kernelspec": {
   "display_name": "Python 3.7 (GPU)",
   "language": "python",
   "name": "python3.7-gpu"
  },
  "language_info": {
   "codemirror_mode": {
    "name": "ipython",
    "version": 3
   },
   "file_extension": ".py",
   "mimetype": "text/x-python",
   "name": "python",
   "nbconvert_exporter": "python",
   "pygments_lexer": "ipython3",
   "version": "3.7.4"
  }
 },
 "nbformat": 4,
 "nbformat_minor": 2
}
