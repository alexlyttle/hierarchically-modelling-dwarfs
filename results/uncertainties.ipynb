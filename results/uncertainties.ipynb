{
 "cells": [
  {
   "cell_type": "code",
   "execution_count": 1,
   "metadata": {},
   "outputs": [],
   "source": [
    "import numpy as np\n",
    "import pandas as pd\n",
    "\n",
    "from matplotlib import pyplot as plt"
   ]
  },
  {
   "cell_type": "code",
   "execution_count": 2,
   "metadata": {},
   "outputs": [],
   "source": [
    "s17 = pd.read_csv('../data/serenelli2017/s17_SDSS.csv')\n",
    "np = pd.read_csv('../modelling/final_models/stars_results/DR14_ASPC/stars/results.csv')\n",
    "pp = pd.read_csv('../modelling/final_models/population_results/partial_pool/DR14_ASPC/population/stars/results.csv')\n",
    "pps = pd.read_csv('../modelling/final_models/population+sun_results/partial_pool/DR14_ASPC/population/stars/results.csv')\n",
    "mp = pd.read_csv('../modelling/final_models/population_results/max_pool/DR14_ASPC/population/stars/results.csv')\n",
    "mps = pd.read_csv('../modelling/final_models/population+sun_results/max_pool/DR14_ASPC/population/stars/results.csv')"
   ]
  },
  {
   "cell_type": "code",
   "execution_count": 3,
   "metadata": {},
   "outputs": [],
   "source": [
    "s17['name'] = 'KIC' + s17['KIC'].astype(str)"
   ]
  },
  {
   "cell_type": "code",
   "execution_count": 4,
   "metadata": {},
   "outputs": [],
   "source": [
    "def unc(df, x):\n",
    "    print('{:.1f}'.format((df[f'{x}_sd'] / df[f'{x}_mean']).median() * 100))"
   ]
  },
  {
   "cell_type": "code",
   "execution_count": 5,
   "metadata": {},
   "outputs": [
    {
     "name": "stdout",
     "output_type": "stream",
     "text": [
      "19.5\n",
      "4.5\n",
      "1.9\n"
     ]
    }
   ],
   "source": [
    "unc(np, 'age')\n",
    "unc(np, 'mass')\n",
    "unc(np, 'rad')"
   ]
  },
  {
   "cell_type": "code",
   "execution_count": 6,
   "metadata": {},
   "outputs": [
    {
     "name": "stdout",
     "output_type": "stream",
     "text": [
      "13.7\n",
      "2.7\n",
      "1.3\n"
     ]
    }
   ],
   "source": [
    "unc(mp, 'age')\n",
    "unc(mp, 'mass')\n",
    "unc(mp, 'rad')"
   ]
  },
  {
   "cell_type": "code",
   "execution_count": 7,
   "metadata": {},
   "outputs": [
    {
     "name": "stdout",
     "output_type": "stream",
     "text": [
      "9.2\n",
      "2.8\n",
      "1.3\n"
     ]
    }
   ],
   "source": [
    "unc(mps, 'age')\n",
    "unc(mps, 'mass')\n",
    "unc(mps, 'rad')"
   ]
  },
  {
   "cell_type": "code",
   "execution_count": 8,
   "metadata": {},
   "outputs": [
    {
     "name": "stdout",
     "output_type": "stream",
     "text": [
      "16.1\n",
      "2.8\n",
      "1.3\n"
     ]
    }
   ],
   "source": [
    "unc(pp, 'age')\n",
    "unc(pp, 'mass')\n",
    "unc(pp, 'rad')"
   ]
  },
  {
   "cell_type": "code",
   "execution_count": 9,
   "metadata": {},
   "outputs": [
    {
     "name": "stdout",
     "output_type": "stream",
     "text": [
      "15.6\n",
      "3.0\n",
      "1.4\n"
     ]
    }
   ],
   "source": [
    "unc(pps, 'age')\n",
    "unc(pps, 'mass')\n",
    "unc(pps, 'rad')"
   ]
  },
  {
   "cell_type": "code",
   "execution_count": 10,
   "metadata": {},
   "outputs": [],
   "source": [
    "df = pps.merge(s17, on='name')\n",
    "res = (df['mass_mean'] - df['Mass']) / df['Mass']"
   ]
  },
  {
   "cell_type": "code",
   "execution_count": 17,
   "metadata": {},
   "outputs": [
    {
     "ename": "KeyError",
     "evalue": "'mhs_err'",
     "output_type": "error",
     "traceback": [
      "\u001b[0;31m---------------------------------------------------------------------------\u001b[0m",
      "\u001b[0;31mKeyError\u001b[0m                                  Traceback (most recent call last)",
      "\u001b[0;32m~/.virtualenvs/stellr/lib/python3.7/site-packages/pandas/core/indexes/base.py\u001b[0m in \u001b[0;36mget_loc\u001b[0;34m(self, key, method, tolerance)\u001b[0m\n\u001b[1;32m   2645\u001b[0m             \u001b[0;32mtry\u001b[0m\u001b[0;34m:\u001b[0m\u001b[0;34m\u001b[0m\u001b[0;34m\u001b[0m\u001b[0m\n\u001b[0;32m-> 2646\u001b[0;31m                 \u001b[0;32mreturn\u001b[0m \u001b[0mself\u001b[0m\u001b[0;34m.\u001b[0m\u001b[0m_engine\u001b[0m\u001b[0;34m.\u001b[0m\u001b[0mget_loc\u001b[0m\u001b[0;34m(\u001b[0m\u001b[0mkey\u001b[0m\u001b[0;34m)\u001b[0m\u001b[0;34m\u001b[0m\u001b[0;34m\u001b[0m\u001b[0m\n\u001b[0m\u001b[1;32m   2647\u001b[0m             \u001b[0;32mexcept\u001b[0m \u001b[0mKeyError\u001b[0m\u001b[0;34m:\u001b[0m\u001b[0;34m\u001b[0m\u001b[0;34m\u001b[0m\u001b[0m\n",
      "\u001b[0;32mpandas/_libs/index.pyx\u001b[0m in \u001b[0;36mpandas._libs.index.IndexEngine.get_loc\u001b[0;34m()\u001b[0m\n",
      "\u001b[0;32mpandas/_libs/index.pyx\u001b[0m in \u001b[0;36mpandas._libs.index.IndexEngine.get_loc\u001b[0;34m()\u001b[0m\n",
      "\u001b[0;32mpandas/_libs/hashtable_class_helper.pxi\u001b[0m in \u001b[0;36mpandas._libs.hashtable.PyObjectHashTable.get_item\u001b[0;34m()\u001b[0m\n",
      "\u001b[0;32mpandas/_libs/hashtable_class_helper.pxi\u001b[0m in \u001b[0;36mpandas._libs.hashtable.PyObjectHashTable.get_item\u001b[0;34m()\u001b[0m\n",
      "\u001b[0;31mKeyError\u001b[0m: 'mhs_err'",
      "\nDuring handling of the above exception, another exception occurred:\n",
      "\u001b[0;31mKeyError\u001b[0m                                  Traceback (most recent call last)",
      "\u001b[0;32m<ipython-input-17-e820a3332b92>\u001b[0m in \u001b[0;36m<module>\u001b[0;34m\u001b[0m\n\u001b[0;32m----> 1\u001b[0;31m \u001b[0mnp\u001b[0m\u001b[0;34m[\u001b[0m\u001b[0;34m'mhs_err'\u001b[0m\u001b[0;34m]\u001b[0m\u001b[0;34m\u001b[0m\u001b[0;34m\u001b[0m\u001b[0m\n\u001b[0m",
      "\u001b[0;32m~/.virtualenvs/stellr/lib/python3.7/site-packages/pandas/core/frame.py\u001b[0m in \u001b[0;36m__getitem__\u001b[0;34m(self, key)\u001b[0m\n\u001b[1;32m   2798\u001b[0m             \u001b[0;32mif\u001b[0m \u001b[0mself\u001b[0m\u001b[0;34m.\u001b[0m\u001b[0mcolumns\u001b[0m\u001b[0;34m.\u001b[0m\u001b[0mnlevels\u001b[0m \u001b[0;34m>\u001b[0m \u001b[0;36m1\u001b[0m\u001b[0;34m:\u001b[0m\u001b[0;34m\u001b[0m\u001b[0;34m\u001b[0m\u001b[0m\n\u001b[1;32m   2799\u001b[0m                 \u001b[0;32mreturn\u001b[0m \u001b[0mself\u001b[0m\u001b[0;34m.\u001b[0m\u001b[0m_getitem_multilevel\u001b[0m\u001b[0;34m(\u001b[0m\u001b[0mkey\u001b[0m\u001b[0;34m)\u001b[0m\u001b[0;34m\u001b[0m\u001b[0;34m\u001b[0m\u001b[0m\n\u001b[0;32m-> 2800\u001b[0;31m             \u001b[0mindexer\u001b[0m \u001b[0;34m=\u001b[0m \u001b[0mself\u001b[0m\u001b[0;34m.\u001b[0m\u001b[0mcolumns\u001b[0m\u001b[0;34m.\u001b[0m\u001b[0mget_loc\u001b[0m\u001b[0;34m(\u001b[0m\u001b[0mkey\u001b[0m\u001b[0;34m)\u001b[0m\u001b[0;34m\u001b[0m\u001b[0;34m\u001b[0m\u001b[0m\n\u001b[0m\u001b[1;32m   2801\u001b[0m             \u001b[0;32mif\u001b[0m \u001b[0mis_integer\u001b[0m\u001b[0;34m(\u001b[0m\u001b[0mindexer\u001b[0m\u001b[0;34m)\u001b[0m\u001b[0;34m:\u001b[0m\u001b[0;34m\u001b[0m\u001b[0;34m\u001b[0m\u001b[0m\n\u001b[1;32m   2802\u001b[0m                 \u001b[0mindexer\u001b[0m \u001b[0;34m=\u001b[0m \u001b[0;34m[\u001b[0m\u001b[0mindexer\u001b[0m\u001b[0;34m]\u001b[0m\u001b[0;34m\u001b[0m\u001b[0;34m\u001b[0m\u001b[0m\n",
      "\u001b[0;32m~/.virtualenvs/stellr/lib/python3.7/site-packages/pandas/core/indexes/base.py\u001b[0m in \u001b[0;36mget_loc\u001b[0;34m(self, key, method, tolerance)\u001b[0m\n\u001b[1;32m   2646\u001b[0m                 \u001b[0;32mreturn\u001b[0m \u001b[0mself\u001b[0m\u001b[0;34m.\u001b[0m\u001b[0m_engine\u001b[0m\u001b[0;34m.\u001b[0m\u001b[0mget_loc\u001b[0m\u001b[0;34m(\u001b[0m\u001b[0mkey\u001b[0m\u001b[0;34m)\u001b[0m\u001b[0;34m\u001b[0m\u001b[0;34m\u001b[0m\u001b[0m\n\u001b[1;32m   2647\u001b[0m             \u001b[0;32mexcept\u001b[0m \u001b[0mKeyError\u001b[0m\u001b[0;34m:\u001b[0m\u001b[0;34m\u001b[0m\u001b[0;34m\u001b[0m\u001b[0m\n\u001b[0;32m-> 2648\u001b[0;31m                 \u001b[0;32mreturn\u001b[0m \u001b[0mself\u001b[0m\u001b[0;34m.\u001b[0m\u001b[0m_engine\u001b[0m\u001b[0;34m.\u001b[0m\u001b[0mget_loc\u001b[0m\u001b[0;34m(\u001b[0m\u001b[0mself\u001b[0m\u001b[0;34m.\u001b[0m\u001b[0m_maybe_cast_indexer\u001b[0m\u001b[0;34m(\u001b[0m\u001b[0mkey\u001b[0m\u001b[0;34m)\u001b[0m\u001b[0;34m)\u001b[0m\u001b[0;34m\u001b[0m\u001b[0;34m\u001b[0m\u001b[0m\n\u001b[0m\u001b[1;32m   2649\u001b[0m         \u001b[0mindexer\u001b[0m \u001b[0;34m=\u001b[0m \u001b[0mself\u001b[0m\u001b[0;34m.\u001b[0m\u001b[0mget_indexer\u001b[0m\u001b[0;34m(\u001b[0m\u001b[0;34m[\u001b[0m\u001b[0mkey\u001b[0m\u001b[0;34m]\u001b[0m\u001b[0;34m,\u001b[0m \u001b[0mmethod\u001b[0m\u001b[0;34m=\u001b[0m\u001b[0mmethod\u001b[0m\u001b[0;34m,\u001b[0m \u001b[0mtolerance\u001b[0m\u001b[0;34m=\u001b[0m\u001b[0mtolerance\u001b[0m\u001b[0;34m)\u001b[0m\u001b[0;34m\u001b[0m\u001b[0;34m\u001b[0m\u001b[0m\n\u001b[1;32m   2650\u001b[0m         \u001b[0;32mif\u001b[0m \u001b[0mindexer\u001b[0m\u001b[0;34m.\u001b[0m\u001b[0mndim\u001b[0m \u001b[0;34m>\u001b[0m \u001b[0;36m1\u001b[0m \u001b[0;32mor\u001b[0m \u001b[0mindexer\u001b[0m\u001b[0;34m.\u001b[0m\u001b[0msize\u001b[0m \u001b[0;34m>\u001b[0m \u001b[0;36m1\u001b[0m\u001b[0;34m:\u001b[0m\u001b[0;34m\u001b[0m\u001b[0;34m\u001b[0m\u001b[0m\n",
      "\u001b[0;32mpandas/_libs/index.pyx\u001b[0m in \u001b[0;36mpandas._libs.index.IndexEngine.get_loc\u001b[0;34m()\u001b[0m\n",
      "\u001b[0;32mpandas/_libs/index.pyx\u001b[0m in \u001b[0;36mpandas._libs.index.IndexEngine.get_loc\u001b[0;34m()\u001b[0m\n",
      "\u001b[0;32mpandas/_libs/hashtable_class_helper.pxi\u001b[0m in \u001b[0;36mpandas._libs.hashtable.PyObjectHashTable.get_item\u001b[0;34m()\u001b[0m\n",
      "\u001b[0;32mpandas/_libs/hashtable_class_helper.pxi\u001b[0m in \u001b[0;36mpandas._libs.hashtable.PyObjectHashTable.get_item\u001b[0;34m()\u001b[0m\n",
      "\u001b[0;31mKeyError\u001b[0m: 'mhs_err'"
     ]
    }
   ],
   "source": [
    "np['mhs_err']"
   ]
  },
  {
   "cell_type": "code",
   "execution_count": 11,
   "metadata": {},
   "outputs": [
    {
     "data": {
      "text/plain": [
       "<AxesSubplot:ylabel='Frequency'>"
      ]
     },
     "execution_count": 11,
     "metadata": {},
     "output_type": "execute_result"
    },
    {
     "data": {
      "image/png": "[encoded data removed]",
      "text/plain": [
       "<Figure size 432x288 with 1 Axes>"
      ]
     },
     "metadata": {
      "needs_background": "light"
     },
     "output_type": "display_data"
    }
   ],
   "source": [
    "res.plot(kind='hist')"
   ]
  },
  {
   "cell_type": "code",
   "execution_count": 12,
   "metadata": {},
   "outputs": [
    {
     "data": {
      "text/plain": [
       "0.011665595717859618"
      ]
     },
     "execution_count": 12,
     "metadata": {},
     "output_type": "execute_result"
    }
   ],
   "source": [
    "res.median()"
   ]
  },
  {
   "cell_type": "code",
   "execution_count": 13,
   "metadata": {},
   "outputs": [
    {
     "data": {
      "text/plain": [
       "<AxesSubplot:ylabel='Frequency'>"
      ]
     },
     "execution_count": 13,
     "metadata": {},
     "output_type": "execute_result"
    },
    {
     "data": {
      "image/png": "[encoded data removed]",
      "text/plain": [
       "<Figure size 432x288 with 1 Axes>"
      ]
     },
     "metadata": {
      "needs_background": "light"
     },
     "output_type": "display_data"
    }
   ],
   "source": [
    "res = (df['rad_mean'] - df['Radius']) / df['Radius']\n",
    "res.plot(kind='hist')"
   ]
  },
  {
   "cell_type": "code",
   "execution_count": 14,
   "metadata": {},
   "outputs": [
    {
     "data": {
      "text/plain": [
       "0.009965087053895275"
      ]
     },
     "execution_count": 14,
     "metadata": {},
     "output_type": "execute_result"
    }
   ],
   "source": [
    "res.median()"
   ]
  },
  {
   "cell_type": "code",
   "execution_count": 15,
   "metadata": {},
   "outputs": [
    {
     "data": {
      "text/plain": [
       "<AxesSubplot:ylabel='Frequency'>"
      ]
     },
     "execution_count": 15,
     "metadata": {},
     "output_type": "execute_result"
    },
    {
     "data": {
      "image/png": "[encoded data removed]",
      "text/plain": [
       "<Figure size 432x288 with 1 Axes>"
      ]
     },
     "metadata": {
      "needs_background": "light"
     },
     "output_type": "display_data"
    }
   ],
   "source": [
    "res = (df['age_mean'] - df['Age']) / df['Age']\n",
    "res.plot(kind='hist')"
   ]
  },
  {
   "cell_type": "code",
   "execution_count": 16,
   "metadata": {},
   "outputs": [
    {
     "data": {
      "text/plain": [
       "0.009032645859973064"
      ]
     },
     "execution_count": 16,
     "metadata": {},
     "output_type": "execute_result"
    }
   ],
   "source": [
    "res.median()"
   ]
  },
  {
   "cell_type": "code",
   "execution_count": 18,
   "metadata": {},
   "outputs": [
    {
     "data": {
      "text/html": [
       "<div>\n",
       "<style scoped>\n",
       "    .dataframe tbody tr th:only-of-type {\n",
       "        vertical-align: middle;\n",
       "    }\n",
       "\n",
       "    .dataframe tbody tr th {\n",
       "        vertical-align: top;\n",
       "    }\n",
       "\n",
       "    .dataframe thead th {\n",
       "        text-align: right;\n",
       "    }\n",
       "</style>\n",
       "<table border=\"1\" class=\"dataframe\">\n",
       "  <thead>\n",
       "    <tr style=\"text-align: right;\">\n",
       "      <th></th>\n",
       "      <th>name</th>\n",
       "      <th>f_evol_16th</th>\n",
       "      <th>f_evol_50th</th>\n",
       "      <th>f_evol_84th</th>\n",
       "      <th>f_evol_ess_bulk</th>\n",
       "      <th>f_evol_ess_mean</th>\n",
       "      <th>f_evol_ess_sd</th>\n",
       "      <th>f_evol_ess_tail</th>\n",
       "      <th>f_evol_hpd_3%</th>\n",
       "      <th>f_evol_hpd_97%</th>\n",
       "      <th>...</th>\n",
       "      <th>mhs_ess_mean</th>\n",
       "      <th>mhs_ess_sd</th>\n",
       "      <th>mhs_ess_tail</th>\n",
       "      <th>mhs_hpd_3%</th>\n",
       "      <th>mhs_hpd_97%</th>\n",
       "      <th>mhs_mcse_mean</th>\n",
       "      <th>mhs_mcse_sd</th>\n",
       "      <th>mhs_mean</th>\n",
       "      <th>mhs_r_hat</th>\n",
       "      <th>mhs_sd</th>\n",
       "    </tr>\n",
       "  </thead>\n",
       "  <tbody>\n",
       "    <tr>\n",
       "      <th>0</th>\n",
       "      <td>KIC5950854</td>\n",
       "      <td>0.745382</td>\n",
       "      <td>0.798194</td>\n",
       "      <td>0.844177</td>\n",
       "      <td>1299.836173</td>\n",
       "      <td>1326.153263</td>\n",
       "      <td>1310.194415</td>\n",
       "      <td>3908.422991</td>\n",
       "      <td>0.688059</td>\n",
       "      <td>0.892937</td>\n",
       "      <td>...</td>\n",
       "      <td>18163.725018</td>\n",
       "      <td>18163.725018</td>\n",
       "      <td>11480.340684</td>\n",
       "      <td>-0.295572</td>\n",
       "      <td>-0.028327</td>\n",
       "      <td>0.000532</td>\n",
       "      <td>0.000377</td>\n",
       "      <td>-0.158545</td>\n",
       "      <td>1.000688</td>\n",
       "      <td>0.071761</td>\n",
       "    </tr>\n",
       "    <tr>\n",
       "      <th>1</th>\n",
       "      <td>KIC3942719</td>\n",
       "      <td>1.778044</td>\n",
       "      <td>1.820516</td>\n",
       "      <td>1.844571</td>\n",
       "      <td>3742.876601</td>\n",
       "      <td>3649.733259</td>\n",
       "      <td>3648.231896</td>\n",
       "      <td>7321.118763</td>\n",
       "      <td>1.738368</td>\n",
       "      <td>1.868828</td>\n",
       "      <td>...</td>\n",
       "      <td>5492.031829</td>\n",
       "      <td>5492.031829</td>\n",
       "      <td>8045.973028</td>\n",
       "      <td>-0.400050</td>\n",
       "      <td>-0.182717</td>\n",
       "      <td>0.000790</td>\n",
       "      <td>0.000559</td>\n",
       "      <td>-0.290986</td>\n",
       "      <td>1.001279</td>\n",
       "      <td>0.058530</td>\n",
       "    </tr>\n",
       "    <tr>\n",
       "      <th>2</th>\n",
       "      <td>KIC4457351</td>\n",
       "      <td>1.736070</td>\n",
       "      <td>1.776879</td>\n",
       "      <td>1.810261</td>\n",
       "      <td>4605.773400</td>\n",
       "      <td>4600.591050</td>\n",
       "      <td>4591.885339</td>\n",
       "      <td>11318.693829</td>\n",
       "      <td>1.701450</td>\n",
       "      <td>1.842777</td>\n",
       "      <td>...</td>\n",
       "      <td>26380.553484</td>\n",
       "      <td>24374.798154</td>\n",
       "      <td>15509.172660</td>\n",
       "      <td>-0.345946</td>\n",
       "      <td>-0.168698</td>\n",
       "      <td>0.000293</td>\n",
       "      <td>0.000215</td>\n",
       "      <td>-0.257933</td>\n",
       "      <td>0.999862</td>\n",
       "      <td>0.047562</td>\n",
       "    </tr>\n",
       "    <tr>\n",
       "      <th>3</th>\n",
       "      <td>KIC3223000</td>\n",
       "      <td>0.147203</td>\n",
       "      <td>0.243710</td>\n",
       "      <td>0.351769</td>\n",
       "      <td>2166.533112</td>\n",
       "      <td>2299.709508</td>\n",
       "      <td>2299.709508</td>\n",
       "      <td>4244.952595</td>\n",
       "      <td>0.062731</td>\n",
       "      <td>0.438600</td>\n",
       "      <td>...</td>\n",
       "      <td>12923.846474</td>\n",
       "      <td>12923.846474</td>\n",
       "      <td>14091.961601</td>\n",
       "      <td>-0.264309</td>\n",
       "      <td>-0.007130</td>\n",
       "      <td>0.000611</td>\n",
       "      <td>0.000432</td>\n",
       "      <td>-0.136165</td>\n",
       "      <td>1.000105</td>\n",
       "      <td>0.069453</td>\n",
       "    </tr>\n",
       "    <tr>\n",
       "      <th>4</th>\n",
       "      <td>KIC7429287</td>\n",
       "      <td>1.385547</td>\n",
       "      <td>1.447032</td>\n",
       "      <td>1.504036</td>\n",
       "      <td>2133.534832</td>\n",
       "      <td>2143.699336</td>\n",
       "      <td>2136.718398</td>\n",
       "      <td>6257.029235</td>\n",
       "      <td>1.335006</td>\n",
       "      <td>1.556295</td>\n",
       "      <td>...</td>\n",
       "      <td>19744.048734</td>\n",
       "      <td>17965.252843</td>\n",
       "      <td>14102.179225</td>\n",
       "      <td>-0.424824</td>\n",
       "      <td>-0.160890</td>\n",
       "      <td>0.000505</td>\n",
       "      <td>0.000374</td>\n",
       "      <td>-0.289409</td>\n",
       "      <td>1.000124</td>\n",
       "      <td>0.070961</td>\n",
       "    </tr>\n",
       "    <tr>\n",
       "      <th>...</th>\n",
       "      <td>...</td>\n",
       "      <td>...</td>\n",
       "      <td>...</td>\n",
       "      <td>...</td>\n",
       "      <td>...</td>\n",
       "      <td>...</td>\n",
       "      <td>...</td>\n",
       "      <td>...</td>\n",
       "      <td>...</td>\n",
       "      <td>...</td>\n",
       "      <td>...</td>\n",
       "      <td>...</td>\n",
       "      <td>...</td>\n",
       "      <td>...</td>\n",
       "      <td>...</td>\n",
       "      <td>...</td>\n",
       "      <td>...</td>\n",
       "      <td>...</td>\n",
       "      <td>...</td>\n",
       "      <td>...</td>\n",
       "      <td>...</td>\n",
       "    </tr>\n",
       "    <tr>\n",
       "      <th>60</th>\n",
       "      <td>KIC9143749</td>\n",
       "      <td>1.133562</td>\n",
       "      <td>1.269054</td>\n",
       "      <td>1.414291</td>\n",
       "      <td>2442.270431</td>\n",
       "      <td>2427.176216</td>\n",
       "      <td>2427.176216</td>\n",
       "      <td>5272.372998</td>\n",
       "      <td>1.030381</td>\n",
       "      <td>1.515702</td>\n",
       "      <td>...</td>\n",
       "      <td>7400.668242</td>\n",
       "      <td>7400.668242</td>\n",
       "      <td>11482.882898</td>\n",
       "      <td>-0.144501</td>\n",
       "      <td>0.094871</td>\n",
       "      <td>0.000734</td>\n",
       "      <td>0.000519</td>\n",
       "      <td>-0.024672</td>\n",
       "      <td>1.000613</td>\n",
       "      <td>0.063126</td>\n",
       "    </tr>\n",
       "    <tr>\n",
       "      <th>61</th>\n",
       "      <td>KIC8424992</td>\n",
       "      <td>0.698059</td>\n",
       "      <td>0.742239</td>\n",
       "      <td>0.783855</td>\n",
       "      <td>1320.822490</td>\n",
       "      <td>1320.845762</td>\n",
       "      <td>1320.845725</td>\n",
       "      <td>3748.944072</td>\n",
       "      <td>0.659161</td>\n",
       "      <td>0.821163</td>\n",
       "      <td>...</td>\n",
       "      <td>22386.606932</td>\n",
       "      <td>15104.439123</td>\n",
       "      <td>14897.648506</td>\n",
       "      <td>-0.207165</td>\n",
       "      <td>0.069682</td>\n",
       "      <td>0.000493</td>\n",
       "      <td>0.000424</td>\n",
       "      <td>-0.071955</td>\n",
       "      <td>1.000698</td>\n",
       "      <td>0.073709</td>\n",
       "    </tr>\n",
       "    <tr>\n",
       "      <th>62</th>\n",
       "      <td>KIC9266926</td>\n",
       "      <td>1.277219</td>\n",
       "      <td>1.354596</td>\n",
       "      <td>1.426542</td>\n",
       "      <td>2579.355427</td>\n",
       "      <td>2571.373595</td>\n",
       "      <td>2571.373595</td>\n",
       "      <td>7499.895025</td>\n",
       "      <td>1.206985</td>\n",
       "      <td>1.488136</td>\n",
       "      <td>...</td>\n",
       "      <td>21276.448123</td>\n",
       "      <td>19643.351711</td>\n",
       "      <td>15169.842582</td>\n",
       "      <td>-0.415164</td>\n",
       "      <td>-0.155335</td>\n",
       "      <td>0.000478</td>\n",
       "      <td>0.000351</td>\n",
       "      <td>-0.280191</td>\n",
       "      <td>1.000202</td>\n",
       "      <td>0.069653</td>\n",
       "    </tr>\n",
       "    <tr>\n",
       "      <th>63</th>\n",
       "      <td>KIC3735871</td>\n",
       "      <td>0.154666</td>\n",
       "      <td>0.240530</td>\n",
       "      <td>0.326153</td>\n",
       "      <td>1544.212018</td>\n",
       "      <td>1560.086287</td>\n",
       "      <td>1560.086287</td>\n",
       "      <td>3225.400593</td>\n",
       "      <td>0.079999</td>\n",
       "      <td>0.395056</td>\n",
       "      <td>...</td>\n",
       "      <td>13066.967358</td>\n",
       "      <td>12709.974848</td>\n",
       "      <td>11122.061564</td>\n",
       "      <td>-0.157786</td>\n",
       "      <td>0.111835</td>\n",
       "      <td>0.000627</td>\n",
       "      <td>0.000450</td>\n",
       "      <td>-0.019040</td>\n",
       "      <td>1.000371</td>\n",
       "      <td>0.071703</td>\n",
       "    </tr>\n",
       "    <tr>\n",
       "      <th>64</th>\n",
       "      <td>KIC11027406</td>\n",
       "      <td>0.912791</td>\n",
       "      <td>0.958831</td>\n",
       "      <td>1.009212</td>\n",
       "      <td>1430.621237</td>\n",
       "      <td>1446.041209</td>\n",
       "      <td>1446.041209</td>\n",
       "      <td>5088.622026</td>\n",
       "      <td>0.856713</td>\n",
       "      <td>1.082265</td>\n",
       "      <td>...</td>\n",
       "      <td>18168.667960</td>\n",
       "      <td>18168.667960</td>\n",
       "      <td>13039.311537</td>\n",
       "      <td>-0.324746</td>\n",
       "      <td>-0.047432</td>\n",
       "      <td>0.000546</td>\n",
       "      <td>0.000386</td>\n",
       "      <td>-0.191667</td>\n",
       "      <td>1.000113</td>\n",
       "      <td>0.073650</td>\n",
       "    </tr>\n",
       "  </tbody>\n",
       "</table>\n",
       "<p>65 rows × 155 columns</p>\n",
       "</div>"
      ],
      "text/plain": [
       "           name  f_evol_16th  f_evol_50th  f_evol_84th  f_evol_ess_bulk  \\\n",
       "0    KIC5950854     0.745382     0.798194     0.844177      1299.836173   \n",
       "1    KIC3942719     1.778044     1.820516     1.844571      3742.876601   \n",
       "2    KIC4457351     1.736070     1.776879     1.810261      4605.773400   \n",
       "3    KIC3223000     0.147203     0.243710     0.351769      2166.533112   \n",
       "4    KIC7429287     1.385547     1.447032     1.504036      2133.534832   \n",
       "..          ...          ...          ...          ...              ...   \n",
       "60   KIC9143749     1.133562     1.269054     1.414291      2442.270431   \n",
       "61   KIC8424992     0.698059     0.742239     0.783855      1320.822490   \n",
       "62   KIC9266926     1.277219     1.354596     1.426542      2579.355427   \n",
       "63   KIC3735871     0.154666     0.240530     0.326153      1544.212018   \n",
       "64  KIC11027406     0.912791     0.958831     1.009212      1430.621237   \n",
       "\n",
       "    f_evol_ess_mean  f_evol_ess_sd  f_evol_ess_tail  f_evol_hpd_3%  \\\n",
       "0       1326.153263    1310.194415      3908.422991       0.688059   \n",
       "1       3649.733259    3648.231896      7321.118763       1.738368   \n",
       "2       4600.591050    4591.885339     11318.693829       1.701450   \n",
       "3       2299.709508    2299.709508      4244.952595       0.062731   \n",
       "4       2143.699336    2136.718398      6257.029235       1.335006   \n",
       "..              ...            ...              ...            ...   \n",
       "60      2427.176216    2427.176216      5272.372998       1.030381   \n",
       "61      1320.845762    1320.845725      3748.944072       0.659161   \n",
       "62      2571.373595    2571.373595      7499.895025       1.206985   \n",
       "63      1560.086287    1560.086287      3225.400593       0.079999   \n",
       "64      1446.041209    1446.041209      5088.622026       0.856713   \n",
       "\n",
       "    f_evol_hpd_97%  ...  mhs_ess_mean    mhs_ess_sd  mhs_ess_tail  mhs_hpd_3%  \\\n",
       "0         0.892937  ...  18163.725018  18163.725018  11480.340684   -0.295572   \n",
       "1         1.868828  ...   5492.031829   5492.031829   8045.973028   -0.400050   \n",
       "2         1.842777  ...  26380.553484  24374.798154  15509.172660   -0.345946   \n",
       "3         0.438600  ...  12923.846474  12923.846474  14091.961601   -0.264309   \n",
       "4         1.556295  ...  19744.048734  17965.252843  14102.179225   -0.424824   \n",
       "..             ...  ...           ...           ...           ...         ...   \n",
       "60        1.515702  ...   7400.668242   7400.668242  11482.882898   -0.144501   \n",
       "61        0.821163  ...  22386.606932  15104.439123  14897.648506   -0.207165   \n",
       "62        1.488136  ...  21276.448123  19643.351711  15169.842582   -0.415164   \n",
       "63        0.395056  ...  13066.967358  12709.974848  11122.061564   -0.157786   \n",
       "64        1.082265  ...  18168.667960  18168.667960  13039.311537   -0.324746   \n",
       "\n",
       "    mhs_hpd_97%  mhs_mcse_mean  mhs_mcse_sd  mhs_mean  mhs_r_hat    mhs_sd  \n",
       "0     -0.028327       0.000532     0.000377 -0.158545   1.000688  0.071761  \n",
       "1     -0.182717       0.000790     0.000559 -0.290986   1.001279  0.058530  \n",
       "2     -0.168698       0.000293     0.000215 -0.257933   0.999862  0.047562  \n",
       "3     -0.007130       0.000611     0.000432 -0.136165   1.000105  0.069453  \n",
       "4     -0.160890       0.000505     0.000374 -0.289409   1.000124  0.070961  \n",
       "..          ...            ...          ...       ...        ...       ...  \n",
       "60     0.094871       0.000734     0.000519 -0.024672   1.000613  0.063126  \n",
       "61     0.069682       0.000493     0.000424 -0.071955   1.000698  0.073709  \n",
       "62    -0.155335       0.000478     0.000351 -0.280191   1.000202  0.069653  \n",
       "63     0.111835       0.000627     0.000450 -0.019040   1.000371  0.071703  \n",
       "64    -0.047432       0.000546     0.000386 -0.191667   1.000113  0.073650  \n",
       "\n",
       "[65 rows x 155 columns]"
      ]
     },
     "execution_count": 18,
     "metadata": {},
     "output_type": "execute_result"
    }
   ],
   "source": [
    "mp"
   ]
  },
  {
   "cell_type": "code",
   "execution_count": null,
   "metadata": {},
   "outputs": [],
   "source": []
  }
 ],
 "metadata": {
  "kernelspec": {
   "display_name": "Python 3 (Stellr)",
   "language": "python",
   "name": "stellr"
  },
  "language_info": {
   "codemirror_mode": {
    "name": "ipython",
    "version": 3
   },
   "file_extension": ".py",
   "mimetype": "text/x-python",
   "name": "python",
   "nbconvert_exporter": "python",
   "pygments_lexer": "ipython3",
   "version": "3.7.5"
  }
 },
 "nbformat": 4,
 "nbformat_minor": 2
}
