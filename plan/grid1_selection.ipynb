{
 "cells": [
  {
   "cell_type": "code",
   "execution_count": 19,
   "metadata": {},
   "outputs": [],
   "source": [
    "from interstellar import Data\n",
    "import numpy as np\n",
    "import pandas as pd\n",
    "import os\n",
    "import matplotlib.pyplot as plt"
   ]
  },
  {
   "cell_type": "code",
   "execution_count": 3,
   "metadata": {},
   "outputs": [],
   "source": [
    "axis_limits = dict(m=(0.8, 1.2, 0.04),\n",
    "                   Y=(0.24, 0.3, 0.01),\n",
    "                   FeH=(-0.3, 0.3, 0.1),\n",
    "                   MLT=(1.9, 1.9, 0.0),\n",
    "                   ov=(0.0, 0.0, 0.0))\n",
    "\n",
    "tracks = Data(axis_limits=axis_limits)"
   ]
  },
  {
   "cell_type": "code",
   "execution_count": 6,
   "metadata": {},
   "outputs": [
    {
     "name": "stdout",
     "output_type": "stream",
     "text": [
      "interstellar.Data object\n",
      "-----------\n",
      "Axis Values\n",
      "-----------\n",
      "m      [0.8, 0.8400000000000001, 0.88, 0.92, 0.96, 1....\n",
      "Y      [0.24, 0.25, 0.26, 0.27, 0.27999999999999997, ...\n",
      "FeH    [-0.3, -0.2, -0.1, 0.0, 0.09999999999999998, 0...\n",
      "MLT                                                [1.9]\n",
      "ov                                                 [0.0]\n",
      "dtype: object)\n",
      "------\n",
      "Grid Points\n",
      "------\n",
      "       m     Y  FeH  MLT   ov\n",
      "0    0.8  0.24 -0.3  1.9  0.0\n",
      "1    0.8  0.24 -0.2  1.9  0.0\n",
      "2    0.8  0.24 -0.1  1.9  0.0\n",
      "3    0.8  0.24  0.0  1.9  0.0\n",
      "4    0.8  0.24  0.1  1.9  0.0\n",
      "..   ...   ...  ...  ...  ...\n",
      "534  1.2  0.30 -0.1  1.9  0.0\n",
      "535  1.2  0.30  0.0  1.9  0.0\n",
      "536  1.2  0.30  0.1  1.9  0.0\n",
      "537  1.2  0.30  0.2  1.9  0.0\n",
      "538  1.2  0.30  0.3  1.9  0.0\n",
      "\n",
      "[539 rows x 5 columns]\n",
      "---------\n",
      "Data\n",
      "---------\n",
      "Empty DataFrame\n",
      "Columns: []\n",
      "Index: []\n",
      "\n"
     ]
    }
   ],
   "source": [
    "print(tracks)"
   ]
  },
  {
   "cell_type": "markdown",
   "metadata": {},
   "source": [
    "### Columns\n",
    "```\n",
    "model_number,inital_mass,evol_stage,initial_Yinit,initial_feh,initial_MLT,initial_fov,star_mass,star_age,ms_lifetime,frac_age,ef\n",
    "fective_T,luminosity,radius,log_g,surface_h1,surface_he4,surface_Z,star_feh,center_h1,center_he4,log_center_T,log_center_Rho,he_c\n",
    "ore_mass,delta_nu,delta_Pg,nu_max,acoustic_cutoff,nu_0_1,nu_0_2,nu_0_3,nu_0_4,nu_0_5,nu_0_6,nu_0_7,nu_0_8,nu_0_9,nu_0_10,nu_0_11,\n",
    "nu_0_12,nu_0_13,nu_0_14,nu_0_15,nu_0_16,nu_0_17,nu_0_18,nu_0_19,nu_0_20,nu_0_21,nu_0_22,nu_0_23,nu_0_24,nu_0_25,nu_0_26,nu_0_27,n\n",
    "u_0_28,nu_0_29,nu_0_30,nu_0_31,nu_0_32,nu_0_33,nu_0_34,nu_0_35,nu_0_36,nu_0_37,nu_0_38,nu_0_39,nu_0_40\n",
    "```"
   ]
  },
  {
   "cell_type": "code",
   "execution_count": 8,
   "metadata": {},
   "outputs": [
    {
     "name": "stderr",
     "output_type": "stream",
     "text": [
      "/Users/ajl573/Repos/grd349/Interstellar/interstellar/tars.py:292: UserWarning: File not found:\n",
      "/Volumes/daviesgr-cartography/mesa_grid/grid1_sun/simple_grid_v2/m1.0Y0.24FeH0.2MLT1.9ov0.0.csv\n",
      "  warnings.warn(f'File not found:\\n{file_path}', UserWarning)\n",
      "/Users/ajl573/Repos/grd349/Interstellar/interstellar/tars.py:292: UserWarning: File not found:\n",
      "/Volumes/daviesgr-cartography/mesa_grid/grid1_sun/simple_grid_v2/m1.12Y0.27FeH-0.1MLT1.9ov0.0.csv\n",
      "  warnings.warn(f'File not found:\\n{file_path}', UserWarning)\n",
      "/Users/ajl573/Repos/grd349/Interstellar/interstellar/tars.py:292: UserWarning: File not found:\n",
      "/Volumes/daviesgr-cartography/mesa_grid/grid1_sun/simple_grid_v2/m1.0Y0.28FeH0.2MLT1.9ov0.0.csv\n",
      "  warnings.warn(f'File not found:\\n{file_path}', UserWarning)\n",
      "/Users/ajl573/Repos/grd349/Interstellar/interstellar/tars.py:292: UserWarning: File not found:\n",
      "/Volumes/daviesgr-cartography/mesa_grid/grid1_sun/simple_grid_v2/m1.0Y0.29FeH0.0MLT1.9ov0.0.csv\n",
      "  warnings.warn(f'File not found:\\n{file_path}', UserWarning)\n",
      "/Users/ajl573/Repos/grd349/Interstellar/interstellar/tars.py:292: UserWarning: File not found:\n",
      "/Volumes/daviesgr-cartography/mesa_grid/grid1_sun/simple_grid_v2/m0.96Y0.3FeH-0.2MLT1.9ov0.0.csv\n",
      "  warnings.warn(f'File not found:\\n{file_path}', UserWarning)\n"
     ]
    }
   ],
   "source": [
    "path_to_grid = '/Volumes/daviesgr-cartography/mesa_grid/grid1_sun/simple_grid_v2'\n",
    "cols = ['inital_mass', 'evol_stage', 'initial_Yinit', 'initial_feh', 'star_age', \n",
    "        'ms_lifetime', 'frac_age', 'effective_T', 'luminosity', 'radius',\n",
    "        'log_g', 'star_feh', 'delta_nu']\n",
    "\n",
    "\n",
    "tracks.load_data(path_to_grid, usecols=cols)"
   ]
  },
  {
   "cell_type": "code",
   "execution_count": 9,
   "metadata": {},
   "outputs": [
    {
     "data": {
      "text/html": [
       "<div>\n",
       "<style scoped>\n",
       "    .dataframe tbody tr th:only-of-type {\n",
       "        vertical-align: middle;\n",
       "    }\n",
       "\n",
       "    .dataframe tbody tr th {\n",
       "        vertical-align: top;\n",
       "    }\n",
       "\n",
       "    .dataframe thead th {\n",
       "        text-align: right;\n",
       "    }\n",
       "</style>\n",
       "<table border=\"1\" class=\"dataframe\">\n",
       "  <thead>\n",
       "    <tr style=\"text-align: right;\">\n",
       "      <th></th>\n",
       "      <th>inital_mass</th>\n",
       "      <th>evol_stage</th>\n",
       "      <th>initial_Yinit</th>\n",
       "      <th>initial_feh</th>\n",
       "      <th>star_age</th>\n",
       "      <th>ms_lifetime</th>\n",
       "      <th>frac_age</th>\n",
       "      <th>effective_T</th>\n",
       "      <th>luminosity</th>\n",
       "      <th>radius</th>\n",
       "      <th>log_g</th>\n",
       "      <th>star_feh</th>\n",
       "      <th>delta_nu</th>\n",
       "    </tr>\n",
       "  </thead>\n",
       "  <tbody>\n",
       "    <tr>\n",
       "      <th>0</th>\n",
       "      <td>0.8</td>\n",
       "      <td>0</td>\n",
       "      <td>0.24</td>\n",
       "      <td>-0.3</td>\n",
       "      <td>0.000111</td>\n",
       "      <td>16.034294</td>\n",
       "      <td>0.000007</td>\n",
       "      <td>4441.111260</td>\n",
       "      <td>6.532912</td>\n",
       "      <td>4.323435</td>\n",
       "      <td>3.069321</td>\n",
       "      <td>-0.298487</td>\n",
       "      <td>13.358264</td>\n",
       "    </tr>\n",
       "    <tr>\n",
       "      <th>1</th>\n",
       "      <td>0.8</td>\n",
       "      <td>0</td>\n",
       "      <td>0.24</td>\n",
       "      <td>-0.3</td>\n",
       "      <td>0.000118</td>\n",
       "      <td>16.034294</td>\n",
       "      <td>0.000007</td>\n",
       "      <td>4445.236870</td>\n",
       "      <td>6.283566</td>\n",
       "      <td>4.232258</td>\n",
       "      <td>3.087835</td>\n",
       "      <td>-0.298493</td>\n",
       "      <td>13.795237</td>\n",
       "    </tr>\n",
       "    <tr>\n",
       "      <th>2</th>\n",
       "      <td>0.8</td>\n",
       "      <td>0</td>\n",
       "      <td>0.24</td>\n",
       "      <td>-0.3</td>\n",
       "      <td>0.000124</td>\n",
       "      <td>16.034294</td>\n",
       "      <td>0.000008</td>\n",
       "      <td>4446.555595</td>\n",
       "      <td>6.090094</td>\n",
       "      <td>4.164121</td>\n",
       "      <td>3.101933</td>\n",
       "      <td>-0.298480</td>\n",
       "      <td>14.138110</td>\n",
       "    </tr>\n",
       "    <tr>\n",
       "      <th>3</th>\n",
       "      <td>0.8</td>\n",
       "      <td>0</td>\n",
       "      <td>0.24</td>\n",
       "      <td>-0.3</td>\n",
       "      <td>0.000128</td>\n",
       "      <td>16.034294</td>\n",
       "      <td>0.000008</td>\n",
       "      <td>4447.315499</td>\n",
       "      <td>5.943897</td>\n",
       "      <td>4.112431</td>\n",
       "      <td>3.112782</td>\n",
       "      <td>-0.298472</td>\n",
       "      <td>14.407915</td>\n",
       "    </tr>\n",
       "    <tr>\n",
       "      <th>4</th>\n",
       "      <td>0.8</td>\n",
       "      <td>0</td>\n",
       "      <td>0.24</td>\n",
       "      <td>-0.3</td>\n",
       "      <td>0.000132</td>\n",
       "      <td>16.034294</td>\n",
       "      <td>0.000008</td>\n",
       "      <td>4447.868311</td>\n",
       "      <td>5.832613</td>\n",
       "      <td>4.072739</td>\n",
       "      <td>3.121206</td>\n",
       "      <td>-0.298459</td>\n",
       "      <td>14.620964</td>\n",
       "    </tr>\n",
       "  </tbody>\n",
       "</table>\n",
       "</div>"
      ],
      "text/plain": [
       "   inital_mass  evol_stage  initial_Yinit  initial_feh  star_age  ms_lifetime  \\\n",
       "0          0.8           0           0.24         -0.3  0.000111    16.034294   \n",
       "1          0.8           0           0.24         -0.3  0.000118    16.034294   \n",
       "2          0.8           0           0.24         -0.3  0.000124    16.034294   \n",
       "3          0.8           0           0.24         -0.3  0.000128    16.034294   \n",
       "4          0.8           0           0.24         -0.3  0.000132    16.034294   \n",
       "\n",
       "   frac_age  effective_T  luminosity    radius     log_g  star_feh   delta_nu  \n",
       "0  0.000007  4441.111260    6.532912  4.323435  3.069321 -0.298487  13.358264  \n",
       "1  0.000007  4445.236870    6.283566  4.232258  3.087835 -0.298493  13.795237  \n",
       "2  0.000008  4446.555595    6.090094  4.164121  3.101933 -0.298480  14.138110  \n",
       "3  0.000008  4447.315499    5.943897  4.112431  3.112782 -0.298472  14.407915  \n",
       "4  0.000008  4447.868311    5.832613  4.072739  3.121206 -0.298459  14.620964  "
      ]
     },
     "execution_count": 9,
     "metadata": {},
     "output_type": "execute_result"
    }
   ],
   "source": [
    "tracks.data.head()"
   ]
  },
  {
   "cell_type": "code",
   "execution_count": 14,
   "metadata": {},
   "outputs": [],
   "source": [
    "models = tracks.data.copy()"
   ]
  },
  {
   "cell_type": "code",
   "execution_count": 16,
   "metadata": {},
   "outputs": [],
   "source": [
    "models_ms = models.loc[models['evol_stage'] == 1]"
   ]
  },
  {
   "cell_type": "code",
   "execution_count": 17,
   "metadata": {},
   "outputs": [],
   "source": [
    "models_ms.to_csv('../data/tracks/grid1_Dm0.04_MLT1.9_MS.csv', index=False)"
   ]
  }
 ],
 "metadata": {
  "kernelspec": {
   "display_name": "Python 3 (Interstellar)",
   "language": "python",
   "name": "interstellar-dev"
  },
  "language_info": {
   "codemirror_mode": {
    "name": "ipython",
    "version": 3
   },
   "file_extension": ".py",
   "mimetype": "text/x-python",
   "name": "python",
   "nbconvert_exporter": "python",
   "pygments_lexer": "ipython3",
   "version": "3.7.4"
  }
 },
 "nbformat": 4,
 "nbformat_minor": 2
}
